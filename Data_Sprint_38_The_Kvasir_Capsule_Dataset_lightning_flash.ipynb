{
  "nbformat": 4,
  "nbformat_minor": 0,
  "metadata": {
    "accelerator": "GPU",
    "colab": {
      "name": "Data Sprint #38: The Kvasir-Capsule Dataset_lightning_flash.ipynb",
      "provenance": [],
      "collapsed_sections": [],
      "authorship_tag": "ABX9TyNOLCdIE5vjhBoplBgDhtvp",
      "include_colab_link": true
    },
    "kernelspec": {
      "display_name": "Python 3",
      "name": "python3"
    },
    "language_info": {
      "name": "python"
    },
    "widgets": {
      "application/vnd.jupyter.widget-state+json": {
        "3db84da7f69b4598b6bc7f4b2b6ba670": {
          "model_module": "@jupyter-widgets/controls",
          "model_name": "HBoxModel",
          "state": {
            "_view_name": "HBoxView",
            "_dom_classes": [],
            "_model_name": "HBoxModel",
            "_view_module": "@jupyter-widgets/controls",
            "_model_module_version": "1.5.0",
            "_view_count": null,
            "_view_module_version": "1.5.0",
            "box_style": "",
            "layout": "IPY_MODEL_07337fa475814cacb94f0fc60d45f15c",
            "_model_module": "@jupyter-widgets/controls",
            "children": [
              "IPY_MODEL_8a15767515a1481eaf5199384415ba27",
              "IPY_MODEL_19389661a41c431893a298aa4f8ff444"
            ]
          }
        },
        "07337fa475814cacb94f0fc60d45f15c": {
          "model_module": "@jupyter-widgets/base",
          "model_name": "LayoutModel",
          "state": {
            "_view_name": "LayoutView",
            "grid_template_rows": null,
            "right": null,
            "justify_content": null,
            "_view_module": "@jupyter-widgets/base",
            "overflow": null,
            "_model_module_version": "1.2.0",
            "_view_count": null,
            "flex_flow": "row wrap",
            "width": "100%",
            "min_width": null,
            "border": null,
            "align_items": null,
            "bottom": null,
            "_model_module": "@jupyter-widgets/base",
            "top": null,
            "grid_column": null,
            "overflow_y": null,
            "overflow_x": null,
            "grid_auto_flow": null,
            "grid_area": null,
            "grid_template_columns": null,
            "flex": null,
            "_model_name": "LayoutModel",
            "justify_items": null,
            "grid_row": null,
            "max_height": null,
            "align_content": null,
            "visibility": null,
            "align_self": null,
            "height": null,
            "min_height": null,
            "padding": null,
            "grid_auto_rows": null,
            "grid_gap": null,
            "max_width": null,
            "order": null,
            "_view_module_version": "1.2.0",
            "grid_template_areas": null,
            "object_position": null,
            "object_fit": null,
            "grid_auto_columns": null,
            "margin": null,
            "display": "inline-flex",
            "left": null
          }
        },
        "8a15767515a1481eaf5199384415ba27": {
          "model_module": "@jupyter-widgets/controls",
          "model_name": "FloatProgressModel",
          "state": {
            "_view_name": "ProgressView",
            "style": "IPY_MODEL_e18271bfbffe4e8e9f88abc93d25bae4",
            "_dom_classes": [],
            "description": "Validation sanity check:   0%",
            "_model_name": "FloatProgressModel",
            "bar_style": "danger",
            "max": 2,
            "_view_module": "@jupyter-widgets/controls",
            "_model_module_version": "1.5.0",
            "value": 0,
            "_view_count": null,
            "_view_module_version": "1.5.0",
            "orientation": "horizontal",
            "min": 0,
            "description_tooltip": null,
            "_model_module": "@jupyter-widgets/controls",
            "layout": "IPY_MODEL_14c3c5c9d0c943f780b3ab317afd4b53"
          }
        },
        "19389661a41c431893a298aa4f8ff444": {
          "model_module": "@jupyter-widgets/controls",
          "model_name": "HTMLModel",
          "state": {
            "_view_name": "HTMLView",
            "style": "IPY_MODEL_048de3cfe08f40afa150a89928577bec",
            "_dom_classes": [],
            "description": "",
            "_model_name": "HTMLModel",
            "placeholder": "​",
            "_view_module": "@jupyter-widgets/controls",
            "_model_module_version": "1.5.0",
            "value": " 0/2 [00:03&lt;?, ?it/s]",
            "_view_count": null,
            "_view_module_version": "1.5.0",
            "description_tooltip": null,
            "_model_module": "@jupyter-widgets/controls",
            "layout": "IPY_MODEL_9bf5dcd411774ef18529a1017a89387f"
          }
        },
        "e18271bfbffe4e8e9f88abc93d25bae4": {
          "model_module": "@jupyter-widgets/controls",
          "model_name": "ProgressStyleModel",
          "state": {
            "_view_name": "StyleView",
            "_model_name": "ProgressStyleModel",
            "description_width": "initial",
            "_view_module": "@jupyter-widgets/base",
            "_model_module_version": "1.5.0",
            "_view_count": null,
            "_view_module_version": "1.2.0",
            "bar_color": null,
            "_model_module": "@jupyter-widgets/controls"
          }
        },
        "14c3c5c9d0c943f780b3ab317afd4b53": {
          "model_module": "@jupyter-widgets/base",
          "model_name": "LayoutModel",
          "state": {
            "_view_name": "LayoutView",
            "grid_template_rows": null,
            "right": null,
            "justify_content": null,
            "_view_module": "@jupyter-widgets/base",
            "overflow": null,
            "_model_module_version": "1.2.0",
            "_view_count": null,
            "flex_flow": null,
            "width": null,
            "min_width": null,
            "border": null,
            "align_items": null,
            "bottom": null,
            "_model_module": "@jupyter-widgets/base",
            "top": null,
            "grid_column": null,
            "overflow_y": null,
            "overflow_x": null,
            "grid_auto_flow": null,
            "grid_area": null,
            "grid_template_columns": null,
            "flex": "2",
            "_model_name": "LayoutModel",
            "justify_items": null,
            "grid_row": null,
            "max_height": null,
            "align_content": null,
            "visibility": null,
            "align_self": null,
            "height": null,
            "min_height": null,
            "padding": null,
            "grid_auto_rows": null,
            "grid_gap": null,
            "max_width": null,
            "order": null,
            "_view_module_version": "1.2.0",
            "grid_template_areas": null,
            "object_position": null,
            "object_fit": null,
            "grid_auto_columns": null,
            "margin": null,
            "display": null,
            "left": null
          }
        },
        "048de3cfe08f40afa150a89928577bec": {
          "model_module": "@jupyter-widgets/controls",
          "model_name": "DescriptionStyleModel",
          "state": {
            "_view_name": "StyleView",
            "_model_name": "DescriptionStyleModel",
            "description_width": "",
            "_view_module": "@jupyter-widgets/base",
            "_model_module_version": "1.5.0",
            "_view_count": null,
            "_view_module_version": "1.2.0",
            "_model_module": "@jupyter-widgets/controls"
          }
        },
        "9bf5dcd411774ef18529a1017a89387f": {
          "model_module": "@jupyter-widgets/base",
          "model_name": "LayoutModel",
          "state": {
            "_view_name": "LayoutView",
            "grid_template_rows": null,
            "right": null,
            "justify_content": null,
            "_view_module": "@jupyter-widgets/base",
            "overflow": null,
            "_model_module_version": "1.2.0",
            "_view_count": null,
            "flex_flow": null,
            "width": null,
            "min_width": null,
            "border": null,
            "align_items": null,
            "bottom": null,
            "_model_module": "@jupyter-widgets/base",
            "top": null,
            "grid_column": null,
            "overflow_y": null,
            "overflow_x": null,
            "grid_auto_flow": null,
            "grid_area": null,
            "grid_template_columns": null,
            "flex": null,
            "_model_name": "LayoutModel",
            "justify_items": null,
            "grid_row": null,
            "max_height": null,
            "align_content": null,
            "visibility": null,
            "align_self": null,
            "height": null,
            "min_height": null,
            "padding": null,
            "grid_auto_rows": null,
            "grid_gap": null,
            "max_width": null,
            "order": null,
            "_view_module_version": "1.2.0",
            "grid_template_areas": null,
            "object_position": null,
            "object_fit": null,
            "grid_auto_columns": null,
            "margin": null,
            "display": null,
            "left": null
          }
        },
        "3e262155049b4d59972da557b55ea0d2": {
          "model_module": "@jupyter-widgets/controls",
          "model_name": "HBoxModel",
          "state": {
            "_view_name": "HBoxView",
            "_dom_classes": [],
            "_model_name": "HBoxModel",
            "_view_module": "@jupyter-widgets/controls",
            "_model_module_version": "1.5.0",
            "_view_count": null,
            "_view_module_version": "1.5.0",
            "box_style": "",
            "layout": "IPY_MODEL_09ac6a606d29445eb5464ea11a9e7f4f",
            "_model_module": "@jupyter-widgets/controls",
            "children": [
              "IPY_MODEL_ddfcaab3388a4f15af49b6b9ccb72549",
              "IPY_MODEL_6f25555bf9e847a89c334576e9695591"
            ]
          }
        },
        "09ac6a606d29445eb5464ea11a9e7f4f": {
          "model_module": "@jupyter-widgets/base",
          "model_name": "LayoutModel",
          "state": {
            "_view_name": "LayoutView",
            "grid_template_rows": null,
            "right": null,
            "justify_content": null,
            "_view_module": "@jupyter-widgets/base",
            "overflow": null,
            "_model_module_version": "1.2.0",
            "_view_count": null,
            "flex_flow": "row wrap",
            "width": "100%",
            "min_width": null,
            "border": null,
            "align_items": null,
            "bottom": null,
            "_model_module": "@jupyter-widgets/base",
            "top": null,
            "grid_column": null,
            "overflow_y": null,
            "overflow_x": null,
            "grid_auto_flow": null,
            "grid_area": null,
            "grid_template_columns": null,
            "flex": null,
            "_model_name": "LayoutModel",
            "justify_items": null,
            "grid_row": null,
            "max_height": null,
            "align_content": null,
            "visibility": null,
            "align_self": null,
            "height": null,
            "min_height": null,
            "padding": null,
            "grid_auto_rows": null,
            "grid_gap": null,
            "max_width": null,
            "order": null,
            "_view_module_version": "1.2.0",
            "grid_template_areas": null,
            "object_position": null,
            "object_fit": null,
            "grid_auto_columns": null,
            "margin": null,
            "display": "inline-flex",
            "left": null
          }
        },
        "ddfcaab3388a4f15af49b6b9ccb72549": {
          "model_module": "@jupyter-widgets/controls",
          "model_name": "FloatProgressModel",
          "state": {
            "_view_name": "ProgressView",
            "style": "IPY_MODEL_808d68db81e94f07b65725dcbbcf4285",
            "_dom_classes": [],
            "description": "Epoch 0: 100%",
            "_model_name": "FloatProgressModel",
            "bar_style": "success",
            "max": 2833,
            "_view_module": "@jupyter-widgets/controls",
            "_model_module_version": "1.5.0",
            "value": 2833,
            "_view_count": null,
            "_view_module_version": "1.5.0",
            "orientation": "horizontal",
            "min": 0,
            "description_tooltip": null,
            "_model_module": "@jupyter-widgets/controls",
            "layout": "IPY_MODEL_9c8d41a273f646a58cac25aeb872c061"
          }
        },
        "6f25555bf9e847a89c334576e9695591": {
          "model_module": "@jupyter-widgets/controls",
          "model_name": "HTMLModel",
          "state": {
            "_view_name": "HTMLView",
            "style": "IPY_MODEL_b9bfac4b7fe5403e8b9ab45cb9a399dd",
            "_dom_classes": [],
            "description": "",
            "_model_name": "HTMLModel",
            "placeholder": "​",
            "_view_module": "@jupyter-widgets/controls",
            "_model_module_version": "1.5.0",
            "value": " 2833/2833 [10:57&lt;00:00,  4.31it/s, loss=0.353, v_num=5, val_fbeta=0.889, val_accuracy=0.889, val_cross_entropy=0.362, train_fbeta_step=1.000, train_accuracy_step=1.000, train_cross_entropy_step=0.183, train_fbeta_epoch=0.811, train_accuracy_epoch=0.811, train_cross_entropy_epoch=0.682]",
            "_view_count": null,
            "_view_module_version": "1.5.0",
            "description_tooltip": null,
            "_model_module": "@jupyter-widgets/controls",
            "layout": "IPY_MODEL_69da787f12774d66a4dbfcdecd371e42"
          }
        },
        "808d68db81e94f07b65725dcbbcf4285": {
          "model_module": "@jupyter-widgets/controls",
          "model_name": "ProgressStyleModel",
          "state": {
            "_view_name": "StyleView",
            "_model_name": "ProgressStyleModel",
            "description_width": "initial",
            "_view_module": "@jupyter-widgets/base",
            "_model_module_version": "1.5.0",
            "_view_count": null,
            "_view_module_version": "1.2.0",
            "bar_color": null,
            "_model_module": "@jupyter-widgets/controls"
          }
        },
        "9c8d41a273f646a58cac25aeb872c061": {
          "model_module": "@jupyter-widgets/base",
          "model_name": "LayoutModel",
          "state": {
            "_view_name": "LayoutView",
            "grid_template_rows": null,
            "right": null,
            "justify_content": null,
            "_view_module": "@jupyter-widgets/base",
            "overflow": null,
            "_model_module_version": "1.2.0",
            "_view_count": null,
            "flex_flow": null,
            "width": null,
            "min_width": null,
            "border": null,
            "align_items": null,
            "bottom": null,
            "_model_module": "@jupyter-widgets/base",
            "top": null,
            "grid_column": null,
            "overflow_y": null,
            "overflow_x": null,
            "grid_auto_flow": null,
            "grid_area": null,
            "grid_template_columns": null,
            "flex": "2",
            "_model_name": "LayoutModel",
            "justify_items": null,
            "grid_row": null,
            "max_height": null,
            "align_content": null,
            "visibility": null,
            "align_self": null,
            "height": null,
            "min_height": null,
            "padding": null,
            "grid_auto_rows": null,
            "grid_gap": null,
            "max_width": null,
            "order": null,
            "_view_module_version": "1.2.0",
            "grid_template_areas": null,
            "object_position": null,
            "object_fit": null,
            "grid_auto_columns": null,
            "margin": null,
            "display": null,
            "left": null
          }
        },
        "b9bfac4b7fe5403e8b9ab45cb9a399dd": {
          "model_module": "@jupyter-widgets/controls",
          "model_name": "DescriptionStyleModel",
          "state": {
            "_view_name": "StyleView",
            "_model_name": "DescriptionStyleModel",
            "description_width": "",
            "_view_module": "@jupyter-widgets/base",
            "_model_module_version": "1.5.0",
            "_view_count": null,
            "_view_module_version": "1.2.0",
            "_model_module": "@jupyter-widgets/controls"
          }
        },
        "69da787f12774d66a4dbfcdecd371e42": {
          "model_module": "@jupyter-widgets/base",
          "model_name": "LayoutModel",
          "state": {
            "_view_name": "LayoutView",
            "grid_template_rows": null,
            "right": null,
            "justify_content": null,
            "_view_module": "@jupyter-widgets/base",
            "overflow": null,
            "_model_module_version": "1.2.0",
            "_view_count": null,
            "flex_flow": null,
            "width": null,
            "min_width": null,
            "border": null,
            "align_items": null,
            "bottom": null,
            "_model_module": "@jupyter-widgets/base",
            "top": null,
            "grid_column": null,
            "overflow_y": null,
            "overflow_x": null,
            "grid_auto_flow": null,
            "grid_area": null,
            "grid_template_columns": null,
            "flex": null,
            "_model_name": "LayoutModel",
            "justify_items": null,
            "grid_row": null,
            "max_height": null,
            "align_content": null,
            "visibility": null,
            "align_self": null,
            "height": null,
            "min_height": null,
            "padding": null,
            "grid_auto_rows": null,
            "grid_gap": null,
            "max_width": null,
            "order": null,
            "_view_module_version": "1.2.0",
            "grid_template_areas": null,
            "object_position": null,
            "object_fit": null,
            "grid_auto_columns": null,
            "margin": null,
            "display": null,
            "left": null
          }
        },
        "ae4c02ac72b94216876ca464e2f62657": {
          "model_module": "@jupyter-widgets/controls",
          "model_name": "HBoxModel",
          "state": {
            "_view_name": "HBoxView",
            "_dom_classes": [],
            "_model_name": "HBoxModel",
            "_view_module": "@jupyter-widgets/controls",
            "_model_module_version": "1.5.0",
            "_view_count": null,
            "_view_module_version": "1.5.0",
            "box_style": "",
            "layout": "IPY_MODEL_a052942b46974b74997b089d65e48261",
            "_model_module": "@jupyter-widgets/controls",
            "children": [
              "IPY_MODEL_6804b036dc6e4bae98428dea21c49695",
              "IPY_MODEL_82a6d502cfe84d61859a2220f065a1ee"
            ]
          }
        },
        "a052942b46974b74997b089d65e48261": {
          "model_module": "@jupyter-widgets/base",
          "model_name": "LayoutModel",
          "state": {
            "_view_name": "LayoutView",
            "grid_template_rows": null,
            "right": null,
            "justify_content": null,
            "_view_module": "@jupyter-widgets/base",
            "overflow": null,
            "_model_module_version": "1.2.0",
            "_view_count": null,
            "flex_flow": "row wrap",
            "width": "100%",
            "min_width": null,
            "border": null,
            "align_items": null,
            "bottom": null,
            "_model_module": "@jupyter-widgets/base",
            "top": null,
            "grid_column": null,
            "overflow_y": null,
            "overflow_x": null,
            "grid_auto_flow": null,
            "grid_area": null,
            "grid_template_columns": null,
            "flex": null,
            "_model_name": "LayoutModel",
            "justify_items": null,
            "grid_row": null,
            "max_height": null,
            "align_content": null,
            "visibility": null,
            "align_self": null,
            "height": null,
            "min_height": null,
            "padding": null,
            "grid_auto_rows": null,
            "grid_gap": null,
            "max_width": null,
            "order": null,
            "_view_module_version": "1.2.0",
            "grid_template_areas": null,
            "object_position": null,
            "object_fit": null,
            "grid_auto_columns": null,
            "margin": null,
            "display": "inline-flex",
            "left": null
          }
        },
        "6804b036dc6e4bae98428dea21c49695": {
          "model_module": "@jupyter-widgets/controls",
          "model_name": "FloatProgressModel",
          "state": {
            "_view_name": "ProgressView",
            "style": "IPY_MODEL_30d5c414476648688837b48f0633fcdf",
            "_dom_classes": [],
            "description": "Validating: 100%",
            "_model_name": "FloatProgressModel",
            "bar_style": "info",
            "max": 944,
            "_view_module": "@jupyter-widgets/controls",
            "_model_module_version": "1.5.0",
            "value": 944,
            "_view_count": null,
            "_view_module_version": "1.5.0",
            "orientation": "horizontal",
            "min": 0,
            "description_tooltip": null,
            "_model_module": "@jupyter-widgets/controls",
            "layout": "IPY_MODEL_d4a6455b53d34820a8f881311a0d5358"
          }
        },
        "82a6d502cfe84d61859a2220f065a1ee": {
          "model_module": "@jupyter-widgets/controls",
          "model_name": "HTMLModel",
          "state": {
            "_view_name": "HTMLView",
            "style": "IPY_MODEL_1f7d1d01581c4fccaa1e7bf265bf36e3",
            "_dom_classes": [],
            "description": "",
            "_model_name": "HTMLModel",
            "placeholder": "​",
            "_view_module": "@jupyter-widgets/controls",
            "_model_module_version": "1.5.0",
            "value": " 944/944 [08:33&lt;00:00,  1.89it/s]",
            "_view_count": null,
            "_view_module_version": "1.5.0",
            "description_tooltip": null,
            "_model_module": "@jupyter-widgets/controls",
            "layout": "IPY_MODEL_79e2a0c4e243474b82c99f8fde5395f6"
          }
        },
        "30d5c414476648688837b48f0633fcdf": {
          "model_module": "@jupyter-widgets/controls",
          "model_name": "ProgressStyleModel",
          "state": {
            "_view_name": "StyleView",
            "_model_name": "ProgressStyleModel",
            "description_width": "initial",
            "_view_module": "@jupyter-widgets/base",
            "_model_module_version": "1.5.0",
            "_view_count": null,
            "_view_module_version": "1.2.0",
            "bar_color": null,
            "_model_module": "@jupyter-widgets/controls"
          }
        },
        "d4a6455b53d34820a8f881311a0d5358": {
          "model_module": "@jupyter-widgets/base",
          "model_name": "LayoutModel",
          "state": {
            "_view_name": "LayoutView",
            "grid_template_rows": null,
            "right": null,
            "justify_content": null,
            "_view_module": "@jupyter-widgets/base",
            "overflow": null,
            "_model_module_version": "1.2.0",
            "_view_count": null,
            "flex_flow": null,
            "width": null,
            "min_width": null,
            "border": null,
            "align_items": null,
            "bottom": null,
            "_model_module": "@jupyter-widgets/base",
            "top": null,
            "grid_column": null,
            "overflow_y": null,
            "overflow_x": null,
            "grid_auto_flow": null,
            "grid_area": null,
            "grid_template_columns": null,
            "flex": "2",
            "_model_name": "LayoutModel",
            "justify_items": null,
            "grid_row": null,
            "max_height": null,
            "align_content": null,
            "visibility": null,
            "align_self": null,
            "height": null,
            "min_height": null,
            "padding": null,
            "grid_auto_rows": null,
            "grid_gap": null,
            "max_width": null,
            "order": null,
            "_view_module_version": "1.2.0",
            "grid_template_areas": null,
            "object_position": null,
            "object_fit": null,
            "grid_auto_columns": null,
            "margin": null,
            "display": null,
            "left": null
          }
        },
        "1f7d1d01581c4fccaa1e7bf265bf36e3": {
          "model_module": "@jupyter-widgets/controls",
          "model_name": "DescriptionStyleModel",
          "state": {
            "_view_name": "StyleView",
            "_model_name": "DescriptionStyleModel",
            "description_width": "",
            "_view_module": "@jupyter-widgets/base",
            "_model_module_version": "1.5.0",
            "_view_count": null,
            "_view_module_version": "1.2.0",
            "_model_module": "@jupyter-widgets/controls"
          }
        },
        "79e2a0c4e243474b82c99f8fde5395f6": {
          "model_module": "@jupyter-widgets/base",
          "model_name": "LayoutModel",
          "state": {
            "_view_name": "LayoutView",
            "grid_template_rows": null,
            "right": null,
            "justify_content": null,
            "_view_module": "@jupyter-widgets/base",
            "overflow": null,
            "_model_module_version": "1.2.0",
            "_view_count": null,
            "flex_flow": null,
            "width": null,
            "min_width": null,
            "border": null,
            "align_items": null,
            "bottom": null,
            "_model_module": "@jupyter-widgets/base",
            "top": null,
            "grid_column": null,
            "overflow_y": null,
            "overflow_x": null,
            "grid_auto_flow": null,
            "grid_area": null,
            "grid_template_columns": null,
            "flex": null,
            "_model_name": "LayoutModel",
            "justify_items": null,
            "grid_row": null,
            "max_height": null,
            "align_content": null,
            "visibility": null,
            "align_self": null,
            "height": null,
            "min_height": null,
            "padding": null,
            "grid_auto_rows": null,
            "grid_gap": null,
            "max_width": null,
            "order": null,
            "_view_module_version": "1.2.0",
            "grid_template_areas": null,
            "object_position": null,
            "object_fit": null,
            "grid_auto_columns": null,
            "margin": null,
            "display": null,
            "left": null
          }
        },
        "6a2fca2192f0464088803cc2cf2110ca": {
          "model_module": "@jupyter-widgets/controls",
          "model_name": "HBoxModel",
          "state": {
            "_view_name": "HBoxView",
            "_dom_classes": [],
            "_model_name": "HBoxModel",
            "_view_module": "@jupyter-widgets/controls",
            "_model_module_version": "1.5.0",
            "_view_count": null,
            "_view_module_version": "1.5.0",
            "box_style": "",
            "layout": "IPY_MODEL_79c46c2c5c9a4d4bba18b036a2c4d825",
            "_model_module": "@jupyter-widgets/controls",
            "children": [
              "IPY_MODEL_52fabc87216341a585397ee644f9545d",
              "IPY_MODEL_4579b30ad02749ec9763721484fe78ff"
            ]
          }
        },
        "79c46c2c5c9a4d4bba18b036a2c4d825": {
          "model_module": "@jupyter-widgets/base",
          "model_name": "LayoutModel",
          "state": {
            "_view_name": "LayoutView",
            "grid_template_rows": null,
            "right": null,
            "justify_content": null,
            "_view_module": "@jupyter-widgets/base",
            "overflow": null,
            "_model_module_version": "1.2.0",
            "_view_count": null,
            "flex_flow": null,
            "width": null,
            "min_width": null,
            "border": null,
            "align_items": null,
            "bottom": null,
            "_model_module": "@jupyter-widgets/base",
            "top": null,
            "grid_column": null,
            "overflow_y": null,
            "overflow_x": null,
            "grid_auto_flow": null,
            "grid_area": null,
            "grid_template_columns": null,
            "flex": null,
            "_model_name": "LayoutModel",
            "justify_items": null,
            "grid_row": null,
            "max_height": null,
            "align_content": null,
            "visibility": null,
            "align_self": null,
            "height": null,
            "min_height": null,
            "padding": null,
            "grid_auto_rows": null,
            "grid_gap": null,
            "max_width": null,
            "order": null,
            "_view_module_version": "1.2.0",
            "grid_template_areas": null,
            "object_position": null,
            "object_fit": null,
            "grid_auto_columns": null,
            "margin": null,
            "display": null,
            "left": null
          }
        },
        "52fabc87216341a585397ee644f9545d": {
          "model_module": "@jupyter-widgets/controls",
          "model_name": "FloatProgressModel",
          "state": {
            "_view_name": "ProgressView",
            "style": "IPY_MODEL_cdb9b8c2f9e4404b82b3049810854201",
            "_dom_classes": [],
            "description": "100%",
            "_model_name": "FloatProgressModel",
            "bar_style": "success",
            "max": 32342954,
            "_view_module": "@jupyter-widgets/controls",
            "_model_module_version": "1.5.0",
            "value": 32342954,
            "_view_count": null,
            "_view_module_version": "1.5.0",
            "orientation": "horizontal",
            "min": 0,
            "description_tooltip": null,
            "_model_module": "@jupyter-widgets/controls",
            "layout": "IPY_MODEL_13277cf42a594ea288e62b240737c5b7"
          }
        },
        "4579b30ad02749ec9763721484fe78ff": {
          "model_module": "@jupyter-widgets/controls",
          "model_name": "HTMLModel",
          "state": {
            "_view_name": "HTMLView",
            "style": "IPY_MODEL_1a8849a1245647e095a1ad09aaa4e478",
            "_dom_classes": [],
            "description": "",
            "_model_name": "HTMLModel",
            "placeholder": "​",
            "_view_module": "@jupyter-widgets/controls",
            "_model_module_version": "1.5.0",
            "value": " 30.8M/30.8M [00:00&lt;00:00, 91.6MB/s]",
            "_view_count": null,
            "_view_module_version": "1.5.0",
            "description_tooltip": null,
            "_model_module": "@jupyter-widgets/controls",
            "layout": "IPY_MODEL_45a39705dd1d443fa9fd736aebdaf94d"
          }
        },
        "cdb9b8c2f9e4404b82b3049810854201": {
          "model_module": "@jupyter-widgets/controls",
          "model_name": "ProgressStyleModel",
          "state": {
            "_view_name": "StyleView",
            "_model_name": "ProgressStyleModel",
            "description_width": "initial",
            "_view_module": "@jupyter-widgets/base",
            "_model_module_version": "1.5.0",
            "_view_count": null,
            "_view_module_version": "1.2.0",
            "bar_color": null,
            "_model_module": "@jupyter-widgets/controls"
          }
        },
        "13277cf42a594ea288e62b240737c5b7": {
          "model_module": "@jupyter-widgets/base",
          "model_name": "LayoutModel",
          "state": {
            "_view_name": "LayoutView",
            "grid_template_rows": null,
            "right": null,
            "justify_content": null,
            "_view_module": "@jupyter-widgets/base",
            "overflow": null,
            "_model_module_version": "1.2.0",
            "_view_count": null,
            "flex_flow": null,
            "width": null,
            "min_width": null,
            "border": null,
            "align_items": null,
            "bottom": null,
            "_model_module": "@jupyter-widgets/base",
            "top": null,
            "grid_column": null,
            "overflow_y": null,
            "overflow_x": null,
            "grid_auto_flow": null,
            "grid_area": null,
            "grid_template_columns": null,
            "flex": null,
            "_model_name": "LayoutModel",
            "justify_items": null,
            "grid_row": null,
            "max_height": null,
            "align_content": null,
            "visibility": null,
            "align_self": null,
            "height": null,
            "min_height": null,
            "padding": null,
            "grid_auto_rows": null,
            "grid_gap": null,
            "max_width": null,
            "order": null,
            "_view_module_version": "1.2.0",
            "grid_template_areas": null,
            "object_position": null,
            "object_fit": null,
            "grid_auto_columns": null,
            "margin": null,
            "display": null,
            "left": null
          }
        },
        "1a8849a1245647e095a1ad09aaa4e478": {
          "model_module": "@jupyter-widgets/controls",
          "model_name": "DescriptionStyleModel",
          "state": {
            "_view_name": "StyleView",
            "_model_name": "DescriptionStyleModel",
            "description_width": "",
            "_view_module": "@jupyter-widgets/base",
            "_model_module_version": "1.5.0",
            "_view_count": null,
            "_view_module_version": "1.2.0",
            "_model_module": "@jupyter-widgets/controls"
          }
        },
        "45a39705dd1d443fa9fd736aebdaf94d": {
          "model_module": "@jupyter-widgets/base",
          "model_name": "LayoutModel",
          "state": {
            "_view_name": "LayoutView",
            "grid_template_rows": null,
            "right": null,
            "justify_content": null,
            "_view_module": "@jupyter-widgets/base",
            "overflow": null,
            "_model_module_version": "1.2.0",
            "_view_count": null,
            "flex_flow": null,
            "width": null,
            "min_width": null,
            "border": null,
            "align_items": null,
            "bottom": null,
            "_model_module": "@jupyter-widgets/base",
            "top": null,
            "grid_column": null,
            "overflow_y": null,
            "overflow_x": null,
            "grid_auto_flow": null,
            "grid_area": null,
            "grid_template_columns": null,
            "flex": null,
            "_model_name": "LayoutModel",
            "justify_items": null,
            "grid_row": null,
            "max_height": null,
            "align_content": null,
            "visibility": null,
            "align_self": null,
            "height": null,
            "min_height": null,
            "padding": null,
            "grid_auto_rows": null,
            "grid_gap": null,
            "max_width": null,
            "order": null,
            "_view_module_version": "1.2.0",
            "grid_template_areas": null,
            "object_position": null,
            "object_fit": null,
            "grid_auto_columns": null,
            "margin": null,
            "display": null,
            "left": null
          }
        },
        "bfd376a5b37c475592f71ca43f5c22eb": {
          "model_module": "@jupyter-widgets/controls",
          "model_name": "HBoxModel",
          "state": {
            "_view_name": "HBoxView",
            "_dom_classes": [],
            "_model_name": "HBoxModel",
            "_view_module": "@jupyter-widgets/controls",
            "_model_module_version": "1.5.0",
            "_view_count": null,
            "_view_module_version": "1.5.0",
            "box_style": "",
            "layout": "IPY_MODEL_18bed0f9add741c8b16e5529ac4658e7",
            "_model_module": "@jupyter-widgets/controls",
            "children": [
              "IPY_MODEL_c7e5ce2ecc244071977fd105134f7e21",
              "IPY_MODEL_fd2ed8716fad4379b6dff613517e5928"
            ]
          }
        },
        "18bed0f9add741c8b16e5529ac4658e7": {
          "model_module": "@jupyter-widgets/base",
          "model_name": "LayoutModel",
          "state": {
            "_view_name": "LayoutView",
            "grid_template_rows": null,
            "right": null,
            "justify_content": null,
            "_view_module": "@jupyter-widgets/base",
            "overflow": null,
            "_model_module_version": "1.2.0",
            "_view_count": null,
            "flex_flow": "row wrap",
            "width": "100%",
            "min_width": null,
            "border": null,
            "align_items": null,
            "bottom": null,
            "_model_module": "@jupyter-widgets/base",
            "top": null,
            "grid_column": null,
            "overflow_y": null,
            "overflow_x": null,
            "grid_auto_flow": null,
            "grid_area": null,
            "grid_template_columns": null,
            "flex": null,
            "_model_name": "LayoutModel",
            "justify_items": null,
            "grid_row": null,
            "max_height": null,
            "align_content": null,
            "visibility": null,
            "align_self": null,
            "height": null,
            "min_height": null,
            "padding": null,
            "grid_auto_rows": null,
            "grid_gap": null,
            "max_width": null,
            "order": null,
            "_view_module_version": "1.2.0",
            "grid_template_areas": null,
            "object_position": null,
            "object_fit": null,
            "grid_auto_columns": null,
            "margin": null,
            "display": "inline-flex",
            "left": null
          }
        },
        "c7e5ce2ecc244071977fd105134f7e21": {
          "model_module": "@jupyter-widgets/controls",
          "model_name": "FloatProgressModel",
          "state": {
            "_view_name": "ProgressView",
            "style": "IPY_MODEL_da61759412074913aa9c0f18a3be89c0",
            "_dom_classes": [],
            "description": "Validation sanity check:   0%",
            "_model_name": "FloatProgressModel",
            "bar_style": "danger",
            "max": 2,
            "_view_module": "@jupyter-widgets/controls",
            "_model_module_version": "1.5.0",
            "value": 0,
            "_view_count": null,
            "_view_module_version": "1.5.0",
            "orientation": "horizontal",
            "min": 0,
            "description_tooltip": null,
            "_model_module": "@jupyter-widgets/controls",
            "layout": "IPY_MODEL_95e5e5cd17324e0197738fcb5e5a58db"
          }
        },
        "fd2ed8716fad4379b6dff613517e5928": {
          "model_module": "@jupyter-widgets/controls",
          "model_name": "HTMLModel",
          "state": {
            "_view_name": "HTMLView",
            "style": "IPY_MODEL_fa57625ea3c641cca4170358dbbed08a",
            "_dom_classes": [],
            "description": "",
            "_model_name": "HTMLModel",
            "placeholder": "​",
            "_view_module": "@jupyter-widgets/controls",
            "_model_module_version": "1.5.0",
            "value": " 0/2 [3:07:07&lt;?, ?it/s]",
            "_view_count": null,
            "_view_module_version": "1.5.0",
            "description_tooltip": null,
            "_model_module": "@jupyter-widgets/controls",
            "layout": "IPY_MODEL_e664aa3aa0da4f3eb64dedf5b4b460dc"
          }
        },
        "da61759412074913aa9c0f18a3be89c0": {
          "model_module": "@jupyter-widgets/controls",
          "model_name": "ProgressStyleModel",
          "state": {
            "_view_name": "StyleView",
            "_model_name": "ProgressStyleModel",
            "description_width": "initial",
            "_view_module": "@jupyter-widgets/base",
            "_model_module_version": "1.5.0",
            "_view_count": null,
            "_view_module_version": "1.2.0",
            "bar_color": null,
            "_model_module": "@jupyter-widgets/controls"
          }
        },
        "95e5e5cd17324e0197738fcb5e5a58db": {
          "model_module": "@jupyter-widgets/base",
          "model_name": "LayoutModel",
          "state": {
            "_view_name": "LayoutView",
            "grid_template_rows": null,
            "right": null,
            "justify_content": null,
            "_view_module": "@jupyter-widgets/base",
            "overflow": null,
            "_model_module_version": "1.2.0",
            "_view_count": null,
            "flex_flow": null,
            "width": null,
            "min_width": null,
            "border": null,
            "align_items": null,
            "bottom": null,
            "_model_module": "@jupyter-widgets/base",
            "top": null,
            "grid_column": null,
            "overflow_y": null,
            "overflow_x": null,
            "grid_auto_flow": null,
            "grid_area": null,
            "grid_template_columns": null,
            "flex": "2",
            "_model_name": "LayoutModel",
            "justify_items": null,
            "grid_row": null,
            "max_height": null,
            "align_content": null,
            "visibility": null,
            "align_self": null,
            "height": null,
            "min_height": null,
            "padding": null,
            "grid_auto_rows": null,
            "grid_gap": null,
            "max_width": null,
            "order": null,
            "_view_module_version": "1.2.0",
            "grid_template_areas": null,
            "object_position": null,
            "object_fit": null,
            "grid_auto_columns": null,
            "margin": null,
            "display": null,
            "left": null
          }
        },
        "fa57625ea3c641cca4170358dbbed08a": {
          "model_module": "@jupyter-widgets/controls",
          "model_name": "DescriptionStyleModel",
          "state": {
            "_view_name": "StyleView",
            "_model_name": "DescriptionStyleModel",
            "description_width": "",
            "_view_module": "@jupyter-widgets/base",
            "_model_module_version": "1.5.0",
            "_view_count": null,
            "_view_module_version": "1.2.0",
            "_model_module": "@jupyter-widgets/controls"
          }
        },
        "e664aa3aa0da4f3eb64dedf5b4b460dc": {
          "model_module": "@jupyter-widgets/base",
          "model_name": "LayoutModel",
          "state": {
            "_view_name": "LayoutView",
            "grid_template_rows": null,
            "right": null,
            "justify_content": null,
            "_view_module": "@jupyter-widgets/base",
            "overflow": null,
            "_model_module_version": "1.2.0",
            "_view_count": null,
            "flex_flow": null,
            "width": null,
            "min_width": null,
            "border": null,
            "align_items": null,
            "bottom": null,
            "_model_module": "@jupyter-widgets/base",
            "top": null,
            "grid_column": null,
            "overflow_y": null,
            "overflow_x": null,
            "grid_auto_flow": null,
            "grid_area": null,
            "grid_template_columns": null,
            "flex": null,
            "_model_name": "LayoutModel",
            "justify_items": null,
            "grid_row": null,
            "max_height": null,
            "align_content": null,
            "visibility": null,
            "align_self": null,
            "height": null,
            "min_height": null,
            "padding": null,
            "grid_auto_rows": null,
            "grid_gap": null,
            "max_width": null,
            "order": null,
            "_view_module_version": "1.2.0",
            "grid_template_areas": null,
            "object_position": null,
            "object_fit": null,
            "grid_auto_columns": null,
            "margin": null,
            "display": null,
            "left": null
          }
        },
        "3be9481510734d048935d3476905954d": {
          "model_module": "@jupyter-widgets/controls",
          "model_name": "HBoxModel",
          "state": {
            "_view_name": "HBoxView",
            "_dom_classes": [],
            "_model_name": "HBoxModel",
            "_view_module": "@jupyter-widgets/controls",
            "_model_module_version": "1.5.0",
            "_view_count": null,
            "_view_module_version": "1.5.0",
            "box_style": "",
            "layout": "IPY_MODEL_9f759a8d418242fb9c648d2c182a311b",
            "_model_module": "@jupyter-widgets/controls",
            "children": [
              "IPY_MODEL_6d4c515390cf4f27b504e9ced14f98b9",
              "IPY_MODEL_4c2ee2873266402a9423aa12dc437421"
            ]
          }
        },
        "9f759a8d418242fb9c648d2c182a311b": {
          "model_module": "@jupyter-widgets/base",
          "model_name": "LayoutModel",
          "state": {
            "_view_name": "LayoutView",
            "grid_template_rows": null,
            "right": null,
            "justify_content": null,
            "_view_module": "@jupyter-widgets/base",
            "overflow": null,
            "_model_module_version": "1.2.0",
            "_view_count": null,
            "flex_flow": "row wrap",
            "width": "100%",
            "min_width": null,
            "border": null,
            "align_items": null,
            "bottom": null,
            "_model_module": "@jupyter-widgets/base",
            "top": null,
            "grid_column": null,
            "overflow_y": null,
            "overflow_x": null,
            "grid_auto_flow": null,
            "grid_area": null,
            "grid_template_columns": null,
            "flex": null,
            "_model_name": "LayoutModel",
            "justify_items": null,
            "grid_row": null,
            "max_height": null,
            "align_content": null,
            "visibility": null,
            "align_self": null,
            "height": null,
            "min_height": null,
            "padding": null,
            "grid_auto_rows": null,
            "grid_gap": null,
            "max_width": null,
            "order": null,
            "_view_module_version": "1.2.0",
            "grid_template_areas": null,
            "object_position": null,
            "object_fit": null,
            "grid_auto_columns": null,
            "margin": null,
            "display": "inline-flex",
            "left": null
          }
        },
        "6d4c515390cf4f27b504e9ced14f98b9": {
          "model_module": "@jupyter-widgets/controls",
          "model_name": "FloatProgressModel",
          "state": {
            "_view_name": "ProgressView",
            "style": "IPY_MODEL_8698e40abb1a4901b3f3018e9017894f",
            "_dom_classes": [],
            "description": "Epoch 4: 100%",
            "_model_name": "FloatProgressModel",
            "bar_style": "success",
            "max": 10388,
            "_view_module": "@jupyter-widgets/controls",
            "_model_module_version": "1.5.0",
            "value": 10388,
            "_view_count": null,
            "_view_module_version": "1.5.0",
            "orientation": "horizontal",
            "min": 0,
            "description_tooltip": null,
            "_model_module": "@jupyter-widgets/controls",
            "layout": "IPY_MODEL_fa3bed1f9eb5428ea1e02916c9c1b7f1"
          }
        },
        "4c2ee2873266402a9423aa12dc437421": {
          "model_module": "@jupyter-widgets/controls",
          "model_name": "HTMLModel",
          "state": {
            "_view_name": "HTMLView",
            "style": "IPY_MODEL_c1d44fd9f35c4edeb9b6684ae7d57a1f",
            "_dom_classes": [],
            "description": "",
            "_model_name": "HTMLModel",
            "placeholder": "​",
            "_view_module": "@jupyter-widgets/controls",
            "_model_module_version": "1.5.0",
            "value": " 10388/10388 [41:18&lt;00:00,  4.19it/s, loss=0.239, v_num=1, val_fbeta=0.970, val_accuracy=0.970, val_cross_entropy=0.102, train_fbeta_step=1.000, train_accuracy_step=1.000, train_cross_entropy_step=0.00271, train_fbeta_epoch=0.956, train_accuracy_epoch=0.956, train_cross_entropy_epoch=0.148]",
            "_view_count": null,
            "_view_module_version": "1.5.0",
            "description_tooltip": null,
            "_model_module": "@jupyter-widgets/controls",
            "layout": "IPY_MODEL_aeb5c61f3f33445d83af0701f5a50470"
          }
        },
        "8698e40abb1a4901b3f3018e9017894f": {
          "model_module": "@jupyter-widgets/controls",
          "model_name": "ProgressStyleModel",
          "state": {
            "_view_name": "StyleView",
            "_model_name": "ProgressStyleModel",
            "description_width": "initial",
            "_view_module": "@jupyter-widgets/base",
            "_model_module_version": "1.5.0",
            "_view_count": null,
            "_view_module_version": "1.2.0",
            "bar_color": null,
            "_model_module": "@jupyter-widgets/controls"
          }
        },
        "fa3bed1f9eb5428ea1e02916c9c1b7f1": {
          "model_module": "@jupyter-widgets/base",
          "model_name": "LayoutModel",
          "state": {
            "_view_name": "LayoutView",
            "grid_template_rows": null,
            "right": null,
            "justify_content": null,
            "_view_module": "@jupyter-widgets/base",
            "overflow": null,
            "_model_module_version": "1.2.0",
            "_view_count": null,
            "flex_flow": null,
            "width": null,
            "min_width": null,
            "border": null,
            "align_items": null,
            "bottom": null,
            "_model_module": "@jupyter-widgets/base",
            "top": null,
            "grid_column": null,
            "overflow_y": null,
            "overflow_x": null,
            "grid_auto_flow": null,
            "grid_area": null,
            "grid_template_columns": null,
            "flex": "2",
            "_model_name": "LayoutModel",
            "justify_items": null,
            "grid_row": null,
            "max_height": null,
            "align_content": null,
            "visibility": null,
            "align_self": null,
            "height": null,
            "min_height": null,
            "padding": null,
            "grid_auto_rows": null,
            "grid_gap": null,
            "max_width": null,
            "order": null,
            "_view_module_version": "1.2.0",
            "grid_template_areas": null,
            "object_position": null,
            "object_fit": null,
            "grid_auto_columns": null,
            "margin": null,
            "display": null,
            "left": null
          }
        },
        "c1d44fd9f35c4edeb9b6684ae7d57a1f": {
          "model_module": "@jupyter-widgets/controls",
          "model_name": "DescriptionStyleModel",
          "state": {
            "_view_name": "StyleView",
            "_model_name": "DescriptionStyleModel",
            "description_width": "",
            "_view_module": "@jupyter-widgets/base",
            "_model_module_version": "1.5.0",
            "_view_count": null,
            "_view_module_version": "1.2.0",
            "_model_module": "@jupyter-widgets/controls"
          }
        },
        "aeb5c61f3f33445d83af0701f5a50470": {
          "model_module": "@jupyter-widgets/base",
          "model_name": "LayoutModel",
          "state": {
            "_view_name": "LayoutView",
            "grid_template_rows": null,
            "right": null,
            "justify_content": null,
            "_view_module": "@jupyter-widgets/base",
            "overflow": null,
            "_model_module_version": "1.2.0",
            "_view_count": null,
            "flex_flow": null,
            "width": null,
            "min_width": null,
            "border": null,
            "align_items": null,
            "bottom": null,
            "_model_module": "@jupyter-widgets/base",
            "top": null,
            "grid_column": null,
            "overflow_y": null,
            "overflow_x": null,
            "grid_auto_flow": null,
            "grid_area": null,
            "grid_template_columns": null,
            "flex": null,
            "_model_name": "LayoutModel",
            "justify_items": null,
            "grid_row": null,
            "max_height": null,
            "align_content": null,
            "visibility": null,
            "align_self": null,
            "height": null,
            "min_height": null,
            "padding": null,
            "grid_auto_rows": null,
            "grid_gap": null,
            "max_width": null,
            "order": null,
            "_view_module_version": "1.2.0",
            "grid_template_areas": null,
            "object_position": null,
            "object_fit": null,
            "grid_auto_columns": null,
            "margin": null,
            "display": null,
            "left": null
          }
        },
        "88c5a2f4638a47ac8b7299664da86717": {
          "model_module": "@jupyter-widgets/controls",
          "model_name": "HBoxModel",
          "state": {
            "_view_name": "HBoxView",
            "_dom_classes": [],
            "_model_name": "HBoxModel",
            "_view_module": "@jupyter-widgets/controls",
            "_model_module_version": "1.5.0",
            "_view_count": null,
            "_view_module_version": "1.5.0",
            "box_style": "",
            "layout": "IPY_MODEL_5c30fa7b3b9f4a2a9bcc120b88030491",
            "_model_module": "@jupyter-widgets/controls",
            "children": [
              "IPY_MODEL_1e3164999d62457a845c0507033ac3d7",
              "IPY_MODEL_db6eb2960259467ebac74115f3b63717"
            ]
          }
        },
        "5c30fa7b3b9f4a2a9bcc120b88030491": {
          "model_module": "@jupyter-widgets/base",
          "model_name": "LayoutModel",
          "state": {
            "_view_name": "LayoutView",
            "grid_template_rows": null,
            "right": null,
            "justify_content": null,
            "_view_module": "@jupyter-widgets/base",
            "overflow": null,
            "_model_module_version": "1.2.0",
            "_view_count": null,
            "flex_flow": "row wrap",
            "width": "100%",
            "min_width": null,
            "border": null,
            "align_items": null,
            "bottom": null,
            "_model_module": "@jupyter-widgets/base",
            "top": null,
            "grid_column": null,
            "overflow_y": null,
            "overflow_x": null,
            "grid_auto_flow": null,
            "grid_area": null,
            "grid_template_columns": null,
            "flex": null,
            "_model_name": "LayoutModel",
            "justify_items": null,
            "grid_row": null,
            "max_height": null,
            "align_content": null,
            "visibility": null,
            "align_self": null,
            "height": null,
            "min_height": null,
            "padding": null,
            "grid_auto_rows": null,
            "grid_gap": null,
            "max_width": null,
            "order": null,
            "_view_module_version": "1.2.0",
            "grid_template_areas": null,
            "object_position": null,
            "object_fit": null,
            "grid_auto_columns": null,
            "margin": null,
            "display": "inline-flex",
            "left": null
          }
        },
        "1e3164999d62457a845c0507033ac3d7": {
          "model_module": "@jupyter-widgets/controls",
          "model_name": "FloatProgressModel",
          "state": {
            "_view_name": "ProgressView",
            "style": "IPY_MODEL_1f51a2ff52d94246942caf419b05f572",
            "_dom_classes": [],
            "description": "Validating: 100%",
            "_model_name": "FloatProgressModel",
            "bar_style": "info",
            "max": 944,
            "_view_module": "@jupyter-widgets/controls",
            "_model_module_version": "1.5.0",
            "value": 944,
            "_view_count": null,
            "_view_module_version": "1.5.0",
            "orientation": "horizontal",
            "min": 0,
            "description_tooltip": null,
            "_model_module": "@jupyter-widgets/controls",
            "layout": "IPY_MODEL_f09b40c0cbe84b34bd93febda600e7b2"
          }
        },
        "db6eb2960259467ebac74115f3b63717": {
          "model_module": "@jupyter-widgets/controls",
          "model_name": "HTMLModel",
          "state": {
            "_view_name": "HTMLView",
            "style": "IPY_MODEL_055ed270ceef4db78fdb250b33e08948",
            "_dom_classes": [],
            "description": "",
            "_model_name": "HTMLModel",
            "placeholder": "​",
            "_view_module": "@jupyter-widgets/controls",
            "_model_module_version": "1.5.0",
            "value": " 944/944 [11:06&lt;00:00,  1.40it/s]",
            "_view_count": null,
            "_view_module_version": "1.5.0",
            "description_tooltip": null,
            "_model_module": "@jupyter-widgets/controls",
            "layout": "IPY_MODEL_ce2a1ff5aef346bc8173d06d11071288"
          }
        },
        "1f51a2ff52d94246942caf419b05f572": {
          "model_module": "@jupyter-widgets/controls",
          "model_name": "ProgressStyleModel",
          "state": {
            "_view_name": "StyleView",
            "_model_name": "ProgressStyleModel",
            "description_width": "initial",
            "_view_module": "@jupyter-widgets/base",
            "_model_module_version": "1.5.0",
            "_view_count": null,
            "_view_module_version": "1.2.0",
            "bar_color": null,
            "_model_module": "@jupyter-widgets/controls"
          }
        },
        "f09b40c0cbe84b34bd93febda600e7b2": {
          "model_module": "@jupyter-widgets/base",
          "model_name": "LayoutModel",
          "state": {
            "_view_name": "LayoutView",
            "grid_template_rows": null,
            "right": null,
            "justify_content": null,
            "_view_module": "@jupyter-widgets/base",
            "overflow": null,
            "_model_module_version": "1.2.0",
            "_view_count": null,
            "flex_flow": null,
            "width": null,
            "min_width": null,
            "border": null,
            "align_items": null,
            "bottom": null,
            "_model_module": "@jupyter-widgets/base",
            "top": null,
            "grid_column": null,
            "overflow_y": null,
            "overflow_x": null,
            "grid_auto_flow": null,
            "grid_area": null,
            "grid_template_columns": null,
            "flex": "2",
            "_model_name": "LayoutModel",
            "justify_items": null,
            "grid_row": null,
            "max_height": null,
            "align_content": null,
            "visibility": null,
            "align_self": null,
            "height": null,
            "min_height": null,
            "padding": null,
            "grid_auto_rows": null,
            "grid_gap": null,
            "max_width": null,
            "order": null,
            "_view_module_version": "1.2.0",
            "grid_template_areas": null,
            "object_position": null,
            "object_fit": null,
            "grid_auto_columns": null,
            "margin": null,
            "display": null,
            "left": null
          }
        },
        "055ed270ceef4db78fdb250b33e08948": {
          "model_module": "@jupyter-widgets/controls",
          "model_name": "DescriptionStyleModel",
          "state": {
            "_view_name": "StyleView",
            "_model_name": "DescriptionStyleModel",
            "description_width": "",
            "_view_module": "@jupyter-widgets/base",
            "_model_module_version": "1.5.0",
            "_view_count": null,
            "_view_module_version": "1.2.0",
            "_model_module": "@jupyter-widgets/controls"
          }
        },
        "ce2a1ff5aef346bc8173d06d11071288": {
          "model_module": "@jupyter-widgets/base",
          "model_name": "LayoutModel",
          "state": {
            "_view_name": "LayoutView",
            "grid_template_rows": null,
            "right": null,
            "justify_content": null,
            "_view_module": "@jupyter-widgets/base",
            "overflow": null,
            "_model_module_version": "1.2.0",
            "_view_count": null,
            "flex_flow": null,
            "width": null,
            "min_width": null,
            "border": null,
            "align_items": null,
            "bottom": null,
            "_model_module": "@jupyter-widgets/base",
            "top": null,
            "grid_column": null,
            "overflow_y": null,
            "overflow_x": null,
            "grid_auto_flow": null,
            "grid_area": null,
            "grid_template_columns": null,
            "flex": null,
            "_model_name": "LayoutModel",
            "justify_items": null,
            "grid_row": null,
            "max_height": null,
            "align_content": null,
            "visibility": null,
            "align_self": null,
            "height": null,
            "min_height": null,
            "padding": null,
            "grid_auto_rows": null,
            "grid_gap": null,
            "max_width": null,
            "order": null,
            "_view_module_version": "1.2.0",
            "grid_template_areas": null,
            "object_position": null,
            "object_fit": null,
            "grid_auto_columns": null,
            "margin": null,
            "display": null,
            "left": null
          }
        },
        "7f89cf4602c944b88d63bdbe5d552ce8": {
          "model_module": "@jupyter-widgets/controls",
          "model_name": "HBoxModel",
          "state": {
            "_view_name": "HBoxView",
            "_dom_classes": [],
            "_model_name": "HBoxModel",
            "_view_module": "@jupyter-widgets/controls",
            "_model_module_version": "1.5.0",
            "_view_count": null,
            "_view_module_version": "1.5.0",
            "box_style": "",
            "layout": "IPY_MODEL_80e5a91dd93548f4b98b532065ea3aac",
            "_model_module": "@jupyter-widgets/controls",
            "children": [
              "IPY_MODEL_9b6a57f7f81e4e6d80764637bd978c78",
              "IPY_MODEL_37900303806d456db35ba5a95d7a70fd"
            ]
          }
        },
        "80e5a91dd93548f4b98b532065ea3aac": {
          "model_module": "@jupyter-widgets/base",
          "model_name": "LayoutModel",
          "state": {
            "_view_name": "LayoutView",
            "grid_template_rows": null,
            "right": null,
            "justify_content": null,
            "_view_module": "@jupyter-widgets/base",
            "overflow": null,
            "_model_module_version": "1.2.0",
            "_view_count": null,
            "flex_flow": "row wrap",
            "width": "100%",
            "min_width": null,
            "border": null,
            "align_items": null,
            "bottom": null,
            "_model_module": "@jupyter-widgets/base",
            "top": null,
            "grid_column": null,
            "overflow_y": null,
            "overflow_x": null,
            "grid_auto_flow": null,
            "grid_area": null,
            "grid_template_columns": null,
            "flex": null,
            "_model_name": "LayoutModel",
            "justify_items": null,
            "grid_row": null,
            "max_height": null,
            "align_content": null,
            "visibility": null,
            "align_self": null,
            "height": null,
            "min_height": null,
            "padding": null,
            "grid_auto_rows": null,
            "grid_gap": null,
            "max_width": null,
            "order": null,
            "_view_module_version": "1.2.0",
            "grid_template_areas": null,
            "object_position": null,
            "object_fit": null,
            "grid_auto_columns": null,
            "margin": null,
            "display": "inline-flex",
            "left": null
          }
        },
        "9b6a57f7f81e4e6d80764637bd978c78": {
          "model_module": "@jupyter-widgets/controls",
          "model_name": "FloatProgressModel",
          "state": {
            "_view_name": "ProgressView",
            "style": "IPY_MODEL_6a37f9d16c7e4221b980035eb96d045c",
            "_dom_classes": [],
            "description": "Validating: 100%",
            "_model_name": "FloatProgressModel",
            "bar_style": "info",
            "max": 944,
            "_view_module": "@jupyter-widgets/controls",
            "_model_module_version": "1.5.0",
            "value": 944,
            "_view_count": null,
            "_view_module_version": "1.5.0",
            "orientation": "horizontal",
            "min": 0,
            "description_tooltip": null,
            "_model_module": "@jupyter-widgets/controls",
            "layout": "IPY_MODEL_d5c9903ee3214ff3b573f1ed1c501037"
          }
        },
        "37900303806d456db35ba5a95d7a70fd": {
          "model_module": "@jupyter-widgets/controls",
          "model_name": "HTMLModel",
          "state": {
            "_view_name": "HTMLView",
            "style": "IPY_MODEL_045320c9ecd347da88a09e39bb7dbcdd",
            "_dom_classes": [],
            "description": "",
            "_model_name": "HTMLModel",
            "placeholder": "​",
            "_view_module": "@jupyter-widgets/controls",
            "_model_module_version": "1.5.0",
            "value": " 944/944 [00:31&lt;00:00, 30.47it/s]",
            "_view_count": null,
            "_view_module_version": "1.5.0",
            "description_tooltip": null,
            "_model_module": "@jupyter-widgets/controls",
            "layout": "IPY_MODEL_21f6377208f341c4a79034b867c3400e"
          }
        },
        "6a37f9d16c7e4221b980035eb96d045c": {
          "model_module": "@jupyter-widgets/controls",
          "model_name": "ProgressStyleModel",
          "state": {
            "_view_name": "StyleView",
            "_model_name": "ProgressStyleModel",
            "description_width": "initial",
            "_view_module": "@jupyter-widgets/base",
            "_model_module_version": "1.5.0",
            "_view_count": null,
            "_view_module_version": "1.2.0",
            "bar_color": null,
            "_model_module": "@jupyter-widgets/controls"
          }
        },
        "d5c9903ee3214ff3b573f1ed1c501037": {
          "model_module": "@jupyter-widgets/base",
          "model_name": "LayoutModel",
          "state": {
            "_view_name": "LayoutView",
            "grid_template_rows": null,
            "right": null,
            "justify_content": null,
            "_view_module": "@jupyter-widgets/base",
            "overflow": null,
            "_model_module_version": "1.2.0",
            "_view_count": null,
            "flex_flow": null,
            "width": null,
            "min_width": null,
            "border": null,
            "align_items": null,
            "bottom": null,
            "_model_module": "@jupyter-widgets/base",
            "top": null,
            "grid_column": null,
            "overflow_y": null,
            "overflow_x": null,
            "grid_auto_flow": null,
            "grid_area": null,
            "grid_template_columns": null,
            "flex": "2",
            "_model_name": "LayoutModel",
            "justify_items": null,
            "grid_row": null,
            "max_height": null,
            "align_content": null,
            "visibility": null,
            "align_self": null,
            "height": null,
            "min_height": null,
            "padding": null,
            "grid_auto_rows": null,
            "grid_gap": null,
            "max_width": null,
            "order": null,
            "_view_module_version": "1.2.0",
            "grid_template_areas": null,
            "object_position": null,
            "object_fit": null,
            "grid_auto_columns": null,
            "margin": null,
            "display": null,
            "left": null
          }
        },
        "045320c9ecd347da88a09e39bb7dbcdd": {
          "model_module": "@jupyter-widgets/controls",
          "model_name": "DescriptionStyleModel",
          "state": {
            "_view_name": "StyleView",
            "_model_name": "DescriptionStyleModel",
            "description_width": "",
            "_view_module": "@jupyter-widgets/base",
            "_model_module_version": "1.5.0",
            "_view_count": null,
            "_view_module_version": "1.2.0",
            "_model_module": "@jupyter-widgets/controls"
          }
        },
        "21f6377208f341c4a79034b867c3400e": {
          "model_module": "@jupyter-widgets/base",
          "model_name": "LayoutModel",
          "state": {
            "_view_name": "LayoutView",
            "grid_template_rows": null,
            "right": null,
            "justify_content": null,
            "_view_module": "@jupyter-widgets/base",
            "overflow": null,
            "_model_module_version": "1.2.0",
            "_view_count": null,
            "flex_flow": null,
            "width": null,
            "min_width": null,
            "border": null,
            "align_items": null,
            "bottom": null,
            "_model_module": "@jupyter-widgets/base",
            "top": null,
            "grid_column": null,
            "overflow_y": null,
            "overflow_x": null,
            "grid_auto_flow": null,
            "grid_area": null,
            "grid_template_columns": null,
            "flex": null,
            "_model_name": "LayoutModel",
            "justify_items": null,
            "grid_row": null,
            "max_height": null,
            "align_content": null,
            "visibility": null,
            "align_self": null,
            "height": null,
            "min_height": null,
            "padding": null,
            "grid_auto_rows": null,
            "grid_gap": null,
            "max_width": null,
            "order": null,
            "_view_module_version": "1.2.0",
            "grid_template_areas": null,
            "object_position": null,
            "object_fit": null,
            "grid_auto_columns": null,
            "margin": null,
            "display": null,
            "left": null
          }
        },
        "d1b57237700846258aa3d08c7510c868": {
          "model_module": "@jupyter-widgets/controls",
          "model_name": "HBoxModel",
          "state": {
            "_view_name": "HBoxView",
            "_dom_classes": [],
            "_model_name": "HBoxModel",
            "_view_module": "@jupyter-widgets/controls",
            "_model_module_version": "1.5.0",
            "_view_count": null,
            "_view_module_version": "1.5.0",
            "box_style": "",
            "layout": "IPY_MODEL_a714615bcfec4a719c1f4107b7970178",
            "_model_module": "@jupyter-widgets/controls",
            "children": [
              "IPY_MODEL_1f2e83f580aa469cb7450504d945b874",
              "IPY_MODEL_ac5e7d46727240aaa4900b7a549ff282"
            ]
          }
        },
        "a714615bcfec4a719c1f4107b7970178": {
          "model_module": "@jupyter-widgets/base",
          "model_name": "LayoutModel",
          "state": {
            "_view_name": "LayoutView",
            "grid_template_rows": null,
            "right": null,
            "justify_content": null,
            "_view_module": "@jupyter-widgets/base",
            "overflow": null,
            "_model_module_version": "1.2.0",
            "_view_count": null,
            "flex_flow": "row wrap",
            "width": "100%",
            "min_width": null,
            "border": null,
            "align_items": null,
            "bottom": null,
            "_model_module": "@jupyter-widgets/base",
            "top": null,
            "grid_column": null,
            "overflow_y": null,
            "overflow_x": null,
            "grid_auto_flow": null,
            "grid_area": null,
            "grid_template_columns": null,
            "flex": null,
            "_model_name": "LayoutModel",
            "justify_items": null,
            "grid_row": null,
            "max_height": null,
            "align_content": null,
            "visibility": null,
            "align_self": null,
            "height": null,
            "min_height": null,
            "padding": null,
            "grid_auto_rows": null,
            "grid_gap": null,
            "max_width": null,
            "order": null,
            "_view_module_version": "1.2.0",
            "grid_template_areas": null,
            "object_position": null,
            "object_fit": null,
            "grid_auto_columns": null,
            "margin": null,
            "display": "inline-flex",
            "left": null
          }
        },
        "1f2e83f580aa469cb7450504d945b874": {
          "model_module": "@jupyter-widgets/controls",
          "model_name": "FloatProgressModel",
          "state": {
            "_view_name": "ProgressView",
            "style": "IPY_MODEL_7d3b0de509a4476396ba15eaea9217d3",
            "_dom_classes": [],
            "description": "Validating: 100%",
            "_model_name": "FloatProgressModel",
            "bar_style": "info",
            "max": 944,
            "_view_module": "@jupyter-widgets/controls",
            "_model_module_version": "1.5.0",
            "value": 944,
            "_view_count": null,
            "_view_module_version": "1.5.0",
            "orientation": "horizontal",
            "min": 0,
            "description_tooltip": null,
            "_model_module": "@jupyter-widgets/controls",
            "layout": "IPY_MODEL_49846b55fdd14058a6f174bf07e20688"
          }
        },
        "ac5e7d46727240aaa4900b7a549ff282": {
          "model_module": "@jupyter-widgets/controls",
          "model_name": "HTMLModel",
          "state": {
            "_view_name": "HTMLView",
            "style": "IPY_MODEL_90ab254687954100b31304f5ca362b2b",
            "_dom_classes": [],
            "description": "",
            "_model_name": "HTMLModel",
            "placeholder": "​",
            "_view_module": "@jupyter-widgets/controls",
            "_model_module_version": "1.5.0",
            "value": " 944/944 [00:33&lt;00:00, 28.82it/s]",
            "_view_count": null,
            "_view_module_version": "1.5.0",
            "description_tooltip": null,
            "_model_module": "@jupyter-widgets/controls",
            "layout": "IPY_MODEL_4264819b41074f1faf84c3068d23441f"
          }
        },
        "7d3b0de509a4476396ba15eaea9217d3": {
          "model_module": "@jupyter-widgets/controls",
          "model_name": "ProgressStyleModel",
          "state": {
            "_view_name": "StyleView",
            "_model_name": "ProgressStyleModel",
            "description_width": "initial",
            "_view_module": "@jupyter-widgets/base",
            "_model_module_version": "1.5.0",
            "_view_count": null,
            "_view_module_version": "1.2.0",
            "bar_color": null,
            "_model_module": "@jupyter-widgets/controls"
          }
        },
        "49846b55fdd14058a6f174bf07e20688": {
          "model_module": "@jupyter-widgets/base",
          "model_name": "LayoutModel",
          "state": {
            "_view_name": "LayoutView",
            "grid_template_rows": null,
            "right": null,
            "justify_content": null,
            "_view_module": "@jupyter-widgets/base",
            "overflow": null,
            "_model_module_version": "1.2.0",
            "_view_count": null,
            "flex_flow": null,
            "width": null,
            "min_width": null,
            "border": null,
            "align_items": null,
            "bottom": null,
            "_model_module": "@jupyter-widgets/base",
            "top": null,
            "grid_column": null,
            "overflow_y": null,
            "overflow_x": null,
            "grid_auto_flow": null,
            "grid_area": null,
            "grid_template_columns": null,
            "flex": "2",
            "_model_name": "LayoutModel",
            "justify_items": null,
            "grid_row": null,
            "max_height": null,
            "align_content": null,
            "visibility": null,
            "align_self": null,
            "height": null,
            "min_height": null,
            "padding": null,
            "grid_auto_rows": null,
            "grid_gap": null,
            "max_width": null,
            "order": null,
            "_view_module_version": "1.2.0",
            "grid_template_areas": null,
            "object_position": null,
            "object_fit": null,
            "grid_auto_columns": null,
            "margin": null,
            "display": null,
            "left": null
          }
        },
        "90ab254687954100b31304f5ca362b2b": {
          "model_module": "@jupyter-widgets/controls",
          "model_name": "DescriptionStyleModel",
          "state": {
            "_view_name": "StyleView",
            "_model_name": "DescriptionStyleModel",
            "description_width": "",
            "_view_module": "@jupyter-widgets/base",
            "_model_module_version": "1.5.0",
            "_view_count": null,
            "_view_module_version": "1.2.0",
            "_model_module": "@jupyter-widgets/controls"
          }
        },
        "4264819b41074f1faf84c3068d23441f": {
          "model_module": "@jupyter-widgets/base",
          "model_name": "LayoutModel",
          "state": {
            "_view_name": "LayoutView",
            "grid_template_rows": null,
            "right": null,
            "justify_content": null,
            "_view_module": "@jupyter-widgets/base",
            "overflow": null,
            "_model_module_version": "1.2.0",
            "_view_count": null,
            "flex_flow": null,
            "width": null,
            "min_width": null,
            "border": null,
            "align_items": null,
            "bottom": null,
            "_model_module": "@jupyter-widgets/base",
            "top": null,
            "grid_column": null,
            "overflow_y": null,
            "overflow_x": null,
            "grid_auto_flow": null,
            "grid_area": null,
            "grid_template_columns": null,
            "flex": null,
            "_model_name": "LayoutModel",
            "justify_items": null,
            "grid_row": null,
            "max_height": null,
            "align_content": null,
            "visibility": null,
            "align_self": null,
            "height": null,
            "min_height": null,
            "padding": null,
            "grid_auto_rows": null,
            "grid_gap": null,
            "max_width": null,
            "order": null,
            "_view_module_version": "1.2.0",
            "grid_template_areas": null,
            "object_position": null,
            "object_fit": null,
            "grid_auto_columns": null,
            "margin": null,
            "display": null,
            "left": null
          }
        },
        "e11f7a46033c40f997f5b3ed949f42fe": {
          "model_module": "@jupyter-widgets/controls",
          "model_name": "HBoxModel",
          "state": {
            "_view_name": "HBoxView",
            "_dom_classes": [],
            "_model_name": "HBoxModel",
            "_view_module": "@jupyter-widgets/controls",
            "_model_module_version": "1.5.0",
            "_view_count": null,
            "_view_module_version": "1.5.0",
            "box_style": "",
            "layout": "IPY_MODEL_ff4af9b11c7a4395ba0f9619251fc279",
            "_model_module": "@jupyter-widgets/controls",
            "children": [
              "IPY_MODEL_390afd14610f4766a30e982f970be140",
              "IPY_MODEL_6eab2a826aee4b93b430f55982742dda"
            ]
          }
        },
        "ff4af9b11c7a4395ba0f9619251fc279": {
          "model_module": "@jupyter-widgets/base",
          "model_name": "LayoutModel",
          "state": {
            "_view_name": "LayoutView",
            "grid_template_rows": null,
            "right": null,
            "justify_content": null,
            "_view_module": "@jupyter-widgets/base",
            "overflow": null,
            "_model_module_version": "1.2.0",
            "_view_count": null,
            "flex_flow": "row wrap",
            "width": "100%",
            "min_width": null,
            "border": null,
            "align_items": null,
            "bottom": null,
            "_model_module": "@jupyter-widgets/base",
            "top": null,
            "grid_column": null,
            "overflow_y": null,
            "overflow_x": null,
            "grid_auto_flow": null,
            "grid_area": null,
            "grid_template_columns": null,
            "flex": null,
            "_model_name": "LayoutModel",
            "justify_items": null,
            "grid_row": null,
            "max_height": null,
            "align_content": null,
            "visibility": null,
            "align_self": null,
            "height": null,
            "min_height": null,
            "padding": null,
            "grid_auto_rows": null,
            "grid_gap": null,
            "max_width": null,
            "order": null,
            "_view_module_version": "1.2.0",
            "grid_template_areas": null,
            "object_position": null,
            "object_fit": null,
            "grid_auto_columns": null,
            "margin": null,
            "display": "inline-flex",
            "left": null
          }
        },
        "390afd14610f4766a30e982f970be140": {
          "model_module": "@jupyter-widgets/controls",
          "model_name": "FloatProgressModel",
          "state": {
            "_view_name": "ProgressView",
            "style": "IPY_MODEL_35f3dfa1397d491c8c55226f9a1de677",
            "_dom_classes": [],
            "description": "Validating: 100%",
            "_model_name": "FloatProgressModel",
            "bar_style": "info",
            "max": 944,
            "_view_module": "@jupyter-widgets/controls",
            "_model_module_version": "1.5.0",
            "value": 944,
            "_view_count": null,
            "_view_module_version": "1.5.0",
            "orientation": "horizontal",
            "min": 0,
            "description_tooltip": null,
            "_model_module": "@jupyter-widgets/controls",
            "layout": "IPY_MODEL_0aaff5d44e774d47b4837233e2e589fd"
          }
        },
        "6eab2a826aee4b93b430f55982742dda": {
          "model_module": "@jupyter-widgets/controls",
          "model_name": "HTMLModel",
          "state": {
            "_view_name": "HTMLView",
            "style": "IPY_MODEL_909b6585f50847b3938fc1ef3f4adf43",
            "_dom_classes": [],
            "description": "",
            "_model_name": "HTMLModel",
            "placeholder": "​",
            "_view_module": "@jupyter-widgets/controls",
            "_model_module_version": "1.5.0",
            "value": " 944/944 [00:32&lt;00:00, 28.98it/s]",
            "_view_count": null,
            "_view_module_version": "1.5.0",
            "description_tooltip": null,
            "_model_module": "@jupyter-widgets/controls",
            "layout": "IPY_MODEL_f3bdec18630248fe8b86fc4016cbdc1d"
          }
        },
        "35f3dfa1397d491c8c55226f9a1de677": {
          "model_module": "@jupyter-widgets/controls",
          "model_name": "ProgressStyleModel",
          "state": {
            "_view_name": "StyleView",
            "_model_name": "ProgressStyleModel",
            "description_width": "initial",
            "_view_module": "@jupyter-widgets/base",
            "_model_module_version": "1.5.0",
            "_view_count": null,
            "_view_module_version": "1.2.0",
            "bar_color": null,
            "_model_module": "@jupyter-widgets/controls"
          }
        },
        "0aaff5d44e774d47b4837233e2e589fd": {
          "model_module": "@jupyter-widgets/base",
          "model_name": "LayoutModel",
          "state": {
            "_view_name": "LayoutView",
            "grid_template_rows": null,
            "right": null,
            "justify_content": null,
            "_view_module": "@jupyter-widgets/base",
            "overflow": null,
            "_model_module_version": "1.2.0",
            "_view_count": null,
            "flex_flow": null,
            "width": null,
            "min_width": null,
            "border": null,
            "align_items": null,
            "bottom": null,
            "_model_module": "@jupyter-widgets/base",
            "top": null,
            "grid_column": null,
            "overflow_y": null,
            "overflow_x": null,
            "grid_auto_flow": null,
            "grid_area": null,
            "grid_template_columns": null,
            "flex": "2",
            "_model_name": "LayoutModel",
            "justify_items": null,
            "grid_row": null,
            "max_height": null,
            "align_content": null,
            "visibility": null,
            "align_self": null,
            "height": null,
            "min_height": null,
            "padding": null,
            "grid_auto_rows": null,
            "grid_gap": null,
            "max_width": null,
            "order": null,
            "_view_module_version": "1.2.0",
            "grid_template_areas": null,
            "object_position": null,
            "object_fit": null,
            "grid_auto_columns": null,
            "margin": null,
            "display": null,
            "left": null
          }
        },
        "909b6585f50847b3938fc1ef3f4adf43": {
          "model_module": "@jupyter-widgets/controls",
          "model_name": "DescriptionStyleModel",
          "state": {
            "_view_name": "StyleView",
            "_model_name": "DescriptionStyleModel",
            "description_width": "",
            "_view_module": "@jupyter-widgets/base",
            "_model_module_version": "1.5.0",
            "_view_count": null,
            "_view_module_version": "1.2.0",
            "_model_module": "@jupyter-widgets/controls"
          }
        },
        "f3bdec18630248fe8b86fc4016cbdc1d": {
          "model_module": "@jupyter-widgets/base",
          "model_name": "LayoutModel",
          "state": {
            "_view_name": "LayoutView",
            "grid_template_rows": null,
            "right": null,
            "justify_content": null,
            "_view_module": "@jupyter-widgets/base",
            "overflow": null,
            "_model_module_version": "1.2.0",
            "_view_count": null,
            "flex_flow": null,
            "width": null,
            "min_width": null,
            "border": null,
            "align_items": null,
            "bottom": null,
            "_model_module": "@jupyter-widgets/base",
            "top": null,
            "grid_column": null,
            "overflow_y": null,
            "overflow_x": null,
            "grid_auto_flow": null,
            "grid_area": null,
            "grid_template_columns": null,
            "flex": null,
            "_model_name": "LayoutModel",
            "justify_items": null,
            "grid_row": null,
            "max_height": null,
            "align_content": null,
            "visibility": null,
            "align_self": null,
            "height": null,
            "min_height": null,
            "padding": null,
            "grid_auto_rows": null,
            "grid_gap": null,
            "max_width": null,
            "order": null,
            "_view_module_version": "1.2.0",
            "grid_template_areas": null,
            "object_position": null,
            "object_fit": null,
            "grid_auto_columns": null,
            "margin": null,
            "display": null,
            "left": null
          }
        },
        "9b2661fccb4545ab8476f90ca88ab640": {
          "model_module": "@jupyter-widgets/controls",
          "model_name": "HBoxModel",
          "state": {
            "_view_name": "HBoxView",
            "_dom_classes": [],
            "_model_name": "HBoxModel",
            "_view_module": "@jupyter-widgets/controls",
            "_model_module_version": "1.5.0",
            "_view_count": null,
            "_view_module_version": "1.5.0",
            "box_style": "",
            "layout": "IPY_MODEL_7ae0ea0751844c1680bdc9fd9d8cb349",
            "_model_module": "@jupyter-widgets/controls",
            "children": [
              "IPY_MODEL_3e1f4f04d4eb4a37bf4384e90841c225",
              "IPY_MODEL_ac19dadae5d9421eb888d9a96054d2d6"
            ]
          }
        },
        "7ae0ea0751844c1680bdc9fd9d8cb349": {
          "model_module": "@jupyter-widgets/base",
          "model_name": "LayoutModel",
          "state": {
            "_view_name": "LayoutView",
            "grid_template_rows": null,
            "right": null,
            "justify_content": null,
            "_view_module": "@jupyter-widgets/base",
            "overflow": null,
            "_model_module_version": "1.2.0",
            "_view_count": null,
            "flex_flow": "row wrap",
            "width": "100%",
            "min_width": null,
            "border": null,
            "align_items": null,
            "bottom": null,
            "_model_module": "@jupyter-widgets/base",
            "top": null,
            "grid_column": null,
            "overflow_y": null,
            "overflow_x": null,
            "grid_auto_flow": null,
            "grid_area": null,
            "grid_template_columns": null,
            "flex": null,
            "_model_name": "LayoutModel",
            "justify_items": null,
            "grid_row": null,
            "max_height": null,
            "align_content": null,
            "visibility": null,
            "align_self": null,
            "height": null,
            "min_height": null,
            "padding": null,
            "grid_auto_rows": null,
            "grid_gap": null,
            "max_width": null,
            "order": null,
            "_view_module_version": "1.2.0",
            "grid_template_areas": null,
            "object_position": null,
            "object_fit": null,
            "grid_auto_columns": null,
            "margin": null,
            "display": "inline-flex",
            "left": null
          }
        },
        "3e1f4f04d4eb4a37bf4384e90841c225": {
          "model_module": "@jupyter-widgets/controls",
          "model_name": "FloatProgressModel",
          "state": {
            "_view_name": "ProgressView",
            "style": "IPY_MODEL_0637daa821da4c238fd0ef1cbbeb296e",
            "_dom_classes": [],
            "description": "Validating: 100%",
            "_model_name": "FloatProgressModel",
            "bar_style": "info",
            "max": 944,
            "_view_module": "@jupyter-widgets/controls",
            "_model_module_version": "1.5.0",
            "value": 944,
            "_view_count": null,
            "_view_module_version": "1.5.0",
            "orientation": "horizontal",
            "min": 0,
            "description_tooltip": null,
            "_model_module": "@jupyter-widgets/controls",
            "layout": "IPY_MODEL_1fcce96c97f94b19883b1a1a47faa32a"
          }
        },
        "ac19dadae5d9421eb888d9a96054d2d6": {
          "model_module": "@jupyter-widgets/controls",
          "model_name": "HTMLModel",
          "state": {
            "_view_name": "HTMLView",
            "style": "IPY_MODEL_6052ed1b0ff2451dbc3998fd2825f667",
            "_dom_classes": [],
            "description": "",
            "_model_name": "HTMLModel",
            "placeholder": "​",
            "_view_module": "@jupyter-widgets/controls",
            "_model_module_version": "1.5.0",
            "value": " 944/944 [00:31&lt;00:00, 30.60it/s]",
            "_view_count": null,
            "_view_module_version": "1.5.0",
            "description_tooltip": null,
            "_model_module": "@jupyter-widgets/controls",
            "layout": "IPY_MODEL_4a4202a9b1ad40b3bb7938b10249e0ae"
          }
        },
        "0637daa821da4c238fd0ef1cbbeb296e": {
          "model_module": "@jupyter-widgets/controls",
          "model_name": "ProgressStyleModel",
          "state": {
            "_view_name": "StyleView",
            "_model_name": "ProgressStyleModel",
            "description_width": "initial",
            "_view_module": "@jupyter-widgets/base",
            "_model_module_version": "1.5.0",
            "_view_count": null,
            "_view_module_version": "1.2.0",
            "bar_color": null,
            "_model_module": "@jupyter-widgets/controls"
          }
        },
        "1fcce96c97f94b19883b1a1a47faa32a": {
          "model_module": "@jupyter-widgets/base",
          "model_name": "LayoutModel",
          "state": {
            "_view_name": "LayoutView",
            "grid_template_rows": null,
            "right": null,
            "justify_content": null,
            "_view_module": "@jupyter-widgets/base",
            "overflow": null,
            "_model_module_version": "1.2.0",
            "_view_count": null,
            "flex_flow": null,
            "width": null,
            "min_width": null,
            "border": null,
            "align_items": null,
            "bottom": null,
            "_model_module": "@jupyter-widgets/base",
            "top": null,
            "grid_column": null,
            "overflow_y": null,
            "overflow_x": null,
            "grid_auto_flow": null,
            "grid_area": null,
            "grid_template_columns": null,
            "flex": "2",
            "_model_name": "LayoutModel",
            "justify_items": null,
            "grid_row": null,
            "max_height": null,
            "align_content": null,
            "visibility": null,
            "align_self": null,
            "height": null,
            "min_height": null,
            "padding": null,
            "grid_auto_rows": null,
            "grid_gap": null,
            "max_width": null,
            "order": null,
            "_view_module_version": "1.2.0",
            "grid_template_areas": null,
            "object_position": null,
            "object_fit": null,
            "grid_auto_columns": null,
            "margin": null,
            "display": null,
            "left": null
          }
        },
        "6052ed1b0ff2451dbc3998fd2825f667": {
          "model_module": "@jupyter-widgets/controls",
          "model_name": "DescriptionStyleModel",
          "state": {
            "_view_name": "StyleView",
            "_model_name": "DescriptionStyleModel",
            "description_width": "",
            "_view_module": "@jupyter-widgets/base",
            "_model_module_version": "1.5.0",
            "_view_count": null,
            "_view_module_version": "1.2.0",
            "_model_module": "@jupyter-widgets/controls"
          }
        },
        "4a4202a9b1ad40b3bb7938b10249e0ae": {
          "model_module": "@jupyter-widgets/base",
          "model_name": "LayoutModel",
          "state": {
            "_view_name": "LayoutView",
            "grid_template_rows": null,
            "right": null,
            "justify_content": null,
            "_view_module": "@jupyter-widgets/base",
            "overflow": null,
            "_model_module_version": "1.2.0",
            "_view_count": null,
            "flex_flow": null,
            "width": null,
            "min_width": null,
            "border": null,
            "align_items": null,
            "bottom": null,
            "_model_module": "@jupyter-widgets/base",
            "top": null,
            "grid_column": null,
            "overflow_y": null,
            "overflow_x": null,
            "grid_auto_flow": null,
            "grid_area": null,
            "grid_template_columns": null,
            "flex": null,
            "_model_name": "LayoutModel",
            "justify_items": null,
            "grid_row": null,
            "max_height": null,
            "align_content": null,
            "visibility": null,
            "align_self": null,
            "height": null,
            "min_height": null,
            "padding": null,
            "grid_auto_rows": null,
            "grid_gap": null,
            "max_width": null,
            "order": null,
            "_view_module_version": "1.2.0",
            "grid_template_areas": null,
            "object_position": null,
            "object_fit": null,
            "grid_auto_columns": null,
            "margin": null,
            "display": null,
            "left": null
          }
        },
        "89bbd5e0602247b491800b4f2f2a4bab": {
          "model_module": "@jupyter-widgets/controls",
          "model_name": "HBoxModel",
          "state": {
            "_view_name": "HBoxView",
            "_dom_classes": [],
            "_model_name": "HBoxModel",
            "_view_module": "@jupyter-widgets/controls",
            "_model_module_version": "1.5.0",
            "_view_count": null,
            "_view_module_version": "1.5.0",
            "box_style": "",
            "layout": "IPY_MODEL_b3f0d3b0e14e4405b438bae2f850ca69",
            "_model_module": "@jupyter-widgets/controls",
            "children": [
              "IPY_MODEL_98c72b379d2d4614afb70c91ab755f7a",
              "IPY_MODEL_ed690e858a364a1d933bfb26bab7c779"
            ]
          }
        },
        "b3f0d3b0e14e4405b438bae2f850ca69": {
          "model_module": "@jupyter-widgets/base",
          "model_name": "LayoutModel",
          "state": {
            "_view_name": "LayoutView",
            "grid_template_rows": null,
            "right": null,
            "justify_content": null,
            "_view_module": "@jupyter-widgets/base",
            "overflow": null,
            "_model_module_version": "1.2.0",
            "_view_count": null,
            "flex_flow": "row wrap",
            "width": "100%",
            "min_width": null,
            "border": null,
            "align_items": null,
            "bottom": null,
            "_model_module": "@jupyter-widgets/base",
            "top": null,
            "grid_column": null,
            "overflow_y": null,
            "overflow_x": null,
            "grid_auto_flow": null,
            "grid_area": null,
            "grid_template_columns": null,
            "flex": null,
            "_model_name": "LayoutModel",
            "justify_items": null,
            "grid_row": null,
            "max_height": null,
            "align_content": null,
            "visibility": null,
            "align_self": null,
            "height": null,
            "min_height": null,
            "padding": null,
            "grid_auto_rows": null,
            "grid_gap": null,
            "max_width": null,
            "order": null,
            "_view_module_version": "1.2.0",
            "grid_template_areas": null,
            "object_position": null,
            "object_fit": null,
            "grid_auto_columns": null,
            "margin": null,
            "display": "inline-flex",
            "left": null
          }
        },
        "98c72b379d2d4614afb70c91ab755f7a": {
          "model_module": "@jupyter-widgets/controls",
          "model_name": "FloatProgressModel",
          "state": {
            "_view_name": "ProgressView",
            "style": "IPY_MODEL_b61505f11dde486496c02c0ceef4d232",
            "_dom_classes": [],
            "description": "Validation sanity check:   0%",
            "_model_name": "FloatProgressModel",
            "bar_style": "danger",
            "max": 2,
            "_view_module": "@jupyter-widgets/controls",
            "_model_module_version": "1.5.0",
            "value": 0,
            "_view_count": null,
            "_view_module_version": "1.5.0",
            "orientation": "horizontal",
            "min": 0,
            "description_tooltip": null,
            "_model_module": "@jupyter-widgets/controls",
            "layout": "IPY_MODEL_114d32ba00f84ac3b1ea21d75e4058a7"
          }
        },
        "ed690e858a364a1d933bfb26bab7c779": {
          "model_module": "@jupyter-widgets/controls",
          "model_name": "HTMLModel",
          "state": {
            "_view_name": "HTMLView",
            "style": "IPY_MODEL_dbe46d368dd44196928c07b691895837",
            "_dom_classes": [],
            "description": "",
            "_model_name": "HTMLModel",
            "placeholder": "​",
            "_view_module": "@jupyter-widgets/controls",
            "_model_module_version": "1.5.0",
            "value": " 0/2 [1:39:02&lt;?, ?it/s]",
            "_view_count": null,
            "_view_module_version": "1.5.0",
            "description_tooltip": null,
            "_model_module": "@jupyter-widgets/controls",
            "layout": "IPY_MODEL_ceef5aa61c27465d8d2a66baa3ffd77f"
          }
        },
        "b61505f11dde486496c02c0ceef4d232": {
          "model_module": "@jupyter-widgets/controls",
          "model_name": "ProgressStyleModel",
          "state": {
            "_view_name": "StyleView",
            "_model_name": "ProgressStyleModel",
            "description_width": "initial",
            "_view_module": "@jupyter-widgets/base",
            "_model_module_version": "1.5.0",
            "_view_count": null,
            "_view_module_version": "1.2.0",
            "bar_color": null,
            "_model_module": "@jupyter-widgets/controls"
          }
        },
        "114d32ba00f84ac3b1ea21d75e4058a7": {
          "model_module": "@jupyter-widgets/base",
          "model_name": "LayoutModel",
          "state": {
            "_view_name": "LayoutView",
            "grid_template_rows": null,
            "right": null,
            "justify_content": null,
            "_view_module": "@jupyter-widgets/base",
            "overflow": null,
            "_model_module_version": "1.2.0",
            "_view_count": null,
            "flex_flow": null,
            "width": null,
            "min_width": null,
            "border": null,
            "align_items": null,
            "bottom": null,
            "_model_module": "@jupyter-widgets/base",
            "top": null,
            "grid_column": null,
            "overflow_y": null,
            "overflow_x": null,
            "grid_auto_flow": null,
            "grid_area": null,
            "grid_template_columns": null,
            "flex": "2",
            "_model_name": "LayoutModel",
            "justify_items": null,
            "grid_row": null,
            "max_height": null,
            "align_content": null,
            "visibility": null,
            "align_self": null,
            "height": null,
            "min_height": null,
            "padding": null,
            "grid_auto_rows": null,
            "grid_gap": null,
            "max_width": null,
            "order": null,
            "_view_module_version": "1.2.0",
            "grid_template_areas": null,
            "object_position": null,
            "object_fit": null,
            "grid_auto_columns": null,
            "margin": null,
            "display": null,
            "left": null
          }
        },
        "dbe46d368dd44196928c07b691895837": {
          "model_module": "@jupyter-widgets/controls",
          "model_name": "DescriptionStyleModel",
          "state": {
            "_view_name": "StyleView",
            "_model_name": "DescriptionStyleModel",
            "description_width": "",
            "_view_module": "@jupyter-widgets/base",
            "_model_module_version": "1.5.0",
            "_view_count": null,
            "_view_module_version": "1.2.0",
            "_model_module": "@jupyter-widgets/controls"
          }
        },
        "ceef5aa61c27465d8d2a66baa3ffd77f": {
          "model_module": "@jupyter-widgets/base",
          "model_name": "LayoutModel",
          "state": {
            "_view_name": "LayoutView",
            "grid_template_rows": null,
            "right": null,
            "justify_content": null,
            "_view_module": "@jupyter-widgets/base",
            "overflow": null,
            "_model_module_version": "1.2.0",
            "_view_count": null,
            "flex_flow": null,
            "width": null,
            "min_width": null,
            "border": null,
            "align_items": null,
            "bottom": null,
            "_model_module": "@jupyter-widgets/base",
            "top": null,
            "grid_column": null,
            "overflow_y": null,
            "overflow_x": null,
            "grid_auto_flow": null,
            "grid_area": null,
            "grid_template_columns": null,
            "flex": null,
            "_model_name": "LayoutModel",
            "justify_items": null,
            "grid_row": null,
            "max_height": null,
            "align_content": null,
            "visibility": null,
            "align_self": null,
            "height": null,
            "min_height": null,
            "padding": null,
            "grid_auto_rows": null,
            "grid_gap": null,
            "max_width": null,
            "order": null,
            "_view_module_version": "1.2.0",
            "grid_template_areas": null,
            "object_position": null,
            "object_fit": null,
            "grid_auto_columns": null,
            "margin": null,
            "display": null,
            "left": null
          }
        },
        "b06be8172a2a4d4889f3021f59118791": {
          "model_module": "@jupyter-widgets/controls",
          "model_name": "HBoxModel",
          "state": {
            "_view_name": "HBoxView",
            "_dom_classes": [],
            "_model_name": "HBoxModel",
            "_view_module": "@jupyter-widgets/controls",
            "_model_module_version": "1.5.0",
            "_view_count": null,
            "_view_module_version": "1.5.0",
            "box_style": "",
            "layout": "IPY_MODEL_5ffd15028a71499c9dade4017d20d686",
            "_model_module": "@jupyter-widgets/controls",
            "children": [
              "IPY_MODEL_7d5124371010471d9535301ba4f8d088",
              "IPY_MODEL_2fa7ab51e7cc462a8ceadaf00226e291"
            ]
          }
        },
        "5ffd15028a71499c9dade4017d20d686": {
          "model_module": "@jupyter-widgets/base",
          "model_name": "LayoutModel",
          "state": {
            "_view_name": "LayoutView",
            "grid_template_rows": null,
            "right": null,
            "justify_content": null,
            "_view_module": "@jupyter-widgets/base",
            "overflow": null,
            "_model_module_version": "1.2.0",
            "_view_count": null,
            "flex_flow": "row wrap",
            "width": "100%",
            "min_width": null,
            "border": null,
            "align_items": null,
            "bottom": null,
            "_model_module": "@jupyter-widgets/base",
            "top": null,
            "grid_column": null,
            "overflow_y": null,
            "overflow_x": null,
            "grid_auto_flow": null,
            "grid_area": null,
            "grid_template_columns": null,
            "flex": null,
            "_model_name": "LayoutModel",
            "justify_items": null,
            "grid_row": null,
            "max_height": null,
            "align_content": null,
            "visibility": null,
            "align_self": null,
            "height": null,
            "min_height": null,
            "padding": null,
            "grid_auto_rows": null,
            "grid_gap": null,
            "max_width": null,
            "order": null,
            "_view_module_version": "1.2.0",
            "grid_template_areas": null,
            "object_position": null,
            "object_fit": null,
            "grid_auto_columns": null,
            "margin": null,
            "display": "inline-flex",
            "left": null
          }
        },
        "7d5124371010471d9535301ba4f8d088": {
          "model_module": "@jupyter-widgets/controls",
          "model_name": "FloatProgressModel",
          "state": {
            "_view_name": "ProgressView",
            "style": "IPY_MODEL_d69ba548421c4ed480f365bad09e39a3",
            "_dom_classes": [],
            "description": "Epoch 4: 100%",
            "_model_name": "FloatProgressModel",
            "bar_style": "info",
            "max": 10388,
            "_view_module": "@jupyter-widgets/controls",
            "_model_module_version": "1.5.0",
            "value": 10388,
            "_view_count": null,
            "_view_module_version": "1.5.0",
            "orientation": "horizontal",
            "min": 0,
            "description_tooltip": null,
            "_model_module": "@jupyter-widgets/controls",
            "layout": "IPY_MODEL_c92d1923a30d44b184af34775b3a510b"
          }
        },
        "2fa7ab51e7cc462a8ceadaf00226e291": {
          "model_module": "@jupyter-widgets/controls",
          "model_name": "HTMLModel",
          "state": {
            "_view_name": "HTMLView",
            "style": "IPY_MODEL_d0b694e166094af18f4d888463d72798",
            "_dom_classes": [],
            "description": "",
            "_model_name": "HTMLModel",
            "placeholder": "​",
            "_view_module": "@jupyter-widgets/controls",
            "_model_module_version": "1.5.0",
            "value": " 10388/10388 [12:59&lt;00:00, 13.32it/s, loss=0.0451, v_num=1, val_fbeta=0.984, val_accuracy=0.984, val_cross_entropy=0.0567, train_fbeta_step=1.000, train_accuracy_step=1.000, train_cross_entropy_step=0.000339, train_fbeta_epoch=0.977, train_accuracy_epoch=0.977, train_cross_entropy_epoch=0.0741]",
            "_view_count": null,
            "_view_module_version": "1.5.0",
            "description_tooltip": null,
            "_model_module": "@jupyter-widgets/controls",
            "layout": "IPY_MODEL_658374411fbb43ce92375b753394a990"
          }
        },
        "d69ba548421c4ed480f365bad09e39a3": {
          "model_module": "@jupyter-widgets/controls",
          "model_name": "ProgressStyleModel",
          "state": {
            "_view_name": "StyleView",
            "_model_name": "ProgressStyleModel",
            "description_width": "initial",
            "_view_module": "@jupyter-widgets/base",
            "_model_module_version": "1.5.0",
            "_view_count": null,
            "_view_module_version": "1.2.0",
            "bar_color": null,
            "_model_module": "@jupyter-widgets/controls"
          }
        },
        "c92d1923a30d44b184af34775b3a510b": {
          "model_module": "@jupyter-widgets/base",
          "model_name": "LayoutModel",
          "state": {
            "_view_name": "LayoutView",
            "grid_template_rows": null,
            "right": null,
            "justify_content": null,
            "_view_module": "@jupyter-widgets/base",
            "overflow": null,
            "_model_module_version": "1.2.0",
            "_view_count": null,
            "flex_flow": null,
            "width": null,
            "min_width": null,
            "border": null,
            "align_items": null,
            "bottom": null,
            "_model_module": "@jupyter-widgets/base",
            "top": null,
            "grid_column": null,
            "overflow_y": null,
            "overflow_x": null,
            "grid_auto_flow": null,
            "grid_area": null,
            "grid_template_columns": null,
            "flex": "2",
            "_model_name": "LayoutModel",
            "justify_items": null,
            "grid_row": null,
            "max_height": null,
            "align_content": null,
            "visibility": null,
            "align_self": null,
            "height": null,
            "min_height": null,
            "padding": null,
            "grid_auto_rows": null,
            "grid_gap": null,
            "max_width": null,
            "order": null,
            "_view_module_version": "1.2.0",
            "grid_template_areas": null,
            "object_position": null,
            "object_fit": null,
            "grid_auto_columns": null,
            "margin": null,
            "display": null,
            "left": null
          }
        },
        "d0b694e166094af18f4d888463d72798": {
          "model_module": "@jupyter-widgets/controls",
          "model_name": "DescriptionStyleModel",
          "state": {
            "_view_name": "StyleView",
            "_model_name": "DescriptionStyleModel",
            "description_width": "",
            "_view_module": "@jupyter-widgets/base",
            "_model_module_version": "1.5.0",
            "_view_count": null,
            "_view_module_version": "1.2.0",
            "_model_module": "@jupyter-widgets/controls"
          }
        },
        "658374411fbb43ce92375b753394a990": {
          "model_module": "@jupyter-widgets/base",
          "model_name": "LayoutModel",
          "state": {
            "_view_name": "LayoutView",
            "grid_template_rows": null,
            "right": null,
            "justify_content": null,
            "_view_module": "@jupyter-widgets/base",
            "overflow": null,
            "_model_module_version": "1.2.0",
            "_view_count": null,
            "flex_flow": null,
            "width": null,
            "min_width": null,
            "border": null,
            "align_items": null,
            "bottom": null,
            "_model_module": "@jupyter-widgets/base",
            "top": null,
            "grid_column": null,
            "overflow_y": null,
            "overflow_x": null,
            "grid_auto_flow": null,
            "grid_area": null,
            "grid_template_columns": null,
            "flex": null,
            "_model_name": "LayoutModel",
            "justify_items": null,
            "grid_row": null,
            "max_height": null,
            "align_content": null,
            "visibility": null,
            "align_self": null,
            "height": null,
            "min_height": null,
            "padding": null,
            "grid_auto_rows": null,
            "grid_gap": null,
            "max_width": null,
            "order": null,
            "_view_module_version": "1.2.0",
            "grid_template_areas": null,
            "object_position": null,
            "object_fit": null,
            "grid_auto_columns": null,
            "margin": null,
            "display": null,
            "left": null
          }
        },
        "c93c9b4a2dd34d46b325124a3f511fc4": {
          "model_module": "@jupyter-widgets/controls",
          "model_name": "HBoxModel",
          "state": {
            "_view_name": "HBoxView",
            "_dom_classes": [],
            "_model_name": "HBoxModel",
            "_view_module": "@jupyter-widgets/controls",
            "_model_module_version": "1.5.0",
            "_view_count": null,
            "_view_module_version": "1.5.0",
            "box_style": "",
            "layout": "IPY_MODEL_9fe3f1b7aae34db88be4919cfd71e9a1",
            "_model_module": "@jupyter-widgets/controls",
            "children": [
              "IPY_MODEL_d13e5e0a00ac448b899338c2a94039b3",
              "IPY_MODEL_2c3615d82c7e46e8be8542063e01e8fe"
            ]
          }
        },
        "9fe3f1b7aae34db88be4919cfd71e9a1": {
          "model_module": "@jupyter-widgets/base",
          "model_name": "LayoutModel",
          "state": {
            "_view_name": "LayoutView",
            "grid_template_rows": null,
            "right": null,
            "justify_content": null,
            "_view_module": "@jupyter-widgets/base",
            "overflow": null,
            "_model_module_version": "1.2.0",
            "_view_count": null,
            "flex_flow": "row wrap",
            "width": "100%",
            "min_width": null,
            "border": null,
            "align_items": null,
            "bottom": null,
            "_model_module": "@jupyter-widgets/base",
            "top": null,
            "grid_column": null,
            "overflow_y": null,
            "overflow_x": null,
            "grid_auto_flow": null,
            "grid_area": null,
            "grid_template_columns": null,
            "flex": null,
            "_model_name": "LayoutModel",
            "justify_items": null,
            "grid_row": null,
            "max_height": null,
            "align_content": null,
            "visibility": null,
            "align_self": null,
            "height": null,
            "min_height": null,
            "padding": null,
            "grid_auto_rows": null,
            "grid_gap": null,
            "max_width": null,
            "order": null,
            "_view_module_version": "1.2.0",
            "grid_template_areas": null,
            "object_position": null,
            "object_fit": null,
            "grid_auto_columns": null,
            "margin": null,
            "display": "inline-flex",
            "left": null
          }
        },
        "d13e5e0a00ac448b899338c2a94039b3": {
          "model_module": "@jupyter-widgets/controls",
          "model_name": "FloatProgressModel",
          "state": {
            "_view_name": "ProgressView",
            "style": "IPY_MODEL_1d9a4fd8a7b24a6f9640dc7738ef18cb",
            "_dom_classes": [],
            "description": "Validating: 100%",
            "_model_name": "FloatProgressModel",
            "bar_style": "info",
            "max": 944,
            "_view_module": "@jupyter-widgets/controls",
            "_model_module_version": "1.5.0",
            "value": 944,
            "_view_count": null,
            "_view_module_version": "1.5.0",
            "orientation": "horizontal",
            "min": 0,
            "description_tooltip": null,
            "_model_module": "@jupyter-widgets/controls",
            "layout": "IPY_MODEL_4bdcedd7fb27430fb7d96caf1ede7958"
          }
        },
        "2c3615d82c7e46e8be8542063e01e8fe": {
          "model_module": "@jupyter-widgets/controls",
          "model_name": "HTMLModel",
          "state": {
            "_view_name": "HTMLView",
            "style": "IPY_MODEL_d3023c3181094cc68d6473b5ff9cdb9a",
            "_dom_classes": [],
            "description": "",
            "_model_name": "HTMLModel",
            "placeholder": "​",
            "_view_module": "@jupyter-widgets/controls",
            "_model_module_version": "1.5.0",
            "value": " 944/944 [00:30&lt;00:00, 30.92it/s]",
            "_view_count": null,
            "_view_module_version": "1.5.0",
            "description_tooltip": null,
            "_model_module": "@jupyter-widgets/controls",
            "layout": "IPY_MODEL_a519be8b4ff04070972d0309110e9bcb"
          }
        },
        "1d9a4fd8a7b24a6f9640dc7738ef18cb": {
          "model_module": "@jupyter-widgets/controls",
          "model_name": "ProgressStyleModel",
          "state": {
            "_view_name": "StyleView",
            "_model_name": "ProgressStyleModel",
            "description_width": "initial",
            "_view_module": "@jupyter-widgets/base",
            "_model_module_version": "1.5.0",
            "_view_count": null,
            "_view_module_version": "1.2.0",
            "bar_color": null,
            "_model_module": "@jupyter-widgets/controls"
          }
        },
        "4bdcedd7fb27430fb7d96caf1ede7958": {
          "model_module": "@jupyter-widgets/base",
          "model_name": "LayoutModel",
          "state": {
            "_view_name": "LayoutView",
            "grid_template_rows": null,
            "right": null,
            "justify_content": null,
            "_view_module": "@jupyter-widgets/base",
            "overflow": null,
            "_model_module_version": "1.2.0",
            "_view_count": null,
            "flex_flow": null,
            "width": null,
            "min_width": null,
            "border": null,
            "align_items": null,
            "bottom": null,
            "_model_module": "@jupyter-widgets/base",
            "top": null,
            "grid_column": null,
            "overflow_y": null,
            "overflow_x": null,
            "grid_auto_flow": null,
            "grid_area": null,
            "grid_template_columns": null,
            "flex": "2",
            "_model_name": "LayoutModel",
            "justify_items": null,
            "grid_row": null,
            "max_height": null,
            "align_content": null,
            "visibility": null,
            "align_self": null,
            "height": null,
            "min_height": null,
            "padding": null,
            "grid_auto_rows": null,
            "grid_gap": null,
            "max_width": null,
            "order": null,
            "_view_module_version": "1.2.0",
            "grid_template_areas": null,
            "object_position": null,
            "object_fit": null,
            "grid_auto_columns": null,
            "margin": null,
            "display": null,
            "left": null
          }
        },
        "d3023c3181094cc68d6473b5ff9cdb9a": {
          "model_module": "@jupyter-widgets/controls",
          "model_name": "DescriptionStyleModel",
          "state": {
            "_view_name": "StyleView",
            "_model_name": "DescriptionStyleModel",
            "description_width": "",
            "_view_module": "@jupyter-widgets/base",
            "_model_module_version": "1.5.0",
            "_view_count": null,
            "_view_module_version": "1.2.0",
            "_model_module": "@jupyter-widgets/controls"
          }
        },
        "a519be8b4ff04070972d0309110e9bcb": {
          "model_module": "@jupyter-widgets/base",
          "model_name": "LayoutModel",
          "state": {
            "_view_name": "LayoutView",
            "grid_template_rows": null,
            "right": null,
            "justify_content": null,
            "_view_module": "@jupyter-widgets/base",
            "overflow": null,
            "_model_module_version": "1.2.0",
            "_view_count": null,
            "flex_flow": null,
            "width": null,
            "min_width": null,
            "border": null,
            "align_items": null,
            "bottom": null,
            "_model_module": "@jupyter-widgets/base",
            "top": null,
            "grid_column": null,
            "overflow_y": null,
            "overflow_x": null,
            "grid_auto_flow": null,
            "grid_area": null,
            "grid_template_columns": null,
            "flex": null,
            "_model_name": "LayoutModel",
            "justify_items": null,
            "grid_row": null,
            "max_height": null,
            "align_content": null,
            "visibility": null,
            "align_self": null,
            "height": null,
            "min_height": null,
            "padding": null,
            "grid_auto_rows": null,
            "grid_gap": null,
            "max_width": null,
            "order": null,
            "_view_module_version": "1.2.0",
            "grid_template_areas": null,
            "object_position": null,
            "object_fit": null,
            "grid_auto_columns": null,
            "margin": null,
            "display": null,
            "left": null
          }
        }
      }
    }
  },
  "cells": [
    {
      "cell_type": "markdown",
      "metadata": {
        "id": "view-in-github",
        "colab_type": "text"
      },
      "source": [
        "<a href=\"https://colab.research.google.com/github/plaban1981/Pytorch_lightning/blob/main/Data_Sprint_38_The_Kvasir_Capsule_Dataset_lightning_flash.ipynb\" target=\"_parent\"><img src=\"https://colab.research.google.com/assets/colab-badge.svg\" alt=\"Open In Colab\"/></a>"
      ]
    },
    {
      "cell_type": "markdown",
      "metadata": {
        "id": "MZpfQngk5BkP"
      },
      "source": [
        "## Problem Statement\n",
        " \n",
        "Artificial intelligence (AI) is predicted to have profound effects on the future of video capsule endoscopy (VCE) technology.The potential lies in improving anomaly detection while reducing manual labour. However, medical data is often sparse and unavailable to the research community, and qualified medical personnel rarely have time for the tedious labelling work."
      ]
    },
    {
      "cell_type": "markdown",
      "metadata": {
        "id": "LYccKJG_5HE1"
      },
      "source": [
        "## Objective\n",
        " \n",
        "\n",
        "You are required to build a machine learning model to recognize the disease label of the respective images."
      ]
    },
    {
      "cell_type": "markdown",
      "metadata": {
        "id": "2LUN6d8a5_2N"
      },
      "source": [
        "## Content\n",
        " \n",
        "\n",
        "The small bowel constitutes the gastrointestinal (GI) tract’s mid-part, situated between the stomach and the large bowel. It is three to four meters long and has a surface of about 30 m^2, including the surface of the villi, and plays a crucial role in absorbing nutrients. Therefore, disorders in the small bowel may cause severe growth retardation in children and nutrient deﬁciencies in children and adults. \n",
        "\n",
        "This organ may be affected by \n",
        "**chronic diseases**, like \n",
        "* Crohn’s disease, \n",
        "* coeliac disease, and \n",
        "* angiectasis\n",
        "\n",
        "or  **malignant diseases** like \n",
        "* lymphoma and \n",
        "* adenocarcinoma. \n",
        "\n",
        "These diseases may represent a substantial health challenge for both patients and society, and a thorough examination of the lumen is frequently necessary to diagnose and treat them. However, the small bowel, due to its anatomical location, is less accessible for inspection by ﬂexible endoscopes commonly used for the upper GI tract and the large bowel. Since early 2000, video capsule endoscopy (VCE) has been used, usually as a complementary test for patients with GI bleeding. \n",
        "\n",
        "A VCE consists of a small capsule containing a wide-angle camera, lightsources, batteries, and other electronics. The patient swallows the capsule, which then captures a video as it moves passively through the GI tract. A recorder, carried by the patient or included in the capsule, stores the video before a medical expert assesses it after the procedure. \n",
        "\n",
        "[Source of information: Reasearch paper: Kvasir-Capsule, a video capsule endoscopy dataset]"
      ]
    },
    {
      "cell_type": "markdown",
      "metadata": {
        "id": "vpIsQTup65I_"
      },
      "source": [
        "## Mount Drive"
      ]
    },
    {
      "cell_type": "code",
      "metadata": {
        "colab": {
          "base_uri": "https://localhost:8080/"
        },
        "id": "BOb3qLPB1XDM",
        "outputId": "90d03175-6e55-4521-91e9-b8d482801e15"
      },
      "source": [
        "from google.colab import drive\n",
        "drive.mount(\"/content/drive\")"
      ],
      "execution_count": 2,
      "outputs": [
        {
          "output_type": "stream",
          "text": [
            "Mounted at /content/drive\n"
          ],
          "name": "stdout"
        }
      ]
    },
    {
      "cell_type": "markdown",
      "metadata": {
        "id": "hIZkX5GeBTnq"
      },
      "source": [
        "## Import Data Science packages"
      ]
    },
    {
      "cell_type": "code",
      "metadata": {
        "id": "sHXzm3OmBX6I"
      },
      "source": [
        "#changing filename to paths\n",
        "import os\n",
        "import pandas as pd\n",
        "import numpy as np\n",
        "import PIL\n",
        "import cv2\n",
        "#\n",
        "import seaborn as sns\n",
        "import matplotlib.pyplot as plt\n",
        "#\n",
        "import warnings\n",
        "warnings.filterwarnings(\"ignore\")\n",
        "#\n",
        "%matplotlib inline"
      ],
      "execution_count": 9,
      "outputs": []
    },
    {
      "cell_type": "markdown",
      "metadata": {
        "id": "XZJ5ttcEFiQW"
      },
      "source": [
        "## Import Data"
      ]
    },
    {
      "cell_type": "code",
      "metadata": {
        "id": "I4gzeEzVFGoD"
      },
      "source": [
        "train_data = pd.read_csv(\"/content/drive/MyDrive/dphi/Kvasir/The Kvasir-Capsule/Training_set.csv\")\n",
        "test_data = pd.read_csv(\"/content/drive/MyDrive/dphi/Kvasir/The Kvasir-Capsule/Testing_set.csv\")"
      ],
      "execution_count": 10,
      "outputs": []
    },
    {
      "cell_type": "code",
      "metadata": {
        "colab": {
          "base_uri": "https://localhost:8080/",
          "height": 204
        },
        "id": "dOh8LFj-Fk93",
        "outputId": "6583f6ba-88f1-4dbe-8a2f-d2155d2874a6"
      },
      "source": [
        "train_data.head()"
      ],
      "execution_count": 5,
      "outputs": [
        {
          "output_type": "execute_result",
          "data": {
            "text/html": [
              "<div>\n",
              "<style scoped>\n",
              "    .dataframe tbody tr th:only-of-type {\n",
              "        vertical-align: middle;\n",
              "    }\n",
              "\n",
              "    .dataframe tbody tr th {\n",
              "        vertical-align: top;\n",
              "    }\n",
              "\n",
              "    .dataframe thead th {\n",
              "        text-align: right;\n",
              "    }\n",
              "</style>\n",
              "<table border=\"1\" class=\"dataframe\">\n",
              "  <thead>\n",
              "    <tr style=\"text-align: right;\">\n",
              "      <th></th>\n",
              "      <th>filename</th>\n",
              "      <th>label</th>\n",
              "    </tr>\n",
              "  </thead>\n",
              "  <tbody>\n",
              "    <tr>\n",
              "      <th>0</th>\n",
              "      <td>Image_1.jpg</td>\n",
              "      <td>Normal clean mucosa</td>\n",
              "    </tr>\n",
              "    <tr>\n",
              "      <th>1</th>\n",
              "      <td>Image_2.jpg</td>\n",
              "      <td>Normal clean mucosa</td>\n",
              "    </tr>\n",
              "    <tr>\n",
              "      <th>2</th>\n",
              "      <td>Image_3.jpg</td>\n",
              "      <td>Foreign body</td>\n",
              "    </tr>\n",
              "    <tr>\n",
              "      <th>3</th>\n",
              "      <td>Image_4.jpg</td>\n",
              "      <td>Normal clean mucosa</td>\n",
              "    </tr>\n",
              "    <tr>\n",
              "      <th>4</th>\n",
              "      <td>Image_5.jpg</td>\n",
              "      <td>Normal clean mucosa</td>\n",
              "    </tr>\n",
              "  </tbody>\n",
              "</table>\n",
              "</div>"
            ],
            "text/plain": [
              "      filename                label\n",
              "0  Image_1.jpg  Normal clean mucosa\n",
              "1  Image_2.jpg  Normal clean mucosa\n",
              "2  Image_3.jpg         Foreign body\n",
              "3  Image_4.jpg  Normal clean mucosa\n",
              "4  Image_5.jpg  Normal clean mucosa"
            ]
          },
          "metadata": {
            "tags": []
          },
          "execution_count": 5
        }
      ]
    },
    {
      "cell_type": "code",
      "metadata": {
        "colab": {
          "base_uri": "https://localhost:8080/"
        },
        "id": "zNKlLu_4KohG",
        "outputId": "6e74d11e-9a8f-4b38-d782-9ca90b1639e8"
      },
      "source": [
        "train_data.shape"
      ],
      "execution_count": null,
      "outputs": [
        {
          "output_type": "execute_result",
          "data": {
            "text/plain": [
              "(37790, 2)"
            ]
          },
          "metadata": {
            "tags": []
          },
          "execution_count": 21
        }
      ]
    },
    {
      "cell_type": "code",
      "metadata": {
        "colab": {
          "base_uri": "https://localhost:8080/",
          "height": 204
        },
        "id": "uidfUiAcHypN",
        "outputId": "e3493e47-1d51-478d-d5ef-c12749fbdcfb"
      },
      "source": [
        "test_data.head()"
      ],
      "execution_count": null,
      "outputs": [
        {
          "output_type": "execute_result",
          "data": {
            "text/html": [
              "<div>\n",
              "<style scoped>\n",
              "    .dataframe tbody tr th:only-of-type {\n",
              "        vertical-align: middle;\n",
              "    }\n",
              "\n",
              "    .dataframe tbody tr th {\n",
              "        vertical-align: top;\n",
              "    }\n",
              "\n",
              "    .dataframe thead th {\n",
              "        text-align: right;\n",
              "    }\n",
              "</style>\n",
              "<table border=\"1\" class=\"dataframe\">\n",
              "  <thead>\n",
              "    <tr style=\"text-align: right;\">\n",
              "      <th></th>\n",
              "      <th>filename</th>\n",
              "    </tr>\n",
              "  </thead>\n",
              "  <tbody>\n",
              "    <tr>\n",
              "      <th>0</th>\n",
              "      <td>Image_1.jpg</td>\n",
              "    </tr>\n",
              "    <tr>\n",
              "      <th>1</th>\n",
              "      <td>Image_2.jpg</td>\n",
              "    </tr>\n",
              "    <tr>\n",
              "      <th>2</th>\n",
              "      <td>Image_3.jpg</td>\n",
              "    </tr>\n",
              "    <tr>\n",
              "      <th>3</th>\n",
              "      <td>Image_4.jpg</td>\n",
              "    </tr>\n",
              "    <tr>\n",
              "      <th>4</th>\n",
              "      <td>Image_5.jpg</td>\n",
              "    </tr>\n",
              "  </tbody>\n",
              "</table>\n",
              "</div>"
            ],
            "text/plain": [
              "      filename\n",
              "0  Image_1.jpg\n",
              "1  Image_2.jpg\n",
              "2  Image_3.jpg\n",
              "3  Image_4.jpg\n",
              "4  Image_5.jpg"
            ]
          },
          "metadata": {
            "tags": []
          },
          "execution_count": 22
        }
      ]
    },
    {
      "cell_type": "code",
      "metadata": {
        "colab": {
          "base_uri": "https://localhost:8080/"
        },
        "id": "cHXCZk7MKsyb",
        "outputId": "709f5ffd-8011-4d43-9e01-ff1fe3ab155a"
      },
      "source": [
        "test_data.shape"
      ],
      "execution_count": null,
      "outputs": [
        {
          "output_type": "execute_result",
          "data": {
            "text/plain": [
              "(9448, 1)"
            ]
          },
          "metadata": {
            "tags": []
          },
          "execution_count": 5
        }
      ]
    },
    {
      "cell_type": "markdown",
      "metadata": {
        "id": "TNvSErRsQMTk"
      },
      "source": [
        "## Unique Labels"
      ]
    },
    {
      "cell_type": "code",
      "metadata": {
        "colab": {
          "base_uri": "https://localhost:8080/"
        },
        "id": "v8McTlm_Qkoq",
        "outputId": "32905a54-ab13-4ab2-951d-12956b002175"
      },
      "source": [
        "labels = train_data['label'].unique().tolist()\n",
        "labels"
      ],
      "execution_count": 11,
      "outputs": [
        {
          "output_type": "execute_result",
          "data": {
            "text/plain": [
              "['Normal clean mucosa',\n",
              " 'Foreign body',\n",
              " 'Reduced mucosal view',\n",
              " 'Ileocecal valve',\n",
              " 'Lymphangiectasia',\n",
              " 'ulcer',\n",
              " 'Angiectasia',\n",
              " 'Pylorus',\n",
              " 'Erosion',\n",
              " 'Blood - fresh',\n",
              " 'Erythema',\n",
              " 'Polyp',\n",
              " 'ampulla_of_vater',\n",
              " 'Blood - hematin']"
            ]
          },
          "metadata": {
            "tags": []
          },
          "execution_count": 11
        }
      ]
    },
    {
      "cell_type": "markdown",
      "metadata": {
        "id": "TUZIlLG_HgR2"
      },
      "source": [
        "## Add the complete path for the training images"
      ]
    },
    {
      "cell_type": "code",
      "metadata": {
        "id": "l92Q4wwvHmEl"
      },
      "source": [
        "paths = [os.path.join(\"/content/drive/MyDrive/dphi/Kvasir/The Kvasir-Capsule/train\", x) for x in train_data['filename']]\n",
        "test_paths = [os.path.join(\"/content/drive/MyDrive/dphi/Kvasir/The Kvasir-Capsule/test\", x) for x in test_data['filename']]"
      ],
      "execution_count": 12,
      "outputs": []
    },
    {
      "cell_type": "code",
      "metadata": {
        "id": "1MIAQhXgIcCi"
      },
      "source": [
        "train_data['image_path'] = paths\n",
        "test_data['image_path'] = test_paths\n",
        "\n",
        "train_data.drop(['filename'], axis = 1, inplace=True)\n",
        "test_data.drop(['filename'], axis = 1, inplace=True)"
      ],
      "execution_count": 13,
      "outputs": []
    },
    {
      "cell_type": "code",
      "metadata": {
        "id": "spO1eS1YIhhu"
      },
      "source": [
        "file_paths = train_data.image_path.values.tolist()\n",
        "labels = train_data.label.values.tolist()"
      ],
      "execution_count": 14,
      "outputs": []
    },
    {
      "cell_type": "code",
      "metadata": {
        "colab": {
          "base_uri": "https://localhost:8080/",
          "height": 204
        },
        "id": "bTNDFdp_LB8B",
        "outputId": "316b2647-c83b-4570-a7df-eea518da5f44"
      },
      "source": [
        "train_data.head()"
      ],
      "execution_count": 15,
      "outputs": [
        {
          "output_type": "execute_result",
          "data": {
            "text/html": [
              "<div>\n",
              "<style scoped>\n",
              "    .dataframe tbody tr th:only-of-type {\n",
              "        vertical-align: middle;\n",
              "    }\n",
              "\n",
              "    .dataframe tbody tr th {\n",
              "        vertical-align: top;\n",
              "    }\n",
              "\n",
              "    .dataframe thead th {\n",
              "        text-align: right;\n",
              "    }\n",
              "</style>\n",
              "<table border=\"1\" class=\"dataframe\">\n",
              "  <thead>\n",
              "    <tr style=\"text-align: right;\">\n",
              "      <th></th>\n",
              "      <th>label</th>\n",
              "      <th>image_path</th>\n",
              "    </tr>\n",
              "  </thead>\n",
              "  <tbody>\n",
              "    <tr>\n",
              "      <th>0</th>\n",
              "      <td>Normal clean mucosa</td>\n",
              "      <td>/content/drive/MyDrive/dphi/Kvasir/The Kvasir-...</td>\n",
              "    </tr>\n",
              "    <tr>\n",
              "      <th>1</th>\n",
              "      <td>Normal clean mucosa</td>\n",
              "      <td>/content/drive/MyDrive/dphi/Kvasir/The Kvasir-...</td>\n",
              "    </tr>\n",
              "    <tr>\n",
              "      <th>2</th>\n",
              "      <td>Foreign body</td>\n",
              "      <td>/content/drive/MyDrive/dphi/Kvasir/The Kvasir-...</td>\n",
              "    </tr>\n",
              "    <tr>\n",
              "      <th>3</th>\n",
              "      <td>Normal clean mucosa</td>\n",
              "      <td>/content/drive/MyDrive/dphi/Kvasir/The Kvasir-...</td>\n",
              "    </tr>\n",
              "    <tr>\n",
              "      <th>4</th>\n",
              "      <td>Normal clean mucosa</td>\n",
              "      <td>/content/drive/MyDrive/dphi/Kvasir/The Kvasir-...</td>\n",
              "    </tr>\n",
              "  </tbody>\n",
              "</table>\n",
              "</div>"
            ],
            "text/plain": [
              "                 label                                         image_path\n",
              "0  Normal clean mucosa  /content/drive/MyDrive/dphi/Kvasir/The Kvasir-...\n",
              "1  Normal clean mucosa  /content/drive/MyDrive/dphi/Kvasir/The Kvasir-...\n",
              "2         Foreign body  /content/drive/MyDrive/dphi/Kvasir/The Kvasir-...\n",
              "3  Normal clean mucosa  /content/drive/MyDrive/dphi/Kvasir/The Kvasir-...\n",
              "4  Normal clean mucosa  /content/drive/MyDrive/dphi/Kvasir/The Kvasir-..."
            ]
          },
          "metadata": {
            "tags": []
          },
          "execution_count": 15
        }
      ]
    },
    {
      "cell_type": "code",
      "metadata": {
        "colab": {
          "base_uri": "https://localhost:8080/",
          "height": 204
        },
        "id": "tJXTvP95BaMK",
        "outputId": "11d1a6a9-afb0-4404-e21e-62b61f5719c2"
      },
      "source": [
        "train_data = train_data[['image_path','label']]\n",
        "train_data.head()"
      ],
      "execution_count": 16,
      "outputs": [
        {
          "output_type": "execute_result",
          "data": {
            "text/html": [
              "<div>\n",
              "<style scoped>\n",
              "    .dataframe tbody tr th:only-of-type {\n",
              "        vertical-align: middle;\n",
              "    }\n",
              "\n",
              "    .dataframe tbody tr th {\n",
              "        vertical-align: top;\n",
              "    }\n",
              "\n",
              "    .dataframe thead th {\n",
              "        text-align: right;\n",
              "    }\n",
              "</style>\n",
              "<table border=\"1\" class=\"dataframe\">\n",
              "  <thead>\n",
              "    <tr style=\"text-align: right;\">\n",
              "      <th></th>\n",
              "      <th>image_path</th>\n",
              "      <th>label</th>\n",
              "    </tr>\n",
              "  </thead>\n",
              "  <tbody>\n",
              "    <tr>\n",
              "      <th>0</th>\n",
              "      <td>/content/drive/MyDrive/dphi/Kvasir/The Kvasir-...</td>\n",
              "      <td>Normal clean mucosa</td>\n",
              "    </tr>\n",
              "    <tr>\n",
              "      <th>1</th>\n",
              "      <td>/content/drive/MyDrive/dphi/Kvasir/The Kvasir-...</td>\n",
              "      <td>Normal clean mucosa</td>\n",
              "    </tr>\n",
              "    <tr>\n",
              "      <th>2</th>\n",
              "      <td>/content/drive/MyDrive/dphi/Kvasir/The Kvasir-...</td>\n",
              "      <td>Foreign body</td>\n",
              "    </tr>\n",
              "    <tr>\n",
              "      <th>3</th>\n",
              "      <td>/content/drive/MyDrive/dphi/Kvasir/The Kvasir-...</td>\n",
              "      <td>Normal clean mucosa</td>\n",
              "    </tr>\n",
              "    <tr>\n",
              "      <th>4</th>\n",
              "      <td>/content/drive/MyDrive/dphi/Kvasir/The Kvasir-...</td>\n",
              "      <td>Normal clean mucosa</td>\n",
              "    </tr>\n",
              "  </tbody>\n",
              "</table>\n",
              "</div>"
            ],
            "text/plain": [
              "                                          image_path                label\n",
              "0  /content/drive/MyDrive/dphi/Kvasir/The Kvasir-...  Normal clean mucosa\n",
              "1  /content/drive/MyDrive/dphi/Kvasir/The Kvasir-...  Normal clean mucosa\n",
              "2  /content/drive/MyDrive/dphi/Kvasir/The Kvasir-...         Foreign body\n",
              "3  /content/drive/MyDrive/dphi/Kvasir/The Kvasir-...  Normal clean mucosa\n",
              "4  /content/drive/MyDrive/dphi/Kvasir/The Kvasir-...  Normal clean mucosa"
            ]
          },
          "metadata": {
            "tags": []
          },
          "execution_count": 16
        }
      ]
    },
    {
      "cell_type": "code",
      "metadata": {
        "colab": {
          "base_uri": "https://localhost:8080/",
          "height": 204
        },
        "id": "ytjihCH3Bmlm",
        "outputId": "61804fa0-acb1-475c-ac32-408b189dccc8"
      },
      "source": [
        "test_data.head()"
      ],
      "execution_count": 17,
      "outputs": [
        {
          "output_type": "execute_result",
          "data": {
            "text/html": [
              "<div>\n",
              "<style scoped>\n",
              "    .dataframe tbody tr th:only-of-type {\n",
              "        vertical-align: middle;\n",
              "    }\n",
              "\n",
              "    .dataframe tbody tr th {\n",
              "        vertical-align: top;\n",
              "    }\n",
              "\n",
              "    .dataframe thead th {\n",
              "        text-align: right;\n",
              "    }\n",
              "</style>\n",
              "<table border=\"1\" class=\"dataframe\">\n",
              "  <thead>\n",
              "    <tr style=\"text-align: right;\">\n",
              "      <th></th>\n",
              "      <th>image_path</th>\n",
              "    </tr>\n",
              "  </thead>\n",
              "  <tbody>\n",
              "    <tr>\n",
              "      <th>0</th>\n",
              "      <td>/content/drive/MyDrive/dphi/Kvasir/The Kvasir-...</td>\n",
              "    </tr>\n",
              "    <tr>\n",
              "      <th>1</th>\n",
              "      <td>/content/drive/MyDrive/dphi/Kvasir/The Kvasir-...</td>\n",
              "    </tr>\n",
              "    <tr>\n",
              "      <th>2</th>\n",
              "      <td>/content/drive/MyDrive/dphi/Kvasir/The Kvasir-...</td>\n",
              "    </tr>\n",
              "    <tr>\n",
              "      <th>3</th>\n",
              "      <td>/content/drive/MyDrive/dphi/Kvasir/The Kvasir-...</td>\n",
              "    </tr>\n",
              "    <tr>\n",
              "      <th>4</th>\n",
              "      <td>/content/drive/MyDrive/dphi/Kvasir/The Kvasir-...</td>\n",
              "    </tr>\n",
              "  </tbody>\n",
              "</table>\n",
              "</div>"
            ],
            "text/plain": [
              "                                          image_path\n",
              "0  /content/drive/MyDrive/dphi/Kvasir/The Kvasir-...\n",
              "1  /content/drive/MyDrive/dphi/Kvasir/The Kvasir-...\n",
              "2  /content/drive/MyDrive/dphi/Kvasir/The Kvasir-...\n",
              "3  /content/drive/MyDrive/dphi/Kvasir/The Kvasir-...\n",
              "4  /content/drive/MyDrive/dphi/Kvasir/The Kvasir-..."
            ]
          },
          "metadata": {
            "tags": []
          },
          "execution_count": 17
        }
      ]
    },
    {
      "cell_type": "markdown",
      "metadata": {
        "id": "ZwF6O9N_2OCt"
      },
      "source": [
        "## Check if Image files are empty"
      ]
    },
    {
      "cell_type": "code",
      "metadata": {
        "id": "EtG6U6yz2S58"
      },
      "source": [
        "import os\n",
        "img_list  = train_data.image_path.values.tolist()\n",
        "empty_images = []\n",
        "empty_index = []\n",
        "for i,img in enumerate(img_list):\n",
        "  if os.stat(img).st_size == 0:\n",
        "    try:\n",
        "      empty_images.append(img)\n",
        "      empty_index.append(i)\n",
        "    except:\n",
        "      pass"
      ],
      "execution_count": 15,
      "outputs": []
    },
    {
      "cell_type": "markdown",
      "metadata": {
        "id": "cxv5bJwh2DwX"
      },
      "source": [
        "##Train Images list"
      ]
    },
    {
      "cell_type": "code",
      "metadata": {
        "id": "G0zshjA7sRsX",
        "colab": {
          "base_uri": "https://localhost:8080/"
        },
        "outputId": "b79bae70-ef4c-4b80-ef1c-0e1b51556b71"
      },
      "source": [
        "import os\n",
        "import tqdm\n",
        "train_path = \"/content/drive/MyDrive/dphi/Kvasir/The Kvasir-Capsule/TRAIN\"\n",
        "train_images = []\n",
        "for folder in os.listdir(\"/content/drive/MyDrive/dphi/Kvasir/The Kvasir-Capsule/TRAIN\"):\n",
        "  for images in tqdm.tqdm(os.listdir(os.path.join(train_path,folder))):\n",
        "    train_images.append(os.path.join(train_path,folder,images))\n",
        "\n"
      ],
      "execution_count": null,
      "outputs": [
        {
          "output_type": "stream",
          "text": [
            "100%|██████████| 27456/27456 [00:00<00:00, 458544.28it/s]\n",
            "100%|██████████| 621/621 [00:00<00:00, 206228.25it/s]\n",
            "100%|██████████| 2325/2325 [00:00<00:00, 333120.07it/s]\n",
            "100%|██████████| 3351/3351 [00:00<00:00, 420635.44it/s]\n",
            "100%|██████████| 473/473 [00:00<00:00, 157640.51it/s]\n",
            "100%|██████████| 683/683 [00:00<00:00, 272699.63it/s]\n",
            "100%|██████████| 693/693 [00:00<00:00, 271700.57it/s]\n",
            "100%|██████████| 1223/1223 [00:00<00:00, 272403.68it/s]\n",
            "100%|██████████| 405/405 [00:00<00:00, 133692.20it/s]\n",
            "100%|██████████| 357/357 [00:00<00:00, 175933.09it/s]\n",
            "100%|██████████| 127/127 [00:00<00:00, 46615.61it/s]\n",
            "100%|██████████| 44/44 [00:00<00:00, 18050.60it/s]\n",
            "100%|██████████| 8/8 [00:00<00:00, 11459.85it/s]\n",
            "100%|██████████| 10/10 [00:00<00:00, 4414.59it/s]\n"
          ],
          "name": "stderr"
        }
      ]
    },
    {
      "cell_type": "code",
      "metadata": {
        "id": "5yeQfSjr08L3",
        "colab": {
          "base_uri": "https://localhost:8080/",
          "height": 35
        },
        "outputId": "ac8da29c-35bc-489c-bb00-509a8d8464e7"
      },
      "source": [
        "train_images[0]"
      ],
      "execution_count": null,
      "outputs": [
        {
          "output_type": "execute_result",
          "data": {
            "application/vnd.google.colaboratory.intrinsic+json": {
              "type": "string"
            },
            "text/plain": [
              "'/content/drive/MyDrive/dphi/Kvasir/The Kvasir-Capsule/TRAIN/Normal clean mucosa/Image_36429.jpg'"
            ]
          },
          "metadata": {
            "tags": []
          },
          "execution_count": 9
        }
      ]
    },
    {
      "cell_type": "markdown",
      "metadata": {
        "id": "BTWmog_E2IGG"
      },
      "source": [
        "##Val Images list"
      ]
    },
    {
      "cell_type": "code",
      "metadata": {
        "id": "jguec--c2KcB",
        "colab": {
          "base_uri": "https://localhost:8080/"
        },
        "outputId": "2c6515d1-79d0-4774-8fa0-21a7ec3819f3"
      },
      "source": [
        "train_path = \"/content/drive/MyDrive/dphi/Kvasir/The Kvasir-Capsule/VAL\"\n",
        "val_images = []\n",
        "for folder in os.listdir(\"/content/drive/MyDrive/dphi/Kvasir/The Kvasir-Capsule/VAL\"):\n",
        "  for images in tqdm.tqdm(os.listdir(os.path.join(train_path,folder))):\n",
        "    val_images.append(os.path.join(train_path,folder,images))\n"
      ],
      "execution_count": null,
      "outputs": [
        {
          "output_type": "stream",
          "text": [
            "100%|██████████| 2744/2744 [00:00<00:00, 328795.86it/s]\n",
            "100%|██████████| 62/62 [00:00<00:00, 25452.37it/s]\n",
            "100%|██████████| 233/233 [00:00<00:00, 88948.11it/s]\n",
            "100%|██████████| 335/335 [00:00<00:00, 278236.01it/s]\n",
            "100%|██████████| 47/47 [00:00<00:00, 25568.39it/s]\n",
            "100%|██████████| 68/68 [00:00<00:00, 35611.52it/s]\n",
            "100%|██████████| 69/69 [00:00<00:00, 50384.22it/s]\n",
            "100%|██████████| 122/122 [00:00<00:00, 49579.02it/s]\n",
            "100%|██████████| 41/41 [00:00<00:00, 149536.06it/s]\n",
            "100%|██████████| 36/36 [00:00<00:00, 16852.11it/s]\n",
            "100%|██████████| 13/13 [00:00<00:00, 17420.43it/s]\n",
            "100%|██████████| 4/4 [00:00<00:00, 22919.69it/s]\n",
            "100%|██████████| 1/1 [00:00<00:00, 1339.61it/s]\n",
            "100%|██████████| 1/1 [00:00<00:00, 565.88it/s]\n"
          ],
          "name": "stderr"
        }
      ]
    },
    {
      "cell_type": "code",
      "metadata": {
        "id": "3yHpmTM00-sX",
        "colab": {
          "base_uri": "https://localhost:8080/"
        },
        "outputId": "3b76489a-4348-4d37-8006-63581098313f"
      },
      "source": [
        "len(train_images),len(val_images)"
      ],
      "execution_count": null,
      "outputs": [
        {
          "output_type": "execute_result",
          "data": {
            "text/plain": [
              "(37776, 3776)"
            ]
          },
          "metadata": {
            "tags": []
          },
          "execution_count": 12
        }
      ]
    },
    {
      "cell_type": "code",
      "metadata": {
        "id": "snXS8JR3c2BU"
      },
      "source": [
        "#img_list  = train_data.image_path.values.tolist()\n",
        "img_list = val_images\n",
        "empty_images = []\n",
        "empty_index = []\n",
        "for i,img in enumerate(img_list):\n",
        "  if os.stat(img).st_size == 0:\n",
        "    try:\n",
        "      empty_images.append(img)\n",
        "      empty_index.append(i)\n",
        "    except:\n",
        "      pass"
      ],
      "execution_count": null,
      "outputs": []
    },
    {
      "cell_type": "code",
      "metadata": {
        "id": "XFCHAycV2hEW",
        "colab": {
          "base_uri": "https://localhost:8080/"
        },
        "outputId": "b5341549-cd92-4708-af35-fef36f6f9d5c"
      },
      "source": [
        "len(empty_images)"
      ],
      "execution_count": 16,
      "outputs": [
        {
          "output_type": "execute_result",
          "data": {
            "text/plain": [
              "14"
            ]
          },
          "metadata": {
            "tags": []
          },
          "execution_count": 16
        }
      ]
    },
    {
      "cell_type": "code",
      "metadata": {
        "id": "nku2O8eS2fEV",
        "colab": {
          "base_uri": "https://localhost:8080/"
        },
        "outputId": "c8924847-15e7-43a6-8195-e947fc2030e2"
      },
      "source": [
        "train_data.shape"
      ],
      "execution_count": 17,
      "outputs": [
        {
          "output_type": "execute_result",
          "data": {
            "text/plain": [
              "(37790, 2)"
            ]
          },
          "metadata": {
            "tags": []
          },
          "execution_count": 17
        }
      ]
    },
    {
      "cell_type": "code",
      "metadata": {
        "id": "I3ua8Dco2bkF",
        "colab": {
          "base_uri": "https://localhost:8080/"
        },
        "outputId": "2f1fd605-a03b-49c7-bb8c-35e36976ed4f"
      },
      "source": [
        "train_data = train_data[~train_data['image_path'].isin(empty_images)]\n",
        "train_data.shape"
      ],
      "execution_count": 18,
      "outputs": [
        {
          "output_type": "execute_result",
          "data": {
            "text/plain": [
              "(37776, 2)"
            ]
          },
          "metadata": {
            "tags": []
          },
          "execution_count": 18
        }
      ]
    },
    {
      "cell_type": "code",
      "metadata": {
        "id": "mngyuwrz3kbD"
      },
      "source": [
        "train_new = train_data.copy()"
      ],
      "execution_count": 19,
      "outputs": []
    },
    {
      "cell_type": "code",
      "metadata": {
        "id": "C1NP1B-L3_K1",
        "colab": {
          "base_uri": "https://localhost:8080/",
          "height": 204
        },
        "outputId": "b033425d-fcc2-46db-d217-c7a26087b79d"
      },
      "source": [
        "train_new.head()"
      ],
      "execution_count": 20,
      "outputs": [
        {
          "output_type": "execute_result",
          "data": {
            "text/html": [
              "<div>\n",
              "<style scoped>\n",
              "    .dataframe tbody tr th:only-of-type {\n",
              "        vertical-align: middle;\n",
              "    }\n",
              "\n",
              "    .dataframe tbody tr th {\n",
              "        vertical-align: top;\n",
              "    }\n",
              "\n",
              "    .dataframe thead th {\n",
              "        text-align: right;\n",
              "    }\n",
              "</style>\n",
              "<table border=\"1\" class=\"dataframe\">\n",
              "  <thead>\n",
              "    <tr style=\"text-align: right;\">\n",
              "      <th></th>\n",
              "      <th>image_path</th>\n",
              "      <th>label</th>\n",
              "    </tr>\n",
              "  </thead>\n",
              "  <tbody>\n",
              "    <tr>\n",
              "      <th>0</th>\n",
              "      <td>/content/drive/MyDrive/dphi/Kvasir/The Kvasir-...</td>\n",
              "      <td>Normal clean mucosa</td>\n",
              "    </tr>\n",
              "    <tr>\n",
              "      <th>1</th>\n",
              "      <td>/content/drive/MyDrive/dphi/Kvasir/The Kvasir-...</td>\n",
              "      <td>Normal clean mucosa</td>\n",
              "    </tr>\n",
              "    <tr>\n",
              "      <th>2</th>\n",
              "      <td>/content/drive/MyDrive/dphi/Kvasir/The Kvasir-...</td>\n",
              "      <td>Foreign body</td>\n",
              "    </tr>\n",
              "    <tr>\n",
              "      <th>3</th>\n",
              "      <td>/content/drive/MyDrive/dphi/Kvasir/The Kvasir-...</td>\n",
              "      <td>Normal clean mucosa</td>\n",
              "    </tr>\n",
              "    <tr>\n",
              "      <th>4</th>\n",
              "      <td>/content/drive/MyDrive/dphi/Kvasir/The Kvasir-...</td>\n",
              "      <td>Normal clean mucosa</td>\n",
              "    </tr>\n",
              "  </tbody>\n",
              "</table>\n",
              "</div>"
            ],
            "text/plain": [
              "                                          image_path                label\n",
              "0  /content/drive/MyDrive/dphi/Kvasir/The Kvasir-...  Normal clean mucosa\n",
              "1  /content/drive/MyDrive/dphi/Kvasir/The Kvasir-...  Normal clean mucosa\n",
              "2  /content/drive/MyDrive/dphi/Kvasir/The Kvasir-...         Foreign body\n",
              "3  /content/drive/MyDrive/dphi/Kvasir/The Kvasir-...  Normal clean mucosa\n",
              "4  /content/drive/MyDrive/dphi/Kvasir/The Kvasir-...  Normal clean mucosa"
            ]
          },
          "metadata": {
            "tags": []
          },
          "execution_count": 20
        }
      ]
    },
    {
      "cell_type": "markdown",
      "metadata": {
        "id": "OB2I7cYGTXmS"
      },
      "source": [
        "## Trian Test Split"
      ]
    },
    {
      "cell_type": "code",
      "metadata": {
        "id": "pCwvYSUzTbDt"
      },
      "source": [
        "from sklearn.model_selection import train_test_split\n",
        "train_set,val_set= train_test_split(train_new,test_size=0.1,stratify=train_data['label'],random_state=42)"
      ],
      "execution_count": null,
      "outputs": []
    },
    {
      "cell_type": "code",
      "metadata": {
        "colab": {
          "base_uri": "https://localhost:8080/"
        },
        "id": "jMgUFZqdTtCe",
        "outputId": "952d7262-7e1a-4e8c-bd58-525faaeea113"
      },
      "source": [
        "train_set.shape,val_set.shape"
      ],
      "execution_count": null,
      "outputs": [
        {
          "output_type": "execute_result",
          "data": {
            "text/plain": [
              "((33998, 2), (3778, 2))"
            ]
          },
          "metadata": {
            "tags": []
          },
          "execution_count": 21
        }
      ]
    },
    {
      "cell_type": "code",
      "metadata": {
        "id": "vdCL5L5hFlGf"
      },
      "source": [
        "train_set.to_csv(\"/content/drive/MyDrive/dphi/Kvasir/The Kvasir-Capsule/train/Training_split.csv\",index=False)\n",
        "val_set.to_csv(\"/content/drive/MyDrive/dphi/Kvasir/The Kvasir-Capsule/train/validation_split.csv\",index=False)"
      ],
      "execution_count": null,
      "outputs": []
    },
    {
      "cell_type": "code",
      "metadata": {
        "colab": {
          "base_uri": "https://localhost:8080/",
          "height": 204
        },
        "id": "z7_GHQlKuwFZ",
        "outputId": "23bc7d76-1541-4cb1-db53-0836d32da2db"
      },
      "source": [
        "train_set.head()"
      ],
      "execution_count": null,
      "outputs": [
        {
          "output_type": "execute_result",
          "data": {
            "text/html": [
              "<div>\n",
              "<style scoped>\n",
              "    .dataframe tbody tr th:only-of-type {\n",
              "        vertical-align: middle;\n",
              "    }\n",
              "\n",
              "    .dataframe tbody tr th {\n",
              "        vertical-align: top;\n",
              "    }\n",
              "\n",
              "    .dataframe thead th {\n",
              "        text-align: right;\n",
              "    }\n",
              "</style>\n",
              "<table border=\"1\" class=\"dataframe\">\n",
              "  <thead>\n",
              "    <tr style=\"text-align: right;\">\n",
              "      <th></th>\n",
              "      <th>image_path</th>\n",
              "      <th>label</th>\n",
              "    </tr>\n",
              "  </thead>\n",
              "  <tbody>\n",
              "    <tr>\n",
              "      <th>36036</th>\n",
              "      <td>/content/drive/MyDrive/dphi/Kvasir/The Kvasir-...</td>\n",
              "      <td>Normal clean mucosa</td>\n",
              "    </tr>\n",
              "    <tr>\n",
              "      <th>471</th>\n",
              "      <td>/content/drive/MyDrive/dphi/Kvasir/The Kvasir-...</td>\n",
              "      <td>Normal clean mucosa</td>\n",
              "    </tr>\n",
              "    <tr>\n",
              "      <th>4195</th>\n",
              "      <td>/content/drive/MyDrive/dphi/Kvasir/The Kvasir-...</td>\n",
              "      <td>Normal clean mucosa</td>\n",
              "    </tr>\n",
              "    <tr>\n",
              "      <th>6903</th>\n",
              "      <td>/content/drive/MyDrive/dphi/Kvasir/The Kvasir-...</td>\n",
              "      <td>Normal clean mucosa</td>\n",
              "    </tr>\n",
              "    <tr>\n",
              "      <th>37061</th>\n",
              "      <td>/content/drive/MyDrive/dphi/Kvasir/The Kvasir-...</td>\n",
              "      <td>Ileocecal valve</td>\n",
              "    </tr>\n",
              "  </tbody>\n",
              "</table>\n",
              "</div>"
            ],
            "text/plain": [
              "                                              image_path                label\n",
              "36036  /content/drive/MyDrive/dphi/Kvasir/The Kvasir-...  Normal clean mucosa\n",
              "471    /content/drive/MyDrive/dphi/Kvasir/The Kvasir-...  Normal clean mucosa\n",
              "4195   /content/drive/MyDrive/dphi/Kvasir/The Kvasir-...  Normal clean mucosa\n",
              "6903   /content/drive/MyDrive/dphi/Kvasir/The Kvasir-...  Normal clean mucosa\n",
              "37061  /content/drive/MyDrive/dphi/Kvasir/The Kvasir-...      Ileocecal valve"
            ]
          },
          "metadata": {
            "tags": []
          },
          "execution_count": 22
        }
      ]
    },
    {
      "cell_type": "markdown",
      "metadata": {
        "id": "zgbffb8vXGzo"
      },
      "source": [
        "## Apply Startified kfolds to handle imbalanced dataset"
      ]
    },
    {
      "cell_type": "code",
      "metadata": {
        "colab": {
          "base_uri": "https://localhost:8080/"
        },
        "id": "Vr0yVsV8PMyL",
        "outputId": "0f730ff7-d659-42ad-99a9-692441d80247"
      },
      "source": [
        "from sklearn.model_selection import StratifiedKFold\n",
        "dfx = train_new.copy()\n",
        "#assign default value to fold\n",
        "dfx[\"kfold\"] = -1\n",
        "\n",
        "# Shuffle data\n",
        "dfx = dfx.sample(frac=1).reset_index(drop=True)\n",
        "\n",
        "kf = StratifiedKFold(n_splits=5)\n",
        "\n",
        "for fold, (trn_, val_) in enumerate(kf.split(X=dfx, y=dfx.label.values)):\n",
        "    print(len(trn_), len(val_))\n",
        "    dfx.loc[val_, 'kfold'] = fold\n"
      ],
      "execution_count": 21,
      "outputs": [
        {
          "output_type": "stream",
          "text": [
            "30220 7556\n",
            "30221 7555\n",
            "30221 7555\n",
            "30221 7555\n",
            "30221 7555\n"
          ],
          "name": "stdout"
        }
      ]
    },
    {
      "cell_type": "code",
      "metadata": {
        "colab": {
          "base_uri": "https://localhost:8080/",
          "height": 204
        },
        "id": "uG9-5GYKYKFL",
        "outputId": "d04ee186-2b1f-44f7-855f-7510ba726402"
      },
      "source": [
        "dfx.head()"
      ],
      "execution_count": 22,
      "outputs": [
        {
          "output_type": "execute_result",
          "data": {
            "text/html": [
              "<div>\n",
              "<style scoped>\n",
              "    .dataframe tbody tr th:only-of-type {\n",
              "        vertical-align: middle;\n",
              "    }\n",
              "\n",
              "    .dataframe tbody tr th {\n",
              "        vertical-align: top;\n",
              "    }\n",
              "\n",
              "    .dataframe thead th {\n",
              "        text-align: right;\n",
              "    }\n",
              "</style>\n",
              "<table border=\"1\" class=\"dataframe\">\n",
              "  <thead>\n",
              "    <tr style=\"text-align: right;\">\n",
              "      <th></th>\n",
              "      <th>image_path</th>\n",
              "      <th>label</th>\n",
              "      <th>kfold</th>\n",
              "    </tr>\n",
              "  </thead>\n",
              "  <tbody>\n",
              "    <tr>\n",
              "      <th>0</th>\n",
              "      <td>/content/drive/MyDrive/dphi/Kvasir/The Kvasir-...</td>\n",
              "      <td>Normal clean mucosa</td>\n",
              "      <td>0</td>\n",
              "    </tr>\n",
              "    <tr>\n",
              "      <th>1</th>\n",
              "      <td>/content/drive/MyDrive/dphi/Kvasir/The Kvasir-...</td>\n",
              "      <td>Normal clean mucosa</td>\n",
              "      <td>0</td>\n",
              "    </tr>\n",
              "    <tr>\n",
              "      <th>2</th>\n",
              "      <td>/content/drive/MyDrive/dphi/Kvasir/The Kvasir-...</td>\n",
              "      <td>Normal clean mucosa</td>\n",
              "      <td>0</td>\n",
              "    </tr>\n",
              "    <tr>\n",
              "      <th>3</th>\n",
              "      <td>/content/drive/MyDrive/dphi/Kvasir/The Kvasir-...</td>\n",
              "      <td>Foreign body</td>\n",
              "      <td>0</td>\n",
              "    </tr>\n",
              "    <tr>\n",
              "      <th>4</th>\n",
              "      <td>/content/drive/MyDrive/dphi/Kvasir/The Kvasir-...</td>\n",
              "      <td>Normal clean mucosa</td>\n",
              "      <td>0</td>\n",
              "    </tr>\n",
              "  </tbody>\n",
              "</table>\n",
              "</div>"
            ],
            "text/plain": [
              "                                          image_path  ... kfold\n",
              "0  /content/drive/MyDrive/dphi/Kvasir/The Kvasir-...  ...     0\n",
              "1  /content/drive/MyDrive/dphi/Kvasir/The Kvasir-...  ...     0\n",
              "2  /content/drive/MyDrive/dphi/Kvasir/The Kvasir-...  ...     0\n",
              "3  /content/drive/MyDrive/dphi/Kvasir/The Kvasir-...  ...     0\n",
              "4  /content/drive/MyDrive/dphi/Kvasir/The Kvasir-...  ...     0\n",
              "\n",
              "[5 rows x 3 columns]"
            ]
          },
          "metadata": {
            "tags": []
          },
          "execution_count": 22
        }
      ]
    },
    {
      "cell_type": "code",
      "metadata": {
        "colab": {
          "base_uri": "https://localhost:8080/"
        },
        "id": "tW7tZkCzaBJZ",
        "outputId": "cc37bbc8-b9cf-4245-efb4-2c08eaf8e1b6"
      },
      "source": [
        "dfx.kfold.value_counts()"
      ],
      "execution_count": 23,
      "outputs": [
        {
          "output_type": "execute_result",
          "data": {
            "text/plain": [
              "0    7556\n",
              "4    7555\n",
              "3    7555\n",
              "2    7555\n",
              "1    7555\n",
              "Name: kfold, dtype: int64"
            ]
          },
          "metadata": {
            "tags": []
          },
          "execution_count": 23
        }
      ]
    },
    {
      "cell_type": "markdown",
      "metadata": {
        "id": "b0yd8LAt5KNp"
      },
      "source": [
        "## Create folders"
      ]
    },
    {
      "cell_type": "code",
      "metadata": {
        "id": "4R0MNLcBa5rR"
      },
      "source": [
        "dfx.to_csv(\"/content/drive/MyDrive/dphi/Kvasir/The Kvasir-Capsule/train_set_folds.csv\",index=False)"
      ],
      "execution_count": null,
      "outputs": []
    },
    {
      "cell_type": "code",
      "metadata": {
        "id": "a8gBybIt5Ml7"
      },
      "source": [
        "folders = ['KFold0','KFold1','KFold2','KFold3','KFold4']\n",
        "root = \"/content/drive/MyDrive/dphi/Kvasir\"\n",
        "for i in range(5):\n",
        "  for lbls in labels:\n",
        "    os.makedirs(os.path.join(root,folders[i],lbls),exist_ok = True)"
      ],
      "execution_count": 36,
      "outputs": []
    },
    {
      "cell_type": "markdown",
      "metadata": {
        "id": "FlfvUj9E1mR9"
      },
      "source": [
        "## Using Multiprocessing to copy images to respective folders"
      ]
    },
    {
      "cell_type": "code",
      "metadata": {
        "id": "NX_ojnZBjrqO",
        "outputId": "720bafdc-d5b1-4e33-d9a2-ae5a430cfb5e",
        "colab": {
          "base_uri": "https://localhost:8080/"
        }
      },
      "source": [
        "import os\n",
        "import shutil\n",
        "import tqdm\n",
        "import concurrent.futures\n",
        "folders = ['KFold0','KFold1','KFold2','KFold3','KFold4']\n",
        "root = \"/content/drive/MyDrive/dphi/Kvasir\"\n",
        "def copy_images(i,dataframe,root,folder_name):\n",
        "  items = dataframe[dataframe['kfold'] == i].values.tolist()\n",
        "  for data in tqdm.tqdm(items):\n",
        "    src_path = data[0]\n",
        "    dest_path = os.path.join(root,folder_name,data[1])\n",
        "    shutil.copy(src_path,dest_path)\n",
        "  return f\"{folder_name} copy completed\"\n",
        "def main():\n",
        "  with concurrent.futures.ProcessPoolExecutor() as executer:\n",
        "    results = [ executer.submit(copy_images,i,dfx,root,folders[i]) for i in range(5)]\n",
        "    for f in concurrent.futures.as_completed(results):\n",
        "      print(f.result())\n",
        "if __name__ == '__main__':\n",
        "    main()"
      ],
      "execution_count": null,
      "outputs": [
        {
          "output_type": "stream",
          "text": [
            "100%|██████████| 7555/7555 [33:25<00:00,  3.77it/s]\n",
            "100%|█████████▉| 7547/7556 [33:26<00:02,  3.40it/s]"
          ],
          "name": "stderr"
        },
        {
          "output_type": "stream",
          "text": [
            "KFold1 copy completed\n"
          ],
          "name": "stdout"
        },
        {
          "output_type": "stream",
          "text": [
            "100%|██████████| 7556/7556 [33:28<00:00,  3.76it/s]\n",
            "  0%|          | 9/7555 [00:02<38:30,  3.27it/s]"
          ],
          "name": "stderr"
        },
        {
          "output_type": "stream",
          "text": [
            "KFold0 copy completed\n"
          ],
          "name": "stdout"
        },
        {
          "output_type": "stream",
          "text": [
            " 83%|████████▎ | 6303/7555 [27:22<05:36,  3.72it/s]"
          ],
          "name": "stderr"
        }
      ]
    },
    {
      "cell_type": "code",
      "metadata": {
        "id": "Qw-A7flwadMk",
        "outputId": "d9378d83-b68c-414f-d376-b8652b80b753",
        "colab": {
          "base_uri": "https://localhost:8080/"
        }
      },
      "source": [
        "l = 0\n",
        "for f in os.listdir(\"/content/drive/MyDrive/dphi/Kvasir/KFold4\"):\n",
        "  l += len(os.listdir(os.path.join(\"/content/drive/MyDrive/dphi/Kvasir/KFold0\",f)))\n",
        "print(l)"
      ],
      "execution_count": 33,
      "outputs": [
        {
          "output_type": "stream",
          "text": [
            "7556\n"
          ],
          "name": "stdout"
        }
      ]
    },
    {
      "cell_type": "markdown",
      "metadata": {
        "id": "umSGlvPW9R31"
      },
      "source": [
        "## Start of Pytorch Lightning Flash\n"
      ]
    },
    {
      "cell_type": "code",
      "metadata": {
        "colab": {
          "base_uri": "https://localhost:8080/"
        },
        "id": "5lzkyeBKAJOi",
        "outputId": "d9a7385d-104b-47e7-ddf4-d63e471aea36"
      },
      "source": [
        "!pip install pytorch-lightning"
      ],
      "execution_count": 35,
      "outputs": [
        {
          "output_type": "stream",
          "text": [
            "Collecting pytorch-lightning\n",
            "\u001b[?25l  Downloading https://files.pythonhosted.org/packages/48/5e/19c817ad2670c1d822642ed7bfc4d9d4c30c2f8eaefebcd575a3188d7319/pytorch_lightning-1.3.8-py3-none-any.whl (813kB)\n",
            "\u001b[K     |████████████████████████████████| 819kB 7.2MB/s \n",
            "\u001b[?25hRequirement already satisfied: torch>=1.4 in /usr/local/lib/python3.7/dist-packages (from pytorch-lightning) (1.9.0+cu102)\n",
            "Requirement already satisfied: pillow!=8.3.0 in /usr/local/lib/python3.7/dist-packages (from pytorch-lightning) (7.1.2)\n",
            "Collecting PyYAML<=5.4.1,>=5.1\n",
            "\u001b[?25l  Downloading https://files.pythonhosted.org/packages/7a/a5/393c087efdc78091afa2af9f1378762f9821c9c1d7a22c5753fb5ac5f97a/PyYAML-5.4.1-cp37-cp37m-manylinux1_x86_64.whl (636kB)\n",
            "\u001b[K     |████████████████████████████████| 645kB 35.3MB/s \n",
            "\u001b[?25hCollecting tensorboard!=2.5.0,>=2.2.0\n",
            "\u001b[?25l  Downloading https://files.pythonhosted.org/packages/64/21/eebd23060763fedeefb78bc2b286e00fa1d8abda6f70efa2ee08c28af0d4/tensorboard-2.4.1-py3-none-any.whl (10.6MB)\n",
            "\u001b[K     |████████████████████████████████| 10.6MB 37.7MB/s \n",
            "\u001b[?25hRequirement already satisfied: numpy>=1.17.2 in /usr/local/lib/python3.7/dist-packages (from pytorch-lightning) (1.19.5)\n",
            "Collecting fsspec[http]!=2021.06.0,>=2021.05.0\n",
            "\u001b[?25l  Downloading https://files.pythonhosted.org/packages/0e/3a/666e63625a19883ae8e1674099e631f9737bd5478c4790e5ad49c5ac5261/fsspec-2021.6.1-py3-none-any.whl (115kB)\n",
            "\u001b[K     |████████████████████████████████| 122kB 56.7MB/s \n",
            "\u001b[?25hCollecting pyDeprecate==0.3.0\n",
            "  Downloading https://files.pythonhosted.org/packages/14/52/aa227a0884df71ed1957649085adf2b8bc2a1816d037c2f18b3078854516/pyDeprecate-0.3.0-py3-none-any.whl\n",
            "Requirement already satisfied: tqdm>=4.41.0 in /usr/local/lib/python3.7/dist-packages (from pytorch-lightning) (4.41.1)\n",
            "Collecting future>=0.17.1\n",
            "\u001b[?25l  Downloading https://files.pythonhosted.org/packages/45/0b/38b06fd9b92dc2b68d58b75f900e97884c45bedd2ff83203d933cf5851c9/future-0.18.2.tar.gz (829kB)\n",
            "\u001b[K     |████████████████████████████████| 829kB 50.4MB/s \n",
            "\u001b[?25hCollecting torchmetrics>=0.2.0\n",
            "\u001b[?25l  Downloading https://files.pythonhosted.org/packages/4d/8b/de8df9044ca2ac5dfc6b13b9ad3b3ebe6b3a45807311102b569d680e811f/torchmetrics-0.4.1-py3-none-any.whl (234kB)\n",
            "\u001b[K     |████████████████████████████████| 235kB 45.9MB/s \n",
            "\u001b[?25hRequirement already satisfied: packaging>=17.0 in /usr/local/lib/python3.7/dist-packages (from pytorch-lightning) (20.9)\n",
            "Requirement already satisfied: typing-extensions in /usr/local/lib/python3.7/dist-packages (from torch>=1.4->pytorch-lightning) (3.7.4.3)\n",
            "Requirement already satisfied: tensorboard-plugin-wit>=1.6.0 in /usr/local/lib/python3.7/dist-packages (from tensorboard!=2.5.0,>=2.2.0->pytorch-lightning) (1.8.0)\n",
            "Requirement already satisfied: six>=1.10.0 in /usr/local/lib/python3.7/dist-packages (from tensorboard!=2.5.0,>=2.2.0->pytorch-lightning) (1.15.0)\n",
            "Requirement already satisfied: setuptools>=41.0.0 in /usr/local/lib/python3.7/dist-packages (from tensorboard!=2.5.0,>=2.2.0->pytorch-lightning) (57.0.0)\n",
            "Requirement already satisfied: grpcio>=1.24.3 in /usr/local/lib/python3.7/dist-packages (from tensorboard!=2.5.0,>=2.2.0->pytorch-lightning) (1.34.1)\n",
            "Requirement already satisfied: protobuf>=3.6.0 in /usr/local/lib/python3.7/dist-packages (from tensorboard!=2.5.0,>=2.2.0->pytorch-lightning) (3.12.4)\n",
            "Requirement already satisfied: wheel>=0.26; python_version >= \"3\" in /usr/local/lib/python3.7/dist-packages (from tensorboard!=2.5.0,>=2.2.0->pytorch-lightning) (0.36.2)\n",
            "Requirement already satisfied: markdown>=2.6.8 in /usr/local/lib/python3.7/dist-packages (from tensorboard!=2.5.0,>=2.2.0->pytorch-lightning) (3.3.4)\n",
            "Requirement already satisfied: requests<3,>=2.21.0 in /usr/local/lib/python3.7/dist-packages (from tensorboard!=2.5.0,>=2.2.0->pytorch-lightning) (2.23.0)\n",
            "Requirement already satisfied: google-auth-oauthlib<0.5,>=0.4.1 in /usr/local/lib/python3.7/dist-packages (from tensorboard!=2.5.0,>=2.2.0->pytorch-lightning) (0.4.4)\n",
            "Requirement already satisfied: werkzeug>=0.11.15 in /usr/local/lib/python3.7/dist-packages (from tensorboard!=2.5.0,>=2.2.0->pytorch-lightning) (1.0.1)\n",
            "Requirement already satisfied: absl-py>=0.4 in /usr/local/lib/python3.7/dist-packages (from tensorboard!=2.5.0,>=2.2.0->pytorch-lightning) (0.12.0)\n",
            "Requirement already satisfied: google-auth<2,>=1.6.3 in /usr/local/lib/python3.7/dist-packages (from tensorboard!=2.5.0,>=2.2.0->pytorch-lightning) (1.31.0)\n",
            "Collecting aiohttp; extra == \"http\"\n",
            "\u001b[?25l  Downloading https://files.pythonhosted.org/packages/88/c0/5890b4c8b04a79b7360e8fe4490feb0bb3ab179743f199f0e6220cebd568/aiohttp-3.7.4.post0-cp37-cp37m-manylinux2014_x86_64.whl (1.3MB)\n",
            "\u001b[K     |████████████████████████████████| 1.3MB 44.7MB/s \n",
            "\u001b[?25hRequirement already satisfied: pyparsing>=2.0.2 in /usr/local/lib/python3.7/dist-packages (from packaging>=17.0->pytorch-lightning) (2.4.7)\n",
            "Requirement already satisfied: importlib-metadata; python_version < \"3.8\" in /usr/local/lib/python3.7/dist-packages (from markdown>=2.6.8->tensorboard!=2.5.0,>=2.2.0->pytorch-lightning) (4.5.0)\n",
            "Requirement already satisfied: urllib3!=1.25.0,!=1.25.1,<1.26,>=1.21.1 in /usr/local/lib/python3.7/dist-packages (from requests<3,>=2.21.0->tensorboard!=2.5.0,>=2.2.0->pytorch-lightning) (1.24.3)\n",
            "Requirement already satisfied: certifi>=2017.4.17 in /usr/local/lib/python3.7/dist-packages (from requests<3,>=2.21.0->tensorboard!=2.5.0,>=2.2.0->pytorch-lightning) (2021.5.30)\n",
            "Requirement already satisfied: idna<3,>=2.5 in /usr/local/lib/python3.7/dist-packages (from requests<3,>=2.21.0->tensorboard!=2.5.0,>=2.2.0->pytorch-lightning) (2.10)\n",
            "Requirement already satisfied: chardet<4,>=3.0.2 in /usr/local/lib/python3.7/dist-packages (from requests<3,>=2.21.0->tensorboard!=2.5.0,>=2.2.0->pytorch-lightning) (3.0.4)\n",
            "Requirement already satisfied: requests-oauthlib>=0.7.0 in /usr/local/lib/python3.7/dist-packages (from google-auth-oauthlib<0.5,>=0.4.1->tensorboard!=2.5.0,>=2.2.0->pytorch-lightning) (1.3.0)\n",
            "Requirement already satisfied: cachetools<5.0,>=2.0.0 in /usr/local/lib/python3.7/dist-packages (from google-auth<2,>=1.6.3->tensorboard!=2.5.0,>=2.2.0->pytorch-lightning) (4.2.2)\n",
            "Requirement already satisfied: rsa<5,>=3.1.4; python_version >= \"3.6\" in /usr/local/lib/python3.7/dist-packages (from google-auth<2,>=1.6.3->tensorboard!=2.5.0,>=2.2.0->pytorch-lightning) (4.7.2)\n",
            "Requirement already satisfied: pyasn1-modules>=0.2.1 in /usr/local/lib/python3.7/dist-packages (from google-auth<2,>=1.6.3->tensorboard!=2.5.0,>=2.2.0->pytorch-lightning) (0.2.8)\n",
            "Requirement already satisfied: attrs>=17.3.0 in /usr/local/lib/python3.7/dist-packages (from aiohttp; extra == \"http\"->fsspec[http]!=2021.06.0,>=2021.05.0->pytorch-lightning) (21.2.0)\n",
            "Collecting multidict<7.0,>=4.5\n",
            "\u001b[?25l  Downloading https://files.pythonhosted.org/packages/7c/a6/4123b8165acbe773d1a8dc8e3f0d1edea16d29f7de018eda769abb56bd30/multidict-5.1.0-cp37-cp37m-manylinux2014_x86_64.whl (142kB)\n",
            "\u001b[K     |████████████████████████████████| 143kB 59.1MB/s \n",
            "\u001b[?25hCollecting yarl<2.0,>=1.0\n",
            "\u001b[?25l  Downloading https://files.pythonhosted.org/packages/f1/62/046834c5fc998c88ab2ef722f5d42122230a632212c8afa76418324f53ff/yarl-1.6.3-cp37-cp37m-manylinux2014_x86_64.whl (294kB)\n",
            "\u001b[K     |████████████████████████████████| 296kB 48.6MB/s \n",
            "\u001b[?25hCollecting async-timeout<4.0,>=3.0\n",
            "  Downloading https://files.pythonhosted.org/packages/e1/1e/5a4441be21b0726c4464f3f23c8b19628372f606755a9d2e46c187e65ec4/async_timeout-3.0.1-py3-none-any.whl\n",
            "Requirement already satisfied: zipp>=0.5 in /usr/local/lib/python3.7/dist-packages (from importlib-metadata; python_version < \"3.8\"->markdown>=2.6.8->tensorboard!=2.5.0,>=2.2.0->pytorch-lightning) (3.4.1)\n",
            "Requirement already satisfied: oauthlib>=3.0.0 in /usr/local/lib/python3.7/dist-packages (from requests-oauthlib>=0.7.0->google-auth-oauthlib<0.5,>=0.4.1->tensorboard!=2.5.0,>=2.2.0->pytorch-lightning) (3.1.1)\n",
            "Requirement already satisfied: pyasn1>=0.1.3 in /usr/local/lib/python3.7/dist-packages (from rsa<5,>=3.1.4; python_version >= \"3.6\"->google-auth<2,>=1.6.3->tensorboard!=2.5.0,>=2.2.0->pytorch-lightning) (0.4.8)\n",
            "Building wheels for collected packages: future\n",
            "  Building wheel for future (setup.py) ... \u001b[?25l\u001b[?25hdone\n",
            "  Created wheel for future: filename=future-0.18.2-cp37-none-any.whl size=491070 sha256=66eb10a2301c67e463909083baf6e845b11c4d7dae8ed0472c8f410fdae550dd\n",
            "  Stored in directory: /root/.cache/pip/wheels/8b/99/a0/81daf51dcd359a9377b110a8a886b3895921802d2fc1b2397e\n",
            "Successfully built future\n",
            "\u001b[31mERROR: tensorflow 2.5.0 has requirement tensorboard~=2.5, but you'll have tensorboard 2.4.1 which is incompatible.\u001b[0m\n",
            "Installing collected packages: PyYAML, tensorboard, multidict, yarl, async-timeout, aiohttp, fsspec, pyDeprecate, future, torchmetrics, pytorch-lightning\n",
            "  Found existing installation: PyYAML 3.13\n",
            "    Uninstalling PyYAML-3.13:\n",
            "      Successfully uninstalled PyYAML-3.13\n",
            "  Found existing installation: tensorboard 2.5.0\n",
            "    Uninstalling tensorboard-2.5.0:\n",
            "      Successfully uninstalled tensorboard-2.5.0\n",
            "  Found existing installation: future 0.16.0\n",
            "    Uninstalling future-0.16.0:\n",
            "      Successfully uninstalled future-0.16.0\n",
            "Successfully installed PyYAML-5.4.1 aiohttp-3.7.4.post0 async-timeout-3.0.1 fsspec-2021.6.1 future-0.18.2 multidict-5.1.0 pyDeprecate-0.3.0 pytorch-lightning-1.3.8 tensorboard-2.4.1 torchmetrics-0.4.1 yarl-1.6.3\n"
          ],
          "name": "stdout"
        }
      ]
    },
    {
      "cell_type": "code",
      "metadata": {
        "colab": {
          "base_uri": "https://localhost:8080/"
        },
        "id": "tpVSqg1OOd0G",
        "outputId": "a2da45b9-2f87-40bb-c4b8-ddbab8a4bab3"
      },
      "source": [
        "import pytorch_lightning as pl\n",
        "print(pl.__version__)"
      ],
      "execution_count": 36,
      "outputs": [
        {
          "output_type": "stream",
          "text": [
            "1.3.8\n"
          ],
          "name": "stdout"
        }
      ]
    },
    {
      "cell_type": "code",
      "metadata": {
        "colab": {
          "base_uri": "https://localhost:8080/"
        },
        "id": "jj4RrKnU9Stt",
        "outputId": "63791de8-bfd6-465d-bb3a-10ec71924f9f"
      },
      "source": [
        "! pip install git+https://github.com/PyTorchLightning/lightning-flash.git"
      ],
      "execution_count": null,
      "outputs": [
        {
          "output_type": "stream",
          "text": [
            "Collecting git+https://github.com/PyTorchLightning/lightning-flash.git\n",
            "  Cloning https://github.com/PyTorchLightning/lightning-flash.git to /tmp/pip-req-build-6ebspcyi\n",
            "  Running command git clone -q https://github.com/PyTorchLightning/lightning-flash.git /tmp/pip-req-build-6ebspcyi\n",
            "  Installing build dependencies ... \u001b[?25l\u001b[?25hdone\n",
            "  Getting requirements to build wheel ... \u001b[?25l\u001b[?25hdone\n",
            "    Preparing wheel metadata ... \u001b[?25l\u001b[?25hdone\n",
            "Requirement already satisfied: PyYAML>=5.1 in /usr/local/lib/python3.7/dist-packages (from lightning-flash==0.4.1.dev0) (5.4.1)\n",
            "Requirement already satisfied: pyDeprecate in /usr/local/lib/python3.7/dist-packages (from lightning-flash==0.4.1.dev0) (0.3.0)\n",
            "Requirement already satisfied: pytorch-lightning>=1.3.1 in /usr/local/lib/python3.7/dist-packages (from lightning-flash==0.4.1.dev0) (1.3.8)\n",
            "Requirement already satisfied: torch>=1.8 in /usr/local/lib/python3.7/dist-packages (from lightning-flash==0.4.1.dev0) (1.9.0+cu102)\n",
            "Requirement already satisfied: torchmetrics in /usr/local/lib/python3.7/dist-packages (from lightning-flash==0.4.1.dev0) (0.3.2)\n",
            "Requirement already satisfied: tqdm in /usr/local/lib/python3.7/dist-packages (from lightning-flash==0.4.1.dev0) (4.41.1)\n",
            "Requirement already satisfied: pandas<1.3.0 in /usr/local/lib/python3.7/dist-packages (from lightning-flash==0.4.1.dev0) (1.1.5)\n",
            "Requirement already satisfied: packaging in /usr/local/lib/python3.7/dist-packages (from lightning-flash==0.4.1.dev0) (20.9)\n",
            "Requirement already satisfied: numpy in /usr/local/lib/python3.7/dist-packages (from lightning-flash==0.4.1.dev0) (1.19.5)\n",
            "Requirement already satisfied: future>=0.17.1 in /usr/local/lib/python3.7/dist-packages (from pytorch-lightning>=1.3.1->lightning-flash==0.4.1.dev0) (0.18.2)\n",
            "Requirement already satisfied: tensorboard!=2.5.0,>=2.2.0 in /usr/local/lib/python3.7/dist-packages (from pytorch-lightning>=1.3.1->lightning-flash==0.4.1.dev0) (2.4.1)\n",
            "Requirement already satisfied: pillow!=8.3.0 in /usr/local/lib/python3.7/dist-packages (from pytorch-lightning>=1.3.1->lightning-flash==0.4.1.dev0) (7.1.2)\n",
            "Requirement already satisfied: fsspec[http]!=2021.06.0,>=2021.05.0 in /usr/local/lib/python3.7/dist-packages (from pytorch-lightning>=1.3.1->lightning-flash==0.4.1.dev0) (2021.6.1)\n",
            "Requirement already satisfied: typing-extensions in /usr/local/lib/python3.7/dist-packages (from torch>=1.8->lightning-flash==0.4.1.dev0) (3.7.4.3)\n",
            "Requirement already satisfied: python-dateutil>=2.7.3 in /usr/local/lib/python3.7/dist-packages (from pandas<1.3.0->lightning-flash==0.4.1.dev0) (2.8.1)\n",
            "Requirement already satisfied: pytz>=2017.2 in /usr/local/lib/python3.7/dist-packages (from pandas<1.3.0->lightning-flash==0.4.1.dev0) (2018.9)\n",
            "Requirement already satisfied: pyparsing>=2.0.2 in /usr/local/lib/python3.7/dist-packages (from packaging->lightning-flash==0.4.1.dev0) (2.4.7)\n",
            "Requirement already satisfied: protobuf>=3.6.0 in /usr/local/lib/python3.7/dist-packages (from tensorboard!=2.5.0,>=2.2.0->pytorch-lightning>=1.3.1->lightning-flash==0.4.1.dev0) (3.12.4)\n",
            "Requirement already satisfied: werkzeug>=0.11.15 in /usr/local/lib/python3.7/dist-packages (from tensorboard!=2.5.0,>=2.2.0->pytorch-lightning>=1.3.1->lightning-flash==0.4.1.dev0) (1.0.1)\n",
            "Requirement already satisfied: tensorboard-plugin-wit>=1.6.0 in /usr/local/lib/python3.7/dist-packages (from tensorboard!=2.5.0,>=2.2.0->pytorch-lightning>=1.3.1->lightning-flash==0.4.1.dev0) (1.8.0)\n",
            "Requirement already satisfied: requests<3,>=2.21.0 in /usr/local/lib/python3.7/dist-packages (from tensorboard!=2.5.0,>=2.2.0->pytorch-lightning>=1.3.1->lightning-flash==0.4.1.dev0) (2.23.0)\n",
            "Requirement already satisfied: grpcio>=1.24.3 in /usr/local/lib/python3.7/dist-packages (from tensorboard!=2.5.0,>=2.2.0->pytorch-lightning>=1.3.1->lightning-flash==0.4.1.dev0) (1.34.1)\n",
            "Requirement already satisfied: markdown>=2.6.8 in /usr/local/lib/python3.7/dist-packages (from tensorboard!=2.5.0,>=2.2.0->pytorch-lightning>=1.3.1->lightning-flash==0.4.1.dev0) (3.3.4)\n",
            "Requirement already satisfied: google-auth<2,>=1.6.3 in /usr/local/lib/python3.7/dist-packages (from tensorboard!=2.5.0,>=2.2.0->pytorch-lightning>=1.3.1->lightning-flash==0.4.1.dev0) (1.31.0)\n",
            "Requirement already satisfied: google-auth-oauthlib<0.5,>=0.4.1 in /usr/local/lib/python3.7/dist-packages (from tensorboard!=2.5.0,>=2.2.0->pytorch-lightning>=1.3.1->lightning-flash==0.4.1.dev0) (0.4.4)\n",
            "Requirement already satisfied: absl-py>=0.4 in /usr/local/lib/python3.7/dist-packages (from tensorboard!=2.5.0,>=2.2.0->pytorch-lightning>=1.3.1->lightning-flash==0.4.1.dev0) (0.12.0)\n",
            "Requirement already satisfied: setuptools>=41.0.0 in /usr/local/lib/python3.7/dist-packages (from tensorboard!=2.5.0,>=2.2.0->pytorch-lightning>=1.3.1->lightning-flash==0.4.1.dev0) (57.0.0)\n",
            "Requirement already satisfied: wheel>=0.26; python_version >= \"3\" in /usr/local/lib/python3.7/dist-packages (from tensorboard!=2.5.0,>=2.2.0->pytorch-lightning>=1.3.1->lightning-flash==0.4.1.dev0) (0.36.2)\n",
            "Requirement already satisfied: six>=1.10.0 in /usr/local/lib/python3.7/dist-packages (from tensorboard!=2.5.0,>=2.2.0->pytorch-lightning>=1.3.1->lightning-flash==0.4.1.dev0) (1.15.0)\n",
            "Requirement already satisfied: aiohttp; extra == \"http\" in /usr/local/lib/python3.7/dist-packages (from fsspec[http]!=2021.06.0,>=2021.05.0->pytorch-lightning>=1.3.1->lightning-flash==0.4.1.dev0) (3.7.4.post0)\n",
            "Requirement already satisfied: certifi>=2017.4.17 in /usr/local/lib/python3.7/dist-packages (from requests<3,>=2.21.0->tensorboard!=2.5.0,>=2.2.0->pytorch-lightning>=1.3.1->lightning-flash==0.4.1.dev0) (2021.5.30)\n",
            "Requirement already satisfied: urllib3!=1.25.0,!=1.25.1,<1.26,>=1.21.1 in /usr/local/lib/python3.7/dist-packages (from requests<3,>=2.21.0->tensorboard!=2.5.0,>=2.2.0->pytorch-lightning>=1.3.1->lightning-flash==0.4.1.dev0) (1.24.3)\n",
            "Requirement already satisfied: chardet<4,>=3.0.2 in /usr/local/lib/python3.7/dist-packages (from requests<3,>=2.21.0->tensorboard!=2.5.0,>=2.2.0->pytorch-lightning>=1.3.1->lightning-flash==0.4.1.dev0) (3.0.4)\n",
            "Requirement already satisfied: idna<3,>=2.5 in /usr/local/lib/python3.7/dist-packages (from requests<3,>=2.21.0->tensorboard!=2.5.0,>=2.2.0->pytorch-lightning>=1.3.1->lightning-flash==0.4.1.dev0) (2.10)\n",
            "Requirement already satisfied: importlib-metadata; python_version < \"3.8\" in /usr/local/lib/python3.7/dist-packages (from markdown>=2.6.8->tensorboard!=2.5.0,>=2.2.0->pytorch-lightning>=1.3.1->lightning-flash==0.4.1.dev0) (4.5.0)\n",
            "Requirement already satisfied: cachetools<5.0,>=2.0.0 in /usr/local/lib/python3.7/dist-packages (from google-auth<2,>=1.6.3->tensorboard!=2.5.0,>=2.2.0->pytorch-lightning>=1.3.1->lightning-flash==0.4.1.dev0) (4.2.2)\n",
            "Requirement already satisfied: rsa<5,>=3.1.4; python_version >= \"3.6\" in /usr/local/lib/python3.7/dist-packages (from google-auth<2,>=1.6.3->tensorboard!=2.5.0,>=2.2.0->pytorch-lightning>=1.3.1->lightning-flash==0.4.1.dev0) (4.7.2)\n",
            "Requirement already satisfied: pyasn1-modules>=0.2.1 in /usr/local/lib/python3.7/dist-packages (from google-auth<2,>=1.6.3->tensorboard!=2.5.0,>=2.2.0->pytorch-lightning>=1.3.1->lightning-flash==0.4.1.dev0) (0.2.8)\n",
            "Requirement already satisfied: requests-oauthlib>=0.7.0 in /usr/local/lib/python3.7/dist-packages (from google-auth-oauthlib<0.5,>=0.4.1->tensorboard!=2.5.0,>=2.2.0->pytorch-lightning>=1.3.1->lightning-flash==0.4.1.dev0) (1.3.0)\n",
            "Requirement already satisfied: multidict<7.0,>=4.5 in /usr/local/lib/python3.7/dist-packages (from aiohttp; extra == \"http\"->fsspec[http]!=2021.06.0,>=2021.05.0->pytorch-lightning>=1.3.1->lightning-flash==0.4.1.dev0) (5.1.0)\n",
            "Requirement already satisfied: async-timeout<4.0,>=3.0 in /usr/local/lib/python3.7/dist-packages (from aiohttp; extra == \"http\"->fsspec[http]!=2021.06.0,>=2021.05.0->pytorch-lightning>=1.3.1->lightning-flash==0.4.1.dev0) (3.0.1)\n",
            "Requirement already satisfied: attrs>=17.3.0 in /usr/local/lib/python3.7/dist-packages (from aiohttp; extra == \"http\"->fsspec[http]!=2021.06.0,>=2021.05.0->pytorch-lightning>=1.3.1->lightning-flash==0.4.1.dev0) (21.2.0)\n",
            "Requirement already satisfied: yarl<2.0,>=1.0 in /usr/local/lib/python3.7/dist-packages (from aiohttp; extra == \"http\"->fsspec[http]!=2021.06.0,>=2021.05.0->pytorch-lightning>=1.3.1->lightning-flash==0.4.1.dev0) (1.6.3)\n",
            "Requirement already satisfied: zipp>=0.5 in /usr/local/lib/python3.7/dist-packages (from importlib-metadata; python_version < \"3.8\"->markdown>=2.6.8->tensorboard!=2.5.0,>=2.2.0->pytorch-lightning>=1.3.1->lightning-flash==0.4.1.dev0) (3.4.1)\n",
            "Requirement already satisfied: pyasn1>=0.1.3 in /usr/local/lib/python3.7/dist-packages (from rsa<5,>=3.1.4; python_version >= \"3.6\"->google-auth<2,>=1.6.3->tensorboard!=2.5.0,>=2.2.0->pytorch-lightning>=1.3.1->lightning-flash==0.4.1.dev0) (0.4.8)\n",
            "Requirement already satisfied: oauthlib>=3.0.0 in /usr/local/lib/python3.7/dist-packages (from requests-oauthlib>=0.7.0->google-auth-oauthlib<0.5,>=0.4.1->tensorboard!=2.5.0,>=2.2.0->pytorch-lightning>=1.3.1->lightning-flash==0.4.1.dev0) (3.1.1)\n",
            "Building wheels for collected packages: lightning-flash\n",
            "  Building wheel for lightning-flash (PEP 517) ... \u001b[?25l\u001b[?25hdone\n",
            "  Created wheel for lightning-flash: filename=lightning_flash-0.4.1.dev0-cp37-none-any.whl size=227900 sha256=38f33ebee4183054f360d0b04fd9ccfaa7c6c9f01e065cf9754d226dd13fe620\n",
            "  Stored in directory: /tmp/pip-ephem-wheel-cache-_2j308vq/wheels/91/2d/5d/a5c188ff0462566709ba09d64e4f051cfa6cf2714ebefa1c77\n",
            "Successfully built lightning-flash\n",
            "Installing collected packages: lightning-flash\n",
            "Successfully installed lightning-flash-0.4.1.dev0\n"
          ],
          "name": "stdout"
        }
      ]
    },
    {
      "cell_type": "code",
      "metadata": {
        "colab": {
          "base_uri": "https://localhost:8080/",
          "height": 1000
        },
        "id": "qHqTixSRSoVL",
        "outputId": "7f27fda7-f857-45ef-ef4e-8160714ed0d4"
      },
      "source": [
        "! pip install lightning-flash[image]"
      ],
      "execution_count": 37,
      "outputs": [
        {
          "output_type": "stream",
          "text": [
            "Collecting lightning-flash[image]\n",
            "\u001b[?25l  Downloading https://files.pythonhosted.org/packages/29/86/cef409827f6936591094a3e0b5bbe11129c55030c80d3aae77ac28860ee6/lightning_flash-0.4.0-py3-none-any.whl (224kB)\n",
            "\r\u001b[K     |█▌                              | 10kB 24.2MB/s eta 0:00:01\r\u001b[K     |███                             | 20kB 17.0MB/s eta 0:00:01\r\u001b[K     |████▍                           | 30kB 14.9MB/s eta 0:00:01\r\u001b[K     |█████▉                          | 40kB 13.9MB/s eta 0:00:01\r\u001b[K     |███████▎                        | 51kB 7.9MB/s eta 0:00:01\r\u001b[K     |████████▊                       | 61kB 9.3MB/s eta 0:00:01\r\u001b[K     |██████████▏                     | 71kB 8.8MB/s eta 0:00:01\r\u001b[K     |███████████▊                    | 81kB 9.8MB/s eta 0:00:01\r\u001b[K     |█████████████▏                  | 92kB 9.4MB/s eta 0:00:01\r\u001b[K     |██████████████▋                 | 102kB 7.8MB/s eta 0:00:01\r\u001b[K     |████████████████                | 112kB 7.8MB/s eta 0:00:01\r\u001b[K     |█████████████████▌              | 122kB 7.8MB/s eta 0:00:01\r\u001b[K     |███████████████████             | 133kB 7.8MB/s eta 0:00:01\r\u001b[K     |████████████████████▍           | 143kB 7.8MB/s eta 0:00:01\r\u001b[K     |██████████████████████          | 153kB 7.8MB/s eta 0:00:01\r\u001b[K     |███████████████████████▍        | 163kB 7.8MB/s eta 0:00:01\r\u001b[K     |████████████████████████▉       | 174kB 7.8MB/s eta 0:00:01\r\u001b[K     |██████████████████████████▎     | 184kB 7.8MB/s eta 0:00:01\r\u001b[K     |███████████████████████████▊    | 194kB 7.8MB/s eta 0:00:01\r\u001b[K     |█████████████████████████████▏  | 204kB 7.8MB/s eta 0:00:01\r\u001b[K     |██████████████████████████████▋ | 215kB 7.8MB/s eta 0:00:01\r\u001b[K     |████████████████████████████████| 225kB 7.8MB/s \n",
            "\u001b[?25hRequirement already satisfied: pyDeprecate in /usr/local/lib/python3.7/dist-packages (from lightning-flash[image]) (0.3.0)\n",
            "Requirement already satisfied: torch>=1.7 in /usr/local/lib/python3.7/dist-packages (from lightning-flash[image]) (1.9.0+cu102)\n",
            "Requirement already satisfied: PyYAML>=5.1 in /usr/local/lib/python3.7/dist-packages (from lightning-flash[image]) (5.4.1)\n",
            "Requirement already satisfied: pandas<1.3.0 in /usr/local/lib/python3.7/dist-packages (from lightning-flash[image]) (1.1.5)\n",
            "Requirement already satisfied: pytorch-lightning>=1.3.1 in /usr/local/lib/python3.7/dist-packages (from lightning-flash[image]) (1.3.8)\n",
            "Requirement already satisfied: numpy in /usr/local/lib/python3.7/dist-packages (from lightning-flash[image]) (1.19.5)\n",
            "Requirement already satisfied: tqdm in /usr/local/lib/python3.7/dist-packages (from lightning-flash[image]) (4.41.1)\n",
            "Requirement already satisfied: torchmetrics in /usr/local/lib/python3.7/dist-packages (from lightning-flash[image]) (0.4.1)\n",
            "Requirement already satisfied: packaging in /usr/local/lib/python3.7/dist-packages (from lightning-flash[image]) (20.9)\n",
            "Collecting pystiche>=0.7.2; extra == \"image\"\n",
            "\u001b[?25l  Downloading https://files.pythonhosted.org/packages/77/98/0bd7b13b8ecba9b3328363e20faf61091fe567e5c9e3b529fbebc386f97e/pystiche-0.7.2.post0-py3-none-any.whl (84kB)\n",
            "\u001b[K     |████████████████████████████████| 92kB 10.8MB/s \n",
            "\u001b[?25hRequirement already satisfied: torchvision; extra == \"image\" in /usr/local/lib/python3.7/dist-packages (from lightning-flash[image]) (0.10.0+cu102)\n",
            "Requirement already satisfied: matplotlib; extra == \"image\" in /usr/local/lib/python3.7/dist-packages (from lightning-flash[image]) (3.2.2)\n",
            "Requirement already satisfied: pycocotools>=2.0.2; python_version >= \"3.7\" and extra == \"image\" in /usr/local/lib/python3.7/dist-packages (from lightning-flash[image]) (2.0.2)\n",
            "Collecting Pillow>=7.2; extra == \"image\"\n",
            "\u001b[?25l  Downloading https://files.pythonhosted.org/packages/8e/7a/b047f6f80fdb02c0cca1d3761d71e9800bcf6d4874b71c9e6548ec59e156/Pillow-8.3.1-cp37-cp37m-manylinux_2_5_x86_64.manylinux1_x86_64.whl (3.0MB)\n",
            "\u001b[K     |████████████████████████████████| 3.0MB 50.0MB/s \n",
            "\u001b[?25hCollecting kornia<0.5.4,>=0.5.1; extra == \"image\"\n",
            "\u001b[?25l  Downloading https://files.pythonhosted.org/packages/a3/e3/8177458a0666891353772f9a5280fdad880a058c3be094b167275f6b36b9/kornia-0.5.3-py2.py3-none-any.whl (281kB)\n",
            "\u001b[K     |████████████████████████████████| 286kB 50.5MB/s \n",
            "\u001b[?25hCollecting timm>=0.4.5; extra == \"image\"\n",
            "\u001b[?25l  Downloading https://files.pythonhosted.org/packages/90/fc/606bc5cf46acac3aa9bd179b3954433c026aaf88ea98d6b19f5d14c336da/timm-0.4.12-py3-none-any.whl (376kB)\n",
            "\u001b[K     |████████████████████████████████| 378kB 56.2MB/s \n",
            "\u001b[?25hCollecting lightning-bolts>=0.3.3; extra == \"image\"\n",
            "\u001b[?25l  Downloading https://files.pythonhosted.org/packages/35/10/6c9a9895e3dce5b93b9aa93cd425e73effccd1dd86988b51cbd89aab6fd7/lightning_bolts-0.3.4-py3-none-any.whl (253kB)\n",
            "\u001b[K     |████████████████████████████████| 256kB 42.0MB/s \n",
            "\u001b[?25hCollecting fiftyone; extra == \"image\"\n",
            "\u001b[?25l  Downloading https://files.pythonhosted.org/packages/39/4c/72058c0961a609c716339f261170c25e5a8ca8f94dcc400a3f1a0aeb3ecc/fiftyone-0.11.1-py3-none-any.whl (2.4MB)\n",
            "\u001b[K     |████████████████████████████████| 2.4MB 51.1MB/s \n",
            "\u001b[?25hRequirement already satisfied: typing-extensions in /usr/local/lib/python3.7/dist-packages (from torch>=1.7->lightning-flash[image]) (3.7.4.3)\n",
            "Requirement already satisfied: pytz>=2017.2 in /usr/local/lib/python3.7/dist-packages (from pandas<1.3.0->lightning-flash[image]) (2018.9)\n",
            "Requirement already satisfied: python-dateutil>=2.7.3 in /usr/local/lib/python3.7/dist-packages (from pandas<1.3.0->lightning-flash[image]) (2.8.1)\n",
            "Requirement already satisfied: fsspec[http]!=2021.06.0,>=2021.05.0 in /usr/local/lib/python3.7/dist-packages (from pytorch-lightning>=1.3.1->lightning-flash[image]) (2021.6.1)\n",
            "Requirement already satisfied: tensorboard!=2.5.0,>=2.2.0 in /usr/local/lib/python3.7/dist-packages (from pytorch-lightning>=1.3.1->lightning-flash[image]) (2.4.1)\n",
            "Requirement already satisfied: future>=0.17.1 in /usr/local/lib/python3.7/dist-packages (from pytorch-lightning>=1.3.1->lightning-flash[image]) (0.18.2)\n",
            "Requirement already satisfied: pyparsing>=2.0.2 in /usr/local/lib/python3.7/dist-packages (from packaging->lightning-flash[image]) (2.4.7)\n",
            "Requirement already satisfied: cycler>=0.10 in /usr/local/lib/python3.7/dist-packages (from matplotlib; extra == \"image\"->lightning-flash[image]) (0.10.0)\n",
            "Requirement already satisfied: kiwisolver>=1.0.1 in /usr/local/lib/python3.7/dist-packages (from matplotlib; extra == \"image\"->lightning-flash[image]) (1.3.1)\n",
            "Requirement already satisfied: cython>=0.27.3 in /usr/local/lib/python3.7/dist-packages (from pycocotools>=2.0.2; python_version >= \"3.7\" and extra == \"image\"->lightning-flash[image]) (0.29.23)\n",
            "Requirement already satisfied: setuptools>=18.0 in /usr/local/lib/python3.7/dist-packages (from pycocotools>=2.0.2; python_version >= \"3.7\" and extra == \"image\"->lightning-flash[image]) (57.0.0)\n",
            "Collecting mongoengine==0.20.0\n",
            "\u001b[?25l  Downloading https://files.pythonhosted.org/packages/7d/bd/9a7239b0032157f948c69febdf71dd82cb54fcd2499077300496a3f076c9/mongoengine-0.20.0-py3-none-any.whl (106kB)\n",
            "\u001b[K     |████████████████████████████████| 112kB 61.2MB/s \n",
            "\u001b[?25hCollecting Deprecated\n",
            "  Downloading https://files.pythonhosted.org/packages/fb/73/994edfcba74443146c84b91921fcc269374354118d4f452fb0c54c1cbb12/Deprecated-1.2.12-py2.py3-none-any.whl\n",
            "Collecting xmltodict\n",
            "  Downloading https://files.pythonhosted.org/packages/28/fd/30d5c1d3ac29ce229f6bdc40bbc20b28f716e8b363140c26eff19122d8a5/xmltodict-0.12.0-py2.py3-none-any.whl\n",
            "Collecting argcomplete\n",
            "  Downloading https://files.pythonhosted.org/packages/b7/9e/9dc74d330c07866d72f62d553fe8bdbe32786ff247a14e68b5659963e6bd/argcomplete-1.12.3-py2.py3-none-any.whl\n",
            "Requirement already satisfied: Jinja2 in /usr/local/lib/python3.7/dist-packages (from fiftyone; extra == \"image\"->lightning-flash[image]) (2.11.3)\n",
            "Collecting kaleido\n",
            "\u001b[?25l  Downloading https://files.pythonhosted.org/packages/ae/b3/a0f0f4faac229b0011d8c4a7ee6da7c2dca0b6fd08039c95920846f23ca4/kaleido-0.2.1-py2.py3-none-manylinux1_x86_64.whl (79.9MB)\n",
            "\u001b[K     |████████████████████████████████| 79.9MB 64kB/s \n",
            "\u001b[?25hRequirement already satisfied: retrying in /usr/local/lib/python3.7/dist-packages (from fiftyone; extra == \"image\"->lightning-flash[image]) (1.3.3)\n",
            "Requirement already satisfied: tornado<7,>=5.1.1 in /usr/local/lib/python3.7/dist-packages (from fiftyone; extra == \"image\"->lightning-flash[image]) (5.1.1)\n",
            "Collecting fiftyone-brain<0.7,>=0.6\n",
            "\u001b[?25l  Downloading https://files.pythonhosted.org/packages/89/49/fb926f40c823f29d725e9160d51a4034c97325162a246332c358e728f16e/fiftyone_brain-0.6.1-cp37-cp37m-manylinux1_x86_64.whl (569kB)\n",
            "\u001b[K     |████████████████████████████████| 573kB 44.9MB/s \n",
            "\u001b[?25hRequirement already satisfied: scikit-learn in /usr/local/lib/python3.7/dist-packages (from fiftyone; extra == \"image\"->lightning-flash[image]) (0.22.2.post1)\n",
            "Collecting fiftyone-db<0.3,>=0.2.1\n",
            "\u001b[?25l  Downloading https://files.pythonhosted.org/packages/e2/9b/4d45888a95d73ae713087c7fe0e4abfd675a43dd1dbe3e7f6d6dd52fcfd8/fiftyone_db-0.2.1-py3-none-manylinux1_x86_64.whl (29.2MB)\n",
            "\u001b[K     |████████████████████████████████| 29.3MB 180kB/s \n",
            "\u001b[?25hCollecting opencv-python-headless<=4.4.0.46\n",
            "\u001b[?25l  Downloading https://files.pythonhosted.org/packages/9e/bb/9f7f7ca35b8dd9ce6387c2a1e32e754088bc06a8f56fcd4ef74ba3ba910c/opencv_python_headless-4.4.0.46-cp37-cp37m-manylinux2014_x86_64.whl (36.7MB)\n",
            "\u001b[K     |████████████████████████████████| 36.7MB 145kB/s \n",
            "\u001b[?25hRequirement already satisfied: psutil in /usr/local/lib/python3.7/dist-packages (from fiftyone; extra == \"image\"->lightning-flash[image]) (5.4.8)\n",
            "Requirement already satisfied: scikit-image in /usr/local/lib/python3.7/dist-packages (from fiftyone; extra == \"image\"->lightning-flash[image]) (0.16.2)\n",
            "Collecting boto3\n",
            "\u001b[?25l  Downloading https://files.pythonhosted.org/packages/d2/20/e579b5d7b72162461236133b837eae51d4fab290f3286e020b3be544447f/boto3-1.17.106-py2.py3-none-any.whl (131kB)\n",
            "\u001b[K     |████████████████████████████████| 133kB 56.8MB/s \n",
            "\u001b[?25hCollecting universal-analytics-python3<2,>=1.0.1\n",
            "  Downloading https://files.pythonhosted.org/packages/7b/03/14c1e481b6f4d4208b30847dd788da5b5de4abcafbf95dc98d8c07a5c95f/universal_analytics_python3-1.1.1-py3-none-any.whl\n",
            "Requirement already satisfied: tabulate in /usr/local/lib/python3.7/dist-packages (from fiftyone; extra == \"image\"->lightning-flash[image]) (0.8.9)\n",
            "Requirement already satisfied: pymongo<4,>=3.11 in /usr/local/lib/python3.7/dist-packages (from fiftyone; extra == \"image\"->lightning-flash[image]) (3.11.4)\n",
            "Collecting plotly>=4.14\n",
            "\u001b[?25l  Downloading https://files.pythonhosted.org/packages/95/8d/ac1560f7ccc2ace85cd1e9619bbec1975b5d2d92e6c6fdbbdaa994c6ab4d/plotly-5.1.0-py2.py3-none-any.whl (20.6MB)\n",
            "\u001b[K     |████████████████████████████████| 20.6MB 1.2MB/s \n",
            "\u001b[?25hCollecting voxel51-eta<0.6,>=0.5.1\n",
            "\u001b[?25l  Downloading https://files.pythonhosted.org/packages/2d/e6/dfcc7ed8bf793ae703583c5f5ed99537e0774622f9df9053feb4fdafaad4/voxel51_eta-0.5.1-py2.py3-none-any.whl (557kB)\n",
            "\u001b[K     |████████████████████████████████| 563kB 41.5MB/s \n",
            "\u001b[?25hCollecting pprintpp\n",
            "  Downloading https://files.pythonhosted.org/packages/4e/d1/e4ed95fdd3ef13b78630280d9e9e240aeb65cc7c544ec57106149c3942fb/pprintpp-0.4.0-py2.py3-none-any.whl\n",
            "Collecting eventlet\n",
            "\u001b[?25l  Downloading https://files.pythonhosted.org/packages/2f/75/c9c27956f0fb9c40b18bc686227e6df64a40484b78cc7f62fee9a7203ecf/eventlet-0.31.0-py2.py3-none-any.whl (224kB)\n",
            "\u001b[K     |████████████████████████████████| 225kB 59.7MB/s \n",
            "\u001b[?25hCollecting motor<3,>=2.3\n",
            "\u001b[?25l  Downloading https://files.pythonhosted.org/packages/b1/ab/d0ea0bf9f4c1b3936236fae99db9a19a95fd1bd79e67a1ff8d926898ecfe/motor-2.4.0-py3-none-any.whl (54kB)\n",
            "\u001b[K     |████████████████████████████████| 61kB 10.8MB/s \n",
            "\u001b[?25hRequirement already satisfied: six>=1.5 in /usr/local/lib/python3.7/dist-packages (from python-dateutil>=2.7.3->pandas<1.3.0->lightning-flash[image]) (1.15.0)\n",
            "Requirement already satisfied: requests; extra == \"http\" in /usr/local/lib/python3.7/dist-packages (from fsspec[http]!=2021.06.0,>=2021.05.0->pytorch-lightning>=1.3.1->lightning-flash[image]) (2.23.0)\n",
            "Requirement already satisfied: aiohttp; extra == \"http\" in /usr/local/lib/python3.7/dist-packages (from fsspec[http]!=2021.06.0,>=2021.05.0->pytorch-lightning>=1.3.1->lightning-flash[image]) (3.7.4.post0)\n",
            "Requirement already satisfied: protobuf>=3.6.0 in /usr/local/lib/python3.7/dist-packages (from tensorboard!=2.5.0,>=2.2.0->pytorch-lightning>=1.3.1->lightning-flash[image]) (3.12.4)\n",
            "Requirement already satisfied: wheel>=0.26; python_version >= \"3\" in /usr/local/lib/python3.7/dist-packages (from tensorboard!=2.5.0,>=2.2.0->pytorch-lightning>=1.3.1->lightning-flash[image]) (0.36.2)\n",
            "Requirement already satisfied: markdown>=2.6.8 in /usr/local/lib/python3.7/dist-packages (from tensorboard!=2.5.0,>=2.2.0->pytorch-lightning>=1.3.1->lightning-flash[image]) (3.3.4)\n",
            "Requirement already satisfied: tensorboard-plugin-wit>=1.6.0 in /usr/local/lib/python3.7/dist-packages (from tensorboard!=2.5.0,>=2.2.0->pytorch-lightning>=1.3.1->lightning-flash[image]) (1.8.0)\n",
            "Requirement already satisfied: grpcio>=1.24.3 in /usr/local/lib/python3.7/dist-packages (from tensorboard!=2.5.0,>=2.2.0->pytorch-lightning>=1.3.1->lightning-flash[image]) (1.34.1)\n",
            "Requirement already satisfied: werkzeug>=0.11.15 in /usr/local/lib/python3.7/dist-packages (from tensorboard!=2.5.0,>=2.2.0->pytorch-lightning>=1.3.1->lightning-flash[image]) (1.0.1)\n",
            "Requirement already satisfied: google-auth<2,>=1.6.3 in /usr/local/lib/python3.7/dist-packages (from tensorboard!=2.5.0,>=2.2.0->pytorch-lightning>=1.3.1->lightning-flash[image]) (1.31.0)\n",
            "Requirement already satisfied: absl-py>=0.4 in /usr/local/lib/python3.7/dist-packages (from tensorboard!=2.5.0,>=2.2.0->pytorch-lightning>=1.3.1->lightning-flash[image]) (0.12.0)\n",
            "Requirement already satisfied: google-auth-oauthlib<0.5,>=0.4.1 in /usr/local/lib/python3.7/dist-packages (from tensorboard!=2.5.0,>=2.2.0->pytorch-lightning>=1.3.1->lightning-flash[image]) (0.4.4)\n",
            "Requirement already satisfied: wrapt<2,>=1.10 in /usr/local/lib/python3.7/dist-packages (from Deprecated->fiftyone; extra == \"image\"->lightning-flash[image]) (1.12.1)\n",
            "Requirement already satisfied: importlib-metadata<5,>=0.23; python_version == \"3.7\" in /usr/local/lib/python3.7/dist-packages (from argcomplete->fiftyone; extra == \"image\"->lightning-flash[image]) (4.5.0)\n",
            "Requirement already satisfied: MarkupSafe>=0.23 in /usr/local/lib/python3.7/dist-packages (from Jinja2->fiftyone; extra == \"image\"->lightning-flash[image]) (2.0.1)\n",
            "Requirement already satisfied: scipy>=1.2.0 in /usr/local/lib/python3.7/dist-packages (from fiftyone-brain<0.7,>=0.6->fiftyone; extra == \"image\"->lightning-flash[image]) (1.4.1)\n",
            "Requirement already satisfied: joblib>=0.11 in /usr/local/lib/python3.7/dist-packages (from scikit-learn->fiftyone; extra == \"image\"->lightning-flash[image]) (1.0.1)\n",
            "Requirement already satisfied: PyWavelets>=0.4.0 in /usr/local/lib/python3.7/dist-packages (from scikit-image->fiftyone; extra == \"image\"->lightning-flash[image]) (1.1.1)\n",
            "Requirement already satisfied: networkx>=2.0 in /usr/local/lib/python3.7/dist-packages (from scikit-image->fiftyone; extra == \"image\"->lightning-flash[image]) (2.5.1)\n",
            "Requirement already satisfied: imageio>=2.3.0 in /usr/local/lib/python3.7/dist-packages (from scikit-image->fiftyone; extra == \"image\"->lightning-flash[image]) (2.4.1)\n",
            "Collecting jmespath<1.0.0,>=0.7.1\n",
            "  Downloading https://files.pythonhosted.org/packages/07/cb/5f001272b6faeb23c1c9e0acc04d48eaaf5c862c17709d20e3469c6e0139/jmespath-0.10.0-py2.py3-none-any.whl\n",
            "Collecting botocore<1.21.0,>=1.20.106\n",
            "\u001b[?25l  Downloading https://files.pythonhosted.org/packages/9a/14/3e13e2db6a8f2690d53d202baa1390d0c0141c9577d5c7fca751fea40c5e/botocore-1.20.106-py2.py3-none-any.whl (7.7MB)\n",
            "\u001b[K     |████████████████████████████████| 7.7MB 32.6MB/s \n",
            "\u001b[?25hCollecting s3transfer<0.5.0,>=0.4.0\n",
            "\u001b[?25l  Downloading https://files.pythonhosted.org/packages/63/d0/693477c688348654ddc21dcdce0817653a294aa43f41771084c25e7ff9c7/s3transfer-0.4.2-py2.py3-none-any.whl (79kB)\n",
            "\u001b[K     |████████████████████████████████| 81kB 12.0MB/s \n",
            "\u001b[?25hCollecting httpx>=0.10.0\n",
            "\u001b[?25l  Downloading https://files.pythonhosted.org/packages/5a/dc/fea40314b49f041fb9e957977f73bc7a9e07e67b8e3cb06eacede32576ec/httpx-0.18.2-py3-none-any.whl (76kB)\n",
            "\u001b[K     |████████████████████████████████| 81kB 12.6MB/s \n",
            "\u001b[?25hCollecting tenacity>=6.2.0\n",
            "  Downloading https://files.pythonhosted.org/packages/41/ee/d6eddff86161c6a3a1753af4a66b06cbc508d3b77ca4698cd0374cd66531/tenacity-7.0.0-py2.py3-none-any.whl\n",
            "Requirement already satisfied: dill in /usr/local/lib/python3.7/dist-packages (from voxel51-eta<0.6,>=0.5.1->fiftyone; extra == \"image\"->lightning-flash[image]) (0.3.4)\n",
            "Requirement already satisfied: sortedcontainers in /usr/local/lib/python3.7/dist-packages (from voxel51-eta<0.6,>=0.5.1->fiftyone; extra == \"image\"->lightning-flash[image]) (2.4.0)\n",
            "Collecting patool\n",
            "\u001b[?25l  Downloading https://files.pythonhosted.org/packages/43/94/52243ddff508780dd2d8110964320ab4851134a55ab102285b46e740f76a/patool-1.12-py2.py3-none-any.whl (77kB)\n",
            "\u001b[K     |████████████████████████████████| 81kB 12.9MB/s \n",
            "\u001b[?25hRequirement already satisfied: glob2 in /usr/local/lib/python3.7/dist-packages (from voxel51-eta<0.6,>=0.5.1->fiftyone; extra == \"image\"->lightning-flash[image]) (0.7)\n",
            "Collecting ndjson\n",
            "  Downloading https://files.pythonhosted.org/packages/70/c9/04ba0056011ba96a58163ebfd666d8385300bd12da1afe661a5a147758d7/ndjson-0.3.1-py2.py3-none-any.whl\n",
            "Requirement already satisfied: tzlocal in /usr/local/lib/python3.7/dist-packages (from voxel51-eta<0.6,>=0.5.1->fiftyone; extra == \"image\"->lightning-flash[image]) (1.5.1)\n",
            "Requirement already satisfied: greenlet>=0.3 in /usr/local/lib/python3.7/dist-packages (from eventlet->fiftyone; extra == \"image\"->lightning-flash[image]) (1.1.0)\n",
            "Collecting dnspython<2.0.0,>=1.15.0\n",
            "\u001b[?25l  Downloading https://files.pythonhosted.org/packages/ec/d3/3aa0e7213ef72b8585747aa0e271a9523e713813b9a20177ebe1e939deb0/dnspython-1.16.0-py2.py3-none-any.whl (188kB)\n",
            "\u001b[K     |████████████████████████████████| 194kB 57.1MB/s \n",
            "\u001b[?25hRequirement already satisfied: certifi>=2017.4.17 in /usr/local/lib/python3.7/dist-packages (from requests; extra == \"http\"->fsspec[http]!=2021.06.0,>=2021.05.0->pytorch-lightning>=1.3.1->lightning-flash[image]) (2021.5.30)\n",
            "Requirement already satisfied: urllib3!=1.25.0,!=1.25.1,<1.26,>=1.21.1 in /usr/local/lib/python3.7/dist-packages (from requests; extra == \"http\"->fsspec[http]!=2021.06.0,>=2021.05.0->pytorch-lightning>=1.3.1->lightning-flash[image]) (1.24.3)\n",
            "Requirement already satisfied: chardet<4,>=3.0.2 in /usr/local/lib/python3.7/dist-packages (from requests; extra == \"http\"->fsspec[http]!=2021.06.0,>=2021.05.0->pytorch-lightning>=1.3.1->lightning-flash[image]) (3.0.4)\n",
            "Requirement already satisfied: idna<3,>=2.5 in /usr/local/lib/python3.7/dist-packages (from requests; extra == \"http\"->fsspec[http]!=2021.06.0,>=2021.05.0->pytorch-lightning>=1.3.1->lightning-flash[image]) (2.10)\n",
            "Requirement already satisfied: async-timeout<4.0,>=3.0 in /usr/local/lib/python3.7/dist-packages (from aiohttp; extra == \"http\"->fsspec[http]!=2021.06.0,>=2021.05.0->pytorch-lightning>=1.3.1->lightning-flash[image]) (3.0.1)\n",
            "Requirement already satisfied: attrs>=17.3.0 in /usr/local/lib/python3.7/dist-packages (from aiohttp; extra == \"http\"->fsspec[http]!=2021.06.0,>=2021.05.0->pytorch-lightning>=1.3.1->lightning-flash[image]) (21.2.0)\n",
            "Requirement already satisfied: yarl<2.0,>=1.0 in /usr/local/lib/python3.7/dist-packages (from aiohttp; extra == \"http\"->fsspec[http]!=2021.06.0,>=2021.05.0->pytorch-lightning>=1.3.1->lightning-flash[image]) (1.6.3)\n",
            "Requirement already satisfied: multidict<7.0,>=4.5 in /usr/local/lib/python3.7/dist-packages (from aiohttp; extra == \"http\"->fsspec[http]!=2021.06.0,>=2021.05.0->pytorch-lightning>=1.3.1->lightning-flash[image]) (5.1.0)\n",
            "Requirement already satisfied: pyasn1-modules>=0.2.1 in /usr/local/lib/python3.7/dist-packages (from google-auth<2,>=1.6.3->tensorboard!=2.5.0,>=2.2.0->pytorch-lightning>=1.3.1->lightning-flash[image]) (0.2.8)\n",
            "Requirement already satisfied: rsa<5,>=3.1.4; python_version >= \"3.6\" in /usr/local/lib/python3.7/dist-packages (from google-auth<2,>=1.6.3->tensorboard!=2.5.0,>=2.2.0->pytorch-lightning>=1.3.1->lightning-flash[image]) (4.7.2)\n",
            "Requirement already satisfied: cachetools<5.0,>=2.0.0 in /usr/local/lib/python3.7/dist-packages (from google-auth<2,>=1.6.3->tensorboard!=2.5.0,>=2.2.0->pytorch-lightning>=1.3.1->lightning-flash[image]) (4.2.2)\n",
            "Requirement already satisfied: requests-oauthlib>=0.7.0 in /usr/local/lib/python3.7/dist-packages (from google-auth-oauthlib<0.5,>=0.4.1->tensorboard!=2.5.0,>=2.2.0->pytorch-lightning>=1.3.1->lightning-flash[image]) (1.3.0)\n",
            "Requirement already satisfied: zipp>=0.5 in /usr/local/lib/python3.7/dist-packages (from importlib-metadata<5,>=0.23; python_version == \"3.7\"->argcomplete->fiftyone; extra == \"image\"->lightning-flash[image]) (3.4.1)\n",
            "Requirement already satisfied: decorator<5,>=4.3 in /usr/local/lib/python3.7/dist-packages (from networkx>=2.0->scikit-image->fiftyone; extra == \"image\"->lightning-flash[image]) (4.4.2)\n",
            "Collecting sniffio\n",
            "  Downloading https://files.pythonhosted.org/packages/52/b0/7b2e028b63d092804b6794595871f936aafa5e9322dcaaad50ebf67445b3/sniffio-1.2.0-py3-none-any.whl\n",
            "Collecting rfc3986[idna2008]<2,>=1.3\n",
            "  Downloading https://files.pythonhosted.org/packages/c4/e5/63ca2c4edf4e00657584608bee1001302bbf8c5f569340b78304f2f446cb/rfc3986-1.5.0-py2.py3-none-any.whl\n",
            "Collecting httpcore<0.14.0,>=0.13.3\n",
            "\u001b[?25l  Downloading https://files.pythonhosted.org/packages/b4/94/8c136dbfac58456395dab9eb71e156cd14e0449f013f6c9c007e3ef4a160/httpcore-0.13.6-py3-none-any.whl (58kB)\n",
            "\u001b[K     |████████████████████████████████| 61kB 10.5MB/s \n",
            "\u001b[?25hRequirement already satisfied: pyasn1<0.5.0,>=0.4.6 in /usr/local/lib/python3.7/dist-packages (from pyasn1-modules>=0.2.1->google-auth<2,>=1.6.3->tensorboard!=2.5.0,>=2.2.0->pytorch-lightning>=1.3.1->lightning-flash[image]) (0.4.8)\n",
            "Requirement already satisfied: oauthlib>=3.0.0 in /usr/local/lib/python3.7/dist-packages (from requests-oauthlib>=0.7.0->google-auth-oauthlib<0.5,>=0.4.1->tensorboard!=2.5.0,>=2.2.0->pytorch-lightning>=1.3.1->lightning-flash[image]) (3.1.1)\n",
            "Collecting h11<0.13,>=0.11\n",
            "\u001b[?25l  Downloading https://files.pythonhosted.org/packages/60/0f/7a0eeea938eaf61074f29fed9717f2010e8d0e0905d36b38d3275a1e4622/h11-0.12.0-py3-none-any.whl (54kB)\n",
            "\u001b[K     |████████████████████████████████| 61kB 10.5MB/s \n",
            "\u001b[?25hCollecting anyio==3.*\n",
            "\u001b[?25l  Downloading https://files.pythonhosted.org/packages/5a/8c/6712b0aebe9b250736ec5dde99883b143290b49ecc2310eb583577e316aa/anyio-3.2.1-py3-none-any.whl (75kB)\n",
            "\u001b[K     |████████████████████████████████| 81kB 12.7MB/s \n",
            "\u001b[31mERROR: albumentations 0.1.12 has requirement imgaug<0.2.7,>=0.2.5, but you'll have imgaug 0.2.9 which is incompatible.\u001b[0m\n",
            "\u001b[31mERROR: botocore 1.20.106 has requirement urllib3<1.27,>=1.25.4, but you'll have urllib3 1.24.3 which is incompatible.\u001b[0m\n",
            "\u001b[?25hInstalling collected packages: Pillow, pystiche, kornia, timm, lightning-bolts, mongoengine, Deprecated, xmltodict, argcomplete, kaleido, fiftyone-brain, fiftyone-db, opencv-python-headless, jmespath, botocore, s3transfer, boto3, sniffio, rfc3986, h11, anyio, httpcore, httpx, universal-analytics-python3, tenacity, plotly, patool, ndjson, voxel51-eta, pprintpp, dnspython, eventlet, motor, fiftyone, lightning-flash\n",
            "  Found existing installation: Pillow 7.1.2\n",
            "    Uninstalling Pillow-7.1.2:\n",
            "      Successfully uninstalled Pillow-7.1.2\n",
            "  Found existing installation: plotly 4.4.1\n",
            "    Uninstalling plotly-4.4.1:\n",
            "      Successfully uninstalled plotly-4.4.1\n",
            "Successfully installed Deprecated-1.2.12 Pillow-8.3.1 anyio-3.2.1 argcomplete-1.12.3 boto3-1.17.106 botocore-1.20.106 dnspython-1.16.0 eventlet-0.31.0 fiftyone-0.11.1 fiftyone-brain-0.6.1 fiftyone-db-0.2.1 h11-0.12.0 httpcore-0.13.6 httpx-0.18.2 jmespath-0.10.0 kaleido-0.2.1 kornia-0.5.3 lightning-bolts-0.3.4 lightning-flash-0.4.0 mongoengine-0.20.0 motor-2.4.0 ndjson-0.3.1 opencv-python-headless-4.4.0.46 patool-1.12 plotly-5.1.0 pprintpp-0.4.0 pystiche-0.7.2.post0 rfc3986-1.5.0 s3transfer-0.4.2 sniffio-1.2.0 tenacity-7.0.0 timm-0.4.12 universal-analytics-python3-1.1.1 voxel51-eta-0.5.1 xmltodict-0.12.0\n"
          ],
          "name": "stdout"
        },
        {
          "output_type": "display_data",
          "data": {
            "application/vnd.colab-display-data+json": {
              "pip_warning": {
                "packages": [
                  "PIL",
                  "cv2"
                ]
              }
            }
          },
          "metadata": {
            "tags": []
          }
        }
      ]
    },
    {
      "cell_type": "code",
      "metadata": {
        "colab": {
          "base_uri": "https://localhost:8080/",
          "height": 35
        },
        "id": "usOkBMFCvRij",
        "outputId": "ca0591ae-e896-48d2-bbd9-bb925bcb3db9"
      },
      "source": [
        "import torch\n",
        "torch.__version__"
      ],
      "execution_count": 38,
      "outputs": [
        {
          "output_type": "execute_result",
          "data": {
            "application/vnd.google.colaboratory.intrinsic+json": {
              "type": "string"
            },
            "text/plain": [
              "'1.9.0+cu102'"
            ]
          },
          "metadata": {
            "tags": []
          },
          "execution_count": 38
        }
      ]
    },
    {
      "cell_type": "code",
      "metadata": {
        "colab": {
          "base_uri": "https://localhost:8080/"
        },
        "id": "ojRAotvDwYu3",
        "outputId": "da2036ce-83b5-4c3b-d1cf-fadd6c659f7a"
      },
      "source": [
        "!sudo pip install pillow==8.2.0"
      ],
      "execution_count": 39,
      "outputs": [
        {
          "output_type": "stream",
          "text": [
            "Collecting pillow==8.2.0\n",
            "\u001b[?25l  Downloading https://files.pythonhosted.org/packages/33/34/542152297dcc6c47a9dcb0685eac6d652d878ed3cea83bf2b23cb988e857/Pillow-8.2.0-cp37-cp37m-manylinux1_x86_64.whl (3.0MB)\n",
            "\u001b[K     |████████████████████████████████| 3.0MB 8.8MB/s \n",
            "\u001b[31mERROR: albumentations 0.1.12 has requirement imgaug<0.2.7,>=0.2.5, but you'll have imgaug 0.2.9 which is incompatible.\u001b[0m\n",
            "\u001b[?25hInstalling collected packages: pillow\n",
            "  Found existing installation: Pillow 8.3.1\n",
            "    Uninstalling Pillow-8.3.1:\n",
            "      Successfully uninstalled Pillow-8.3.1\n",
            "Successfully installed pillow-8.2.0\n"
          ],
          "name": "stdout"
        }
      ]
    },
    {
      "cell_type": "code",
      "metadata": {
        "id": "ClVJuzhA3Q_f",
        "colab": {
          "base_uri": "https://localhost:8080/"
        },
        "outputId": "5e93d70b-c249-4685-84e5-0bfef9c82551"
      },
      "source": [
        "!pip install pillow==8.2.0"
      ],
      "execution_count": null,
      "outputs": [
        {
          "output_type": "stream",
          "text": [
            "Requirement already satisfied: pillow==8.2.0 in /usr/local/lib/python3.7/dist-packages (8.2.0)\n"
          ],
          "name": "stdout"
        }
      ]
    },
    {
      "cell_type": "code",
      "metadata": {
        "id": "WVbpv9ZM3Uj2",
        "colab": {
          "base_uri": "https://localhost:8080/",
          "height": 35
        },
        "outputId": "085865f1-56d2-4eb3-bd7f-905cb99e3ecc"
      },
      "source": [
        "import PIL\n",
        "PIL.__version__"
      ],
      "execution_count": 1,
      "outputs": [
        {
          "output_type": "execute_result",
          "data": {
            "application/vnd.google.colaboratory.intrinsic+json": {
              "type": "string"
            },
            "text/plain": [
              "'8.2.0'"
            ]
          },
          "metadata": {
            "tags": []
          },
          "execution_count": 1
        }
      ]
    },
    {
      "cell_type": "code",
      "metadata": {
        "colab": {
          "base_uri": "https://localhost:8080/"
        },
        "id": "ju6Aj8quOyg3",
        "outputId": "969b848c-babf-4ac1-80dd-e3b4b1ec8ab5"
      },
      "source": [
        "import flash\n",
        "print(flash.__version__)"
      ],
      "execution_count": 2,
      "outputs": [
        {
          "output_type": "stream",
          "text": [
            "/usr/local/lib/python3.7/dist-packages/distributed/config.py:20: YAMLLoadWarning: calling yaml.load() without Loader=... is deprecated, as the default Loader is unsafe. Please read https://msg.pyyaml.org/load for full details.\n",
            "  defaults = yaml.load(f)\n"
          ],
          "name": "stderr"
        },
        {
          "output_type": "stream",
          "text": [
            "0.4.0\n"
          ],
          "name": "stdout"
        }
      ]
    },
    {
      "cell_type": "code",
      "metadata": {
        "colab": {
          "base_uri": "https://localhost:8080/"
        },
        "id": "7RSR5I1b-49M",
        "outputId": "428aef3b-0d4c-4c36-de3b-4022204c1e48"
      },
      "source": [
        "import flash\n",
        "from flash.core.data.utils import download_data\n",
        "from flash.image import ImageClassificationData, ImageClassifier\n",
        "print(flash.__version__)#0.2.1\n",
        "#\n",
        "import torch\n",
        "from torch import nn, optim\n",
        "import torch.nn.functional as F\n",
        "from torch.utils.data import DataLoader, random_split\n",
        "from torchvision import transforms, datasets\n",
        "import pytorch_lightning as pl\n",
        "from pytorch_lightning.callbacks import ModelCheckpoint,EarlyStopping\n",
        "\n",
        "print(pl.__version__)#\n",
        "#print(pillow.__version__)\n",
        "#\n",
        "import seaborn as sns\n",
        "import matplotlib.pyplot as plt\n",
        "%matplotlib inline"
      ],
      "execution_count": 3,
      "outputs": [
        {
          "output_type": "stream",
          "text": [
            "0.4.0\n",
            "1.3.8\n"
          ],
          "name": "stdout"
        }
      ]
    },
    {
      "cell_type": "code",
      "metadata": {
        "id": "FE3KDFQtUG4N"
      },
      "source": [
        "%%capture\n",
        "! pip install git+https://github.com/PyTorchLightning/lightning-flash.git"
      ],
      "execution_count": null,
      "outputs": []
    },
    {
      "cell_type": "code",
      "metadata": {
        "id": "RsGqmpwzUNGr"
      },
      "source": [
        "import flash\n",
        "from flash.core.data.utils import download_data\n",
        "from flash.image import ImageClassificationData, ImageClassifier\n",
        "from  torchmetrics import Accuracy,F1,FBeta\n",
        "from flash.core.finetuning import FreezeUnfreeze\n",
        "import flash\n",
        "from flash import Trainer\n",
        "from flash.core.classification import Labels"
      ],
      "execution_count": 4,
      "outputs": []
    },
    {
      "cell_type": "code",
      "metadata": {
        "colab": {
          "base_uri": "https://localhost:8080/"
        },
        "id": "Z8bwlGGaTx4V",
        "outputId": "cf760d7c-c0d6-47be-be3d-5394721c2a8a"
      },
      "source": [
        "import flash\n",
        "from flash.image import ImageClassificationData, ImageClassifier\n",
        "from flash.core.finetuning import FlashBaseFinetuning\n",
        "print(flash.__version__)#0.2.1\n",
        "#\n",
        "import torch\n",
        "from torch import nn, optim\n",
        "from torch.utils.data import DataLoader, random_split\n",
        "from torchvision import transforms, datasets,models\n",
        "import pytorch_lightning as pl\n",
        "print(pl.__version__)#1.2.0rc0"
      ],
      "execution_count": null,
      "outputs": [
        {
          "output_type": "stream",
          "text": [
            "0.4.0\n",
            "1.3.8\n"
          ],
          "name": "stdout"
        }
      ]
    },
    {
      "cell_type": "markdown",
      "metadata": {
        "id": "ijoC5qGnacow"
      },
      "source": [
        "## Applying Cross Validation Technique"
      ]
    },
    {
      "cell_type": "code",
      "metadata": {
        "id": "dV8wFTXAhm3p",
        "outputId": "51f50e59-9d50-4459-daf7-7dbb0e836c74",
        "colab": {
          "base_uri": "https://localhost:8080/",
          "height": 462,
          "referenced_widgets": [
            "3db84da7f69b4598b6bc7f4b2b6ba670",
            "07337fa475814cacb94f0fc60d45f15c",
            "8a15767515a1481eaf5199384415ba27",
            "19389661a41c431893a298aa4f8ff444",
            "e18271bfbffe4e8e9f88abc93d25bae4",
            "14c3c5c9d0c943f780b3ab317afd4b53",
            "048de3cfe08f40afa150a89928577bec",
            "9bf5dcd411774ef18529a1017a89387f",
            "3e262155049b4d59972da557b55ea0d2",
            "09ac6a606d29445eb5464ea11a9e7f4f",
            "ddfcaab3388a4f15af49b6b9ccb72549",
            "6f25555bf9e847a89c334576e9695591",
            "808d68db81e94f07b65725dcbbcf4285",
            "9c8d41a273f646a58cac25aeb872c061",
            "b9bfac4b7fe5403e8b9ab45cb9a399dd",
            "69da787f12774d66a4dbfcdecd371e42",
            "ae4c02ac72b94216876ca464e2f62657",
            "a052942b46974b74997b089d65e48261",
            "6804b036dc6e4bae98428dea21c49695",
            "82a6d502cfe84d61859a2220f065a1ee",
            "30d5c414476648688837b48f0633fcdf",
            "d4a6455b53d34820a8f881311a0d5358",
            "1f7d1d01581c4fccaa1e7bf265bf36e3",
            "79e2a0c4e243474b82c99f8fde5395f6"
          ]
        }
      },
      "source": [
        "import tqdm\n",
        "root = \"/content/drive/MyDrive/dphi/Kvasir\"\n",
        "folders = ['KFold0','KFold1','KFold2','KFold3','KFold4']\n",
        "val_folder = \"/content/drive/MyDrive/dphi/Kvasir/The Kvasir-Capsule/VAL/\"\n",
        "all_preds = []\n",
        "for i in range(5):\n",
        "  trn_folder = os.path.join(root,folders[i])\n",
        "  datamodule = ImageClassificationData.from_folders(train_folder=trn_folder,\n",
        "                                                    val_folder = val_folder,\n",
        "                                                    predict_folder = None,\n",
        "                                                    image_size=(229, 229),)\n",
        "  print(f\"{folders[i]} number of classes {datamodule.num_classes}\")\n",
        "  model = ImageClassifier(backbone=\"densenet121\",\n",
        "                        num_classes=datamodule.num_classes,\n",
        "                        metrics=[FBeta(num_classes=14),Accuracy()]\n",
        "                        )\n",
        "  # 5. Create the trainer\n",
        "  trainer = flash.Trainer(gpus=1,progress_bar_refresh_rate = 20,max_epochs=1)\n",
        "  trainer.finetune(model, datamodule=datamodule, strategy=FreezeUnfreeze(unfreeze_epoch=1))\n",
        "  #model.serializer = Labels(labels, )\n",
        "  #\n",
        "  predictions = []\n",
        "  for pred_img in tqdm.tqdm(imgs):\n",
        "    predictions.append(model.predict(pred_img))\n",
        "  preds = [i[0] for i in predictions]\n",
        "  all_preds.append(preds)\n",
        "  \n"
      ],
      "execution_count": 59,
      "outputs": [
        {
          "output_type": "stream",
          "text": [
            "KFold0 number of classes 14\n"
          ],
          "name": "stdout"
        },
        {
          "output_type": "stream",
          "text": [
            "GPU available: True, used: True\n",
            "TPU available: False, using: 0 TPU cores\n",
            "LOCAL_RANK: 0 - CUDA_VISIBLE_DEVICES: [0]\n",
            "\n",
            "  | Name     | Type       | Params\n",
            "----------------------------------------\n",
            "0 | metrics  | ModuleDict | 0     \n",
            "1 | backbone | Sequential | 7.0 M \n",
            "2 | head     | Sequential | 14.3 K\n",
            "----------------------------------------\n",
            "98.0 K    Trainable params\n",
            "6.9 M     Non-trainable params\n",
            "7.0 M     Total params\n",
            "27.873    Total estimated model params size (MB)\n"
          ],
          "name": "stderr"
        },
        {
          "output_type": "display_data",
          "data": {
            "application/vnd.jupyter.widget-view+json": {
              "model_id": "3db84da7f69b4598b6bc7f4b2b6ba670",
              "version_major": 2,
              "version_minor": 0
            },
            "text/plain": [
              "HBox(children=(FloatProgress(value=1.0, bar_style='info', description='Validation sanity check', layout=Layout…"
            ]
          },
          "metadata": {
            "tags": []
          }
        },
        {
          "output_type": "stream",
          "text": [
            "\r"
          ],
          "name": "stdout"
        },
        {
          "output_type": "display_data",
          "data": {
            "application/vnd.jupyter.widget-view+json": {
              "model_id": "3e262155049b4d59972da557b55ea0d2",
              "version_major": 2,
              "version_minor": 0
            },
            "text/plain": [
              "HBox(children=(FloatProgress(value=1.0, bar_style='info', description='Training', layout=Layout(flex='2'), max…"
            ]
          },
          "metadata": {
            "tags": []
          }
        },
        {
          "output_type": "display_data",
          "data": {
            "application/vnd.jupyter.widget-view+json": {
              "model_id": "ae4c02ac72b94216876ca464e2f62657",
              "version_major": 2,
              "version_minor": 0
            },
            "text/plain": [
              "HBox(children=(FloatProgress(value=1.0, bar_style='info', description='Validating', layout=Layout(flex='2'), m…"
            ]
          },
          "metadata": {
            "tags": []
          }
        },
        {
          "output_type": "stream",
          "text": [
            "\n"
          ],
          "name": "stdout"
        },
        {
          "output_type": "stream",
          "text": [
            "100%|██████████| 9448/9448 [22:15<00:00,  7.07it/s]\n"
          ],
          "name": "stderr"
        }
      ]
    },
    {
      "cell_type": "code",
      "metadata": {
        "id": "a-ELkvHg-Nl4",
        "outputId": "f580eb05-c3a2-4607-caee-8d17c31655e4",
        "colab": {
          "base_uri": "https://localhost:8080/"
        }
      },
      "source": [
        "len(all_preds[0])"
      ],
      "execution_count": 60,
      "outputs": [
        {
          "output_type": "execute_result",
          "data": {
            "text/plain": [
              "9448"
            ]
          },
          "metadata": {
            "tags": []
          },
          "execution_count": 60
        }
      ]
    },
    {
      "cell_type": "code",
      "metadata": {
        "id": "phii7atbE8kf",
        "outputId": "4430f369-75a5-4213-d1c4-221f52b77a99",
        "colab": {
          "base_uri": "https://localhost:8080/",
          "height": 353
        }
      },
      "source": [
        "PIL.Image.open(test_data.iloc[500]['image_path'])"
      ],
      "execution_count": 50,
      "outputs": [
        {
          "output_type": "execute_result",
          "data": {
            "image/png": "[encoded data removed]",
            "text/plain": [
              "<PIL.JpegImagePlugin.JpegImageFile image mode=RGB size=336x336 at 0x7F3A29F92590>"
            ]
          },
          "metadata": {
            "tags": []
          },
          "execution_count": 50
        }
      ]
    },
    {
      "cell_type": "code",
      "metadata": {
        "id": "XyUEixlBCBQO",
        "outputId": "91762226-0a65-4dd1-f6f6-2eee8dcdd6d8",
        "colab": {
          "base_uri": "https://localhost:8080/",
          "height": 35
        }
      },
      "source": [
        "all_preds[0][500]"
      ],
      "execution_count": 61,
      "outputs": [
        {
          "output_type": "execute_result",
          "data": {
            "application/vnd.google.colaboratory.intrinsic+json": {
              "type": "string"
            },
            "text/plain": [
              "'Normal clean mucosa'"
            ]
          },
          "metadata": {
            "tags": []
          },
          "execution_count": 61
        }
      ]
    },
    {
      "cell_type": "code",
      "metadata": {
        "id": "TUb-BGq4-mFC"
      },
      "source": [
        "final = [i for i in all_preds[0]]"
      ],
      "execution_count": 62,
      "outputs": []
    },
    {
      "cell_type": "code",
      "metadata": {
        "id": "OV1UFLtT-E55",
        "outputId": "93383a2e-8856-4a8e-8cee-3d1c00072e7c",
        "colab": {
          "base_uri": "https://localhost:8080/",
          "height": 604
        }
      },
      "source": [
        "import seaborn as sns\n",
        "import matplotlib.pyplot as plt\n",
        "sns.set_style('darkgrid')\n",
        "plt.figure(figsize=(12,8))\n",
        "plt.xticks(rotation=90)\n",
        "sns.countplot(final)"
      ],
      "execution_count": 63,
      "outputs": [
        {
          "output_type": "execute_result",
          "data": {
            "text/plain": [
              "<matplotlib.axes._subplots.AxesSubplot at 0x7f3a29f8c490>"
            ]
          },
          "metadata": {
            "tags": []
          },
          "execution_count": 63
        },
        {
          "output_type": "display_data",
          "data": {
            "image/png": "[encoded data removed]",
            "text/plain": [
              "<Figure size 864x576 with 1 Axes>"
            ]
          },
          "metadata": {
            "tags": []
          }
        }
      ]
    },
    {
      "cell_type": "code",
      "metadata": {
        "id": "2hQkwkpGMsE9"
      },
      "source": [
        ""
      ],
      "execution_count": null,
      "outputs": []
    },
    {
      "cell_type": "code",
      "metadata": {
        "id": "mKC99SzeB79i"
      },
      "source": [
        "# 2. Load the data\n",
        "\n",
        "datamodule = ImageClassificationData.from_folders(\n",
        "    train_folder = \"/content/drive/MyDrive/dphi/Kvasir/The Kvasir-Capsule/TRAIN/\",\n",
        "    val_folder = \"/content/drive/MyDrive/dphi/Kvasir/The Kvasir-Capsule/VAL/\",\n",
        "    predict_folder = \"/content/drive/MyDrive/dphi/Kvasir/The Kvasir-Capsule/test/\"\n",
        ")\n",
        "    "
      ],
      "execution_count": null,
      "outputs": []
    },
    {
      "cell_type": "code",
      "metadata": {
        "colab": {
          "base_uri": "https://localhost:8080/"
        },
        "id": "XNV1huiRUZdm",
        "outputId": "be0a00a7-21fa-40f5-e081-38338f2a810d"
      },
      "source": [
        "datamodule.num_classes"
      ],
      "execution_count": null,
      "outputs": [
        {
          "output_type": "execute_result",
          "data": {
            "text/plain": [
              "14"
            ]
          },
          "metadata": {
            "tags": []
          },
          "execution_count": 7
        }
      ]
    },
    {
      "cell_type": "code",
      "metadata": {
        "colab": {
          "base_uri": "https://localhost:8080/",
          "height": 1000,
          "referenced_widgets": [
            "6a2fca2192f0464088803cc2cf2110ca",
            "79c46c2c5c9a4d4bba18b036a2c4d825",
            "52fabc87216341a585397ee644f9545d",
            "4579b30ad02749ec9763721484fe78ff",
            "cdb9b8c2f9e4404b82b3049810854201",
            "13277cf42a594ea288e62b240737c5b7",
            "1a8849a1245647e095a1ad09aaa4e478",
            "45a39705dd1d443fa9fd736aebdaf94d"
          ]
        },
        "id": "7zb_10hsV0Os",
        "outputId": "08db30e1-ec96-48de-92a2-49a39dfbbf5f"
      },
      "source": [
        "from torchvision.models import densenet121\n",
        "model = densenet121(pretrained=True)\n",
        "print(model)\n",
        "\n",
        "\n"
      ],
      "execution_count": null,
      "outputs": [
        {
          "output_type": "stream",
          "text": [
            "Downloading: \"https://download.pytorch.org/models/densenet121-a639ec97.pth\" to /root/.cache/torch/hub/checkpoints/densenet121-a639ec97.pth\n"
          ],
          "name": "stderr"
        },
        {
          "output_type": "display_data",
          "data": {
            "application/vnd.jupyter.widget-view+json": {
              "model_id": "6a2fca2192f0464088803cc2cf2110ca",
              "version_minor": 0,
              "version_major": 2
            },
            "text/plain": [
              "HBox(children=(FloatProgress(value=0.0, max=32342954.0), HTML(value='')))"
            ]
          },
          "metadata": {
            "tags": []
          }
        },
        {
          "output_type": "stream",
          "text": [
            "\n",
            "DenseNet(\n",
            "  (features): Sequential(\n",
            "    (conv0): Conv2d(3, 64, kernel_size=(7, 7), stride=(2, 2), padding=(3, 3), bias=False)\n",
            "    (norm0): BatchNorm2d(64, eps=1e-05, momentum=0.1, affine=True, track_running_stats=True)\n",
            "    (relu0): ReLU(inplace=True)\n",
            "    (pool0): MaxPool2d(kernel_size=3, stride=2, padding=1, dilation=1, ceil_mode=False)\n",
            "    (denseblock1): _DenseBlock(\n",
            "      (denselayer1): _DenseLayer(\n",
            "        (norm1): BatchNorm2d(64, eps=1e-05, momentum=0.1, affine=True, track_running_stats=True)\n",
            "        (relu1): ReLU(inplace=True)\n",
            "        (conv1): Conv2d(64, 128, kernel_size=(1, 1), stride=(1, 1), bias=False)\n",
            "        (norm2): BatchNorm2d(128, eps=1e-05, momentum=0.1, affine=True, track_running_stats=True)\n",
            "        (relu2): ReLU(inplace=True)\n",
            "        (conv2): Conv2d(128, 32, kernel_size=(3, 3), stride=(1, 1), padding=(1, 1), bias=False)\n",
            "      )\n",
            "      (denselayer2): _DenseLayer(\n",
            "        (norm1): BatchNorm2d(96, eps=1e-05, momentum=0.1, affine=True, track_running_stats=True)\n",
            "        (relu1): ReLU(inplace=True)\n",
            "        (conv1): Conv2d(96, 128, kernel_size=(1, 1), stride=(1, 1), bias=False)\n",
            "        (norm2): BatchNorm2d(128, eps=1e-05, momentum=0.1, affine=True, track_running_stats=True)\n",
            "        (relu2): ReLU(inplace=True)\n",
            "        (conv2): Conv2d(128, 32, kernel_size=(3, 3), stride=(1, 1), padding=(1, 1), bias=False)\n",
            "      )\n",
            "      (denselayer3): _DenseLayer(\n",
            "        (norm1): BatchNorm2d(128, eps=1e-05, momentum=0.1, affine=True, track_running_stats=True)\n",
            "        (relu1): ReLU(inplace=True)\n",
            "        (conv1): Conv2d(128, 128, kernel_size=(1, 1), stride=(1, 1), bias=False)\n",
            "        (norm2): BatchNorm2d(128, eps=1e-05, momentum=0.1, affine=True, track_running_stats=True)\n",
            "        (relu2): ReLU(inplace=True)\n",
            "        (conv2): Conv2d(128, 32, kernel_size=(3, 3), stride=(1, 1), padding=(1, 1), bias=False)\n",
            "      )\n",
            "      (denselayer4): _DenseLayer(\n",
            "        (norm1): BatchNorm2d(160, eps=1e-05, momentum=0.1, affine=True, track_running_stats=True)\n",
            "        (relu1): ReLU(inplace=True)\n",
            "        (conv1): Conv2d(160, 128, kernel_size=(1, 1), stride=(1, 1), bias=False)\n",
            "        (norm2): BatchNorm2d(128, eps=1e-05, momentum=0.1, affine=True, track_running_stats=True)\n",
            "        (relu2): ReLU(inplace=True)\n",
            "        (conv2): Conv2d(128, 32, kernel_size=(3, 3), stride=(1, 1), padding=(1, 1), bias=False)\n",
            "      )\n",
            "      (denselayer5): _DenseLayer(\n",
            "        (norm1): BatchNorm2d(192, eps=1e-05, momentum=0.1, affine=True, track_running_stats=True)\n",
            "        (relu1): ReLU(inplace=True)\n",
            "        (conv1): Conv2d(192, 128, kernel_size=(1, 1), stride=(1, 1), bias=False)\n",
            "        (norm2): BatchNorm2d(128, eps=1e-05, momentum=0.1, affine=True, track_running_stats=True)\n",
            "        (relu2): ReLU(inplace=True)\n",
            "        (conv2): Conv2d(128, 32, kernel_size=(3, 3), stride=(1, 1), padding=(1, 1), bias=False)\n",
            "      )\n",
            "      (denselayer6): _DenseLayer(\n",
            "        (norm1): BatchNorm2d(224, eps=1e-05, momentum=0.1, affine=True, track_running_stats=True)\n",
            "        (relu1): ReLU(inplace=True)\n",
            "        (conv1): Conv2d(224, 128, kernel_size=(1, 1), stride=(1, 1), bias=False)\n",
            "        (norm2): BatchNorm2d(128, eps=1e-05, momentum=0.1, affine=True, track_running_stats=True)\n",
            "        (relu2): ReLU(inplace=True)\n",
            "        (conv2): Conv2d(128, 32, kernel_size=(3, 3), stride=(1, 1), padding=(1, 1), bias=False)\n",
            "      )\n",
            "    )\n",
            "    (transition1): _Transition(\n",
            "      (norm): BatchNorm2d(256, eps=1e-05, momentum=0.1, affine=True, track_running_stats=True)\n",
            "      (relu): ReLU(inplace=True)\n",
            "      (conv): Conv2d(256, 128, kernel_size=(1, 1), stride=(1, 1), bias=False)\n",
            "      (pool): AvgPool2d(kernel_size=2, stride=2, padding=0)\n",
            "    )\n",
            "    (denseblock2): _DenseBlock(\n",
            "      (denselayer1): _DenseLayer(\n",
            "        (norm1): BatchNorm2d(128, eps=1e-05, momentum=0.1, affine=True, track_running_stats=True)\n",
            "        (relu1): ReLU(inplace=True)\n",
            "        (conv1): Conv2d(128, 128, kernel_size=(1, 1), stride=(1, 1), bias=False)\n",
            "        (norm2): BatchNorm2d(128, eps=1e-05, momentum=0.1, affine=True, track_running_stats=True)\n",
            "        (relu2): ReLU(inplace=True)\n",
            "        (conv2): Conv2d(128, 32, kernel_size=(3, 3), stride=(1, 1), padding=(1, 1), bias=False)\n",
            "      )\n",
            "      (denselayer2): _DenseLayer(\n",
            "        (norm1): BatchNorm2d(160, eps=1e-05, momentum=0.1, affine=True, track_running_stats=True)\n",
            "        (relu1): ReLU(inplace=True)\n",
            "        (conv1): Conv2d(160, 128, kernel_size=(1, 1), stride=(1, 1), bias=False)\n",
            "        (norm2): BatchNorm2d(128, eps=1e-05, momentum=0.1, affine=True, track_running_stats=True)\n",
            "        (relu2): ReLU(inplace=True)\n",
            "        (conv2): Conv2d(128, 32, kernel_size=(3, 3), stride=(1, 1), padding=(1, 1), bias=False)\n",
            "      )\n",
            "      (denselayer3): _DenseLayer(\n",
            "        (norm1): BatchNorm2d(192, eps=1e-05, momentum=0.1, affine=True, track_running_stats=True)\n",
            "        (relu1): ReLU(inplace=True)\n",
            "        (conv1): Conv2d(192, 128, kernel_size=(1, 1), stride=(1, 1), bias=False)\n",
            "        (norm2): BatchNorm2d(128, eps=1e-05, momentum=0.1, affine=True, track_running_stats=True)\n",
            "        (relu2): ReLU(inplace=True)\n",
            "        (conv2): Conv2d(128, 32, kernel_size=(3, 3), stride=(1, 1), padding=(1, 1), bias=False)\n",
            "      )\n",
            "      (denselayer4): _DenseLayer(\n",
            "        (norm1): BatchNorm2d(224, eps=1e-05, momentum=0.1, affine=True, track_running_stats=True)\n",
            "        (relu1): ReLU(inplace=True)\n",
            "        (conv1): Conv2d(224, 128, kernel_size=(1, 1), stride=(1, 1), bias=False)\n",
            "        (norm2): BatchNorm2d(128, eps=1e-05, momentum=0.1, affine=True, track_running_stats=True)\n",
            "        (relu2): ReLU(inplace=True)\n",
            "        (conv2): Conv2d(128, 32, kernel_size=(3, 3), stride=(1, 1), padding=(1, 1), bias=False)\n",
            "      )\n",
            "      (denselayer5): _DenseLayer(\n",
            "        (norm1): BatchNorm2d(256, eps=1e-05, momentum=0.1, affine=True, track_running_stats=True)\n",
            "        (relu1): ReLU(inplace=True)\n",
            "        (conv1): Conv2d(256, 128, kernel_size=(1, 1), stride=(1, 1), bias=False)\n",
            "        (norm2): BatchNorm2d(128, eps=1e-05, momentum=0.1, affine=True, track_running_stats=True)\n",
            "        (relu2): ReLU(inplace=True)\n",
            "        (conv2): Conv2d(128, 32, kernel_size=(3, 3), stride=(1, 1), padding=(1, 1), bias=False)\n",
            "      )\n",
            "      (denselayer6): _DenseLayer(\n",
            "        (norm1): BatchNorm2d(288, eps=1e-05, momentum=0.1, affine=True, track_running_stats=True)\n",
            "        (relu1): ReLU(inplace=True)\n",
            "        (conv1): Conv2d(288, 128, kernel_size=(1, 1), stride=(1, 1), bias=False)\n",
            "        (norm2): BatchNorm2d(128, eps=1e-05, momentum=0.1, affine=True, track_running_stats=True)\n",
            "        (relu2): ReLU(inplace=True)\n",
            "        (conv2): Conv2d(128, 32, kernel_size=(3, 3), stride=(1, 1), padding=(1, 1), bias=False)\n",
            "      )\n",
            "      (denselayer7): _DenseLayer(\n",
            "        (norm1): BatchNorm2d(320, eps=1e-05, momentum=0.1, affine=True, track_running_stats=True)\n",
            "        (relu1): ReLU(inplace=True)\n",
            "        (conv1): Conv2d(320, 128, kernel_size=(1, 1), stride=(1, 1), bias=False)\n",
            "        (norm2): BatchNorm2d(128, eps=1e-05, momentum=0.1, affine=True, track_running_stats=True)\n",
            "        (relu2): ReLU(inplace=True)\n",
            "        (conv2): Conv2d(128, 32, kernel_size=(3, 3), stride=(1, 1), padding=(1, 1), bias=False)\n",
            "      )\n",
            "      (denselayer8): _DenseLayer(\n",
            "        (norm1): BatchNorm2d(352, eps=1e-05, momentum=0.1, affine=True, track_running_stats=True)\n",
            "        (relu1): ReLU(inplace=True)\n",
            "        (conv1): Conv2d(352, 128, kernel_size=(1, 1), stride=(1, 1), bias=False)\n",
            "        (norm2): BatchNorm2d(128, eps=1e-05, momentum=0.1, affine=True, track_running_stats=True)\n",
            "        (relu2): ReLU(inplace=True)\n",
            "        (conv2): Conv2d(128, 32, kernel_size=(3, 3), stride=(1, 1), padding=(1, 1), bias=False)\n",
            "      )\n",
            "      (denselayer9): _DenseLayer(\n",
            "        (norm1): BatchNorm2d(384, eps=1e-05, momentum=0.1, affine=True, track_running_stats=True)\n",
            "        (relu1): ReLU(inplace=True)\n",
            "        (conv1): Conv2d(384, 128, kernel_size=(1, 1), stride=(1, 1), bias=False)\n",
            "        (norm2): BatchNorm2d(128, eps=1e-05, momentum=0.1, affine=True, track_running_stats=True)\n",
            "        (relu2): ReLU(inplace=True)\n",
            "        (conv2): Conv2d(128, 32, kernel_size=(3, 3), stride=(1, 1), padding=(1, 1), bias=False)\n",
            "      )\n",
            "      (denselayer10): _DenseLayer(\n",
            "        (norm1): BatchNorm2d(416, eps=1e-05, momentum=0.1, affine=True, track_running_stats=True)\n",
            "        (relu1): ReLU(inplace=True)\n",
            "        (conv1): Conv2d(416, 128, kernel_size=(1, 1), stride=(1, 1), bias=False)\n",
            "        (norm2): BatchNorm2d(128, eps=1e-05, momentum=0.1, affine=True, track_running_stats=True)\n",
            "        (relu2): ReLU(inplace=True)\n",
            "        (conv2): Conv2d(128, 32, kernel_size=(3, 3), stride=(1, 1), padding=(1, 1), bias=False)\n",
            "      )\n",
            "      (denselayer11): _DenseLayer(\n",
            "        (norm1): BatchNorm2d(448, eps=1e-05, momentum=0.1, affine=True, track_running_stats=True)\n",
            "        (relu1): ReLU(inplace=True)\n",
            "        (conv1): Conv2d(448, 128, kernel_size=(1, 1), stride=(1, 1), bias=False)\n",
            "        (norm2): BatchNorm2d(128, eps=1e-05, momentum=0.1, affine=True, track_running_stats=True)\n",
            "        (relu2): ReLU(inplace=True)\n",
            "        (conv2): Conv2d(128, 32, kernel_size=(3, 3), stride=(1, 1), padding=(1, 1), bias=False)\n",
            "      )\n",
            "      (denselayer12): _DenseLayer(\n",
            "        (norm1): BatchNorm2d(480, eps=1e-05, momentum=0.1, affine=True, track_running_stats=True)\n",
            "        (relu1): ReLU(inplace=True)\n",
            "        (conv1): Conv2d(480, 128, kernel_size=(1, 1), stride=(1, 1), bias=False)\n",
            "        (norm2): BatchNorm2d(128, eps=1e-05, momentum=0.1, affine=True, track_running_stats=True)\n",
            "        (relu2): ReLU(inplace=True)\n",
            "        (conv2): Conv2d(128, 32, kernel_size=(3, 3), stride=(1, 1), padding=(1, 1), bias=False)\n",
            "      )\n",
            "    )\n",
            "    (transition2): _Transition(\n",
            "      (norm): BatchNorm2d(512, eps=1e-05, momentum=0.1, affine=True, track_running_stats=True)\n",
            "      (relu): ReLU(inplace=True)\n",
            "      (conv): Conv2d(512, 256, kernel_size=(1, 1), stride=(1, 1), bias=False)\n",
            "      (pool): AvgPool2d(kernel_size=2, stride=2, padding=0)\n",
            "    )\n",
            "    (denseblock3): _DenseBlock(\n",
            "      (denselayer1): _DenseLayer(\n",
            "        (norm1): BatchNorm2d(256, eps=1e-05, momentum=0.1, affine=True, track_running_stats=True)\n",
            "        (relu1): ReLU(inplace=True)\n",
            "        (conv1): Conv2d(256, 128, kernel_size=(1, 1), stride=(1, 1), bias=False)\n",
            "        (norm2): BatchNorm2d(128, eps=1e-05, momentum=0.1, affine=True, track_running_stats=True)\n",
            "        (relu2): ReLU(inplace=True)\n",
            "        (conv2): Conv2d(128, 32, kernel_size=(3, 3), stride=(1, 1), padding=(1, 1), bias=False)\n",
            "      )\n",
            "      (denselayer2): _DenseLayer(\n",
            "        (norm1): BatchNorm2d(288, eps=1e-05, momentum=0.1, affine=True, track_running_stats=True)\n",
            "        (relu1): ReLU(inplace=True)\n",
            "        (conv1): Conv2d(288, 128, kernel_size=(1, 1), stride=(1, 1), bias=False)\n",
            "        (norm2): BatchNorm2d(128, eps=1e-05, momentum=0.1, affine=True, track_running_stats=True)\n",
            "        (relu2): ReLU(inplace=True)\n",
            "        (conv2): Conv2d(128, 32, kernel_size=(3, 3), stride=(1, 1), padding=(1, 1), bias=False)\n",
            "      )\n",
            "      (denselayer3): _DenseLayer(\n",
            "        (norm1): BatchNorm2d(320, eps=1e-05, momentum=0.1, affine=True, track_running_stats=True)\n",
            "        (relu1): ReLU(inplace=True)\n",
            "        (conv1): Conv2d(320, 128, kernel_size=(1, 1), stride=(1, 1), bias=False)\n",
            "        (norm2): BatchNorm2d(128, eps=1e-05, momentum=0.1, affine=True, track_running_stats=True)\n",
            "        (relu2): ReLU(inplace=True)\n",
            "        (conv2): Conv2d(128, 32, kernel_size=(3, 3), stride=(1, 1), padding=(1, 1), bias=False)\n",
            "      )\n",
            "      (denselayer4): _DenseLayer(\n",
            "        (norm1): BatchNorm2d(352, eps=1e-05, momentum=0.1, affine=True, track_running_stats=True)\n",
            "        (relu1): ReLU(inplace=True)\n",
            "        (conv1): Conv2d(352, 128, kernel_size=(1, 1), stride=(1, 1), bias=False)\n",
            "        (norm2): BatchNorm2d(128, eps=1e-05, momentum=0.1, affine=True, track_running_stats=True)\n",
            "        (relu2): ReLU(inplace=True)\n",
            "        (conv2): Conv2d(128, 32, kernel_size=(3, 3), stride=(1, 1), padding=(1, 1), bias=False)\n",
            "      )\n",
            "      (denselayer5): _DenseLayer(\n",
            "        (norm1): BatchNorm2d(384, eps=1e-05, momentum=0.1, affine=True, track_running_stats=True)\n",
            "        (relu1): ReLU(inplace=True)\n",
            "        (conv1): Conv2d(384, 128, kernel_size=(1, 1), stride=(1, 1), bias=False)\n",
            "        (norm2): BatchNorm2d(128, eps=1e-05, momentum=0.1, affine=True, track_running_stats=True)\n",
            "        (relu2): ReLU(inplace=True)\n",
            "        (conv2): Conv2d(128, 32, kernel_size=(3, 3), stride=(1, 1), padding=(1, 1), bias=False)\n",
            "      )\n",
            "      (denselayer6): _DenseLayer(\n",
            "        (norm1): BatchNorm2d(416, eps=1e-05, momentum=0.1, affine=True, track_running_stats=True)\n",
            "        (relu1): ReLU(inplace=True)\n",
            "        (conv1): Conv2d(416, 128, kernel_size=(1, 1), stride=(1, 1), bias=False)\n",
            "        (norm2): BatchNorm2d(128, eps=1e-05, momentum=0.1, affine=True, track_running_stats=True)\n",
            "        (relu2): ReLU(inplace=True)\n",
            "        (conv2): Conv2d(128, 32, kernel_size=(3, 3), stride=(1, 1), padding=(1, 1), bias=False)\n",
            "      )\n",
            "      (denselayer7): _DenseLayer(\n",
            "        (norm1): BatchNorm2d(448, eps=1e-05, momentum=0.1, affine=True, track_running_stats=True)\n",
            "        (relu1): ReLU(inplace=True)\n",
            "        (conv1): Conv2d(448, 128, kernel_size=(1, 1), stride=(1, 1), bias=False)\n",
            "        (norm2): BatchNorm2d(128, eps=1e-05, momentum=0.1, affine=True, track_running_stats=True)\n",
            "        (relu2): ReLU(inplace=True)\n",
            "        (conv2): Conv2d(128, 32, kernel_size=(3, 3), stride=(1, 1), padding=(1, 1), bias=False)\n",
            "      )\n",
            "      (denselayer8): _DenseLayer(\n",
            "        (norm1): BatchNorm2d(480, eps=1e-05, momentum=0.1, affine=True, track_running_stats=True)\n",
            "        (relu1): ReLU(inplace=True)\n",
            "        (conv1): Conv2d(480, 128, kernel_size=(1, 1), stride=(1, 1), bias=False)\n",
            "        (norm2): BatchNorm2d(128, eps=1e-05, momentum=0.1, affine=True, track_running_stats=True)\n",
            "        (relu2): ReLU(inplace=True)\n",
            "        (conv2): Conv2d(128, 32, kernel_size=(3, 3), stride=(1, 1), padding=(1, 1), bias=False)\n",
            "      )\n",
            "      (denselayer9): _DenseLayer(\n",
            "        (norm1): BatchNorm2d(512, eps=1e-05, momentum=0.1, affine=True, track_running_stats=True)\n",
            "        (relu1): ReLU(inplace=True)\n",
            "        (conv1): Conv2d(512, 128, kernel_size=(1, 1), stride=(1, 1), bias=False)\n",
            "        (norm2): BatchNorm2d(128, eps=1e-05, momentum=0.1, affine=True, track_running_stats=True)\n",
            "        (relu2): ReLU(inplace=True)\n",
            "        (conv2): Conv2d(128, 32, kernel_size=(3, 3), stride=(1, 1), padding=(1, 1), bias=False)\n",
            "      )\n",
            "      (denselayer10): _DenseLayer(\n",
            "        (norm1): BatchNorm2d(544, eps=1e-05, momentum=0.1, affine=True, track_running_stats=True)\n",
            "        (relu1): ReLU(inplace=True)\n",
            "        (conv1): Conv2d(544, 128, kernel_size=(1, 1), stride=(1, 1), bias=False)\n",
            "        (norm2): BatchNorm2d(128, eps=1e-05, momentum=0.1, affine=True, track_running_stats=True)\n",
            "        (relu2): ReLU(inplace=True)\n",
            "        (conv2): Conv2d(128, 32, kernel_size=(3, 3), stride=(1, 1), padding=(1, 1), bias=False)\n",
            "      )\n",
            "      (denselayer11): _DenseLayer(\n",
            "        (norm1): BatchNorm2d(576, eps=1e-05, momentum=0.1, affine=True, track_running_stats=True)\n",
            "        (relu1): ReLU(inplace=True)\n",
            "        (conv1): Conv2d(576, 128, kernel_size=(1, 1), stride=(1, 1), bias=False)\n",
            "        (norm2): BatchNorm2d(128, eps=1e-05, momentum=0.1, affine=True, track_running_stats=True)\n",
            "        (relu2): ReLU(inplace=True)\n",
            "        (conv2): Conv2d(128, 32, kernel_size=(3, 3), stride=(1, 1), padding=(1, 1), bias=False)\n",
            "      )\n",
            "      (denselayer12): _DenseLayer(\n",
            "        (norm1): BatchNorm2d(608, eps=1e-05, momentum=0.1, affine=True, track_running_stats=True)\n",
            "        (relu1): ReLU(inplace=True)\n",
            "        (conv1): Conv2d(608, 128, kernel_size=(1, 1), stride=(1, 1), bias=False)\n",
            "        (norm2): BatchNorm2d(128, eps=1e-05, momentum=0.1, affine=True, track_running_stats=True)\n",
            "        (relu2): ReLU(inplace=True)\n",
            "        (conv2): Conv2d(128, 32, kernel_size=(3, 3), stride=(1, 1), padding=(1, 1), bias=False)\n",
            "      )\n",
            "      (denselayer13): _DenseLayer(\n",
            "        (norm1): BatchNorm2d(640, eps=1e-05, momentum=0.1, affine=True, track_running_stats=True)\n",
            "        (relu1): ReLU(inplace=True)\n",
            "        (conv1): Conv2d(640, 128, kernel_size=(1, 1), stride=(1, 1), bias=False)\n",
            "        (norm2): BatchNorm2d(128, eps=1e-05, momentum=0.1, affine=True, track_running_stats=True)\n",
            "        (relu2): ReLU(inplace=True)\n",
            "        (conv2): Conv2d(128, 32, kernel_size=(3, 3), stride=(1, 1), padding=(1, 1), bias=False)\n",
            "      )\n",
            "      (denselayer14): _DenseLayer(\n",
            "        (norm1): BatchNorm2d(672, eps=1e-05, momentum=0.1, affine=True, track_running_stats=True)\n",
            "        (relu1): ReLU(inplace=True)\n",
            "        (conv1): Conv2d(672, 128, kernel_size=(1, 1), stride=(1, 1), bias=False)\n",
            "        (norm2): BatchNorm2d(128, eps=1e-05, momentum=0.1, affine=True, track_running_stats=True)\n",
            "        (relu2): ReLU(inplace=True)\n",
            "        (conv2): Conv2d(128, 32, kernel_size=(3, 3), stride=(1, 1), padding=(1, 1), bias=False)\n",
            "      )\n",
            "      (denselayer15): _DenseLayer(\n",
            "        (norm1): BatchNorm2d(704, eps=1e-05, momentum=0.1, affine=True, track_running_stats=True)\n",
            "        (relu1): ReLU(inplace=True)\n",
            "        (conv1): Conv2d(704, 128, kernel_size=(1, 1), stride=(1, 1), bias=False)\n",
            "        (norm2): BatchNorm2d(128, eps=1e-05, momentum=0.1, affine=True, track_running_stats=True)\n",
            "        (relu2): ReLU(inplace=True)\n",
            "        (conv2): Conv2d(128, 32, kernel_size=(3, 3), stride=(1, 1), padding=(1, 1), bias=False)\n",
            "      )\n",
            "      (denselayer16): _DenseLayer(\n",
            "        (norm1): BatchNorm2d(736, eps=1e-05, momentum=0.1, affine=True, track_running_stats=True)\n",
            "        (relu1): ReLU(inplace=True)\n",
            "        (conv1): Conv2d(736, 128, kernel_size=(1, 1), stride=(1, 1), bias=False)\n",
            "        (norm2): BatchNorm2d(128, eps=1e-05, momentum=0.1, affine=True, track_running_stats=True)\n",
            "        (relu2): ReLU(inplace=True)\n",
            "        (conv2): Conv2d(128, 32, kernel_size=(3, 3), stride=(1, 1), padding=(1, 1), bias=False)\n",
            "      )\n",
            "      (denselayer17): _DenseLayer(\n",
            "        (norm1): BatchNorm2d(768, eps=1e-05, momentum=0.1, affine=True, track_running_stats=True)\n",
            "        (relu1): ReLU(inplace=True)\n",
            "        (conv1): Conv2d(768, 128, kernel_size=(1, 1), stride=(1, 1), bias=False)\n",
            "        (norm2): BatchNorm2d(128, eps=1e-05, momentum=0.1, affine=True, track_running_stats=True)\n",
            "        (relu2): ReLU(inplace=True)\n",
            "        (conv2): Conv2d(128, 32, kernel_size=(3, 3), stride=(1, 1), padding=(1, 1), bias=False)\n",
            "      )\n",
            "      (denselayer18): _DenseLayer(\n",
            "        (norm1): BatchNorm2d(800, eps=1e-05, momentum=0.1, affine=True, track_running_stats=True)\n",
            "        (relu1): ReLU(inplace=True)\n",
            "        (conv1): Conv2d(800, 128, kernel_size=(1, 1), stride=(1, 1), bias=False)\n",
            "        (norm2): BatchNorm2d(128, eps=1e-05, momentum=0.1, affine=True, track_running_stats=True)\n",
            "        (relu2): ReLU(inplace=True)\n",
            "        (conv2): Conv2d(128, 32, kernel_size=(3, 3), stride=(1, 1), padding=(1, 1), bias=False)\n",
            "      )\n",
            "      (denselayer19): _DenseLayer(\n",
            "        (norm1): BatchNorm2d(832, eps=1e-05, momentum=0.1, affine=True, track_running_stats=True)\n",
            "        (relu1): ReLU(inplace=True)\n",
            "        (conv1): Conv2d(832, 128, kernel_size=(1, 1), stride=(1, 1), bias=False)\n",
            "        (norm2): BatchNorm2d(128, eps=1e-05, momentum=0.1, affine=True, track_running_stats=True)\n",
            "        (relu2): ReLU(inplace=True)\n",
            "        (conv2): Conv2d(128, 32, kernel_size=(3, 3), stride=(1, 1), padding=(1, 1), bias=False)\n",
            "      )\n",
            "      (denselayer20): _DenseLayer(\n",
            "        (norm1): BatchNorm2d(864, eps=1e-05, momentum=0.1, affine=True, track_running_stats=True)\n",
            "        (relu1): ReLU(inplace=True)\n",
            "        (conv1): Conv2d(864, 128, kernel_size=(1, 1), stride=(1, 1), bias=False)\n",
            "        (norm2): BatchNorm2d(128, eps=1e-05, momentum=0.1, affine=True, track_running_stats=True)\n",
            "        (relu2): ReLU(inplace=True)\n",
            "        (conv2): Conv2d(128, 32, kernel_size=(3, 3), stride=(1, 1), padding=(1, 1), bias=False)\n",
            "      )\n",
            "      (denselayer21): _DenseLayer(\n",
            "        (norm1): BatchNorm2d(896, eps=1e-05, momentum=0.1, affine=True, track_running_stats=True)\n",
            "        (relu1): ReLU(inplace=True)\n",
            "        (conv1): Conv2d(896, 128, kernel_size=(1, 1), stride=(1, 1), bias=False)\n",
            "        (norm2): BatchNorm2d(128, eps=1e-05, momentum=0.1, affine=True, track_running_stats=True)\n",
            "        (relu2): ReLU(inplace=True)\n",
            "        (conv2): Conv2d(128, 32, kernel_size=(3, 3), stride=(1, 1), padding=(1, 1), bias=False)\n",
            "      )\n",
            "      (denselayer22): _DenseLayer(\n",
            "        (norm1): BatchNorm2d(928, eps=1e-05, momentum=0.1, affine=True, track_running_stats=True)\n",
            "        (relu1): ReLU(inplace=True)\n",
            "        (conv1): Conv2d(928, 128, kernel_size=(1, 1), stride=(1, 1), bias=False)\n",
            "        (norm2): BatchNorm2d(128, eps=1e-05, momentum=0.1, affine=True, track_running_stats=True)\n",
            "        (relu2): ReLU(inplace=True)\n",
            "        (conv2): Conv2d(128, 32, kernel_size=(3, 3), stride=(1, 1), padding=(1, 1), bias=False)\n",
            "      )\n",
            "      (denselayer23): _DenseLayer(\n",
            "        (norm1): BatchNorm2d(960, eps=1e-05, momentum=0.1, affine=True, track_running_stats=True)\n",
            "        (relu1): ReLU(inplace=True)\n",
            "        (conv1): Conv2d(960, 128, kernel_size=(1, 1), stride=(1, 1), bias=False)\n",
            "        (norm2): BatchNorm2d(128, eps=1e-05, momentum=0.1, affine=True, track_running_stats=True)\n",
            "        (relu2): ReLU(inplace=True)\n",
            "        (conv2): Conv2d(128, 32, kernel_size=(3, 3), stride=(1, 1), padding=(1, 1), bias=False)\n",
            "      )\n",
            "      (denselayer24): _DenseLayer(\n",
            "        (norm1): BatchNorm2d(992, eps=1e-05, momentum=0.1, affine=True, track_running_stats=True)\n",
            "        (relu1): ReLU(inplace=True)\n",
            "        (conv1): Conv2d(992, 128, kernel_size=(1, 1), stride=(1, 1), bias=False)\n",
            "        (norm2): BatchNorm2d(128, eps=1e-05, momentum=0.1, affine=True, track_running_stats=True)\n",
            "        (relu2): ReLU(inplace=True)\n",
            "        (conv2): Conv2d(128, 32, kernel_size=(3, 3), stride=(1, 1), padding=(1, 1), bias=False)\n",
            "      )\n",
            "    )\n",
            "    (transition3): _Transition(\n",
            "      (norm): BatchNorm2d(1024, eps=1e-05, momentum=0.1, affine=True, track_running_stats=True)\n",
            "      (relu): ReLU(inplace=True)\n",
            "      (conv): Conv2d(1024, 512, kernel_size=(1, 1), stride=(1, 1), bias=False)\n",
            "      (pool): AvgPool2d(kernel_size=2, stride=2, padding=0)\n",
            "    )\n",
            "    (denseblock4): _DenseBlock(\n",
            "      (denselayer1): _DenseLayer(\n",
            "        (norm1): BatchNorm2d(512, eps=1e-05, momentum=0.1, affine=True, track_running_stats=True)\n",
            "        (relu1): ReLU(inplace=True)\n",
            "        (conv1): Conv2d(512, 128, kernel_size=(1, 1), stride=(1, 1), bias=False)\n",
            "        (norm2): BatchNorm2d(128, eps=1e-05, momentum=0.1, affine=True, track_running_stats=True)\n",
            "        (relu2): ReLU(inplace=True)\n",
            "        (conv2): Conv2d(128, 32, kernel_size=(3, 3), stride=(1, 1), padding=(1, 1), bias=False)\n",
            "      )\n",
            "      (denselayer2): _DenseLayer(\n",
            "        (norm1): BatchNorm2d(544, eps=1e-05, momentum=0.1, affine=True, track_running_stats=True)\n",
            "        (relu1): ReLU(inplace=True)\n",
            "        (conv1): Conv2d(544, 128, kernel_size=(1, 1), stride=(1, 1), bias=False)\n",
            "        (norm2): BatchNorm2d(128, eps=1e-05, momentum=0.1, affine=True, track_running_stats=True)\n",
            "        (relu2): ReLU(inplace=True)\n",
            "        (conv2): Conv2d(128, 32, kernel_size=(3, 3), stride=(1, 1), padding=(1, 1), bias=False)\n",
            "      )\n",
            "      (denselayer3): _DenseLayer(\n",
            "        (norm1): BatchNorm2d(576, eps=1e-05, momentum=0.1, affine=True, track_running_stats=True)\n",
            "        (relu1): ReLU(inplace=True)\n",
            "        (conv1): Conv2d(576, 128, kernel_size=(1, 1), stride=(1, 1), bias=False)\n",
            "        (norm2): BatchNorm2d(128, eps=1e-05, momentum=0.1, affine=True, track_running_stats=True)\n",
            "        (relu2): ReLU(inplace=True)\n",
            "        (conv2): Conv2d(128, 32, kernel_size=(3, 3), stride=(1, 1), padding=(1, 1), bias=False)\n",
            "      )\n",
            "      (denselayer4): _DenseLayer(\n",
            "        (norm1): BatchNorm2d(608, eps=1e-05, momentum=0.1, affine=True, track_running_stats=True)\n",
            "        (relu1): ReLU(inplace=True)\n",
            "        (conv1): Conv2d(608, 128, kernel_size=(1, 1), stride=(1, 1), bias=False)\n",
            "        (norm2): BatchNorm2d(128, eps=1e-05, momentum=0.1, affine=True, track_running_stats=True)\n",
            "        (relu2): ReLU(inplace=True)\n",
            "        (conv2): Conv2d(128, 32, kernel_size=(3, 3), stride=(1, 1), padding=(1, 1), bias=False)\n",
            "      )\n",
            "      (denselayer5): _DenseLayer(\n",
            "        (norm1): BatchNorm2d(640, eps=1e-05, momentum=0.1, affine=True, track_running_stats=True)\n",
            "        (relu1): ReLU(inplace=True)\n",
            "        (conv1): Conv2d(640, 128, kernel_size=(1, 1), stride=(1, 1), bias=False)\n",
            "        (norm2): BatchNorm2d(128, eps=1e-05, momentum=0.1, affine=True, track_running_stats=True)\n",
            "        (relu2): ReLU(inplace=True)\n",
            "        (conv2): Conv2d(128, 32, kernel_size=(3, 3), stride=(1, 1), padding=(1, 1), bias=False)\n",
            "      )\n",
            "      (denselayer6): _DenseLayer(\n",
            "        (norm1): BatchNorm2d(672, eps=1e-05, momentum=0.1, affine=True, track_running_stats=True)\n",
            "        (relu1): ReLU(inplace=True)\n",
            "        (conv1): Conv2d(672, 128, kernel_size=(1, 1), stride=(1, 1), bias=False)\n",
            "        (norm2): BatchNorm2d(128, eps=1e-05, momentum=0.1, affine=True, track_running_stats=True)\n",
            "        (relu2): ReLU(inplace=True)\n",
            "        (conv2): Conv2d(128, 32, kernel_size=(3, 3), stride=(1, 1), padding=(1, 1), bias=False)\n",
            "      )\n",
            "      (denselayer7): _DenseLayer(\n",
            "        (norm1): BatchNorm2d(704, eps=1e-05, momentum=0.1, affine=True, track_running_stats=True)\n",
            "        (relu1): ReLU(inplace=True)\n",
            "        (conv1): Conv2d(704, 128, kernel_size=(1, 1), stride=(1, 1), bias=False)\n",
            "        (norm2): BatchNorm2d(128, eps=1e-05, momentum=0.1, affine=True, track_running_stats=True)\n",
            "        (relu2): ReLU(inplace=True)\n",
            "        (conv2): Conv2d(128, 32, kernel_size=(3, 3), stride=(1, 1), padding=(1, 1), bias=False)\n",
            "      )\n",
            "      (denselayer8): _DenseLayer(\n",
            "        (norm1): BatchNorm2d(736, eps=1e-05, momentum=0.1, affine=True, track_running_stats=True)\n",
            "        (relu1): ReLU(inplace=True)\n",
            "        (conv1): Conv2d(736, 128, kernel_size=(1, 1), stride=(1, 1), bias=False)\n",
            "        (norm2): BatchNorm2d(128, eps=1e-05, momentum=0.1, affine=True, track_running_stats=True)\n",
            "        (relu2): ReLU(inplace=True)\n",
            "        (conv2): Conv2d(128, 32, kernel_size=(3, 3), stride=(1, 1), padding=(1, 1), bias=False)\n",
            "      )\n",
            "      (denselayer9): _DenseLayer(\n",
            "        (norm1): BatchNorm2d(768, eps=1e-05, momentum=0.1, affine=True, track_running_stats=True)\n",
            "        (relu1): ReLU(inplace=True)\n",
            "        (conv1): Conv2d(768, 128, kernel_size=(1, 1), stride=(1, 1), bias=False)\n",
            "        (norm2): BatchNorm2d(128, eps=1e-05, momentum=0.1, affine=True, track_running_stats=True)\n",
            "        (relu2): ReLU(inplace=True)\n",
            "        (conv2): Conv2d(128, 32, kernel_size=(3, 3), stride=(1, 1), padding=(1, 1), bias=False)\n",
            "      )\n",
            "      (denselayer10): _DenseLayer(\n",
            "        (norm1): BatchNorm2d(800, eps=1e-05, momentum=0.1, affine=True, track_running_stats=True)\n",
            "        (relu1): ReLU(inplace=True)\n",
            "        (conv1): Conv2d(800, 128, kernel_size=(1, 1), stride=(1, 1), bias=False)\n",
            "        (norm2): BatchNorm2d(128, eps=1e-05, momentum=0.1, affine=True, track_running_stats=True)\n",
            "        (relu2): ReLU(inplace=True)\n",
            "        (conv2): Conv2d(128, 32, kernel_size=(3, 3), stride=(1, 1), padding=(1, 1), bias=False)\n",
            "      )\n",
            "      (denselayer11): _DenseLayer(\n",
            "        (norm1): BatchNorm2d(832, eps=1e-05, momentum=0.1, affine=True, track_running_stats=True)\n",
            "        (relu1): ReLU(inplace=True)\n",
            "        (conv1): Conv2d(832, 128, kernel_size=(1, 1), stride=(1, 1), bias=False)\n",
            "        (norm2): BatchNorm2d(128, eps=1e-05, momentum=0.1, affine=True, track_running_stats=True)\n",
            "        (relu2): ReLU(inplace=True)\n",
            "        (conv2): Conv2d(128, 32, kernel_size=(3, 3), stride=(1, 1), padding=(1, 1), bias=False)\n",
            "      )\n",
            "      (denselayer12): _DenseLayer(\n",
            "        (norm1): BatchNorm2d(864, eps=1e-05, momentum=0.1, affine=True, track_running_stats=True)\n",
            "        (relu1): ReLU(inplace=True)\n",
            "        (conv1): Conv2d(864, 128, kernel_size=(1, 1), stride=(1, 1), bias=False)\n",
            "        (norm2): BatchNorm2d(128, eps=1e-05, momentum=0.1, affine=True, track_running_stats=True)\n",
            "        (relu2): ReLU(inplace=True)\n",
            "        (conv2): Conv2d(128, 32, kernel_size=(3, 3), stride=(1, 1), padding=(1, 1), bias=False)\n",
            "      )\n",
            "      (denselayer13): _DenseLayer(\n",
            "        (norm1): BatchNorm2d(896, eps=1e-05, momentum=0.1, affine=True, track_running_stats=True)\n",
            "        (relu1): ReLU(inplace=True)\n",
            "        (conv1): Conv2d(896, 128, kernel_size=(1, 1), stride=(1, 1), bias=False)\n",
            "        (norm2): BatchNorm2d(128, eps=1e-05, momentum=0.1, affine=True, track_running_stats=True)\n",
            "        (relu2): ReLU(inplace=True)\n",
            "        (conv2): Conv2d(128, 32, kernel_size=(3, 3), stride=(1, 1), padding=(1, 1), bias=False)\n",
            "      )\n",
            "      (denselayer14): _DenseLayer(\n",
            "        (norm1): BatchNorm2d(928, eps=1e-05, momentum=0.1, affine=True, track_running_stats=True)\n",
            "        (relu1): ReLU(inplace=True)\n",
            "        (conv1): Conv2d(928, 128, kernel_size=(1, 1), stride=(1, 1), bias=False)\n",
            "        (norm2): BatchNorm2d(128, eps=1e-05, momentum=0.1, affine=True, track_running_stats=True)\n",
            "        (relu2): ReLU(inplace=True)\n",
            "        (conv2): Conv2d(128, 32, kernel_size=(3, 3), stride=(1, 1), padding=(1, 1), bias=False)\n",
            "      )\n",
            "      (denselayer15): _DenseLayer(\n",
            "        (norm1): BatchNorm2d(960, eps=1e-05, momentum=0.1, affine=True, track_running_stats=True)\n",
            "        (relu1): ReLU(inplace=True)\n",
            "        (conv1): Conv2d(960, 128, kernel_size=(1, 1), stride=(1, 1), bias=False)\n",
            "        (norm2): BatchNorm2d(128, eps=1e-05, momentum=0.1, affine=True, track_running_stats=True)\n",
            "        (relu2): ReLU(inplace=True)\n",
            "        (conv2): Conv2d(128, 32, kernel_size=(3, 3), stride=(1, 1), padding=(1, 1), bias=False)\n",
            "      )\n",
            "      (denselayer16): _DenseLayer(\n",
            "        (norm1): BatchNorm2d(992, eps=1e-05, momentum=0.1, affine=True, track_running_stats=True)\n",
            "        (relu1): ReLU(inplace=True)\n",
            "        (conv1): Conv2d(992, 128, kernel_size=(1, 1), stride=(1, 1), bias=False)\n",
            "        (norm2): BatchNorm2d(128, eps=1e-05, momentum=0.1, affine=True, track_running_stats=True)\n",
            "        (relu2): ReLU(inplace=True)\n",
            "        (conv2): Conv2d(128, 32, kernel_size=(3, 3), stride=(1, 1), padding=(1, 1), bias=False)\n",
            "      )\n",
            "    )\n",
            "    (norm5): BatchNorm2d(1024, eps=1e-05, momentum=0.1, affine=True, track_running_stats=True)\n",
            "  )\n",
            "  (classifier): Linear(in_features=1024, out_features=1000, bias=True)\n",
            ")\n"
          ],
          "name": "stdout"
        }
      ]
    },
    {
      "cell_type": "code",
      "metadata": {
        "id": "BPZMDuK_VLL9"
      },
      "source": [
        "# This is useful to create new backbone and make them accessible from `ImageClassifier`\n",
        "@ImageClassifier.backbones(name=\"densenet121\")\n",
        "def fn_resnet(pretrained: bool = True):\n",
        "    model = densenet121(pretrained)\n",
        "    # remove the last two layers & turn it into a Sequential model\n",
        "    backbone = nn.Sequential(*list(model.children())[:-5])\n",
        "    num_features = model.classifier.in_features\n",
        "    # backbones need to return the num_features to build the head\n",
        "    return backbone, num_features"
      ],
      "execution_count": null,
      "outputs": []
    },
    {
      "cell_type": "code",
      "metadata": {
        "colab": {
          "base_uri": "https://localhost:8080/"
        },
        "id": "x88mgQYZVQQ4",
        "outputId": "37adf44b-ef15-44ae-b07b-83059a401e03"
      },
      "source": [
        "# 3.b Optional: List available backbones\n",
        "print(ImageClassifier.available_backbones())"
      ],
      "execution_count": null,
      "outputs": [
        {
          "output_type": "stream",
          "text": [
            "['adv_inception_v3', 'bat_resnext26ts', 'botnet26t_256', 'botnet50ts_256', 'cait_m36_384', 'cait_m48_448', 'cait_s24_224', 'cait_s24_384', 'cait_s36_384', 'cait_xs24_384', 'cait_xxs24_224', 'cait_xxs24_384', 'cait_xxs36_224', 'cait_xxs36_384', 'coat_lite_mini', 'coat_lite_small', 'coat_lite_tiny', 'coat_mini', 'coat_tiny', 'convit_base', 'convit_small', 'convit_tiny', 'cspdarknet53', 'cspdarknet53_iabn', 'cspresnet50', 'cspresnet50d', 'cspresnet50w', 'cspresnext50', 'cspresnext50_iabn', 'darknet53', 'deit_base_distilled_patch16_224', 'deit_base_distilled_patch16_384', 'deit_base_patch16_224', 'deit_base_patch16_384', 'deit_small_distilled_patch16_224', 'deit_small_patch16_224', 'deit_tiny_distilled_patch16_224', 'deit_tiny_patch16_224', 'densenet121', 'densenet121', 'densenet121', 'densenet121', 'densenet121', 'densenet121d', 'densenet161', 'densenet169', 'densenet201', 'densenet264', 'densenet264d_iabn', 'densenetblur121d', 'dino_deits16', 'dino_deits8', 'dino_vitb16', 'dino_vitb8', 'dla102', 'dla102x', 'dla102x2', 'dla169', 'dla34', 'dla46_c', 'dla46x_c', 'dla60', 'dla60_res2net', 'dla60_res2next', 'dla60x', 'dla60x_c', 'dm_nfnet_f0', 'dm_nfnet_f1', 'dm_nfnet_f2', 'dm_nfnet_f3', 'dm_nfnet_f4', 'dm_nfnet_f5', 'dm_nfnet_f6', 'dpn107', 'dpn131', 'dpn68', 'dpn68b', 'dpn92', 'dpn98', 'eca_botnext26ts_256', 'eca_efficientnet_b0', 'eca_halonext26ts', 'eca_lambda_resnext26ts', 'eca_nfnet_l0', 'eca_nfnet_l1', 'eca_nfnet_l2', 'eca_nfnet_l3', 'eca_swinnext26ts_256', 'eca_vovnet39b', 'ecaresnet101d', 'ecaresnet101d_pruned', 'ecaresnet200d', 'ecaresnet269d', 'ecaresnet26t', 'ecaresnet50d', 'ecaresnet50d_pruned', 'ecaresnet50t', 'ecaresnetlight', 'ecaresnext26t_32x4d', 'ecaresnext50t_32x4d', 'efficientnet_b0', 'efficientnet_b1', 'efficientnet_b1_pruned', 'efficientnet_b2', 'efficientnet_b2_pruned', 'efficientnet_b2a', 'efficientnet_b3', 'efficientnet_b3_pruned', 'efficientnet_b3a', 'efficientnet_b4', 'efficientnet_b5', 'efficientnet_b6', 'efficientnet_b7', 'efficientnet_b8', 'efficientnet_cc_b0_4e', 'efficientnet_cc_b0_8e', 'efficientnet_cc_b1_8e', 'efficientnet_el', 'efficientnet_el_pruned', 'efficientnet_em', 'efficientnet_es', 'efficientnet_es_pruned', 'efficientnet_l2', 'efficientnet_lite0', 'efficientnet_lite1', 'efficientnet_lite2', 'efficientnet_lite3', 'efficientnet_lite4', 'efficientnetv2_l', 'efficientnetv2_m', 'efficientnetv2_rw_m', 'efficientnetv2_rw_s', 'efficientnetv2_s', 'ens_adv_inception_resnet_v2', 'ese_vovnet19b_dw', 'ese_vovnet19b_slim', 'ese_vovnet19b_slim_dw', 'ese_vovnet39b', 'ese_vovnet39b_evos', 'ese_vovnet57b', 'ese_vovnet99b', 'ese_vovnet99b_iabn', 'fbnetc_100', 'fbnetv3_b', 'fbnetv3_d', 'fbnetv3_g', 'gc_efficientnet_b0', 'gcresnet50t', 'gcresnext26ts', 'geresnet50t', 'gernet_l', 'gernet_m', 'gernet_s', 'ghostnet_050', 'ghostnet_100', 'ghostnet_130', 'gluon_inception_v3', 'gluon_resnet101_v1b', 'gluon_resnet101_v1c', 'gluon_resnet101_v1d', 'gluon_resnet101_v1s', 'gluon_resnet152_v1b', 'gluon_resnet152_v1c', 'gluon_resnet152_v1d', 'gluon_resnet152_v1s', 'gluon_resnet18_v1b', 'gluon_resnet34_v1b', 'gluon_resnet50_v1b', 'gluon_resnet50_v1c', 'gluon_resnet50_v1d', 'gluon_resnet50_v1s', 'gluon_resnext101_32x4d', 'gluon_resnext101_64x4d', 'gluon_resnext50_32x4d', 'gluon_senet154', 'gluon_seresnext101_32x4d', 'gluon_seresnext101_64x4d', 'gluon_seresnext50_32x4d', 'gluon_xception65', 'gmixer_12_224', 'gmixer_24_224', 'gmlp_b16_224', 'gmlp_s16_224', 'gmlp_ti16_224', 'halonet26t', 'halonet50ts', 'halonet_h1', 'halonet_h1_c4c5', 'hardcorenas_a', 'hardcorenas_b', 'hardcorenas_c', 'hardcorenas_d', 'hardcorenas_e', 'hardcorenas_f', 'hrnet_w18', 'hrnet_w18_small', 'hrnet_w18_small_v2', 'hrnet_w30', 'hrnet_w32', 'hrnet_w40', 'hrnet_w44', 'hrnet_w48', 'hrnet_w64', 'ig_resnext101_32x16d', 'ig_resnext101_32x32d', 'ig_resnext101_32x48d', 'ig_resnext101_32x8d', 'inception_resnet_v2', 'inception_v3', 'inception_v4', 'lambda_resnet26t', 'lambda_resnet50t', 'legacy_senet154', 'legacy_seresnet101', 'legacy_seresnet152', 'legacy_seresnet18', 'legacy_seresnet34', 'legacy_seresnet50', 'legacy_seresnext101_32x4d', 'legacy_seresnext26_32x4d', 'legacy_seresnext50_32x4d', 'levit_128', 'levit_128s', 'levit_192', 'levit_256', 'levit_384', 'mixer_b16_224', 'mixer_b16_224_in21k', 'mixer_b16_224_miil', 'mixer_b16_224_miil_in21k', 'mixer_b32_224', 'mixer_l16_224', 'mixer_l16_224_in21k', 'mixer_l32_224', 'mixer_s16_224', 'mixer_s32_224', 'mixnet_l', 'mixnet_m', 'mixnet_s', 'mixnet_xl', 'mixnet_xxl', 'mnasnet_050', 'mnasnet_075', 'mnasnet_100', 'mnasnet_140', 'mnasnet_a1', 'mnasnet_b1', 'mnasnet_small', 'mobilenet_v2', 'mobilenetv2_100', 'mobilenetv2_110d', 'mobilenetv2_120d', 'mobilenetv2_140', 'mobilenetv3_large_075', 'mobilenetv3_large_100', 'mobilenetv3_large_100_miil', 'mobilenetv3_large_100_miil_in21k', 'mobilenetv3_rw', 'mobilenetv3_small_075', 'mobilenetv3_small_100', 'nasnetalarge', 'nf_ecaresnet101', 'nf_ecaresnet26', 'nf_ecaresnet50', 'nf_regnet_b0', 'nf_regnet_b1', 'nf_regnet_b2', 'nf_regnet_b3', 'nf_regnet_b4', 'nf_regnet_b5', 'nf_resnet101', 'nf_resnet26', 'nf_resnet50', 'nf_seresnet101', 'nf_seresnet26', 'nf_seresnet50', 'nfnet_f0', 'nfnet_f0s', 'nfnet_f1', 'nfnet_f1s', 'nfnet_f2', 'nfnet_f2s', 'nfnet_f3', 'nfnet_f3s', 'nfnet_f4', 'nfnet_f4s', 'nfnet_f5', 'nfnet_f5s', 'nfnet_f6', 'nfnet_f6s', 'nfnet_f7', 'nfnet_f7s', 'nfnet_l0', 'pit_b_224', 'pit_b_distilled_224', 'pit_s_224', 'pit_s_distilled_224', 'pit_ti_224', 'pit_ti_distilled_224', 'pit_xs_224', 'pit_xs_distilled_224', 'pnasnet5large', 'rednet26t', 'rednet50ts', 'regnetx_002', 'regnetx_004', 'regnetx_006', 'regnetx_008', 'regnetx_016', 'regnetx_032', 'regnetx_040', 'regnetx_064', 'regnetx_080', 'regnetx_120', 'regnetx_160', 'regnetx_320', 'regnety_002', 'regnety_004', 'regnety_006', 'regnety_008', 'regnety_016', 'regnety_032', 'regnety_040', 'regnety_064', 'regnety_080', 'regnety_120', 'regnety_160', 'regnety_320', 'repvgg_a2', 'repvgg_b0', 'repvgg_b1', 'repvgg_b1g4', 'repvgg_b2', 'repvgg_b2g4', 'repvgg_b3', 'repvgg_b3g4', 'res2net101_26w_4s', 'res2net50_14w_8s', 'res2net50_26w_4s', 'res2net50_26w_6s', 'res2net50_26w_8s', 'res2net50_48w_2s', 'res2next50', 'resmlp_12_224', 'resmlp_12_distilled_224', 'resmlp_24_224', 'resmlp_24_distilled_224', 'resmlp_36_224', 'resmlp_36_distilled_224', 'resmlp_big_24_224', 'resmlp_big_24_224_in22ft1k', 'resmlp_big_24_distilled_224', 'resnest101e', 'resnest14d', 'resnest200e', 'resnest269e', 'resnest26d', 'resnest50d', 'resnest50d_1s4x24d', 'resnest50d_4s2x40d', 'resnet101', 'resnet101d', 'resnet152', 'resnet152d', 'resnet18', 'resnet18d', 'resnet200', 'resnet200d', 'resnet26', 'resnet26d', 'resnet26t', 'resnet34', 'resnet34d', 'resnet50', 'resnet50d', 'resnet50t', 'resnet51q', 'resnet61q', 'resnetblur18', 'resnetblur50', 'resnetrs101', 'resnetrs152', 'resnetrs200', 'resnetrs270', 'resnetrs350', 'resnetrs420', 'resnetrs50', 'resnetv2_101', 'resnetv2_101d', 'resnetv2_101x1_bitm', 'resnetv2_101x1_bitm_in21k', 'resnetv2_101x3_bitm', 'resnetv2_101x3_bitm_in21k', 'resnetv2_152', 'resnetv2_152d', 'resnetv2_152x2_bit_teacher', 'resnetv2_152x2_bit_teacher_384', 'resnetv2_152x2_bitm', 'resnetv2_152x2_bitm_in21k', 'resnetv2_152x4_bitm', 'resnetv2_152x4_bitm_in21k', 'resnetv2_50', 'resnetv2_50d', 'resnetv2_50t', 'resnetv2_50x1_bit_distilled', 'resnetv2_50x1_bitm', 'resnetv2_50x1_bitm_in21k', 'resnetv2_50x3_bitm', 'resnetv2_50x3_bitm_in21k', 'resnext101_32x4d', 'resnext101_32x8d', 'resnext101_64x4d', 'resnext50_32x4d', 'resnext50d_32x4d', 'rexnet_100', 'rexnet_130', 'rexnet_150', 'rexnet_200', 'rexnetr_100', 'rexnetr_130', 'rexnetr_150', 'rexnetr_200', 'selecsls42', 'selecsls42b', 'selecsls60', 'selecsls60b', 'selecsls84', 'semnasnet_050', 'semnasnet_075', 'semnasnet_100', 'semnasnet_140', 'senet154', 'seresnet101', 'seresnet152', 'seresnet152d', 'seresnet18', 'seresnet200d', 'seresnet269d', 'seresnet34', 'seresnet50', 'seresnet50t', 'seresnext101_32x4d', 'seresnext101_32x8d', 'seresnext26d_32x4d', 'seresnext26t_32x4d', 'seresnext26tn_32x4d', 'seresnext50_32x4d', 'simclr-imagenet', 'skresnet18', 'skresnet34', 'skresnet50', 'skresnet50d', 'skresnext50_32x4d', 'spnasnet_100', 'ssl_resnet18', 'ssl_resnet50', 'ssl_resnext101_32x16d', 'ssl_resnext101_32x4d', 'ssl_resnext101_32x8d', 'ssl_resnext50_32x4d', 'swav-imagenet', 'swin_base_patch4_window12_384', 'swin_base_patch4_window12_384_in22k', 'swin_base_patch4_window7_224', 'swin_base_patch4_window7_224_in22k', 'swin_large_patch4_window12_384', 'swin_large_patch4_window12_384_in22k', 'swin_large_patch4_window7_224', 'swin_large_patch4_window7_224_in22k', 'swin_small_patch4_window7_224', 'swin_tiny_patch4_window7_224', 'swinnet26t_256', 'swinnet50ts_256', 'swsl_resnet18', 'swsl_resnet50', 'swsl_resnext101_32x16d', 'swsl_resnext101_32x4d', 'swsl_resnext101_32x8d', 'swsl_resnext50_32x4d', 'tf_efficientnet_b0', 'tf_efficientnet_b0_ap', 'tf_efficientnet_b0_ns', 'tf_efficientnet_b1', 'tf_efficientnet_b1_ap', 'tf_efficientnet_b1_ns', 'tf_efficientnet_b2', 'tf_efficientnet_b2_ap', 'tf_efficientnet_b2_ns', 'tf_efficientnet_b3', 'tf_efficientnet_b3_ap', 'tf_efficientnet_b3_ns', 'tf_efficientnet_b4', 'tf_efficientnet_b4_ap', 'tf_efficientnet_b4_ns', 'tf_efficientnet_b5', 'tf_efficientnet_b5_ap', 'tf_efficientnet_b5_ns', 'tf_efficientnet_b6', 'tf_efficientnet_b6_ap', 'tf_efficientnet_b6_ns', 'tf_efficientnet_b7', 'tf_efficientnet_b7_ap', 'tf_efficientnet_b7_ns', 'tf_efficientnet_b8', 'tf_efficientnet_b8_ap', 'tf_efficientnet_cc_b0_4e', 'tf_efficientnet_cc_b0_8e', 'tf_efficientnet_cc_b1_8e', 'tf_efficientnet_el', 'tf_efficientnet_em', 'tf_efficientnet_es', 'tf_efficientnet_l2_ns', 'tf_efficientnet_l2_ns_475', 'tf_efficientnet_lite0', 'tf_efficientnet_lite1', 'tf_efficientnet_lite2', 'tf_efficientnet_lite3', 'tf_efficientnet_lite4', 'tf_efficientnetv2_b0', 'tf_efficientnetv2_b1', 'tf_efficientnetv2_b2', 'tf_efficientnetv2_b3', 'tf_efficientnetv2_l', 'tf_efficientnetv2_l_in21ft1k', 'tf_efficientnetv2_l_in21k', 'tf_efficientnetv2_m', 'tf_efficientnetv2_m_in21ft1k', 'tf_efficientnetv2_m_in21k', 'tf_efficientnetv2_s', 'tf_efficientnetv2_s_in21ft1k', 'tf_efficientnetv2_s_in21k', 'tf_inception_v3', 'tf_mixnet_l', 'tf_mixnet_m', 'tf_mixnet_s', 'tf_mobilenetv3_large_075', 'tf_mobilenetv3_large_100', 'tf_mobilenetv3_large_minimal_100', 'tf_mobilenetv3_small_075', 'tf_mobilenetv3_small_100', 'tf_mobilenetv3_small_minimal_100', 'tnt_b_patch16_224', 'tnt_s_patch16_224', 'tresnet_l', 'tresnet_l_448', 'tresnet_m', 'tresnet_m_448', 'tresnet_m_miil_in21k', 'tresnet_xl', 'tresnet_xl_448', 'tv_densenet121', 'tv_resnet101', 'tv_resnet152', 'tv_resnet34', 'tv_resnet50', 'tv_resnext50_32x4d', 'twins_pcpvt_base', 'twins_pcpvt_large', 'twins_pcpvt_small', 'twins_svt_base', 'twins_svt_large', 'twins_svt_small', 'vgg11', 'vgg11_bn', 'vgg13', 'vgg13_bn', 'vgg16', 'vgg16_bn', 'vgg19', 'vgg19_bn', 'visformer_small', 'visformer_tiny', 'vit_base_patch16_224', 'vit_base_patch16_224_in21k', 'vit_base_patch16_224_miil', 'vit_base_patch16_224_miil_in21k', 'vit_base_patch16_384', 'vit_base_patch32_224', 'vit_base_patch32_224_in21k', 'vit_base_patch32_384', 'vit_base_r26_s32_224', 'vit_base_r50_s16_224', 'vit_base_r50_s16_224_in21k', 'vit_base_r50_s16_384', 'vit_base_resnet26d_224', 'vit_base_resnet50_224_in21k', 'vit_base_resnet50_384', 'vit_base_resnet50d_224', 'vit_huge_patch14_224_in21k', 'vit_large_patch16_224', 'vit_large_patch16_224_in21k', 'vit_large_patch16_384', 'vit_large_patch32_224', 'vit_large_patch32_224_in21k', 'vit_large_patch32_384', 'vit_large_r50_s32_224', 'vit_large_r50_s32_224_in21k', 'vit_large_r50_s32_384', 'vit_small_patch16_224', 'vit_small_patch16_224_in21k', 'vit_small_patch16_384', 'vit_small_patch32_224', 'vit_small_patch32_224_in21k', 'vit_small_patch32_384', 'vit_small_r26_s32_224', 'vit_small_r26_s32_224_in21k', 'vit_small_r26_s32_384', 'vit_small_resnet26d_224', 'vit_small_resnet50d_s16_224', 'vit_tiny_patch16_224', 'vit_tiny_patch16_224_in21k', 'vit_tiny_patch16_384', 'vit_tiny_r_s16_p8_224', 'vit_tiny_r_s16_p8_224_in21k', 'vit_tiny_r_s16_p8_384', 'vovnet39a', 'vovnet57a', 'wide_resnet101_2', 'wide_resnet50_2', 'xception', 'xception41', 'xception65', 'xception71']\n"
          ],
          "name": "stdout"
        }
      ]
    },
    {
      "cell_type": "code",
      "metadata": {
        "id": "ZOrMxaGqUrvP"
      },
      "source": [
        "model = ImageClassifier(backbone=\"densenet121\",\n",
        "                        num_classes=datamodule.num_classes,\n",
        "                        metrics=[FBeta(num_classes=14),Accuracy()])"
      ],
      "execution_count": null,
      "outputs": []
    },
    {
      "cell_type": "code",
      "metadata": {
        "colab": {
          "base_uri": "https://localhost:8080/"
        },
        "id": "kipm5L_IXgH4",
        "outputId": "bfab3680-670e-4984-dd33-d1f0668fef56"
      },
      "source": [
        "model.children"
      ],
      "execution_count": null,
      "outputs": [
        {
          "output_type": "execute_result",
          "data": {
            "text/plain": [
              "<bound method Module.children of ImageClassifier(\n",
              "  (metrics): ModuleDict(\n",
              "    (fbeta): FBeta()\n",
              "    (accuracy): Accuracy()\n",
              "  )\n",
              "  (backbone): Sequential(\n",
              "    (0): Conv2d(3, 64, kernel_size=(7, 7), stride=(2, 2), padding=(3, 3), bias=False)\n",
              "    (1): BatchNorm2d(64, eps=1e-05, momentum=0.1, affine=True, track_running_stats=True)\n",
              "    (2): ReLU(inplace=True)\n",
              "    (3): MaxPool2d(kernel_size=3, stride=2, padding=1, dilation=1, ceil_mode=False)\n",
              "    (4): _DenseBlock(\n",
              "      (denselayer1): _DenseLayer(\n",
              "        (norm1): BatchNorm2d(64, eps=1e-05, momentum=0.1, affine=True, track_running_stats=True)\n",
              "        (relu1): ReLU(inplace=True)\n",
              "        (conv1): Conv2d(64, 128, kernel_size=(1, 1), stride=(1, 1), bias=False)\n",
              "        (norm2): BatchNorm2d(128, eps=1e-05, momentum=0.1, affine=True, track_running_stats=True)\n",
              "        (relu2): ReLU(inplace=True)\n",
              "        (conv2): Conv2d(128, 32, kernel_size=(3, 3), stride=(1, 1), padding=(1, 1), bias=False)\n",
              "      )\n",
              "      (denselayer2): _DenseLayer(\n",
              "        (norm1): BatchNorm2d(96, eps=1e-05, momentum=0.1, affine=True, track_running_stats=True)\n",
              "        (relu1): ReLU(inplace=True)\n",
              "        (conv1): Conv2d(96, 128, kernel_size=(1, 1), stride=(1, 1), bias=False)\n",
              "        (norm2): BatchNorm2d(128, eps=1e-05, momentum=0.1, affine=True, track_running_stats=True)\n",
              "        (relu2): ReLU(inplace=True)\n",
              "        (conv2): Conv2d(128, 32, kernel_size=(3, 3), stride=(1, 1), padding=(1, 1), bias=False)\n",
              "      )\n",
              "      (denselayer3): _DenseLayer(\n",
              "        (norm1): BatchNorm2d(128, eps=1e-05, momentum=0.1, affine=True, track_running_stats=True)\n",
              "        (relu1): ReLU(inplace=True)\n",
              "        (conv1): Conv2d(128, 128, kernel_size=(1, 1), stride=(1, 1), bias=False)\n",
              "        (norm2): BatchNorm2d(128, eps=1e-05, momentum=0.1, affine=True, track_running_stats=True)\n",
              "        (relu2): ReLU(inplace=True)\n",
              "        (conv2): Conv2d(128, 32, kernel_size=(3, 3), stride=(1, 1), padding=(1, 1), bias=False)\n",
              "      )\n",
              "      (denselayer4): _DenseLayer(\n",
              "        (norm1): BatchNorm2d(160, eps=1e-05, momentum=0.1, affine=True, track_running_stats=True)\n",
              "        (relu1): ReLU(inplace=True)\n",
              "        (conv1): Conv2d(160, 128, kernel_size=(1, 1), stride=(1, 1), bias=False)\n",
              "        (norm2): BatchNorm2d(128, eps=1e-05, momentum=0.1, affine=True, track_running_stats=True)\n",
              "        (relu2): ReLU(inplace=True)\n",
              "        (conv2): Conv2d(128, 32, kernel_size=(3, 3), stride=(1, 1), padding=(1, 1), bias=False)\n",
              "      )\n",
              "      (denselayer5): _DenseLayer(\n",
              "        (norm1): BatchNorm2d(192, eps=1e-05, momentum=0.1, affine=True, track_running_stats=True)\n",
              "        (relu1): ReLU(inplace=True)\n",
              "        (conv1): Conv2d(192, 128, kernel_size=(1, 1), stride=(1, 1), bias=False)\n",
              "        (norm2): BatchNorm2d(128, eps=1e-05, momentum=0.1, affine=True, track_running_stats=True)\n",
              "        (relu2): ReLU(inplace=True)\n",
              "        (conv2): Conv2d(128, 32, kernel_size=(3, 3), stride=(1, 1), padding=(1, 1), bias=False)\n",
              "      )\n",
              "      (denselayer6): _DenseLayer(\n",
              "        (norm1): BatchNorm2d(224, eps=1e-05, momentum=0.1, affine=True, track_running_stats=True)\n",
              "        (relu1): ReLU(inplace=True)\n",
              "        (conv1): Conv2d(224, 128, kernel_size=(1, 1), stride=(1, 1), bias=False)\n",
              "        (norm2): BatchNorm2d(128, eps=1e-05, momentum=0.1, affine=True, track_running_stats=True)\n",
              "        (relu2): ReLU(inplace=True)\n",
              "        (conv2): Conv2d(128, 32, kernel_size=(3, 3), stride=(1, 1), padding=(1, 1), bias=False)\n",
              "      )\n",
              "    )\n",
              "    (5): _Transition(\n",
              "      (norm): BatchNorm2d(256, eps=1e-05, momentum=0.1, affine=True, track_running_stats=True)\n",
              "      (relu): ReLU(inplace=True)\n",
              "      (conv): Conv2d(256, 128, kernel_size=(1, 1), stride=(1, 1), bias=False)\n",
              "      (pool): AvgPool2d(kernel_size=2, stride=2, padding=0)\n",
              "    )\n",
              "    (6): _DenseBlock(\n",
              "      (denselayer1): _DenseLayer(\n",
              "        (norm1): BatchNorm2d(128, eps=1e-05, momentum=0.1, affine=True, track_running_stats=True)\n",
              "        (relu1): ReLU(inplace=True)\n",
              "        (conv1): Conv2d(128, 128, kernel_size=(1, 1), stride=(1, 1), bias=False)\n",
              "        (norm2): BatchNorm2d(128, eps=1e-05, momentum=0.1, affine=True, track_running_stats=True)\n",
              "        (relu2): ReLU(inplace=True)\n",
              "        (conv2): Conv2d(128, 32, kernel_size=(3, 3), stride=(1, 1), padding=(1, 1), bias=False)\n",
              "      )\n",
              "      (denselayer2): _DenseLayer(\n",
              "        (norm1): BatchNorm2d(160, eps=1e-05, momentum=0.1, affine=True, track_running_stats=True)\n",
              "        (relu1): ReLU(inplace=True)\n",
              "        (conv1): Conv2d(160, 128, kernel_size=(1, 1), stride=(1, 1), bias=False)\n",
              "        (norm2): BatchNorm2d(128, eps=1e-05, momentum=0.1, affine=True, track_running_stats=True)\n",
              "        (relu2): ReLU(inplace=True)\n",
              "        (conv2): Conv2d(128, 32, kernel_size=(3, 3), stride=(1, 1), padding=(1, 1), bias=False)\n",
              "      )\n",
              "      (denselayer3): _DenseLayer(\n",
              "        (norm1): BatchNorm2d(192, eps=1e-05, momentum=0.1, affine=True, track_running_stats=True)\n",
              "        (relu1): ReLU(inplace=True)\n",
              "        (conv1): Conv2d(192, 128, kernel_size=(1, 1), stride=(1, 1), bias=False)\n",
              "        (norm2): BatchNorm2d(128, eps=1e-05, momentum=0.1, affine=True, track_running_stats=True)\n",
              "        (relu2): ReLU(inplace=True)\n",
              "        (conv2): Conv2d(128, 32, kernel_size=(3, 3), stride=(1, 1), padding=(1, 1), bias=False)\n",
              "      )\n",
              "      (denselayer4): _DenseLayer(\n",
              "        (norm1): BatchNorm2d(224, eps=1e-05, momentum=0.1, affine=True, track_running_stats=True)\n",
              "        (relu1): ReLU(inplace=True)\n",
              "        (conv1): Conv2d(224, 128, kernel_size=(1, 1), stride=(1, 1), bias=False)\n",
              "        (norm2): BatchNorm2d(128, eps=1e-05, momentum=0.1, affine=True, track_running_stats=True)\n",
              "        (relu2): ReLU(inplace=True)\n",
              "        (conv2): Conv2d(128, 32, kernel_size=(3, 3), stride=(1, 1), padding=(1, 1), bias=False)\n",
              "      )\n",
              "      (denselayer5): _DenseLayer(\n",
              "        (norm1): BatchNorm2d(256, eps=1e-05, momentum=0.1, affine=True, track_running_stats=True)\n",
              "        (relu1): ReLU(inplace=True)\n",
              "        (conv1): Conv2d(256, 128, kernel_size=(1, 1), stride=(1, 1), bias=False)\n",
              "        (norm2): BatchNorm2d(128, eps=1e-05, momentum=0.1, affine=True, track_running_stats=True)\n",
              "        (relu2): ReLU(inplace=True)\n",
              "        (conv2): Conv2d(128, 32, kernel_size=(3, 3), stride=(1, 1), padding=(1, 1), bias=False)\n",
              "      )\n",
              "      (denselayer6): _DenseLayer(\n",
              "        (norm1): BatchNorm2d(288, eps=1e-05, momentum=0.1, affine=True, track_running_stats=True)\n",
              "        (relu1): ReLU(inplace=True)\n",
              "        (conv1): Conv2d(288, 128, kernel_size=(1, 1), stride=(1, 1), bias=False)\n",
              "        (norm2): BatchNorm2d(128, eps=1e-05, momentum=0.1, affine=True, track_running_stats=True)\n",
              "        (relu2): ReLU(inplace=True)\n",
              "        (conv2): Conv2d(128, 32, kernel_size=(3, 3), stride=(1, 1), padding=(1, 1), bias=False)\n",
              "      )\n",
              "      (denselayer7): _DenseLayer(\n",
              "        (norm1): BatchNorm2d(320, eps=1e-05, momentum=0.1, affine=True, track_running_stats=True)\n",
              "        (relu1): ReLU(inplace=True)\n",
              "        (conv1): Conv2d(320, 128, kernel_size=(1, 1), stride=(1, 1), bias=False)\n",
              "        (norm2): BatchNorm2d(128, eps=1e-05, momentum=0.1, affine=True, track_running_stats=True)\n",
              "        (relu2): ReLU(inplace=True)\n",
              "        (conv2): Conv2d(128, 32, kernel_size=(3, 3), stride=(1, 1), padding=(1, 1), bias=False)\n",
              "      )\n",
              "      (denselayer8): _DenseLayer(\n",
              "        (norm1): BatchNorm2d(352, eps=1e-05, momentum=0.1, affine=True, track_running_stats=True)\n",
              "        (relu1): ReLU(inplace=True)\n",
              "        (conv1): Conv2d(352, 128, kernel_size=(1, 1), stride=(1, 1), bias=False)\n",
              "        (norm2): BatchNorm2d(128, eps=1e-05, momentum=0.1, affine=True, track_running_stats=True)\n",
              "        (relu2): ReLU(inplace=True)\n",
              "        (conv2): Conv2d(128, 32, kernel_size=(3, 3), stride=(1, 1), padding=(1, 1), bias=False)\n",
              "      )\n",
              "      (denselayer9): _DenseLayer(\n",
              "        (norm1): BatchNorm2d(384, eps=1e-05, momentum=0.1, affine=True, track_running_stats=True)\n",
              "        (relu1): ReLU(inplace=True)\n",
              "        (conv1): Conv2d(384, 128, kernel_size=(1, 1), stride=(1, 1), bias=False)\n",
              "        (norm2): BatchNorm2d(128, eps=1e-05, momentum=0.1, affine=True, track_running_stats=True)\n",
              "        (relu2): ReLU(inplace=True)\n",
              "        (conv2): Conv2d(128, 32, kernel_size=(3, 3), stride=(1, 1), padding=(1, 1), bias=False)\n",
              "      )\n",
              "      (denselayer10): _DenseLayer(\n",
              "        (norm1): BatchNorm2d(416, eps=1e-05, momentum=0.1, affine=True, track_running_stats=True)\n",
              "        (relu1): ReLU(inplace=True)\n",
              "        (conv1): Conv2d(416, 128, kernel_size=(1, 1), stride=(1, 1), bias=False)\n",
              "        (norm2): BatchNorm2d(128, eps=1e-05, momentum=0.1, affine=True, track_running_stats=True)\n",
              "        (relu2): ReLU(inplace=True)\n",
              "        (conv2): Conv2d(128, 32, kernel_size=(3, 3), stride=(1, 1), padding=(1, 1), bias=False)\n",
              "      )\n",
              "      (denselayer11): _DenseLayer(\n",
              "        (norm1): BatchNorm2d(448, eps=1e-05, momentum=0.1, affine=True, track_running_stats=True)\n",
              "        (relu1): ReLU(inplace=True)\n",
              "        (conv1): Conv2d(448, 128, kernel_size=(1, 1), stride=(1, 1), bias=False)\n",
              "        (norm2): BatchNorm2d(128, eps=1e-05, momentum=0.1, affine=True, track_running_stats=True)\n",
              "        (relu2): ReLU(inplace=True)\n",
              "        (conv2): Conv2d(128, 32, kernel_size=(3, 3), stride=(1, 1), padding=(1, 1), bias=False)\n",
              "      )\n",
              "      (denselayer12): _DenseLayer(\n",
              "        (norm1): BatchNorm2d(480, eps=1e-05, momentum=0.1, affine=True, track_running_stats=True)\n",
              "        (relu1): ReLU(inplace=True)\n",
              "        (conv1): Conv2d(480, 128, kernel_size=(1, 1), stride=(1, 1), bias=False)\n",
              "        (norm2): BatchNorm2d(128, eps=1e-05, momentum=0.1, affine=True, track_running_stats=True)\n",
              "        (relu2): ReLU(inplace=True)\n",
              "        (conv2): Conv2d(128, 32, kernel_size=(3, 3), stride=(1, 1), padding=(1, 1), bias=False)\n",
              "      )\n",
              "    )\n",
              "    (7): _Transition(\n",
              "      (norm): BatchNorm2d(512, eps=1e-05, momentum=0.1, affine=True, track_running_stats=True)\n",
              "      (relu): ReLU(inplace=True)\n",
              "      (conv): Conv2d(512, 256, kernel_size=(1, 1), stride=(1, 1), bias=False)\n",
              "      (pool): AvgPool2d(kernel_size=2, stride=2, padding=0)\n",
              "    )\n",
              "    (8): _DenseBlock(\n",
              "      (denselayer1): _DenseLayer(\n",
              "        (norm1): BatchNorm2d(256, eps=1e-05, momentum=0.1, affine=True, track_running_stats=True)\n",
              "        (relu1): ReLU(inplace=True)\n",
              "        (conv1): Conv2d(256, 128, kernel_size=(1, 1), stride=(1, 1), bias=False)\n",
              "        (norm2): BatchNorm2d(128, eps=1e-05, momentum=0.1, affine=True, track_running_stats=True)\n",
              "        (relu2): ReLU(inplace=True)\n",
              "        (conv2): Conv2d(128, 32, kernel_size=(3, 3), stride=(1, 1), padding=(1, 1), bias=False)\n",
              "      )\n",
              "      (denselayer2): _DenseLayer(\n",
              "        (norm1): BatchNorm2d(288, eps=1e-05, momentum=0.1, affine=True, track_running_stats=True)\n",
              "        (relu1): ReLU(inplace=True)\n",
              "        (conv1): Conv2d(288, 128, kernel_size=(1, 1), stride=(1, 1), bias=False)\n",
              "        (norm2): BatchNorm2d(128, eps=1e-05, momentum=0.1, affine=True, track_running_stats=True)\n",
              "        (relu2): ReLU(inplace=True)\n",
              "        (conv2): Conv2d(128, 32, kernel_size=(3, 3), stride=(1, 1), padding=(1, 1), bias=False)\n",
              "      )\n",
              "      (denselayer3): _DenseLayer(\n",
              "        (norm1): BatchNorm2d(320, eps=1e-05, momentum=0.1, affine=True, track_running_stats=True)\n",
              "        (relu1): ReLU(inplace=True)\n",
              "        (conv1): Conv2d(320, 128, kernel_size=(1, 1), stride=(1, 1), bias=False)\n",
              "        (norm2): BatchNorm2d(128, eps=1e-05, momentum=0.1, affine=True, track_running_stats=True)\n",
              "        (relu2): ReLU(inplace=True)\n",
              "        (conv2): Conv2d(128, 32, kernel_size=(3, 3), stride=(1, 1), padding=(1, 1), bias=False)\n",
              "      )\n",
              "      (denselayer4): _DenseLayer(\n",
              "        (norm1): BatchNorm2d(352, eps=1e-05, momentum=0.1, affine=True, track_running_stats=True)\n",
              "        (relu1): ReLU(inplace=True)\n",
              "        (conv1): Conv2d(352, 128, kernel_size=(1, 1), stride=(1, 1), bias=False)\n",
              "        (norm2): BatchNorm2d(128, eps=1e-05, momentum=0.1, affine=True, track_running_stats=True)\n",
              "        (relu2): ReLU(inplace=True)\n",
              "        (conv2): Conv2d(128, 32, kernel_size=(3, 3), stride=(1, 1), padding=(1, 1), bias=False)\n",
              "      )\n",
              "      (denselayer5): _DenseLayer(\n",
              "        (norm1): BatchNorm2d(384, eps=1e-05, momentum=0.1, affine=True, track_running_stats=True)\n",
              "        (relu1): ReLU(inplace=True)\n",
              "        (conv1): Conv2d(384, 128, kernel_size=(1, 1), stride=(1, 1), bias=False)\n",
              "        (norm2): BatchNorm2d(128, eps=1e-05, momentum=0.1, affine=True, track_running_stats=True)\n",
              "        (relu2): ReLU(inplace=True)\n",
              "        (conv2): Conv2d(128, 32, kernel_size=(3, 3), stride=(1, 1), padding=(1, 1), bias=False)\n",
              "      )\n",
              "      (denselayer6): _DenseLayer(\n",
              "        (norm1): BatchNorm2d(416, eps=1e-05, momentum=0.1, affine=True, track_running_stats=True)\n",
              "        (relu1): ReLU(inplace=True)\n",
              "        (conv1): Conv2d(416, 128, kernel_size=(1, 1), stride=(1, 1), bias=False)\n",
              "        (norm2): BatchNorm2d(128, eps=1e-05, momentum=0.1, affine=True, track_running_stats=True)\n",
              "        (relu2): ReLU(inplace=True)\n",
              "        (conv2): Conv2d(128, 32, kernel_size=(3, 3), stride=(1, 1), padding=(1, 1), bias=False)\n",
              "      )\n",
              "      (denselayer7): _DenseLayer(\n",
              "        (norm1): BatchNorm2d(448, eps=1e-05, momentum=0.1, affine=True, track_running_stats=True)\n",
              "        (relu1): ReLU(inplace=True)\n",
              "        (conv1): Conv2d(448, 128, kernel_size=(1, 1), stride=(1, 1), bias=False)\n",
              "        (norm2): BatchNorm2d(128, eps=1e-05, momentum=0.1, affine=True, track_running_stats=True)\n",
              "        (relu2): ReLU(inplace=True)\n",
              "        (conv2): Conv2d(128, 32, kernel_size=(3, 3), stride=(1, 1), padding=(1, 1), bias=False)\n",
              "      )\n",
              "      (denselayer8): _DenseLayer(\n",
              "        (norm1): BatchNorm2d(480, eps=1e-05, momentum=0.1, affine=True, track_running_stats=True)\n",
              "        (relu1): ReLU(inplace=True)\n",
              "        (conv1): Conv2d(480, 128, kernel_size=(1, 1), stride=(1, 1), bias=False)\n",
              "        (norm2): BatchNorm2d(128, eps=1e-05, momentum=0.1, affine=True, track_running_stats=True)\n",
              "        (relu2): ReLU(inplace=True)\n",
              "        (conv2): Conv2d(128, 32, kernel_size=(3, 3), stride=(1, 1), padding=(1, 1), bias=False)\n",
              "      )\n",
              "      (denselayer9): _DenseLayer(\n",
              "        (norm1): BatchNorm2d(512, eps=1e-05, momentum=0.1, affine=True, track_running_stats=True)\n",
              "        (relu1): ReLU(inplace=True)\n",
              "        (conv1): Conv2d(512, 128, kernel_size=(1, 1), stride=(1, 1), bias=False)\n",
              "        (norm2): BatchNorm2d(128, eps=1e-05, momentum=0.1, affine=True, track_running_stats=True)\n",
              "        (relu2): ReLU(inplace=True)\n",
              "        (conv2): Conv2d(128, 32, kernel_size=(3, 3), stride=(1, 1), padding=(1, 1), bias=False)\n",
              "      )\n",
              "      (denselayer10): _DenseLayer(\n",
              "        (norm1): BatchNorm2d(544, eps=1e-05, momentum=0.1, affine=True, track_running_stats=True)\n",
              "        (relu1): ReLU(inplace=True)\n",
              "        (conv1): Conv2d(544, 128, kernel_size=(1, 1), stride=(1, 1), bias=False)\n",
              "        (norm2): BatchNorm2d(128, eps=1e-05, momentum=0.1, affine=True, track_running_stats=True)\n",
              "        (relu2): ReLU(inplace=True)\n",
              "        (conv2): Conv2d(128, 32, kernel_size=(3, 3), stride=(1, 1), padding=(1, 1), bias=False)\n",
              "      )\n",
              "      (denselayer11): _DenseLayer(\n",
              "        (norm1): BatchNorm2d(576, eps=1e-05, momentum=0.1, affine=True, track_running_stats=True)\n",
              "        (relu1): ReLU(inplace=True)\n",
              "        (conv1): Conv2d(576, 128, kernel_size=(1, 1), stride=(1, 1), bias=False)\n",
              "        (norm2): BatchNorm2d(128, eps=1e-05, momentum=0.1, affine=True, track_running_stats=True)\n",
              "        (relu2): ReLU(inplace=True)\n",
              "        (conv2): Conv2d(128, 32, kernel_size=(3, 3), stride=(1, 1), padding=(1, 1), bias=False)\n",
              "      )\n",
              "      (denselayer12): _DenseLayer(\n",
              "        (norm1): BatchNorm2d(608, eps=1e-05, momentum=0.1, affine=True, track_running_stats=True)\n",
              "        (relu1): ReLU(inplace=True)\n",
              "        (conv1): Conv2d(608, 128, kernel_size=(1, 1), stride=(1, 1), bias=False)\n",
              "        (norm2): BatchNorm2d(128, eps=1e-05, momentum=0.1, affine=True, track_running_stats=True)\n",
              "        (relu2): ReLU(inplace=True)\n",
              "        (conv2): Conv2d(128, 32, kernel_size=(3, 3), stride=(1, 1), padding=(1, 1), bias=False)\n",
              "      )\n",
              "      (denselayer13): _DenseLayer(\n",
              "        (norm1): BatchNorm2d(640, eps=1e-05, momentum=0.1, affine=True, track_running_stats=True)\n",
              "        (relu1): ReLU(inplace=True)\n",
              "        (conv1): Conv2d(640, 128, kernel_size=(1, 1), stride=(1, 1), bias=False)\n",
              "        (norm2): BatchNorm2d(128, eps=1e-05, momentum=0.1, affine=True, track_running_stats=True)\n",
              "        (relu2): ReLU(inplace=True)\n",
              "        (conv2): Conv2d(128, 32, kernel_size=(3, 3), stride=(1, 1), padding=(1, 1), bias=False)\n",
              "      )\n",
              "      (denselayer14): _DenseLayer(\n",
              "        (norm1): BatchNorm2d(672, eps=1e-05, momentum=0.1, affine=True, track_running_stats=True)\n",
              "        (relu1): ReLU(inplace=True)\n",
              "        (conv1): Conv2d(672, 128, kernel_size=(1, 1), stride=(1, 1), bias=False)\n",
              "        (norm2): BatchNorm2d(128, eps=1e-05, momentum=0.1, affine=True, track_running_stats=True)\n",
              "        (relu2): ReLU(inplace=True)\n",
              "        (conv2): Conv2d(128, 32, kernel_size=(3, 3), stride=(1, 1), padding=(1, 1), bias=False)\n",
              "      )\n",
              "      (denselayer15): _DenseLayer(\n",
              "        (norm1): BatchNorm2d(704, eps=1e-05, momentum=0.1, affine=True, track_running_stats=True)\n",
              "        (relu1): ReLU(inplace=True)\n",
              "        (conv1): Conv2d(704, 128, kernel_size=(1, 1), stride=(1, 1), bias=False)\n",
              "        (norm2): BatchNorm2d(128, eps=1e-05, momentum=0.1, affine=True, track_running_stats=True)\n",
              "        (relu2): ReLU(inplace=True)\n",
              "        (conv2): Conv2d(128, 32, kernel_size=(3, 3), stride=(1, 1), padding=(1, 1), bias=False)\n",
              "      )\n",
              "      (denselayer16): _DenseLayer(\n",
              "        (norm1): BatchNorm2d(736, eps=1e-05, momentum=0.1, affine=True, track_running_stats=True)\n",
              "        (relu1): ReLU(inplace=True)\n",
              "        (conv1): Conv2d(736, 128, kernel_size=(1, 1), stride=(1, 1), bias=False)\n",
              "        (norm2): BatchNorm2d(128, eps=1e-05, momentum=0.1, affine=True, track_running_stats=True)\n",
              "        (relu2): ReLU(inplace=True)\n",
              "        (conv2): Conv2d(128, 32, kernel_size=(3, 3), stride=(1, 1), padding=(1, 1), bias=False)\n",
              "      )\n",
              "      (denselayer17): _DenseLayer(\n",
              "        (norm1): BatchNorm2d(768, eps=1e-05, momentum=0.1, affine=True, track_running_stats=True)\n",
              "        (relu1): ReLU(inplace=True)\n",
              "        (conv1): Conv2d(768, 128, kernel_size=(1, 1), stride=(1, 1), bias=False)\n",
              "        (norm2): BatchNorm2d(128, eps=1e-05, momentum=0.1, affine=True, track_running_stats=True)\n",
              "        (relu2): ReLU(inplace=True)\n",
              "        (conv2): Conv2d(128, 32, kernel_size=(3, 3), stride=(1, 1), padding=(1, 1), bias=False)\n",
              "      )\n",
              "      (denselayer18): _DenseLayer(\n",
              "        (norm1): BatchNorm2d(800, eps=1e-05, momentum=0.1, affine=True, track_running_stats=True)\n",
              "        (relu1): ReLU(inplace=True)\n",
              "        (conv1): Conv2d(800, 128, kernel_size=(1, 1), stride=(1, 1), bias=False)\n",
              "        (norm2): BatchNorm2d(128, eps=1e-05, momentum=0.1, affine=True, track_running_stats=True)\n",
              "        (relu2): ReLU(inplace=True)\n",
              "        (conv2): Conv2d(128, 32, kernel_size=(3, 3), stride=(1, 1), padding=(1, 1), bias=False)\n",
              "      )\n",
              "      (denselayer19): _DenseLayer(\n",
              "        (norm1): BatchNorm2d(832, eps=1e-05, momentum=0.1, affine=True, track_running_stats=True)\n",
              "        (relu1): ReLU(inplace=True)\n",
              "        (conv1): Conv2d(832, 128, kernel_size=(1, 1), stride=(1, 1), bias=False)\n",
              "        (norm2): BatchNorm2d(128, eps=1e-05, momentum=0.1, affine=True, track_running_stats=True)\n",
              "        (relu2): ReLU(inplace=True)\n",
              "        (conv2): Conv2d(128, 32, kernel_size=(3, 3), stride=(1, 1), padding=(1, 1), bias=False)\n",
              "      )\n",
              "      (denselayer20): _DenseLayer(\n",
              "        (norm1): BatchNorm2d(864, eps=1e-05, momentum=0.1, affine=True, track_running_stats=True)\n",
              "        (relu1): ReLU(inplace=True)\n",
              "        (conv1): Conv2d(864, 128, kernel_size=(1, 1), stride=(1, 1), bias=False)\n",
              "        (norm2): BatchNorm2d(128, eps=1e-05, momentum=0.1, affine=True, track_running_stats=True)\n",
              "        (relu2): ReLU(inplace=True)\n",
              "        (conv2): Conv2d(128, 32, kernel_size=(3, 3), stride=(1, 1), padding=(1, 1), bias=False)\n",
              "      )\n",
              "      (denselayer21): _DenseLayer(\n",
              "        (norm1): BatchNorm2d(896, eps=1e-05, momentum=0.1, affine=True, track_running_stats=True)\n",
              "        (relu1): ReLU(inplace=True)\n",
              "        (conv1): Conv2d(896, 128, kernel_size=(1, 1), stride=(1, 1), bias=False)\n",
              "        (norm2): BatchNorm2d(128, eps=1e-05, momentum=0.1, affine=True, track_running_stats=True)\n",
              "        (relu2): ReLU(inplace=True)\n",
              "        (conv2): Conv2d(128, 32, kernel_size=(3, 3), stride=(1, 1), padding=(1, 1), bias=False)\n",
              "      )\n",
              "      (denselayer22): _DenseLayer(\n",
              "        (norm1): BatchNorm2d(928, eps=1e-05, momentum=0.1, affine=True, track_running_stats=True)\n",
              "        (relu1): ReLU(inplace=True)\n",
              "        (conv1): Conv2d(928, 128, kernel_size=(1, 1), stride=(1, 1), bias=False)\n",
              "        (norm2): BatchNorm2d(128, eps=1e-05, momentum=0.1, affine=True, track_running_stats=True)\n",
              "        (relu2): ReLU(inplace=True)\n",
              "        (conv2): Conv2d(128, 32, kernel_size=(3, 3), stride=(1, 1), padding=(1, 1), bias=False)\n",
              "      )\n",
              "      (denselayer23): _DenseLayer(\n",
              "        (norm1): BatchNorm2d(960, eps=1e-05, momentum=0.1, affine=True, track_running_stats=True)\n",
              "        (relu1): ReLU(inplace=True)\n",
              "        (conv1): Conv2d(960, 128, kernel_size=(1, 1), stride=(1, 1), bias=False)\n",
              "        (norm2): BatchNorm2d(128, eps=1e-05, momentum=0.1, affine=True, track_running_stats=True)\n",
              "        (relu2): ReLU(inplace=True)\n",
              "        (conv2): Conv2d(128, 32, kernel_size=(3, 3), stride=(1, 1), padding=(1, 1), bias=False)\n",
              "      )\n",
              "      (denselayer24): _DenseLayer(\n",
              "        (norm1): BatchNorm2d(992, eps=1e-05, momentum=0.1, affine=True, track_running_stats=True)\n",
              "        (relu1): ReLU(inplace=True)\n",
              "        (conv1): Conv2d(992, 128, kernel_size=(1, 1), stride=(1, 1), bias=False)\n",
              "        (norm2): BatchNorm2d(128, eps=1e-05, momentum=0.1, affine=True, track_running_stats=True)\n",
              "        (relu2): ReLU(inplace=True)\n",
              "        (conv2): Conv2d(128, 32, kernel_size=(3, 3), stride=(1, 1), padding=(1, 1), bias=False)\n",
              "      )\n",
              "    )\n",
              "    (9): _Transition(\n",
              "      (norm): BatchNorm2d(1024, eps=1e-05, momentum=0.1, affine=True, track_running_stats=True)\n",
              "      (relu): ReLU(inplace=True)\n",
              "      (conv): Conv2d(1024, 512, kernel_size=(1, 1), stride=(1, 1), bias=False)\n",
              "      (pool): AvgPool2d(kernel_size=2, stride=2, padding=0)\n",
              "    )\n",
              "    (10): _DenseBlock(\n",
              "      (denselayer1): _DenseLayer(\n",
              "        (norm1): BatchNorm2d(512, eps=1e-05, momentum=0.1, affine=True, track_running_stats=True)\n",
              "        (relu1): ReLU(inplace=True)\n",
              "        (conv1): Conv2d(512, 128, kernel_size=(1, 1), stride=(1, 1), bias=False)\n",
              "        (norm2): BatchNorm2d(128, eps=1e-05, momentum=0.1, affine=True, track_running_stats=True)\n",
              "        (relu2): ReLU(inplace=True)\n",
              "        (conv2): Conv2d(128, 32, kernel_size=(3, 3), stride=(1, 1), padding=(1, 1), bias=False)\n",
              "      )\n",
              "      (denselayer2): _DenseLayer(\n",
              "        (norm1): BatchNorm2d(544, eps=1e-05, momentum=0.1, affine=True, track_running_stats=True)\n",
              "        (relu1): ReLU(inplace=True)\n",
              "        (conv1): Conv2d(544, 128, kernel_size=(1, 1), stride=(1, 1), bias=False)\n",
              "        (norm2): BatchNorm2d(128, eps=1e-05, momentum=0.1, affine=True, track_running_stats=True)\n",
              "        (relu2): ReLU(inplace=True)\n",
              "        (conv2): Conv2d(128, 32, kernel_size=(3, 3), stride=(1, 1), padding=(1, 1), bias=False)\n",
              "      )\n",
              "      (denselayer3): _DenseLayer(\n",
              "        (norm1): BatchNorm2d(576, eps=1e-05, momentum=0.1, affine=True, track_running_stats=True)\n",
              "        (relu1): ReLU(inplace=True)\n",
              "        (conv1): Conv2d(576, 128, kernel_size=(1, 1), stride=(1, 1), bias=False)\n",
              "        (norm2): BatchNorm2d(128, eps=1e-05, momentum=0.1, affine=True, track_running_stats=True)\n",
              "        (relu2): ReLU(inplace=True)\n",
              "        (conv2): Conv2d(128, 32, kernel_size=(3, 3), stride=(1, 1), padding=(1, 1), bias=False)\n",
              "      )\n",
              "      (denselayer4): _DenseLayer(\n",
              "        (norm1): BatchNorm2d(608, eps=1e-05, momentum=0.1, affine=True, track_running_stats=True)\n",
              "        (relu1): ReLU(inplace=True)\n",
              "        (conv1): Conv2d(608, 128, kernel_size=(1, 1), stride=(1, 1), bias=False)\n",
              "        (norm2): BatchNorm2d(128, eps=1e-05, momentum=0.1, affine=True, track_running_stats=True)\n",
              "        (relu2): ReLU(inplace=True)\n",
              "        (conv2): Conv2d(128, 32, kernel_size=(3, 3), stride=(1, 1), padding=(1, 1), bias=False)\n",
              "      )\n",
              "      (denselayer5): _DenseLayer(\n",
              "        (norm1): BatchNorm2d(640, eps=1e-05, momentum=0.1, affine=True, track_running_stats=True)\n",
              "        (relu1): ReLU(inplace=True)\n",
              "        (conv1): Conv2d(640, 128, kernel_size=(1, 1), stride=(1, 1), bias=False)\n",
              "        (norm2): BatchNorm2d(128, eps=1e-05, momentum=0.1, affine=True, track_running_stats=True)\n",
              "        (relu2): ReLU(inplace=True)\n",
              "        (conv2): Conv2d(128, 32, kernel_size=(3, 3), stride=(1, 1), padding=(1, 1), bias=False)\n",
              "      )\n",
              "      (denselayer6): _DenseLayer(\n",
              "        (norm1): BatchNorm2d(672, eps=1e-05, momentum=0.1, affine=True, track_running_stats=True)\n",
              "        (relu1): ReLU(inplace=True)\n",
              "        (conv1): Conv2d(672, 128, kernel_size=(1, 1), stride=(1, 1), bias=False)\n",
              "        (norm2): BatchNorm2d(128, eps=1e-05, momentum=0.1, affine=True, track_running_stats=True)\n",
              "        (relu2): ReLU(inplace=True)\n",
              "        (conv2): Conv2d(128, 32, kernel_size=(3, 3), stride=(1, 1), padding=(1, 1), bias=False)\n",
              "      )\n",
              "      (denselayer7): _DenseLayer(\n",
              "        (norm1): BatchNorm2d(704, eps=1e-05, momentum=0.1, affine=True, track_running_stats=True)\n",
              "        (relu1): ReLU(inplace=True)\n",
              "        (conv1): Conv2d(704, 128, kernel_size=(1, 1), stride=(1, 1), bias=False)\n",
              "        (norm2): BatchNorm2d(128, eps=1e-05, momentum=0.1, affine=True, track_running_stats=True)\n",
              "        (relu2): ReLU(inplace=True)\n",
              "        (conv2): Conv2d(128, 32, kernel_size=(3, 3), stride=(1, 1), padding=(1, 1), bias=False)\n",
              "      )\n",
              "      (denselayer8): _DenseLayer(\n",
              "        (norm1): BatchNorm2d(736, eps=1e-05, momentum=0.1, affine=True, track_running_stats=True)\n",
              "        (relu1): ReLU(inplace=True)\n",
              "        (conv1): Conv2d(736, 128, kernel_size=(1, 1), stride=(1, 1), bias=False)\n",
              "        (norm2): BatchNorm2d(128, eps=1e-05, momentum=0.1, affine=True, track_running_stats=True)\n",
              "        (relu2): ReLU(inplace=True)\n",
              "        (conv2): Conv2d(128, 32, kernel_size=(3, 3), stride=(1, 1), padding=(1, 1), bias=False)\n",
              "      )\n",
              "      (denselayer9): _DenseLayer(\n",
              "        (norm1): BatchNorm2d(768, eps=1e-05, momentum=0.1, affine=True, track_running_stats=True)\n",
              "        (relu1): ReLU(inplace=True)\n",
              "        (conv1): Conv2d(768, 128, kernel_size=(1, 1), stride=(1, 1), bias=False)\n",
              "        (norm2): BatchNorm2d(128, eps=1e-05, momentum=0.1, affine=True, track_running_stats=True)\n",
              "        (relu2): ReLU(inplace=True)\n",
              "        (conv2): Conv2d(128, 32, kernel_size=(3, 3), stride=(1, 1), padding=(1, 1), bias=False)\n",
              "      )\n",
              "      (denselayer10): _DenseLayer(\n",
              "        (norm1): BatchNorm2d(800, eps=1e-05, momentum=0.1, affine=True, track_running_stats=True)\n",
              "        (relu1): ReLU(inplace=True)\n",
              "        (conv1): Conv2d(800, 128, kernel_size=(1, 1), stride=(1, 1), bias=False)\n",
              "        (norm2): BatchNorm2d(128, eps=1e-05, momentum=0.1, affine=True, track_running_stats=True)\n",
              "        (relu2): ReLU(inplace=True)\n",
              "        (conv2): Conv2d(128, 32, kernel_size=(3, 3), stride=(1, 1), padding=(1, 1), bias=False)\n",
              "      )\n",
              "      (denselayer11): _DenseLayer(\n",
              "        (norm1): BatchNorm2d(832, eps=1e-05, momentum=0.1, affine=True, track_running_stats=True)\n",
              "        (relu1): ReLU(inplace=True)\n",
              "        (conv1): Conv2d(832, 128, kernel_size=(1, 1), stride=(1, 1), bias=False)\n",
              "        (norm2): BatchNorm2d(128, eps=1e-05, momentum=0.1, affine=True, track_running_stats=True)\n",
              "        (relu2): ReLU(inplace=True)\n",
              "        (conv2): Conv2d(128, 32, kernel_size=(3, 3), stride=(1, 1), padding=(1, 1), bias=False)\n",
              "      )\n",
              "      (denselayer12): _DenseLayer(\n",
              "        (norm1): BatchNorm2d(864, eps=1e-05, momentum=0.1, affine=True, track_running_stats=True)\n",
              "        (relu1): ReLU(inplace=True)\n",
              "        (conv1): Conv2d(864, 128, kernel_size=(1, 1), stride=(1, 1), bias=False)\n",
              "        (norm2): BatchNorm2d(128, eps=1e-05, momentum=0.1, affine=True, track_running_stats=True)\n",
              "        (relu2): ReLU(inplace=True)\n",
              "        (conv2): Conv2d(128, 32, kernel_size=(3, 3), stride=(1, 1), padding=(1, 1), bias=False)\n",
              "      )\n",
              "      (denselayer13): _DenseLayer(\n",
              "        (norm1): BatchNorm2d(896, eps=1e-05, momentum=0.1, affine=True, track_running_stats=True)\n",
              "        (relu1): ReLU(inplace=True)\n",
              "        (conv1): Conv2d(896, 128, kernel_size=(1, 1), stride=(1, 1), bias=False)\n",
              "        (norm2): BatchNorm2d(128, eps=1e-05, momentum=0.1, affine=True, track_running_stats=True)\n",
              "        (relu2): ReLU(inplace=True)\n",
              "        (conv2): Conv2d(128, 32, kernel_size=(3, 3), stride=(1, 1), padding=(1, 1), bias=False)\n",
              "      )\n",
              "      (denselayer14): _DenseLayer(\n",
              "        (norm1): BatchNorm2d(928, eps=1e-05, momentum=0.1, affine=True, track_running_stats=True)\n",
              "        (relu1): ReLU(inplace=True)\n",
              "        (conv1): Conv2d(928, 128, kernel_size=(1, 1), stride=(1, 1), bias=False)\n",
              "        (norm2): BatchNorm2d(128, eps=1e-05, momentum=0.1, affine=True, track_running_stats=True)\n",
              "        (relu2): ReLU(inplace=True)\n",
              "        (conv2): Conv2d(128, 32, kernel_size=(3, 3), stride=(1, 1), padding=(1, 1), bias=False)\n",
              "      )\n",
              "      (denselayer15): _DenseLayer(\n",
              "        (norm1): BatchNorm2d(960, eps=1e-05, momentum=0.1, affine=True, track_running_stats=True)\n",
              "        (relu1): ReLU(inplace=True)\n",
              "        (conv1): Conv2d(960, 128, kernel_size=(1, 1), stride=(1, 1), bias=False)\n",
              "        (norm2): BatchNorm2d(128, eps=1e-05, momentum=0.1, affine=True, track_running_stats=True)\n",
              "        (relu2): ReLU(inplace=True)\n",
              "        (conv2): Conv2d(128, 32, kernel_size=(3, 3), stride=(1, 1), padding=(1, 1), bias=False)\n",
              "      )\n",
              "      (denselayer16): _DenseLayer(\n",
              "        (norm1): BatchNorm2d(992, eps=1e-05, momentum=0.1, affine=True, track_running_stats=True)\n",
              "        (relu1): ReLU(inplace=True)\n",
              "        (conv1): Conv2d(992, 128, kernel_size=(1, 1), stride=(1, 1), bias=False)\n",
              "        (norm2): BatchNorm2d(128, eps=1e-05, momentum=0.1, affine=True, track_running_stats=True)\n",
              "        (relu2): ReLU(inplace=True)\n",
              "        (conv2): Conv2d(128, 32, kernel_size=(3, 3), stride=(1, 1), padding=(1, 1), bias=False)\n",
              "      )\n",
              "    )\n",
              "    (11): BatchNorm2d(1024, eps=1e-05, momentum=0.1, affine=True, track_running_stats=True)\n",
              "    (12): ReLU(inplace=True)\n",
              "  )\n",
              "  (head): Sequential(\n",
              "    (0): Linear(in_features=1024, out_features=14, bias=True)\n",
              "  )\n",
              ")>"
            ]
          },
          "metadata": {
            "tags": []
          },
          "execution_count": 45
        }
      ]
    },
    {
      "cell_type": "code",
      "metadata": {
        "id": "IaG4wEbfz4kW"
      },
      "source": [
        "import warnings\n",
        "warnings.filterwarnings('ignore')"
      ],
      "execution_count": 6,
      "outputs": []
    },
    {
      "cell_type": "code",
      "metadata": {
        "colab": {
          "base_uri": "https://localhost:8080/"
        },
        "id": "RG8pHY1aW5r6",
        "outputId": "9d3acb2d-f95f-4665-d2e2-d0f802b2799b"
      },
      "source": [
        "# 5. Create the trainer\n",
        "trainer = flash.Trainer(gpus=1,progress_bar_refresh_rate = 20,\n",
        "                        max_epochs=5)"
      ],
      "execution_count": null,
      "outputs": [
        {
          "output_type": "stream",
          "text": [
            "GPU available: True, used: True\n",
            "TPU available: False, using: 0 TPU cores\n"
          ],
          "name": "stderr"
        }
      ]
    },
    {
      "cell_type": "code",
      "metadata": {
        "colab": {
          "base_uri": "https://localhost:8080/",
          "height": 362,
          "referenced_widgets": [
            "bfd376a5b37c475592f71ca43f5c22eb",
            "18bed0f9add741c8b16e5529ac4658e7",
            "c7e5ce2ecc244071977fd105134f7e21",
            "fd2ed8716fad4379b6dff613517e5928",
            "da61759412074913aa9c0f18a3be89c0",
            "95e5e5cd17324e0197738fcb5e5a58db",
            "fa57625ea3c641cca4170358dbbed08a",
            "e664aa3aa0da4f3eb64dedf5b4b460dc",
            "3be9481510734d048935d3476905954d",
            "9f759a8d418242fb9c648d2c182a311b",
            "6d4c515390cf4f27b504e9ced14f98b9",
            "4c2ee2873266402a9423aa12dc437421",
            "8698e40abb1a4901b3f3018e9017894f",
            "fa3bed1f9eb5428ea1e02916c9c1b7f1",
            "c1d44fd9f35c4edeb9b6684ae7d57a1f",
            "aeb5c61f3f33445d83af0701f5a50470",
            "88c5a2f4638a47ac8b7299664da86717",
            "5c30fa7b3b9f4a2a9bcc120b88030491",
            "1e3164999d62457a845c0507033ac3d7",
            "db6eb2960259467ebac74115f3b63717",
            "1f51a2ff52d94246942caf419b05f572",
            "f09b40c0cbe84b34bd93febda600e7b2",
            "055ed270ceef4db78fdb250b33e08948",
            "ce2a1ff5aef346bc8173d06d11071288",
            "7f89cf4602c944b88d63bdbe5d552ce8",
            "80e5a91dd93548f4b98b532065ea3aac",
            "9b6a57f7f81e4e6d80764637bd978c78",
            "37900303806d456db35ba5a95d7a70fd",
            "6a37f9d16c7e4221b980035eb96d045c",
            "d5c9903ee3214ff3b573f1ed1c501037",
            "045320c9ecd347da88a09e39bb7dbcdd",
            "21f6377208f341c4a79034b867c3400e",
            "d1b57237700846258aa3d08c7510c868",
            "a714615bcfec4a719c1f4107b7970178",
            "1f2e83f580aa469cb7450504d945b874",
            "ac5e7d46727240aaa4900b7a549ff282",
            "7d3b0de509a4476396ba15eaea9217d3",
            "49846b55fdd14058a6f174bf07e20688",
            "90ab254687954100b31304f5ca362b2b",
            "4264819b41074f1faf84c3068d23441f",
            "e11f7a46033c40f997f5b3ed949f42fe",
            "ff4af9b11c7a4395ba0f9619251fc279",
            "390afd14610f4766a30e982f970be140",
            "6eab2a826aee4b93b430f55982742dda",
            "35f3dfa1397d491c8c55226f9a1de677",
            "0aaff5d44e774d47b4837233e2e589fd",
            "909b6585f50847b3938fc1ef3f4adf43",
            "f3bdec18630248fe8b86fc4016cbdc1d",
            "9b2661fccb4545ab8476f90ca88ab640",
            "7ae0ea0751844c1680bdc9fd9d8cb349",
            "3e1f4f04d4eb4a37bf4384e90841c225",
            "ac19dadae5d9421eb888d9a96054d2d6",
            "0637daa821da4c238fd0ef1cbbeb296e",
            "1fcce96c97f94b19883b1a1a47faa32a",
            "6052ed1b0ff2451dbc3998fd2825f667",
            "4a4202a9b1ad40b3bb7938b10249e0ae"
          ]
        },
        "id": "9EyY7K3mYAMj",
        "outputId": "10af7894-75be-425c-f714-9d1afbb9fc29"
      },
      "source": [
        "trainer.finetune(model, datamodule=datamodule, strategy=FreezeUnfreeze(unfreeze_epoch=1))"
      ],
      "execution_count": null,
      "outputs": [
        {
          "output_type": "stream",
          "text": [
            "LOCAL_RANK: 0 - CUDA_VISIBLE_DEVICES: [0]\n",
            "\n",
            "  | Name     | Type       | Params\n",
            "----------------------------------------\n",
            "0 | metrics  | ModuleDict | 0     \n",
            "1 | backbone | Sequential | 7.0 M \n",
            "2 | head     | Sequential | 14.3 K\n",
            "----------------------------------------\n",
            "98.0 K    Trainable params\n",
            "6.9 M     Non-trainable params\n",
            "7.0 M     Total params\n",
            "27.873    Total estimated model params size (MB)\n"
          ],
          "name": "stderr"
        },
        {
          "output_type": "display_data",
          "data": {
            "application/vnd.jupyter.widget-view+json": {
              "model_id": "bfd376a5b37c475592f71ca43f5c22eb",
              "version_minor": 0,
              "version_major": 2
            },
            "text/plain": [
              "HBox(children=(FloatProgress(value=1.0, bar_style='info', description='Validation sanity check', layout=Layout…"
            ]
          },
          "metadata": {
            "tags": []
          }
        },
        {
          "output_type": "stream",
          "text": [
            "\r"
          ],
          "name": "stdout"
        },
        {
          "output_type": "display_data",
          "data": {
            "application/vnd.jupyter.widget-view+json": {
              "model_id": "3be9481510734d048935d3476905954d",
              "version_minor": 0,
              "version_major": 2
            },
            "text/plain": [
              "HBox(children=(FloatProgress(value=1.0, bar_style='info', description='Training', layout=Layout(flex='2'), max…"
            ]
          },
          "metadata": {
            "tags": []
          }
        },
        {
          "output_type": "display_data",
          "data": {
            "application/vnd.jupyter.widget-view+json": {
              "model_id": "88c5a2f4638a47ac8b7299664da86717",
              "version_minor": 0,
              "version_major": 2
            },
            "text/plain": [
              "HBox(children=(FloatProgress(value=1.0, bar_style='info', description='Validating', layout=Layout(flex='2'), m…"
            ]
          },
          "metadata": {
            "tags": []
          }
        },
        {
          "output_type": "display_data",
          "data": {
            "application/vnd.jupyter.widget-view+json": {
              "model_id": "7f89cf4602c944b88d63bdbe5d552ce8",
              "version_minor": 0,
              "version_major": 2
            },
            "text/plain": [
              "HBox(children=(FloatProgress(value=1.0, bar_style='info', description='Validating', layout=Layout(flex='2'), m…"
            ]
          },
          "metadata": {
            "tags": []
          }
        },
        {
          "output_type": "display_data",
          "data": {
            "application/vnd.jupyter.widget-view+json": {
              "model_id": "d1b57237700846258aa3d08c7510c868",
              "version_minor": 0,
              "version_major": 2
            },
            "text/plain": [
              "HBox(children=(FloatProgress(value=1.0, bar_style='info', description='Validating', layout=Layout(flex='2'), m…"
            ]
          },
          "metadata": {
            "tags": []
          }
        },
        {
          "output_type": "display_data",
          "data": {
            "application/vnd.jupyter.widget-view+json": {
              "model_id": "e11f7a46033c40f997f5b3ed949f42fe",
              "version_minor": 0,
              "version_major": 2
            },
            "text/plain": [
              "HBox(children=(FloatProgress(value=1.0, bar_style='info', description='Validating', layout=Layout(flex='2'), m…"
            ]
          },
          "metadata": {
            "tags": []
          }
        },
        {
          "output_type": "display_data",
          "data": {
            "application/vnd.jupyter.widget-view+json": {
              "model_id": "9b2661fccb4545ab8476f90ca88ab640",
              "version_minor": 0,
              "version_major": 2
            },
            "text/plain": [
              "HBox(children=(FloatProgress(value=1.0, bar_style='info', description='Validating', layout=Layout(flex='2'), m…"
            ]
          },
          "metadata": {
            "tags": []
          }
        },
        {
          "output_type": "stream",
          "text": [
            "\n"
          ],
          "name": "stdout"
        }
      ]
    },
    {
      "cell_type": "code",
      "metadata": {
        "colab": {
          "base_uri": "https://localhost:8080/",
          "height": 345,
          "referenced_widgets": [
            "89bbd5e0602247b491800b4f2f2a4bab",
            "b3f0d3b0e14e4405b438bae2f850ca69",
            "98c72b379d2d4614afb70c91ab755f7a",
            "ed690e858a364a1d933bfb26bab7c779",
            "b61505f11dde486496c02c0ceef4d232",
            "114d32ba00f84ac3b1ea21d75e4058a7",
            "dbe46d368dd44196928c07b691895837",
            "ceef5aa61c27465d8d2a66baa3ffd77f",
            "b06be8172a2a4d4889f3021f59118791",
            "5ffd15028a71499c9dade4017d20d686",
            "7d5124371010471d9535301ba4f8d088",
            "2fa7ab51e7cc462a8ceadaf00226e291",
            "d69ba548421c4ed480f365bad09e39a3",
            "c92d1923a30d44b184af34775b3a510b",
            "d0b694e166094af18f4d888463d72798",
            "658374411fbb43ce92375b753394a990",
            "c93c9b4a2dd34d46b325124a3f511fc4",
            "9fe3f1b7aae34db88be4919cfd71e9a1",
            "d13e5e0a00ac448b899338c2a94039b3",
            "2c3615d82c7e46e8be8542063e01e8fe",
            "1d9a4fd8a7b24a6f9640dc7738ef18cb",
            "4bdcedd7fb27430fb7d96caf1ede7958",
            "d3023c3181094cc68d6473b5ff9cdb9a",
            "a519be8b4ff04070972d0309110e9bcb"
          ]
        },
        "id": "FYOcEGZwgEYY",
        "outputId": "2c66cb8d-4f7f-4711-e654-04351091fcfd"
      },
      "source": [
        "trainer.fit(model,datamodule=datamodule,)"
      ],
      "execution_count": null,
      "outputs": [
        {
          "output_type": "stream",
          "text": [
            "LOCAL_RANK: 0 - CUDA_VISIBLE_DEVICES: [0]\n",
            "\n",
            "  | Name     | Type       | Params\n",
            "----------------------------------------\n",
            "0 | metrics  | ModuleDict | 0     \n",
            "1 | backbone | Sequential | 7.0 M \n",
            "2 | head     | Sequential | 14.3 K\n",
            "----------------------------------------\n",
            "98.0 K    Trainable params\n",
            "6.9 M     Non-trainable params\n",
            "7.0 M     Total params\n",
            "27.873    Total estimated model params size (MB)\n"
          ],
          "name": "stderr"
        },
        {
          "output_type": "display_data",
          "data": {
            "application/vnd.jupyter.widget-view+json": {
              "model_id": "89bbd5e0602247b491800b4f2f2a4bab",
              "version_minor": 0,
              "version_major": 2
            },
            "text/plain": [
              "HBox(children=(FloatProgress(value=1.0, bar_style='info', description='Validation sanity check', layout=Layout…"
            ]
          },
          "metadata": {
            "tags": []
          }
        },
        {
          "output_type": "stream",
          "text": [
            "\r"
          ],
          "name": "stdout"
        },
        {
          "output_type": "display_data",
          "data": {
            "application/vnd.jupyter.widget-view+json": {
              "model_id": "b06be8172a2a4d4889f3021f59118791",
              "version_minor": 0,
              "version_major": 2
            },
            "text/plain": [
              "HBox(children=(FloatProgress(value=1.0, bar_style='info', description='Training', layout=Layout(flex='2'), max…"
            ]
          },
          "metadata": {
            "tags": []
          }
        },
        {
          "output_type": "display_data",
          "data": {
            "application/vnd.jupyter.widget-view+json": {
              "model_id": "c93c9b4a2dd34d46b325124a3f511fc4",
              "version_minor": 0,
              "version_major": 2
            },
            "text/plain": [
              "HBox(children=(FloatProgress(value=1.0, bar_style='info', description='Validating', layout=Layout(flex='2'), m…"
            ]
          },
          "metadata": {
            "tags": []
          }
        }
      ]
    },
    {
      "cell_type": "code",
      "metadata": {
        "id": "rjS-T5ol2npu"
      },
      "source": [
        "trainer.save_checkpoint(\"/content/drive/MyDrive/dphi/Kvasir/image_classification_model.pt\")"
      ],
      "execution_count": null,
      "outputs": []
    },
    {
      "cell_type": "code",
      "metadata": {
        "id": "v87gBBIVBkZD"
      },
      "source": [
        "model = ImageClassifier.load_from_checkpoint(\"/content/drive/MyDrive/dphi/Kvasir/image_classification_model.pt\")"
      ],
      "execution_count": null,
      "outputs": []
    },
    {
      "cell_type": "code",
      "metadata": {
        "id": "4cPFZx9WBoBy"
      },
      "source": [
        "model.serializer = Labels()"
      ],
      "execution_count": null,
      "outputs": []
    },
    {
      "cell_type": "code",
      "metadata": {
        "id": "qzeU-CCZ5X4t",
        "colab": {
          "base_uri": "https://localhost:8080/",
          "height": 204
        },
        "outputId": "b4f74047-6917-461c-efa7-690c5197cd90"
      },
      "source": [
        "test_data.head()"
      ],
      "execution_count": null,
      "outputs": [
        {
          "output_type": "execute_result",
          "data": {
            "text/html": [
              "<div>\n",
              "<style scoped>\n",
              "    .dataframe tbody tr th:only-of-type {\n",
              "        vertical-align: middle;\n",
              "    }\n",
              "\n",
              "    .dataframe tbody tr th {\n",
              "        vertical-align: top;\n",
              "    }\n",
              "\n",
              "    .dataframe thead th {\n",
              "        text-align: right;\n",
              "    }\n",
              "</style>\n",
              "<table border=\"1\" class=\"dataframe\">\n",
              "  <thead>\n",
              "    <tr style=\"text-align: right;\">\n",
              "      <th></th>\n",
              "      <th>image_path</th>\n",
              "    </tr>\n",
              "  </thead>\n",
              "  <tbody>\n",
              "    <tr>\n",
              "      <th>0</th>\n",
              "      <td>/content/drive/MyDrive/dphi/Kvasir/The Kvasir-...</td>\n",
              "    </tr>\n",
              "    <tr>\n",
              "      <th>1</th>\n",
              "      <td>/content/drive/MyDrive/dphi/Kvasir/The Kvasir-...</td>\n",
              "    </tr>\n",
              "    <tr>\n",
              "      <th>2</th>\n",
              "      <td>/content/drive/MyDrive/dphi/Kvasir/The Kvasir-...</td>\n",
              "    </tr>\n",
              "    <tr>\n",
              "      <th>3</th>\n",
              "      <td>/content/drive/MyDrive/dphi/Kvasir/The Kvasir-...</td>\n",
              "    </tr>\n",
              "    <tr>\n",
              "      <th>4</th>\n",
              "      <td>/content/drive/MyDrive/dphi/Kvasir/The Kvasir-...</td>\n",
              "    </tr>\n",
              "  </tbody>\n",
              "</table>\n",
              "</div>"
            ],
            "text/plain": [
              "                                          image_path\n",
              "0  /content/drive/MyDrive/dphi/Kvasir/The Kvasir-...\n",
              "1  /content/drive/MyDrive/dphi/Kvasir/The Kvasir-...\n",
              "2  /content/drive/MyDrive/dphi/Kvasir/The Kvasir-...\n",
              "3  /content/drive/MyDrive/dphi/Kvasir/The Kvasir-...\n",
              "4  /content/drive/MyDrive/dphi/Kvasir/The Kvasir-..."
            ]
          },
          "metadata": {
            "tags": []
          },
          "execution_count": 15
        }
      ]
    },
    {
      "cell_type": "code",
      "metadata": {
        "id": "kAMJTz-w5rL8"
      },
      "source": [
        "pred_images  = test_data.values.tolist()"
      ],
      "execution_count": 18,
      "outputs": []
    },
    {
      "cell_type": "code",
      "metadata": {
        "id": "id6CqNG55-cN"
      },
      "source": [
        "imgs = [i[0] for i in pred_images ]\n"
      ],
      "execution_count": 19,
      "outputs": []
    },
    {
      "cell_type": "code",
      "metadata": {
        "id": "yImvsmgx6RKp",
        "colab": {
          "base_uri": "https://localhost:8080/"
        },
        "outputId": "34ccfa91-5ac3-4fb6-fb8e-2a586f63fbed"
      },
      "source": [
        "imgs"
      ],
      "execution_count": 20,
      "outputs": [
        {
          "output_type": "execute_result",
          "data": {
            "text/plain": [
              "['/content/drive/MyDrive/dphi/Kvasir/The Kvasir-Capsule/test/Image_1.jpg',\n",
              " '/content/drive/MyDrive/dphi/Kvasir/The Kvasir-Capsule/test/Image_2.jpg',\n",
              " '/content/drive/MyDrive/dphi/Kvasir/The Kvasir-Capsule/test/Image_3.jpg',\n",
              " '/content/drive/MyDrive/dphi/Kvasir/The Kvasir-Capsule/test/Image_4.jpg',\n",
              " '/content/drive/MyDrive/dphi/Kvasir/The Kvasir-Capsule/test/Image_5.jpg',\n",
              " '/content/drive/MyDrive/dphi/Kvasir/The Kvasir-Capsule/test/Image_6.jpg',\n",
              " '/content/drive/MyDrive/dphi/Kvasir/The Kvasir-Capsule/test/Image_7.jpg',\n",
              " '/content/drive/MyDrive/dphi/Kvasir/The Kvasir-Capsule/test/Image_8.jpg',\n",
              " '/content/drive/MyDrive/dphi/Kvasir/The Kvasir-Capsule/test/Image_9.jpg',\n",
              " '/content/drive/MyDrive/dphi/Kvasir/The Kvasir-Capsule/test/Image_10.jpg',\n",
              " '/content/drive/MyDrive/dphi/Kvasir/The Kvasir-Capsule/test/Image_11.jpg',\n",
              " '/content/drive/MyDrive/dphi/Kvasir/The Kvasir-Capsule/test/Image_12.jpg',\n",
              " '/content/drive/MyDrive/dphi/Kvasir/The Kvasir-Capsule/test/Image_13.jpg',\n",
              " '/content/drive/MyDrive/dphi/Kvasir/The Kvasir-Capsule/test/Image_14.jpg',\n",
              " '/content/drive/MyDrive/dphi/Kvasir/The Kvasir-Capsule/test/Image_15.jpg',\n",
              " '/content/drive/MyDrive/dphi/Kvasir/The Kvasir-Capsule/test/Image_16.jpg',\n",
              " '/content/drive/MyDrive/dphi/Kvasir/The Kvasir-Capsule/test/Image_17.jpg',\n",
              " '/content/drive/MyDrive/dphi/Kvasir/The Kvasir-Capsule/test/Image_18.jpg',\n",
              " '/content/drive/MyDrive/dphi/Kvasir/The Kvasir-Capsule/test/Image_19.jpg',\n",
              " '/content/drive/MyDrive/dphi/Kvasir/The Kvasir-Capsule/test/Image_20.jpg',\n",
              " '/content/drive/MyDrive/dphi/Kvasir/The Kvasir-Capsule/test/Image_21.jpg',\n",
              " '/content/drive/MyDrive/dphi/Kvasir/The Kvasir-Capsule/test/Image_22.jpg',\n",
              " '/content/drive/MyDrive/dphi/Kvasir/The Kvasir-Capsule/test/Image_23.jpg',\n",
              " '/content/drive/MyDrive/dphi/Kvasir/The Kvasir-Capsule/test/Image_24.jpg',\n",
              " '/content/drive/MyDrive/dphi/Kvasir/The Kvasir-Capsule/test/Image_25.jpg',\n",
              " '/content/drive/MyDrive/dphi/Kvasir/The Kvasir-Capsule/test/Image_26.jpg',\n",
              " '/content/drive/MyDrive/dphi/Kvasir/The Kvasir-Capsule/test/Image_27.jpg',\n",
              " '/content/drive/MyDrive/dphi/Kvasir/The Kvasir-Capsule/test/Image_28.jpg',\n",
              " '/content/drive/MyDrive/dphi/Kvasir/The Kvasir-Capsule/test/Image_29.jpg',\n",
              " '/content/drive/MyDrive/dphi/Kvasir/The Kvasir-Capsule/test/Image_30.jpg',\n",
              " '/content/drive/MyDrive/dphi/Kvasir/The Kvasir-Capsule/test/Image_31.jpg',\n",
              " '/content/drive/MyDrive/dphi/Kvasir/The Kvasir-Capsule/test/Image_32.jpg',\n",
              " '/content/drive/MyDrive/dphi/Kvasir/The Kvasir-Capsule/test/Image_33.jpg',\n",
              " '/content/drive/MyDrive/dphi/Kvasir/The Kvasir-Capsule/test/Image_34.jpg',\n",
              " '/content/drive/MyDrive/dphi/Kvasir/The Kvasir-Capsule/test/Image_35.jpg',\n",
              " '/content/drive/MyDrive/dphi/Kvasir/The Kvasir-Capsule/test/Image_36.jpg',\n",
              " '/content/drive/MyDrive/dphi/Kvasir/The Kvasir-Capsule/test/Image_37.jpg',\n",
              " '/content/drive/MyDrive/dphi/Kvasir/The Kvasir-Capsule/test/Image_38.jpg',\n",
              " '/content/drive/MyDrive/dphi/Kvasir/The Kvasir-Capsule/test/Image_39.jpg',\n",
              " '/content/drive/MyDrive/dphi/Kvasir/The Kvasir-Capsule/test/Image_40.jpg',\n",
              " '/content/drive/MyDrive/dphi/Kvasir/The Kvasir-Capsule/test/Image_41.jpg',\n",
              " '/content/drive/MyDrive/dphi/Kvasir/The Kvasir-Capsule/test/Image_42.jpg',\n",
              " '/content/drive/MyDrive/dphi/Kvasir/The Kvasir-Capsule/test/Image_43.jpg',\n",
              " '/content/drive/MyDrive/dphi/Kvasir/The Kvasir-Capsule/test/Image_44.jpg',\n",
              " '/content/drive/MyDrive/dphi/Kvasir/The Kvasir-Capsule/test/Image_45.jpg',\n",
              " '/content/drive/MyDrive/dphi/Kvasir/The Kvasir-Capsule/test/Image_46.jpg',\n",
              " '/content/drive/MyDrive/dphi/Kvasir/The Kvasir-Capsule/test/Image_47.jpg',\n",
              " '/content/drive/MyDrive/dphi/Kvasir/The Kvasir-Capsule/test/Image_48.jpg',\n",
              " '/content/drive/MyDrive/dphi/Kvasir/The Kvasir-Capsule/test/Image_49.jpg',\n",
              " '/content/drive/MyDrive/dphi/Kvasir/The Kvasir-Capsule/test/Image_50.jpg',\n",
              " '/content/drive/MyDrive/dphi/Kvasir/The Kvasir-Capsule/test/Image_51.jpg',\n",
              " '/content/drive/MyDrive/dphi/Kvasir/The Kvasir-Capsule/test/Image_52.jpg',\n",
              " '/content/drive/MyDrive/dphi/Kvasir/The Kvasir-Capsule/test/Image_53.jpg',\n",
              " '/content/drive/MyDrive/dphi/Kvasir/The Kvasir-Capsule/test/Image_54.jpg',\n",
              " '/content/drive/MyDrive/dphi/Kvasir/The Kvasir-Capsule/test/Image_55.jpg',\n",
              " '/content/drive/MyDrive/dphi/Kvasir/The Kvasir-Capsule/test/Image_56.jpg',\n",
              " '/content/drive/MyDrive/dphi/Kvasir/The Kvasir-Capsule/test/Image_57.jpg',\n",
              " '/content/drive/MyDrive/dphi/Kvasir/The Kvasir-Capsule/test/Image_58.jpg',\n",
              " '/content/drive/MyDrive/dphi/Kvasir/The Kvasir-Capsule/test/Image_59.jpg',\n",
              " '/content/drive/MyDrive/dphi/Kvasir/The Kvasir-Capsule/test/Image_60.jpg',\n",
              " '/content/drive/MyDrive/dphi/Kvasir/The Kvasir-Capsule/test/Image_61.jpg',\n",
              " '/content/drive/MyDrive/dphi/Kvasir/The Kvasir-Capsule/test/Image_62.jpg',\n",
              " '/content/drive/MyDrive/dphi/Kvasir/The Kvasir-Capsule/test/Image_63.jpg',\n",
              " '/content/drive/MyDrive/dphi/Kvasir/The Kvasir-Capsule/test/Image_64.jpg',\n",
              " '/content/drive/MyDrive/dphi/Kvasir/The Kvasir-Capsule/test/Image_65.jpg',\n",
              " '/content/drive/MyDrive/dphi/Kvasir/The Kvasir-Capsule/test/Image_66.jpg',\n",
              " '/content/drive/MyDrive/dphi/Kvasir/The Kvasir-Capsule/test/Image_67.jpg',\n",
              " '/content/drive/MyDrive/dphi/Kvasir/The Kvasir-Capsule/test/Image_68.jpg',\n",
              " '/content/drive/MyDrive/dphi/Kvasir/The Kvasir-Capsule/test/Image_69.jpg',\n",
              " '/content/drive/MyDrive/dphi/Kvasir/The Kvasir-Capsule/test/Image_70.jpg',\n",
              " '/content/drive/MyDrive/dphi/Kvasir/The Kvasir-Capsule/test/Image_71.jpg',\n",
              " '/content/drive/MyDrive/dphi/Kvasir/The Kvasir-Capsule/test/Image_72.jpg',\n",
              " '/content/drive/MyDrive/dphi/Kvasir/The Kvasir-Capsule/test/Image_73.jpg',\n",
              " '/content/drive/MyDrive/dphi/Kvasir/The Kvasir-Capsule/test/Image_74.jpg',\n",
              " '/content/drive/MyDrive/dphi/Kvasir/The Kvasir-Capsule/test/Image_75.jpg',\n",
              " '/content/drive/MyDrive/dphi/Kvasir/The Kvasir-Capsule/test/Image_76.jpg',\n",
              " '/content/drive/MyDrive/dphi/Kvasir/The Kvasir-Capsule/test/Image_77.jpg',\n",
              " '/content/drive/MyDrive/dphi/Kvasir/The Kvasir-Capsule/test/Image_78.jpg',\n",
              " '/content/drive/MyDrive/dphi/Kvasir/The Kvasir-Capsule/test/Image_79.jpg',\n",
              " '/content/drive/MyDrive/dphi/Kvasir/The Kvasir-Capsule/test/Image_80.jpg',\n",
              " '/content/drive/MyDrive/dphi/Kvasir/The Kvasir-Capsule/test/Image_81.jpg',\n",
              " '/content/drive/MyDrive/dphi/Kvasir/The Kvasir-Capsule/test/Image_82.jpg',\n",
              " '/content/drive/MyDrive/dphi/Kvasir/The Kvasir-Capsule/test/Image_83.jpg',\n",
              " '/content/drive/MyDrive/dphi/Kvasir/The Kvasir-Capsule/test/Image_84.jpg',\n",
              " '/content/drive/MyDrive/dphi/Kvasir/The Kvasir-Capsule/test/Image_85.jpg',\n",
              " '/content/drive/MyDrive/dphi/Kvasir/The Kvasir-Capsule/test/Image_86.jpg',\n",
              " '/content/drive/MyDrive/dphi/Kvasir/The Kvasir-Capsule/test/Image_87.jpg',\n",
              " '/content/drive/MyDrive/dphi/Kvasir/The Kvasir-Capsule/test/Image_88.jpg',\n",
              " '/content/drive/MyDrive/dphi/Kvasir/The Kvasir-Capsule/test/Image_89.jpg',\n",
              " '/content/drive/MyDrive/dphi/Kvasir/The Kvasir-Capsule/test/Image_90.jpg',\n",
              " '/content/drive/MyDrive/dphi/Kvasir/The Kvasir-Capsule/test/Image_91.jpg',\n",
              " '/content/drive/MyDrive/dphi/Kvasir/The Kvasir-Capsule/test/Image_92.jpg',\n",
              " '/content/drive/MyDrive/dphi/Kvasir/The Kvasir-Capsule/test/Image_93.jpg',\n",
              " '/content/drive/MyDrive/dphi/Kvasir/The Kvasir-Capsule/test/Image_94.jpg',\n",
              " '/content/drive/MyDrive/dphi/Kvasir/The Kvasir-Capsule/test/Image_95.jpg',\n",
              " '/content/drive/MyDrive/dphi/Kvasir/The Kvasir-Capsule/test/Image_96.jpg',\n",
              " '/content/drive/MyDrive/dphi/Kvasir/The Kvasir-Capsule/test/Image_97.jpg',\n",
              " '/content/drive/MyDrive/dphi/Kvasir/The Kvasir-Capsule/test/Image_98.jpg',\n",
              " '/content/drive/MyDrive/dphi/Kvasir/The Kvasir-Capsule/test/Image_99.jpg',\n",
              " '/content/drive/MyDrive/dphi/Kvasir/The Kvasir-Capsule/test/Image_100.jpg',\n",
              " '/content/drive/MyDrive/dphi/Kvasir/The Kvasir-Capsule/test/Image_101.jpg',\n",
              " '/content/drive/MyDrive/dphi/Kvasir/The Kvasir-Capsule/test/Image_102.jpg',\n",
              " '/content/drive/MyDrive/dphi/Kvasir/The Kvasir-Capsule/test/Image_103.jpg',\n",
              " '/content/drive/MyDrive/dphi/Kvasir/The Kvasir-Capsule/test/Image_104.jpg',\n",
              " '/content/drive/MyDrive/dphi/Kvasir/The Kvasir-Capsule/test/Image_105.jpg',\n",
              " '/content/drive/MyDrive/dphi/Kvasir/The Kvasir-Capsule/test/Image_106.jpg',\n",
              " '/content/drive/MyDrive/dphi/Kvasir/The Kvasir-Capsule/test/Image_107.jpg',\n",
              " '/content/drive/MyDrive/dphi/Kvasir/The Kvasir-Capsule/test/Image_108.jpg',\n",
              " '/content/drive/MyDrive/dphi/Kvasir/The Kvasir-Capsule/test/Image_109.jpg',\n",
              " '/content/drive/MyDrive/dphi/Kvasir/The Kvasir-Capsule/test/Image_110.jpg',\n",
              " '/content/drive/MyDrive/dphi/Kvasir/The Kvasir-Capsule/test/Image_111.jpg',\n",
              " '/content/drive/MyDrive/dphi/Kvasir/The Kvasir-Capsule/test/Image_112.jpg',\n",
              " '/content/drive/MyDrive/dphi/Kvasir/The Kvasir-Capsule/test/Image_113.jpg',\n",
              " '/content/drive/MyDrive/dphi/Kvasir/The Kvasir-Capsule/test/Image_114.jpg',\n",
              " '/content/drive/MyDrive/dphi/Kvasir/The Kvasir-Capsule/test/Image_115.jpg',\n",
              " '/content/drive/MyDrive/dphi/Kvasir/The Kvasir-Capsule/test/Image_116.jpg',\n",
              " '/content/drive/MyDrive/dphi/Kvasir/The Kvasir-Capsule/test/Image_117.jpg',\n",
              " '/content/drive/MyDrive/dphi/Kvasir/The Kvasir-Capsule/test/Image_118.jpg',\n",
              " '/content/drive/MyDrive/dphi/Kvasir/The Kvasir-Capsule/test/Image_119.jpg',\n",
              " '/content/drive/MyDrive/dphi/Kvasir/The Kvasir-Capsule/test/Image_120.jpg',\n",
              " '/content/drive/MyDrive/dphi/Kvasir/The Kvasir-Capsule/test/Image_121.jpg',\n",
              " '/content/drive/MyDrive/dphi/Kvasir/The Kvasir-Capsule/test/Image_122.jpg',\n",
              " '/content/drive/MyDrive/dphi/Kvasir/The Kvasir-Capsule/test/Image_123.jpg',\n",
              " '/content/drive/MyDrive/dphi/Kvasir/The Kvasir-Capsule/test/Image_124.jpg',\n",
              " '/content/drive/MyDrive/dphi/Kvasir/The Kvasir-Capsule/test/Image_125.jpg',\n",
              " '/content/drive/MyDrive/dphi/Kvasir/The Kvasir-Capsule/test/Image_126.jpg',\n",
              " '/content/drive/MyDrive/dphi/Kvasir/The Kvasir-Capsule/test/Image_127.jpg',\n",
              " '/content/drive/MyDrive/dphi/Kvasir/The Kvasir-Capsule/test/Image_128.jpg',\n",
              " '/content/drive/MyDrive/dphi/Kvasir/The Kvasir-Capsule/test/Image_129.jpg',\n",
              " '/content/drive/MyDrive/dphi/Kvasir/The Kvasir-Capsule/test/Image_130.jpg',\n",
              " '/content/drive/MyDrive/dphi/Kvasir/The Kvasir-Capsule/test/Image_131.jpg',\n",
              " '/content/drive/MyDrive/dphi/Kvasir/The Kvasir-Capsule/test/Image_132.jpg',\n",
              " '/content/drive/MyDrive/dphi/Kvasir/The Kvasir-Capsule/test/Image_133.jpg',\n",
              " '/content/drive/MyDrive/dphi/Kvasir/The Kvasir-Capsule/test/Image_134.jpg',\n",
              " '/content/drive/MyDrive/dphi/Kvasir/The Kvasir-Capsule/test/Image_135.jpg',\n",
              " '/content/drive/MyDrive/dphi/Kvasir/The Kvasir-Capsule/test/Image_136.jpg',\n",
              " '/content/drive/MyDrive/dphi/Kvasir/The Kvasir-Capsule/test/Image_137.jpg',\n",
              " '/content/drive/MyDrive/dphi/Kvasir/The Kvasir-Capsule/test/Image_138.jpg',\n",
              " '/content/drive/MyDrive/dphi/Kvasir/The Kvasir-Capsule/test/Image_139.jpg',\n",
              " '/content/drive/MyDrive/dphi/Kvasir/The Kvasir-Capsule/test/Image_140.jpg',\n",
              " '/content/drive/MyDrive/dphi/Kvasir/The Kvasir-Capsule/test/Image_141.jpg',\n",
              " '/content/drive/MyDrive/dphi/Kvasir/The Kvasir-Capsule/test/Image_142.jpg',\n",
              " '/content/drive/MyDrive/dphi/Kvasir/The Kvasir-Capsule/test/Image_143.jpg',\n",
              " '/content/drive/MyDrive/dphi/Kvasir/The Kvasir-Capsule/test/Image_144.jpg',\n",
              " '/content/drive/MyDrive/dphi/Kvasir/The Kvasir-Capsule/test/Image_145.jpg',\n",
              " '/content/drive/MyDrive/dphi/Kvasir/The Kvasir-Capsule/test/Image_146.jpg',\n",
              " '/content/drive/MyDrive/dphi/Kvasir/The Kvasir-Capsule/test/Image_147.jpg',\n",
              " '/content/drive/MyDrive/dphi/Kvasir/The Kvasir-Capsule/test/Image_148.jpg',\n",
              " '/content/drive/MyDrive/dphi/Kvasir/The Kvasir-Capsule/test/Image_149.jpg',\n",
              " '/content/drive/MyDrive/dphi/Kvasir/The Kvasir-Capsule/test/Image_150.jpg',\n",
              " '/content/drive/MyDrive/dphi/Kvasir/The Kvasir-Capsule/test/Image_151.jpg',\n",
              " '/content/drive/MyDrive/dphi/Kvasir/The Kvasir-Capsule/test/Image_152.jpg',\n",
              " '/content/drive/MyDrive/dphi/Kvasir/The Kvasir-Capsule/test/Image_153.jpg',\n",
              " '/content/drive/MyDrive/dphi/Kvasir/The Kvasir-Capsule/test/Image_154.jpg',\n",
              " '/content/drive/MyDrive/dphi/Kvasir/The Kvasir-Capsule/test/Image_155.jpg',\n",
              " '/content/drive/MyDrive/dphi/Kvasir/The Kvasir-Capsule/test/Image_156.jpg',\n",
              " '/content/drive/MyDrive/dphi/Kvasir/The Kvasir-Capsule/test/Image_157.jpg',\n",
              " '/content/drive/MyDrive/dphi/Kvasir/The Kvasir-Capsule/test/Image_158.jpg',\n",
              " '/content/drive/MyDrive/dphi/Kvasir/The Kvasir-Capsule/test/Image_159.jpg',\n",
              " '/content/drive/MyDrive/dphi/Kvasir/The Kvasir-Capsule/test/Image_160.jpg',\n",
              " '/content/drive/MyDrive/dphi/Kvasir/The Kvasir-Capsule/test/Image_161.jpg',\n",
              " '/content/drive/MyDrive/dphi/Kvasir/The Kvasir-Capsule/test/Image_162.jpg',\n",
              " '/content/drive/MyDrive/dphi/Kvasir/The Kvasir-Capsule/test/Image_163.jpg',\n",
              " '/content/drive/MyDrive/dphi/Kvasir/The Kvasir-Capsule/test/Image_164.jpg',\n",
              " '/content/drive/MyDrive/dphi/Kvasir/The Kvasir-Capsule/test/Image_165.jpg',\n",
              " '/content/drive/MyDrive/dphi/Kvasir/The Kvasir-Capsule/test/Image_166.jpg',\n",
              " '/content/drive/MyDrive/dphi/Kvasir/The Kvasir-Capsule/test/Image_167.jpg',\n",
              " '/content/drive/MyDrive/dphi/Kvasir/The Kvasir-Capsule/test/Image_168.jpg',\n",
              " '/content/drive/MyDrive/dphi/Kvasir/The Kvasir-Capsule/test/Image_169.jpg',\n",
              " '/content/drive/MyDrive/dphi/Kvasir/The Kvasir-Capsule/test/Image_170.jpg',\n",
              " '/content/drive/MyDrive/dphi/Kvasir/The Kvasir-Capsule/test/Image_171.jpg',\n",
              " '/content/drive/MyDrive/dphi/Kvasir/The Kvasir-Capsule/test/Image_172.jpg',\n",
              " '/content/drive/MyDrive/dphi/Kvasir/The Kvasir-Capsule/test/Image_173.jpg',\n",
              " '/content/drive/MyDrive/dphi/Kvasir/The Kvasir-Capsule/test/Image_174.jpg',\n",
              " '/content/drive/MyDrive/dphi/Kvasir/The Kvasir-Capsule/test/Image_175.jpg',\n",
              " '/content/drive/MyDrive/dphi/Kvasir/The Kvasir-Capsule/test/Image_176.jpg',\n",
              " '/content/drive/MyDrive/dphi/Kvasir/The Kvasir-Capsule/test/Image_177.jpg',\n",
              " '/content/drive/MyDrive/dphi/Kvasir/The Kvasir-Capsule/test/Image_178.jpg',\n",
              " '/content/drive/MyDrive/dphi/Kvasir/The Kvasir-Capsule/test/Image_179.jpg',\n",
              " '/content/drive/MyDrive/dphi/Kvasir/The Kvasir-Capsule/test/Image_180.jpg',\n",
              " '/content/drive/MyDrive/dphi/Kvasir/The Kvasir-Capsule/test/Image_181.jpg',\n",
              " '/content/drive/MyDrive/dphi/Kvasir/The Kvasir-Capsule/test/Image_182.jpg',\n",
              " '/content/drive/MyDrive/dphi/Kvasir/The Kvasir-Capsule/test/Image_183.jpg',\n",
              " '/content/drive/MyDrive/dphi/Kvasir/The Kvasir-Capsule/test/Image_184.jpg',\n",
              " '/content/drive/MyDrive/dphi/Kvasir/The Kvasir-Capsule/test/Image_185.jpg',\n",
              " '/content/drive/MyDrive/dphi/Kvasir/The Kvasir-Capsule/test/Image_186.jpg',\n",
              " '/content/drive/MyDrive/dphi/Kvasir/The Kvasir-Capsule/test/Image_187.jpg',\n",
              " '/content/drive/MyDrive/dphi/Kvasir/The Kvasir-Capsule/test/Image_188.jpg',\n",
              " '/content/drive/MyDrive/dphi/Kvasir/The Kvasir-Capsule/test/Image_189.jpg',\n",
              " '/content/drive/MyDrive/dphi/Kvasir/The Kvasir-Capsule/test/Image_190.jpg',\n",
              " '/content/drive/MyDrive/dphi/Kvasir/The Kvasir-Capsule/test/Image_191.jpg',\n",
              " '/content/drive/MyDrive/dphi/Kvasir/The Kvasir-Capsule/test/Image_192.jpg',\n",
              " '/content/drive/MyDrive/dphi/Kvasir/The Kvasir-Capsule/test/Image_193.jpg',\n",
              " '/content/drive/MyDrive/dphi/Kvasir/The Kvasir-Capsule/test/Image_194.jpg',\n",
              " '/content/drive/MyDrive/dphi/Kvasir/The Kvasir-Capsule/test/Image_195.jpg',\n",
              " '/content/drive/MyDrive/dphi/Kvasir/The Kvasir-Capsule/test/Image_196.jpg',\n",
              " '/content/drive/MyDrive/dphi/Kvasir/The Kvasir-Capsule/test/Image_197.jpg',\n",
              " '/content/drive/MyDrive/dphi/Kvasir/The Kvasir-Capsule/test/Image_198.jpg',\n",
              " '/content/drive/MyDrive/dphi/Kvasir/The Kvasir-Capsule/test/Image_199.jpg',\n",
              " '/content/drive/MyDrive/dphi/Kvasir/The Kvasir-Capsule/test/Image_200.jpg',\n",
              " '/content/drive/MyDrive/dphi/Kvasir/The Kvasir-Capsule/test/Image_201.jpg',\n",
              " '/content/drive/MyDrive/dphi/Kvasir/The Kvasir-Capsule/test/Image_202.jpg',\n",
              " '/content/drive/MyDrive/dphi/Kvasir/The Kvasir-Capsule/test/Image_203.jpg',\n",
              " '/content/drive/MyDrive/dphi/Kvasir/The Kvasir-Capsule/test/Image_204.jpg',\n",
              " '/content/drive/MyDrive/dphi/Kvasir/The Kvasir-Capsule/test/Image_205.jpg',\n",
              " '/content/drive/MyDrive/dphi/Kvasir/The Kvasir-Capsule/test/Image_206.jpg',\n",
              " '/content/drive/MyDrive/dphi/Kvasir/The Kvasir-Capsule/test/Image_207.jpg',\n",
              " '/content/drive/MyDrive/dphi/Kvasir/The Kvasir-Capsule/test/Image_208.jpg',\n",
              " '/content/drive/MyDrive/dphi/Kvasir/The Kvasir-Capsule/test/Image_209.jpg',\n",
              " '/content/drive/MyDrive/dphi/Kvasir/The Kvasir-Capsule/test/Image_210.jpg',\n",
              " '/content/drive/MyDrive/dphi/Kvasir/The Kvasir-Capsule/test/Image_211.jpg',\n",
              " '/content/drive/MyDrive/dphi/Kvasir/The Kvasir-Capsule/test/Image_212.jpg',\n",
              " '/content/drive/MyDrive/dphi/Kvasir/The Kvasir-Capsule/test/Image_213.jpg',\n",
              " '/content/drive/MyDrive/dphi/Kvasir/The Kvasir-Capsule/test/Image_214.jpg',\n",
              " '/content/drive/MyDrive/dphi/Kvasir/The Kvasir-Capsule/test/Image_215.jpg',\n",
              " '/content/drive/MyDrive/dphi/Kvasir/The Kvasir-Capsule/test/Image_216.jpg',\n",
              " '/content/drive/MyDrive/dphi/Kvasir/The Kvasir-Capsule/test/Image_217.jpg',\n",
              " '/content/drive/MyDrive/dphi/Kvasir/The Kvasir-Capsule/test/Image_218.jpg',\n",
              " '/content/drive/MyDrive/dphi/Kvasir/The Kvasir-Capsule/test/Image_219.jpg',\n",
              " '/content/drive/MyDrive/dphi/Kvasir/The Kvasir-Capsule/test/Image_220.jpg',\n",
              " '/content/drive/MyDrive/dphi/Kvasir/The Kvasir-Capsule/test/Image_221.jpg',\n",
              " '/content/drive/MyDrive/dphi/Kvasir/The Kvasir-Capsule/test/Image_222.jpg',\n",
              " '/content/drive/MyDrive/dphi/Kvasir/The Kvasir-Capsule/test/Image_223.jpg',\n",
              " '/content/drive/MyDrive/dphi/Kvasir/The Kvasir-Capsule/test/Image_224.jpg',\n",
              " '/content/drive/MyDrive/dphi/Kvasir/The Kvasir-Capsule/test/Image_225.jpg',\n",
              " '/content/drive/MyDrive/dphi/Kvasir/The Kvasir-Capsule/test/Image_226.jpg',\n",
              " '/content/drive/MyDrive/dphi/Kvasir/The Kvasir-Capsule/test/Image_227.jpg',\n",
              " '/content/drive/MyDrive/dphi/Kvasir/The Kvasir-Capsule/test/Image_228.jpg',\n",
              " '/content/drive/MyDrive/dphi/Kvasir/The Kvasir-Capsule/test/Image_229.jpg',\n",
              " '/content/drive/MyDrive/dphi/Kvasir/The Kvasir-Capsule/test/Image_230.jpg',\n",
              " '/content/drive/MyDrive/dphi/Kvasir/The Kvasir-Capsule/test/Image_231.jpg',\n",
              " '/content/drive/MyDrive/dphi/Kvasir/The Kvasir-Capsule/test/Image_232.jpg',\n",
              " '/content/drive/MyDrive/dphi/Kvasir/The Kvasir-Capsule/test/Image_233.jpg',\n",
              " '/content/drive/MyDrive/dphi/Kvasir/The Kvasir-Capsule/test/Image_234.jpg',\n",
              " '/content/drive/MyDrive/dphi/Kvasir/The Kvasir-Capsule/test/Image_235.jpg',\n",
              " '/content/drive/MyDrive/dphi/Kvasir/The Kvasir-Capsule/test/Image_236.jpg',\n",
              " '/content/drive/MyDrive/dphi/Kvasir/The Kvasir-Capsule/test/Image_237.jpg',\n",
              " '/content/drive/MyDrive/dphi/Kvasir/The Kvasir-Capsule/test/Image_238.jpg',\n",
              " '/content/drive/MyDrive/dphi/Kvasir/The Kvasir-Capsule/test/Image_239.jpg',\n",
              " '/content/drive/MyDrive/dphi/Kvasir/The Kvasir-Capsule/test/Image_240.jpg',\n",
              " '/content/drive/MyDrive/dphi/Kvasir/The Kvasir-Capsule/test/Image_241.jpg',\n",
              " '/content/drive/MyDrive/dphi/Kvasir/The Kvasir-Capsule/test/Image_242.jpg',\n",
              " '/content/drive/MyDrive/dphi/Kvasir/The Kvasir-Capsule/test/Image_243.jpg',\n",
              " '/content/drive/MyDrive/dphi/Kvasir/The Kvasir-Capsule/test/Image_244.jpg',\n",
              " '/content/drive/MyDrive/dphi/Kvasir/The Kvasir-Capsule/test/Image_245.jpg',\n",
              " '/content/drive/MyDrive/dphi/Kvasir/The Kvasir-Capsule/test/Image_246.jpg',\n",
              " '/content/drive/MyDrive/dphi/Kvasir/The Kvasir-Capsule/test/Image_247.jpg',\n",
              " '/content/drive/MyDrive/dphi/Kvasir/The Kvasir-Capsule/test/Image_248.jpg',\n",
              " '/content/drive/MyDrive/dphi/Kvasir/The Kvasir-Capsule/test/Image_249.jpg',\n",
              " '/content/drive/MyDrive/dphi/Kvasir/The Kvasir-Capsule/test/Image_250.jpg',\n",
              " '/content/drive/MyDrive/dphi/Kvasir/The Kvasir-Capsule/test/Image_251.jpg',\n",
              " '/content/drive/MyDrive/dphi/Kvasir/The Kvasir-Capsule/test/Image_252.jpg',\n",
              " '/content/drive/MyDrive/dphi/Kvasir/The Kvasir-Capsule/test/Image_253.jpg',\n",
              " '/content/drive/MyDrive/dphi/Kvasir/The Kvasir-Capsule/test/Image_254.jpg',\n",
              " '/content/drive/MyDrive/dphi/Kvasir/The Kvasir-Capsule/test/Image_255.jpg',\n",
              " '/content/drive/MyDrive/dphi/Kvasir/The Kvasir-Capsule/test/Image_256.jpg',\n",
              " '/content/drive/MyDrive/dphi/Kvasir/The Kvasir-Capsule/test/Image_257.jpg',\n",
              " '/content/drive/MyDrive/dphi/Kvasir/The Kvasir-Capsule/test/Image_258.jpg',\n",
              " '/content/drive/MyDrive/dphi/Kvasir/The Kvasir-Capsule/test/Image_259.jpg',\n",
              " '/content/drive/MyDrive/dphi/Kvasir/The Kvasir-Capsule/test/Image_260.jpg',\n",
              " '/content/drive/MyDrive/dphi/Kvasir/The Kvasir-Capsule/test/Image_261.jpg',\n",
              " '/content/drive/MyDrive/dphi/Kvasir/The Kvasir-Capsule/test/Image_262.jpg',\n",
              " '/content/drive/MyDrive/dphi/Kvasir/The Kvasir-Capsule/test/Image_263.jpg',\n",
              " '/content/drive/MyDrive/dphi/Kvasir/The Kvasir-Capsule/test/Image_264.jpg',\n",
              " '/content/drive/MyDrive/dphi/Kvasir/The Kvasir-Capsule/test/Image_265.jpg',\n",
              " '/content/drive/MyDrive/dphi/Kvasir/The Kvasir-Capsule/test/Image_266.jpg',\n",
              " '/content/drive/MyDrive/dphi/Kvasir/The Kvasir-Capsule/test/Image_267.jpg',\n",
              " '/content/drive/MyDrive/dphi/Kvasir/The Kvasir-Capsule/test/Image_268.jpg',\n",
              " '/content/drive/MyDrive/dphi/Kvasir/The Kvasir-Capsule/test/Image_269.jpg',\n",
              " '/content/drive/MyDrive/dphi/Kvasir/The Kvasir-Capsule/test/Image_270.jpg',\n",
              " '/content/drive/MyDrive/dphi/Kvasir/The Kvasir-Capsule/test/Image_271.jpg',\n",
              " '/content/drive/MyDrive/dphi/Kvasir/The Kvasir-Capsule/test/Image_272.jpg',\n",
              " '/content/drive/MyDrive/dphi/Kvasir/The Kvasir-Capsule/test/Image_273.jpg',\n",
              " '/content/drive/MyDrive/dphi/Kvasir/The Kvasir-Capsule/test/Image_274.jpg',\n",
              " '/content/drive/MyDrive/dphi/Kvasir/The Kvasir-Capsule/test/Image_275.jpg',\n",
              " '/content/drive/MyDrive/dphi/Kvasir/The Kvasir-Capsule/test/Image_276.jpg',\n",
              " '/content/drive/MyDrive/dphi/Kvasir/The Kvasir-Capsule/test/Image_277.jpg',\n",
              " '/content/drive/MyDrive/dphi/Kvasir/The Kvasir-Capsule/test/Image_278.jpg',\n",
              " '/content/drive/MyDrive/dphi/Kvasir/The Kvasir-Capsule/test/Image_279.jpg',\n",
              " '/content/drive/MyDrive/dphi/Kvasir/The Kvasir-Capsule/test/Image_280.jpg',\n",
              " '/content/drive/MyDrive/dphi/Kvasir/The Kvasir-Capsule/test/Image_281.jpg',\n",
              " '/content/drive/MyDrive/dphi/Kvasir/The Kvasir-Capsule/test/Image_282.jpg',\n",
              " '/content/drive/MyDrive/dphi/Kvasir/The Kvasir-Capsule/test/Image_283.jpg',\n",
              " '/content/drive/MyDrive/dphi/Kvasir/The Kvasir-Capsule/test/Image_284.jpg',\n",
              " '/content/drive/MyDrive/dphi/Kvasir/The Kvasir-Capsule/test/Image_285.jpg',\n",
              " '/content/drive/MyDrive/dphi/Kvasir/The Kvasir-Capsule/test/Image_286.jpg',\n",
              " '/content/drive/MyDrive/dphi/Kvasir/The Kvasir-Capsule/test/Image_287.jpg',\n",
              " '/content/drive/MyDrive/dphi/Kvasir/The Kvasir-Capsule/test/Image_288.jpg',\n",
              " '/content/drive/MyDrive/dphi/Kvasir/The Kvasir-Capsule/test/Image_289.jpg',\n",
              " '/content/drive/MyDrive/dphi/Kvasir/The Kvasir-Capsule/test/Image_290.jpg',\n",
              " '/content/drive/MyDrive/dphi/Kvasir/The Kvasir-Capsule/test/Image_291.jpg',\n",
              " '/content/drive/MyDrive/dphi/Kvasir/The Kvasir-Capsule/test/Image_292.jpg',\n",
              " '/content/drive/MyDrive/dphi/Kvasir/The Kvasir-Capsule/test/Image_293.jpg',\n",
              " '/content/drive/MyDrive/dphi/Kvasir/The Kvasir-Capsule/test/Image_294.jpg',\n",
              " '/content/drive/MyDrive/dphi/Kvasir/The Kvasir-Capsule/test/Image_295.jpg',\n",
              " '/content/drive/MyDrive/dphi/Kvasir/The Kvasir-Capsule/test/Image_296.jpg',\n",
              " '/content/drive/MyDrive/dphi/Kvasir/The Kvasir-Capsule/test/Image_297.jpg',\n",
              " '/content/drive/MyDrive/dphi/Kvasir/The Kvasir-Capsule/test/Image_298.jpg',\n",
              " '/content/drive/MyDrive/dphi/Kvasir/The Kvasir-Capsule/test/Image_299.jpg',\n",
              " '/content/drive/MyDrive/dphi/Kvasir/The Kvasir-Capsule/test/Image_300.jpg',\n",
              " '/content/drive/MyDrive/dphi/Kvasir/The Kvasir-Capsule/test/Image_301.jpg',\n",
              " '/content/drive/MyDrive/dphi/Kvasir/The Kvasir-Capsule/test/Image_302.jpg',\n",
              " '/content/drive/MyDrive/dphi/Kvasir/The Kvasir-Capsule/test/Image_303.jpg',\n",
              " '/content/drive/MyDrive/dphi/Kvasir/The Kvasir-Capsule/test/Image_304.jpg',\n",
              " '/content/drive/MyDrive/dphi/Kvasir/The Kvasir-Capsule/test/Image_305.jpg',\n",
              " '/content/drive/MyDrive/dphi/Kvasir/The Kvasir-Capsule/test/Image_306.jpg',\n",
              " '/content/drive/MyDrive/dphi/Kvasir/The Kvasir-Capsule/test/Image_307.jpg',\n",
              " '/content/drive/MyDrive/dphi/Kvasir/The Kvasir-Capsule/test/Image_308.jpg',\n",
              " '/content/drive/MyDrive/dphi/Kvasir/The Kvasir-Capsule/test/Image_309.jpg',\n",
              " '/content/drive/MyDrive/dphi/Kvasir/The Kvasir-Capsule/test/Image_310.jpg',\n",
              " '/content/drive/MyDrive/dphi/Kvasir/The Kvasir-Capsule/test/Image_311.jpg',\n",
              " '/content/drive/MyDrive/dphi/Kvasir/The Kvasir-Capsule/test/Image_312.jpg',\n",
              " '/content/drive/MyDrive/dphi/Kvasir/The Kvasir-Capsule/test/Image_313.jpg',\n",
              " '/content/drive/MyDrive/dphi/Kvasir/The Kvasir-Capsule/test/Image_314.jpg',\n",
              " '/content/drive/MyDrive/dphi/Kvasir/The Kvasir-Capsule/test/Image_315.jpg',\n",
              " '/content/drive/MyDrive/dphi/Kvasir/The Kvasir-Capsule/test/Image_316.jpg',\n",
              " '/content/drive/MyDrive/dphi/Kvasir/The Kvasir-Capsule/test/Image_317.jpg',\n",
              " '/content/drive/MyDrive/dphi/Kvasir/The Kvasir-Capsule/test/Image_318.jpg',\n",
              " '/content/drive/MyDrive/dphi/Kvasir/The Kvasir-Capsule/test/Image_319.jpg',\n",
              " '/content/drive/MyDrive/dphi/Kvasir/The Kvasir-Capsule/test/Image_320.jpg',\n",
              " '/content/drive/MyDrive/dphi/Kvasir/The Kvasir-Capsule/test/Image_321.jpg',\n",
              " '/content/drive/MyDrive/dphi/Kvasir/The Kvasir-Capsule/test/Image_322.jpg',\n",
              " '/content/drive/MyDrive/dphi/Kvasir/The Kvasir-Capsule/test/Image_323.jpg',\n",
              " '/content/drive/MyDrive/dphi/Kvasir/The Kvasir-Capsule/test/Image_324.jpg',\n",
              " '/content/drive/MyDrive/dphi/Kvasir/The Kvasir-Capsule/test/Image_325.jpg',\n",
              " '/content/drive/MyDrive/dphi/Kvasir/The Kvasir-Capsule/test/Image_326.jpg',\n",
              " '/content/drive/MyDrive/dphi/Kvasir/The Kvasir-Capsule/test/Image_327.jpg',\n",
              " '/content/drive/MyDrive/dphi/Kvasir/The Kvasir-Capsule/test/Image_328.jpg',\n",
              " '/content/drive/MyDrive/dphi/Kvasir/The Kvasir-Capsule/test/Image_329.jpg',\n",
              " '/content/drive/MyDrive/dphi/Kvasir/The Kvasir-Capsule/test/Image_330.jpg',\n",
              " '/content/drive/MyDrive/dphi/Kvasir/The Kvasir-Capsule/test/Image_331.jpg',\n",
              " '/content/drive/MyDrive/dphi/Kvasir/The Kvasir-Capsule/test/Image_332.jpg',\n",
              " '/content/drive/MyDrive/dphi/Kvasir/The Kvasir-Capsule/test/Image_333.jpg',\n",
              " '/content/drive/MyDrive/dphi/Kvasir/The Kvasir-Capsule/test/Image_334.jpg',\n",
              " '/content/drive/MyDrive/dphi/Kvasir/The Kvasir-Capsule/test/Image_335.jpg',\n",
              " '/content/drive/MyDrive/dphi/Kvasir/The Kvasir-Capsule/test/Image_336.jpg',\n",
              " '/content/drive/MyDrive/dphi/Kvasir/The Kvasir-Capsule/test/Image_337.jpg',\n",
              " '/content/drive/MyDrive/dphi/Kvasir/The Kvasir-Capsule/test/Image_338.jpg',\n",
              " '/content/drive/MyDrive/dphi/Kvasir/The Kvasir-Capsule/test/Image_339.jpg',\n",
              " '/content/drive/MyDrive/dphi/Kvasir/The Kvasir-Capsule/test/Image_340.jpg',\n",
              " '/content/drive/MyDrive/dphi/Kvasir/The Kvasir-Capsule/test/Image_341.jpg',\n",
              " '/content/drive/MyDrive/dphi/Kvasir/The Kvasir-Capsule/test/Image_342.jpg',\n",
              " '/content/drive/MyDrive/dphi/Kvasir/The Kvasir-Capsule/test/Image_343.jpg',\n",
              " '/content/drive/MyDrive/dphi/Kvasir/The Kvasir-Capsule/test/Image_344.jpg',\n",
              " '/content/drive/MyDrive/dphi/Kvasir/The Kvasir-Capsule/test/Image_345.jpg',\n",
              " '/content/drive/MyDrive/dphi/Kvasir/The Kvasir-Capsule/test/Image_346.jpg',\n",
              " '/content/drive/MyDrive/dphi/Kvasir/The Kvasir-Capsule/test/Image_347.jpg',\n",
              " '/content/drive/MyDrive/dphi/Kvasir/The Kvasir-Capsule/test/Image_348.jpg',\n",
              " '/content/drive/MyDrive/dphi/Kvasir/The Kvasir-Capsule/test/Image_349.jpg',\n",
              " '/content/drive/MyDrive/dphi/Kvasir/The Kvasir-Capsule/test/Image_350.jpg',\n",
              " '/content/drive/MyDrive/dphi/Kvasir/The Kvasir-Capsule/test/Image_351.jpg',\n",
              " '/content/drive/MyDrive/dphi/Kvasir/The Kvasir-Capsule/test/Image_352.jpg',\n",
              " '/content/drive/MyDrive/dphi/Kvasir/The Kvasir-Capsule/test/Image_353.jpg',\n",
              " '/content/drive/MyDrive/dphi/Kvasir/The Kvasir-Capsule/test/Image_354.jpg',\n",
              " '/content/drive/MyDrive/dphi/Kvasir/The Kvasir-Capsule/test/Image_355.jpg',\n",
              " '/content/drive/MyDrive/dphi/Kvasir/The Kvasir-Capsule/test/Image_356.jpg',\n",
              " '/content/drive/MyDrive/dphi/Kvasir/The Kvasir-Capsule/test/Image_357.jpg',\n",
              " '/content/drive/MyDrive/dphi/Kvasir/The Kvasir-Capsule/test/Image_358.jpg',\n",
              " '/content/drive/MyDrive/dphi/Kvasir/The Kvasir-Capsule/test/Image_359.jpg',\n",
              " '/content/drive/MyDrive/dphi/Kvasir/The Kvasir-Capsule/test/Image_360.jpg',\n",
              " '/content/drive/MyDrive/dphi/Kvasir/The Kvasir-Capsule/test/Image_361.jpg',\n",
              " '/content/drive/MyDrive/dphi/Kvasir/The Kvasir-Capsule/test/Image_362.jpg',\n",
              " '/content/drive/MyDrive/dphi/Kvasir/The Kvasir-Capsule/test/Image_363.jpg',\n",
              " '/content/drive/MyDrive/dphi/Kvasir/The Kvasir-Capsule/test/Image_364.jpg',\n",
              " '/content/drive/MyDrive/dphi/Kvasir/The Kvasir-Capsule/test/Image_365.jpg',\n",
              " '/content/drive/MyDrive/dphi/Kvasir/The Kvasir-Capsule/test/Image_366.jpg',\n",
              " '/content/drive/MyDrive/dphi/Kvasir/The Kvasir-Capsule/test/Image_367.jpg',\n",
              " '/content/drive/MyDrive/dphi/Kvasir/The Kvasir-Capsule/test/Image_368.jpg',\n",
              " '/content/drive/MyDrive/dphi/Kvasir/The Kvasir-Capsule/test/Image_369.jpg',\n",
              " '/content/drive/MyDrive/dphi/Kvasir/The Kvasir-Capsule/test/Image_370.jpg',\n",
              " '/content/drive/MyDrive/dphi/Kvasir/The Kvasir-Capsule/test/Image_371.jpg',\n",
              " '/content/drive/MyDrive/dphi/Kvasir/The Kvasir-Capsule/test/Image_372.jpg',\n",
              " '/content/drive/MyDrive/dphi/Kvasir/The Kvasir-Capsule/test/Image_373.jpg',\n",
              " '/content/drive/MyDrive/dphi/Kvasir/The Kvasir-Capsule/test/Image_374.jpg',\n",
              " '/content/drive/MyDrive/dphi/Kvasir/The Kvasir-Capsule/test/Image_375.jpg',\n",
              " '/content/drive/MyDrive/dphi/Kvasir/The Kvasir-Capsule/test/Image_376.jpg',\n",
              " '/content/drive/MyDrive/dphi/Kvasir/The Kvasir-Capsule/test/Image_377.jpg',\n",
              " '/content/drive/MyDrive/dphi/Kvasir/The Kvasir-Capsule/test/Image_378.jpg',\n",
              " '/content/drive/MyDrive/dphi/Kvasir/The Kvasir-Capsule/test/Image_379.jpg',\n",
              " '/content/drive/MyDrive/dphi/Kvasir/The Kvasir-Capsule/test/Image_380.jpg',\n",
              " '/content/drive/MyDrive/dphi/Kvasir/The Kvasir-Capsule/test/Image_381.jpg',\n",
              " '/content/drive/MyDrive/dphi/Kvasir/The Kvasir-Capsule/test/Image_382.jpg',\n",
              " '/content/drive/MyDrive/dphi/Kvasir/The Kvasir-Capsule/test/Image_383.jpg',\n",
              " '/content/drive/MyDrive/dphi/Kvasir/The Kvasir-Capsule/test/Image_384.jpg',\n",
              " '/content/drive/MyDrive/dphi/Kvasir/The Kvasir-Capsule/test/Image_385.jpg',\n",
              " '/content/drive/MyDrive/dphi/Kvasir/The Kvasir-Capsule/test/Image_386.jpg',\n",
              " '/content/drive/MyDrive/dphi/Kvasir/The Kvasir-Capsule/test/Image_387.jpg',\n",
              " '/content/drive/MyDrive/dphi/Kvasir/The Kvasir-Capsule/test/Image_388.jpg',\n",
              " '/content/drive/MyDrive/dphi/Kvasir/The Kvasir-Capsule/test/Image_389.jpg',\n",
              " '/content/drive/MyDrive/dphi/Kvasir/The Kvasir-Capsule/test/Image_390.jpg',\n",
              " '/content/drive/MyDrive/dphi/Kvasir/The Kvasir-Capsule/test/Image_391.jpg',\n",
              " '/content/drive/MyDrive/dphi/Kvasir/The Kvasir-Capsule/test/Image_392.jpg',\n",
              " '/content/drive/MyDrive/dphi/Kvasir/The Kvasir-Capsule/test/Image_393.jpg',\n",
              " '/content/drive/MyDrive/dphi/Kvasir/The Kvasir-Capsule/test/Image_394.jpg',\n",
              " '/content/drive/MyDrive/dphi/Kvasir/The Kvasir-Capsule/test/Image_395.jpg',\n",
              " '/content/drive/MyDrive/dphi/Kvasir/The Kvasir-Capsule/test/Image_396.jpg',\n",
              " '/content/drive/MyDrive/dphi/Kvasir/The Kvasir-Capsule/test/Image_397.jpg',\n",
              " '/content/drive/MyDrive/dphi/Kvasir/The Kvasir-Capsule/test/Image_398.jpg',\n",
              " '/content/drive/MyDrive/dphi/Kvasir/The Kvasir-Capsule/test/Image_399.jpg',\n",
              " '/content/drive/MyDrive/dphi/Kvasir/The Kvasir-Capsule/test/Image_400.jpg',\n",
              " '/content/drive/MyDrive/dphi/Kvasir/The Kvasir-Capsule/test/Image_401.jpg',\n",
              " '/content/drive/MyDrive/dphi/Kvasir/The Kvasir-Capsule/test/Image_402.jpg',\n",
              " '/content/drive/MyDrive/dphi/Kvasir/The Kvasir-Capsule/test/Image_403.jpg',\n",
              " '/content/drive/MyDrive/dphi/Kvasir/The Kvasir-Capsule/test/Image_404.jpg',\n",
              " '/content/drive/MyDrive/dphi/Kvasir/The Kvasir-Capsule/test/Image_405.jpg',\n",
              " '/content/drive/MyDrive/dphi/Kvasir/The Kvasir-Capsule/test/Image_406.jpg',\n",
              " '/content/drive/MyDrive/dphi/Kvasir/The Kvasir-Capsule/test/Image_407.jpg',\n",
              " '/content/drive/MyDrive/dphi/Kvasir/The Kvasir-Capsule/test/Image_408.jpg',\n",
              " '/content/drive/MyDrive/dphi/Kvasir/The Kvasir-Capsule/test/Image_409.jpg',\n",
              " '/content/drive/MyDrive/dphi/Kvasir/The Kvasir-Capsule/test/Image_410.jpg',\n",
              " '/content/drive/MyDrive/dphi/Kvasir/The Kvasir-Capsule/test/Image_411.jpg',\n",
              " '/content/drive/MyDrive/dphi/Kvasir/The Kvasir-Capsule/test/Image_412.jpg',\n",
              " '/content/drive/MyDrive/dphi/Kvasir/The Kvasir-Capsule/test/Image_413.jpg',\n",
              " '/content/drive/MyDrive/dphi/Kvasir/The Kvasir-Capsule/test/Image_414.jpg',\n",
              " '/content/drive/MyDrive/dphi/Kvasir/The Kvasir-Capsule/test/Image_415.jpg',\n",
              " '/content/drive/MyDrive/dphi/Kvasir/The Kvasir-Capsule/test/Image_416.jpg',\n",
              " '/content/drive/MyDrive/dphi/Kvasir/The Kvasir-Capsule/test/Image_417.jpg',\n",
              " '/content/drive/MyDrive/dphi/Kvasir/The Kvasir-Capsule/test/Image_418.jpg',\n",
              " '/content/drive/MyDrive/dphi/Kvasir/The Kvasir-Capsule/test/Image_419.jpg',\n",
              " '/content/drive/MyDrive/dphi/Kvasir/The Kvasir-Capsule/test/Image_420.jpg',\n",
              " '/content/drive/MyDrive/dphi/Kvasir/The Kvasir-Capsule/test/Image_421.jpg',\n",
              " '/content/drive/MyDrive/dphi/Kvasir/The Kvasir-Capsule/test/Image_422.jpg',\n",
              " '/content/drive/MyDrive/dphi/Kvasir/The Kvasir-Capsule/test/Image_423.jpg',\n",
              " '/content/drive/MyDrive/dphi/Kvasir/The Kvasir-Capsule/test/Image_424.jpg',\n",
              " '/content/drive/MyDrive/dphi/Kvasir/The Kvasir-Capsule/test/Image_425.jpg',\n",
              " '/content/drive/MyDrive/dphi/Kvasir/The Kvasir-Capsule/test/Image_426.jpg',\n",
              " '/content/drive/MyDrive/dphi/Kvasir/The Kvasir-Capsule/test/Image_427.jpg',\n",
              " '/content/drive/MyDrive/dphi/Kvasir/The Kvasir-Capsule/test/Image_428.jpg',\n",
              " '/content/drive/MyDrive/dphi/Kvasir/The Kvasir-Capsule/test/Image_429.jpg',\n",
              " '/content/drive/MyDrive/dphi/Kvasir/The Kvasir-Capsule/test/Image_430.jpg',\n",
              " '/content/drive/MyDrive/dphi/Kvasir/The Kvasir-Capsule/test/Image_431.jpg',\n",
              " '/content/drive/MyDrive/dphi/Kvasir/The Kvasir-Capsule/test/Image_432.jpg',\n",
              " '/content/drive/MyDrive/dphi/Kvasir/The Kvasir-Capsule/test/Image_433.jpg',\n",
              " '/content/drive/MyDrive/dphi/Kvasir/The Kvasir-Capsule/test/Image_434.jpg',\n",
              " '/content/drive/MyDrive/dphi/Kvasir/The Kvasir-Capsule/test/Image_435.jpg',\n",
              " '/content/drive/MyDrive/dphi/Kvasir/The Kvasir-Capsule/test/Image_436.jpg',\n",
              " '/content/drive/MyDrive/dphi/Kvasir/The Kvasir-Capsule/test/Image_437.jpg',\n",
              " '/content/drive/MyDrive/dphi/Kvasir/The Kvasir-Capsule/test/Image_438.jpg',\n",
              " '/content/drive/MyDrive/dphi/Kvasir/The Kvasir-Capsule/test/Image_439.jpg',\n",
              " '/content/drive/MyDrive/dphi/Kvasir/The Kvasir-Capsule/test/Image_440.jpg',\n",
              " '/content/drive/MyDrive/dphi/Kvasir/The Kvasir-Capsule/test/Image_441.jpg',\n",
              " '/content/drive/MyDrive/dphi/Kvasir/The Kvasir-Capsule/test/Image_442.jpg',\n",
              " '/content/drive/MyDrive/dphi/Kvasir/The Kvasir-Capsule/test/Image_443.jpg',\n",
              " '/content/drive/MyDrive/dphi/Kvasir/The Kvasir-Capsule/test/Image_444.jpg',\n",
              " '/content/drive/MyDrive/dphi/Kvasir/The Kvasir-Capsule/test/Image_445.jpg',\n",
              " '/content/drive/MyDrive/dphi/Kvasir/The Kvasir-Capsule/test/Image_446.jpg',\n",
              " '/content/drive/MyDrive/dphi/Kvasir/The Kvasir-Capsule/test/Image_447.jpg',\n",
              " '/content/drive/MyDrive/dphi/Kvasir/The Kvasir-Capsule/test/Image_448.jpg',\n",
              " '/content/drive/MyDrive/dphi/Kvasir/The Kvasir-Capsule/test/Image_449.jpg',\n",
              " '/content/drive/MyDrive/dphi/Kvasir/The Kvasir-Capsule/test/Image_450.jpg',\n",
              " '/content/drive/MyDrive/dphi/Kvasir/The Kvasir-Capsule/test/Image_451.jpg',\n",
              " '/content/drive/MyDrive/dphi/Kvasir/The Kvasir-Capsule/test/Image_452.jpg',\n",
              " '/content/drive/MyDrive/dphi/Kvasir/The Kvasir-Capsule/test/Image_453.jpg',\n",
              " '/content/drive/MyDrive/dphi/Kvasir/The Kvasir-Capsule/test/Image_454.jpg',\n",
              " '/content/drive/MyDrive/dphi/Kvasir/The Kvasir-Capsule/test/Image_455.jpg',\n",
              " '/content/drive/MyDrive/dphi/Kvasir/The Kvasir-Capsule/test/Image_456.jpg',\n",
              " '/content/drive/MyDrive/dphi/Kvasir/The Kvasir-Capsule/test/Image_457.jpg',\n",
              " '/content/drive/MyDrive/dphi/Kvasir/The Kvasir-Capsule/test/Image_458.jpg',\n",
              " '/content/drive/MyDrive/dphi/Kvasir/The Kvasir-Capsule/test/Image_459.jpg',\n",
              " '/content/drive/MyDrive/dphi/Kvasir/The Kvasir-Capsule/test/Image_460.jpg',\n",
              " '/content/drive/MyDrive/dphi/Kvasir/The Kvasir-Capsule/test/Image_461.jpg',\n",
              " '/content/drive/MyDrive/dphi/Kvasir/The Kvasir-Capsule/test/Image_462.jpg',\n",
              " '/content/drive/MyDrive/dphi/Kvasir/The Kvasir-Capsule/test/Image_463.jpg',\n",
              " '/content/drive/MyDrive/dphi/Kvasir/The Kvasir-Capsule/test/Image_464.jpg',\n",
              " '/content/drive/MyDrive/dphi/Kvasir/The Kvasir-Capsule/test/Image_465.jpg',\n",
              " '/content/drive/MyDrive/dphi/Kvasir/The Kvasir-Capsule/test/Image_466.jpg',\n",
              " '/content/drive/MyDrive/dphi/Kvasir/The Kvasir-Capsule/test/Image_467.jpg',\n",
              " '/content/drive/MyDrive/dphi/Kvasir/The Kvasir-Capsule/test/Image_468.jpg',\n",
              " '/content/drive/MyDrive/dphi/Kvasir/The Kvasir-Capsule/test/Image_469.jpg',\n",
              " '/content/drive/MyDrive/dphi/Kvasir/The Kvasir-Capsule/test/Image_470.jpg',\n",
              " '/content/drive/MyDrive/dphi/Kvasir/The Kvasir-Capsule/test/Image_471.jpg',\n",
              " '/content/drive/MyDrive/dphi/Kvasir/The Kvasir-Capsule/test/Image_472.jpg',\n",
              " '/content/drive/MyDrive/dphi/Kvasir/The Kvasir-Capsule/test/Image_473.jpg',\n",
              " '/content/drive/MyDrive/dphi/Kvasir/The Kvasir-Capsule/test/Image_474.jpg',\n",
              " '/content/drive/MyDrive/dphi/Kvasir/The Kvasir-Capsule/test/Image_475.jpg',\n",
              " '/content/drive/MyDrive/dphi/Kvasir/The Kvasir-Capsule/test/Image_476.jpg',\n",
              " '/content/drive/MyDrive/dphi/Kvasir/The Kvasir-Capsule/test/Image_477.jpg',\n",
              " '/content/drive/MyDrive/dphi/Kvasir/The Kvasir-Capsule/test/Image_478.jpg',\n",
              " '/content/drive/MyDrive/dphi/Kvasir/The Kvasir-Capsule/test/Image_479.jpg',\n",
              " '/content/drive/MyDrive/dphi/Kvasir/The Kvasir-Capsule/test/Image_480.jpg',\n",
              " '/content/drive/MyDrive/dphi/Kvasir/The Kvasir-Capsule/test/Image_481.jpg',\n",
              " '/content/drive/MyDrive/dphi/Kvasir/The Kvasir-Capsule/test/Image_482.jpg',\n",
              " '/content/drive/MyDrive/dphi/Kvasir/The Kvasir-Capsule/test/Image_483.jpg',\n",
              " '/content/drive/MyDrive/dphi/Kvasir/The Kvasir-Capsule/test/Image_484.jpg',\n",
              " '/content/drive/MyDrive/dphi/Kvasir/The Kvasir-Capsule/test/Image_485.jpg',\n",
              " '/content/drive/MyDrive/dphi/Kvasir/The Kvasir-Capsule/test/Image_486.jpg',\n",
              " '/content/drive/MyDrive/dphi/Kvasir/The Kvasir-Capsule/test/Image_487.jpg',\n",
              " '/content/drive/MyDrive/dphi/Kvasir/The Kvasir-Capsule/test/Image_488.jpg',\n",
              " '/content/drive/MyDrive/dphi/Kvasir/The Kvasir-Capsule/test/Image_489.jpg',\n",
              " '/content/drive/MyDrive/dphi/Kvasir/The Kvasir-Capsule/test/Image_490.jpg',\n",
              " '/content/drive/MyDrive/dphi/Kvasir/The Kvasir-Capsule/test/Image_491.jpg',\n",
              " '/content/drive/MyDrive/dphi/Kvasir/The Kvasir-Capsule/test/Image_492.jpg',\n",
              " '/content/drive/MyDrive/dphi/Kvasir/The Kvasir-Capsule/test/Image_493.jpg',\n",
              " '/content/drive/MyDrive/dphi/Kvasir/The Kvasir-Capsule/test/Image_494.jpg',\n",
              " '/content/drive/MyDrive/dphi/Kvasir/The Kvasir-Capsule/test/Image_495.jpg',\n",
              " '/content/drive/MyDrive/dphi/Kvasir/The Kvasir-Capsule/test/Image_496.jpg',\n",
              " '/content/drive/MyDrive/dphi/Kvasir/The Kvasir-Capsule/test/Image_497.jpg',\n",
              " '/content/drive/MyDrive/dphi/Kvasir/The Kvasir-Capsule/test/Image_498.jpg',\n",
              " '/content/drive/MyDrive/dphi/Kvasir/The Kvasir-Capsule/test/Image_499.jpg',\n",
              " '/content/drive/MyDrive/dphi/Kvasir/The Kvasir-Capsule/test/Image_500.jpg',\n",
              " '/content/drive/MyDrive/dphi/Kvasir/The Kvasir-Capsule/test/Image_501.jpg',\n",
              " '/content/drive/MyDrive/dphi/Kvasir/The Kvasir-Capsule/test/Image_502.jpg',\n",
              " '/content/drive/MyDrive/dphi/Kvasir/The Kvasir-Capsule/test/Image_503.jpg',\n",
              " '/content/drive/MyDrive/dphi/Kvasir/The Kvasir-Capsule/test/Image_504.jpg',\n",
              " '/content/drive/MyDrive/dphi/Kvasir/The Kvasir-Capsule/test/Image_505.jpg',\n",
              " '/content/drive/MyDrive/dphi/Kvasir/The Kvasir-Capsule/test/Image_506.jpg',\n",
              " '/content/drive/MyDrive/dphi/Kvasir/The Kvasir-Capsule/test/Image_507.jpg',\n",
              " '/content/drive/MyDrive/dphi/Kvasir/The Kvasir-Capsule/test/Image_508.jpg',\n",
              " '/content/drive/MyDrive/dphi/Kvasir/The Kvasir-Capsule/test/Image_509.jpg',\n",
              " '/content/drive/MyDrive/dphi/Kvasir/The Kvasir-Capsule/test/Image_510.jpg',\n",
              " '/content/drive/MyDrive/dphi/Kvasir/The Kvasir-Capsule/test/Image_511.jpg',\n",
              " '/content/drive/MyDrive/dphi/Kvasir/The Kvasir-Capsule/test/Image_512.jpg',\n",
              " '/content/drive/MyDrive/dphi/Kvasir/The Kvasir-Capsule/test/Image_513.jpg',\n",
              " '/content/drive/MyDrive/dphi/Kvasir/The Kvasir-Capsule/test/Image_514.jpg',\n",
              " '/content/drive/MyDrive/dphi/Kvasir/The Kvasir-Capsule/test/Image_515.jpg',\n",
              " '/content/drive/MyDrive/dphi/Kvasir/The Kvasir-Capsule/test/Image_516.jpg',\n",
              " '/content/drive/MyDrive/dphi/Kvasir/The Kvasir-Capsule/test/Image_517.jpg',\n",
              " '/content/drive/MyDrive/dphi/Kvasir/The Kvasir-Capsule/test/Image_518.jpg',\n",
              " '/content/drive/MyDrive/dphi/Kvasir/The Kvasir-Capsule/test/Image_519.jpg',\n",
              " '/content/drive/MyDrive/dphi/Kvasir/The Kvasir-Capsule/test/Image_520.jpg',\n",
              " '/content/drive/MyDrive/dphi/Kvasir/The Kvasir-Capsule/test/Image_521.jpg',\n",
              " '/content/drive/MyDrive/dphi/Kvasir/The Kvasir-Capsule/test/Image_522.jpg',\n",
              " '/content/drive/MyDrive/dphi/Kvasir/The Kvasir-Capsule/test/Image_523.jpg',\n",
              " '/content/drive/MyDrive/dphi/Kvasir/The Kvasir-Capsule/test/Image_524.jpg',\n",
              " '/content/drive/MyDrive/dphi/Kvasir/The Kvasir-Capsule/test/Image_525.jpg',\n",
              " '/content/drive/MyDrive/dphi/Kvasir/The Kvasir-Capsule/test/Image_526.jpg',\n",
              " '/content/drive/MyDrive/dphi/Kvasir/The Kvasir-Capsule/test/Image_527.jpg',\n",
              " '/content/drive/MyDrive/dphi/Kvasir/The Kvasir-Capsule/test/Image_528.jpg',\n",
              " '/content/drive/MyDrive/dphi/Kvasir/The Kvasir-Capsule/test/Image_529.jpg',\n",
              " '/content/drive/MyDrive/dphi/Kvasir/The Kvasir-Capsule/test/Image_530.jpg',\n",
              " '/content/drive/MyDrive/dphi/Kvasir/The Kvasir-Capsule/test/Image_531.jpg',\n",
              " '/content/drive/MyDrive/dphi/Kvasir/The Kvasir-Capsule/test/Image_532.jpg',\n",
              " '/content/drive/MyDrive/dphi/Kvasir/The Kvasir-Capsule/test/Image_533.jpg',\n",
              " '/content/drive/MyDrive/dphi/Kvasir/The Kvasir-Capsule/test/Image_534.jpg',\n",
              " '/content/drive/MyDrive/dphi/Kvasir/The Kvasir-Capsule/test/Image_535.jpg',\n",
              " '/content/drive/MyDrive/dphi/Kvasir/The Kvasir-Capsule/test/Image_536.jpg',\n",
              " '/content/drive/MyDrive/dphi/Kvasir/The Kvasir-Capsule/test/Image_537.jpg',\n",
              " '/content/drive/MyDrive/dphi/Kvasir/The Kvasir-Capsule/test/Image_538.jpg',\n",
              " '/content/drive/MyDrive/dphi/Kvasir/The Kvasir-Capsule/test/Image_539.jpg',\n",
              " '/content/drive/MyDrive/dphi/Kvasir/The Kvasir-Capsule/test/Image_540.jpg',\n",
              " '/content/drive/MyDrive/dphi/Kvasir/The Kvasir-Capsule/test/Image_541.jpg',\n",
              " '/content/drive/MyDrive/dphi/Kvasir/The Kvasir-Capsule/test/Image_542.jpg',\n",
              " '/content/drive/MyDrive/dphi/Kvasir/The Kvasir-Capsule/test/Image_543.jpg',\n",
              " '/content/drive/MyDrive/dphi/Kvasir/The Kvasir-Capsule/test/Image_544.jpg',\n",
              " '/content/drive/MyDrive/dphi/Kvasir/The Kvasir-Capsule/test/Image_545.jpg',\n",
              " '/content/drive/MyDrive/dphi/Kvasir/The Kvasir-Capsule/test/Image_546.jpg',\n",
              " '/content/drive/MyDrive/dphi/Kvasir/The Kvasir-Capsule/test/Image_547.jpg',\n",
              " '/content/drive/MyDrive/dphi/Kvasir/The Kvasir-Capsule/test/Image_548.jpg',\n",
              " '/content/drive/MyDrive/dphi/Kvasir/The Kvasir-Capsule/test/Image_549.jpg',\n",
              " '/content/drive/MyDrive/dphi/Kvasir/The Kvasir-Capsule/test/Image_550.jpg',\n",
              " '/content/drive/MyDrive/dphi/Kvasir/The Kvasir-Capsule/test/Image_551.jpg',\n",
              " '/content/drive/MyDrive/dphi/Kvasir/The Kvasir-Capsule/test/Image_552.jpg',\n",
              " '/content/drive/MyDrive/dphi/Kvasir/The Kvasir-Capsule/test/Image_553.jpg',\n",
              " '/content/drive/MyDrive/dphi/Kvasir/The Kvasir-Capsule/test/Image_554.jpg',\n",
              " '/content/drive/MyDrive/dphi/Kvasir/The Kvasir-Capsule/test/Image_555.jpg',\n",
              " '/content/drive/MyDrive/dphi/Kvasir/The Kvasir-Capsule/test/Image_556.jpg',\n",
              " '/content/drive/MyDrive/dphi/Kvasir/The Kvasir-Capsule/test/Image_557.jpg',\n",
              " '/content/drive/MyDrive/dphi/Kvasir/The Kvasir-Capsule/test/Image_558.jpg',\n",
              " '/content/drive/MyDrive/dphi/Kvasir/The Kvasir-Capsule/test/Image_559.jpg',\n",
              " '/content/drive/MyDrive/dphi/Kvasir/The Kvasir-Capsule/test/Image_560.jpg',\n",
              " '/content/drive/MyDrive/dphi/Kvasir/The Kvasir-Capsule/test/Image_561.jpg',\n",
              " '/content/drive/MyDrive/dphi/Kvasir/The Kvasir-Capsule/test/Image_562.jpg',\n",
              " '/content/drive/MyDrive/dphi/Kvasir/The Kvasir-Capsule/test/Image_563.jpg',\n",
              " '/content/drive/MyDrive/dphi/Kvasir/The Kvasir-Capsule/test/Image_564.jpg',\n",
              " '/content/drive/MyDrive/dphi/Kvasir/The Kvasir-Capsule/test/Image_565.jpg',\n",
              " '/content/drive/MyDrive/dphi/Kvasir/The Kvasir-Capsule/test/Image_566.jpg',\n",
              " '/content/drive/MyDrive/dphi/Kvasir/The Kvasir-Capsule/test/Image_567.jpg',\n",
              " '/content/drive/MyDrive/dphi/Kvasir/The Kvasir-Capsule/test/Image_568.jpg',\n",
              " '/content/drive/MyDrive/dphi/Kvasir/The Kvasir-Capsule/test/Image_569.jpg',\n",
              " '/content/drive/MyDrive/dphi/Kvasir/The Kvasir-Capsule/test/Image_570.jpg',\n",
              " '/content/drive/MyDrive/dphi/Kvasir/The Kvasir-Capsule/test/Image_571.jpg',\n",
              " '/content/drive/MyDrive/dphi/Kvasir/The Kvasir-Capsule/test/Image_572.jpg',\n",
              " '/content/drive/MyDrive/dphi/Kvasir/The Kvasir-Capsule/test/Image_573.jpg',\n",
              " '/content/drive/MyDrive/dphi/Kvasir/The Kvasir-Capsule/test/Image_574.jpg',\n",
              " '/content/drive/MyDrive/dphi/Kvasir/The Kvasir-Capsule/test/Image_575.jpg',\n",
              " '/content/drive/MyDrive/dphi/Kvasir/The Kvasir-Capsule/test/Image_576.jpg',\n",
              " '/content/drive/MyDrive/dphi/Kvasir/The Kvasir-Capsule/test/Image_577.jpg',\n",
              " '/content/drive/MyDrive/dphi/Kvasir/The Kvasir-Capsule/test/Image_578.jpg',\n",
              " '/content/drive/MyDrive/dphi/Kvasir/The Kvasir-Capsule/test/Image_579.jpg',\n",
              " '/content/drive/MyDrive/dphi/Kvasir/The Kvasir-Capsule/test/Image_580.jpg',\n",
              " '/content/drive/MyDrive/dphi/Kvasir/The Kvasir-Capsule/test/Image_581.jpg',\n",
              " '/content/drive/MyDrive/dphi/Kvasir/The Kvasir-Capsule/test/Image_582.jpg',\n",
              " '/content/drive/MyDrive/dphi/Kvasir/The Kvasir-Capsule/test/Image_583.jpg',\n",
              " '/content/drive/MyDrive/dphi/Kvasir/The Kvasir-Capsule/test/Image_584.jpg',\n",
              " '/content/drive/MyDrive/dphi/Kvasir/The Kvasir-Capsule/test/Image_585.jpg',\n",
              " '/content/drive/MyDrive/dphi/Kvasir/The Kvasir-Capsule/test/Image_586.jpg',\n",
              " '/content/drive/MyDrive/dphi/Kvasir/The Kvasir-Capsule/test/Image_587.jpg',\n",
              " '/content/drive/MyDrive/dphi/Kvasir/The Kvasir-Capsule/test/Image_588.jpg',\n",
              " '/content/drive/MyDrive/dphi/Kvasir/The Kvasir-Capsule/test/Image_589.jpg',\n",
              " '/content/drive/MyDrive/dphi/Kvasir/The Kvasir-Capsule/test/Image_590.jpg',\n",
              " '/content/drive/MyDrive/dphi/Kvasir/The Kvasir-Capsule/test/Image_591.jpg',\n",
              " '/content/drive/MyDrive/dphi/Kvasir/The Kvasir-Capsule/test/Image_592.jpg',\n",
              " '/content/drive/MyDrive/dphi/Kvasir/The Kvasir-Capsule/test/Image_593.jpg',\n",
              " '/content/drive/MyDrive/dphi/Kvasir/The Kvasir-Capsule/test/Image_594.jpg',\n",
              " '/content/drive/MyDrive/dphi/Kvasir/The Kvasir-Capsule/test/Image_595.jpg',\n",
              " '/content/drive/MyDrive/dphi/Kvasir/The Kvasir-Capsule/test/Image_596.jpg',\n",
              " '/content/drive/MyDrive/dphi/Kvasir/The Kvasir-Capsule/test/Image_597.jpg',\n",
              " '/content/drive/MyDrive/dphi/Kvasir/The Kvasir-Capsule/test/Image_598.jpg',\n",
              " '/content/drive/MyDrive/dphi/Kvasir/The Kvasir-Capsule/test/Image_599.jpg',\n",
              " '/content/drive/MyDrive/dphi/Kvasir/The Kvasir-Capsule/test/Image_600.jpg',\n",
              " '/content/drive/MyDrive/dphi/Kvasir/The Kvasir-Capsule/test/Image_601.jpg',\n",
              " '/content/drive/MyDrive/dphi/Kvasir/The Kvasir-Capsule/test/Image_602.jpg',\n",
              " '/content/drive/MyDrive/dphi/Kvasir/The Kvasir-Capsule/test/Image_603.jpg',\n",
              " '/content/drive/MyDrive/dphi/Kvasir/The Kvasir-Capsule/test/Image_604.jpg',\n",
              " '/content/drive/MyDrive/dphi/Kvasir/The Kvasir-Capsule/test/Image_605.jpg',\n",
              " '/content/drive/MyDrive/dphi/Kvasir/The Kvasir-Capsule/test/Image_606.jpg',\n",
              " '/content/drive/MyDrive/dphi/Kvasir/The Kvasir-Capsule/test/Image_607.jpg',\n",
              " '/content/drive/MyDrive/dphi/Kvasir/The Kvasir-Capsule/test/Image_608.jpg',\n",
              " '/content/drive/MyDrive/dphi/Kvasir/The Kvasir-Capsule/test/Image_609.jpg',\n",
              " '/content/drive/MyDrive/dphi/Kvasir/The Kvasir-Capsule/test/Image_610.jpg',\n",
              " '/content/drive/MyDrive/dphi/Kvasir/The Kvasir-Capsule/test/Image_611.jpg',\n",
              " '/content/drive/MyDrive/dphi/Kvasir/The Kvasir-Capsule/test/Image_612.jpg',\n",
              " '/content/drive/MyDrive/dphi/Kvasir/The Kvasir-Capsule/test/Image_613.jpg',\n",
              " '/content/drive/MyDrive/dphi/Kvasir/The Kvasir-Capsule/test/Image_614.jpg',\n",
              " '/content/drive/MyDrive/dphi/Kvasir/The Kvasir-Capsule/test/Image_615.jpg',\n",
              " '/content/drive/MyDrive/dphi/Kvasir/The Kvasir-Capsule/test/Image_616.jpg',\n",
              " '/content/drive/MyDrive/dphi/Kvasir/The Kvasir-Capsule/test/Image_617.jpg',\n",
              " '/content/drive/MyDrive/dphi/Kvasir/The Kvasir-Capsule/test/Image_618.jpg',\n",
              " '/content/drive/MyDrive/dphi/Kvasir/The Kvasir-Capsule/test/Image_619.jpg',\n",
              " '/content/drive/MyDrive/dphi/Kvasir/The Kvasir-Capsule/test/Image_620.jpg',\n",
              " '/content/drive/MyDrive/dphi/Kvasir/The Kvasir-Capsule/test/Image_621.jpg',\n",
              " '/content/drive/MyDrive/dphi/Kvasir/The Kvasir-Capsule/test/Image_622.jpg',\n",
              " '/content/drive/MyDrive/dphi/Kvasir/The Kvasir-Capsule/test/Image_623.jpg',\n",
              " '/content/drive/MyDrive/dphi/Kvasir/The Kvasir-Capsule/test/Image_624.jpg',\n",
              " '/content/drive/MyDrive/dphi/Kvasir/The Kvasir-Capsule/test/Image_625.jpg',\n",
              " '/content/drive/MyDrive/dphi/Kvasir/The Kvasir-Capsule/test/Image_626.jpg',\n",
              " '/content/drive/MyDrive/dphi/Kvasir/The Kvasir-Capsule/test/Image_627.jpg',\n",
              " '/content/drive/MyDrive/dphi/Kvasir/The Kvasir-Capsule/test/Image_628.jpg',\n",
              " '/content/drive/MyDrive/dphi/Kvasir/The Kvasir-Capsule/test/Image_629.jpg',\n",
              " '/content/drive/MyDrive/dphi/Kvasir/The Kvasir-Capsule/test/Image_630.jpg',\n",
              " '/content/drive/MyDrive/dphi/Kvasir/The Kvasir-Capsule/test/Image_631.jpg',\n",
              " '/content/drive/MyDrive/dphi/Kvasir/The Kvasir-Capsule/test/Image_632.jpg',\n",
              " '/content/drive/MyDrive/dphi/Kvasir/The Kvasir-Capsule/test/Image_633.jpg',\n",
              " '/content/drive/MyDrive/dphi/Kvasir/The Kvasir-Capsule/test/Image_634.jpg',\n",
              " '/content/drive/MyDrive/dphi/Kvasir/The Kvasir-Capsule/test/Image_635.jpg',\n",
              " '/content/drive/MyDrive/dphi/Kvasir/The Kvasir-Capsule/test/Image_636.jpg',\n",
              " '/content/drive/MyDrive/dphi/Kvasir/The Kvasir-Capsule/test/Image_637.jpg',\n",
              " '/content/drive/MyDrive/dphi/Kvasir/The Kvasir-Capsule/test/Image_638.jpg',\n",
              " '/content/drive/MyDrive/dphi/Kvasir/The Kvasir-Capsule/test/Image_639.jpg',\n",
              " '/content/drive/MyDrive/dphi/Kvasir/The Kvasir-Capsule/test/Image_640.jpg',\n",
              " '/content/drive/MyDrive/dphi/Kvasir/The Kvasir-Capsule/test/Image_641.jpg',\n",
              " '/content/drive/MyDrive/dphi/Kvasir/The Kvasir-Capsule/test/Image_642.jpg',\n",
              " '/content/drive/MyDrive/dphi/Kvasir/The Kvasir-Capsule/test/Image_643.jpg',\n",
              " '/content/drive/MyDrive/dphi/Kvasir/The Kvasir-Capsule/test/Image_644.jpg',\n",
              " '/content/drive/MyDrive/dphi/Kvasir/The Kvasir-Capsule/test/Image_645.jpg',\n",
              " '/content/drive/MyDrive/dphi/Kvasir/The Kvasir-Capsule/test/Image_646.jpg',\n",
              " '/content/drive/MyDrive/dphi/Kvasir/The Kvasir-Capsule/test/Image_647.jpg',\n",
              " '/content/drive/MyDrive/dphi/Kvasir/The Kvasir-Capsule/test/Image_648.jpg',\n",
              " '/content/drive/MyDrive/dphi/Kvasir/The Kvasir-Capsule/test/Image_649.jpg',\n",
              " '/content/drive/MyDrive/dphi/Kvasir/The Kvasir-Capsule/test/Image_650.jpg',\n",
              " '/content/drive/MyDrive/dphi/Kvasir/The Kvasir-Capsule/test/Image_651.jpg',\n",
              " '/content/drive/MyDrive/dphi/Kvasir/The Kvasir-Capsule/test/Image_652.jpg',\n",
              " '/content/drive/MyDrive/dphi/Kvasir/The Kvasir-Capsule/test/Image_653.jpg',\n",
              " '/content/drive/MyDrive/dphi/Kvasir/The Kvasir-Capsule/test/Image_654.jpg',\n",
              " '/content/drive/MyDrive/dphi/Kvasir/The Kvasir-Capsule/test/Image_655.jpg',\n",
              " '/content/drive/MyDrive/dphi/Kvasir/The Kvasir-Capsule/test/Image_656.jpg',\n",
              " '/content/drive/MyDrive/dphi/Kvasir/The Kvasir-Capsule/test/Image_657.jpg',\n",
              " '/content/drive/MyDrive/dphi/Kvasir/The Kvasir-Capsule/test/Image_658.jpg',\n",
              " '/content/drive/MyDrive/dphi/Kvasir/The Kvasir-Capsule/test/Image_659.jpg',\n",
              " '/content/drive/MyDrive/dphi/Kvasir/The Kvasir-Capsule/test/Image_660.jpg',\n",
              " '/content/drive/MyDrive/dphi/Kvasir/The Kvasir-Capsule/test/Image_661.jpg',\n",
              " '/content/drive/MyDrive/dphi/Kvasir/The Kvasir-Capsule/test/Image_662.jpg',\n",
              " '/content/drive/MyDrive/dphi/Kvasir/The Kvasir-Capsule/test/Image_663.jpg',\n",
              " '/content/drive/MyDrive/dphi/Kvasir/The Kvasir-Capsule/test/Image_664.jpg',\n",
              " '/content/drive/MyDrive/dphi/Kvasir/The Kvasir-Capsule/test/Image_665.jpg',\n",
              " '/content/drive/MyDrive/dphi/Kvasir/The Kvasir-Capsule/test/Image_666.jpg',\n",
              " '/content/drive/MyDrive/dphi/Kvasir/The Kvasir-Capsule/test/Image_667.jpg',\n",
              " '/content/drive/MyDrive/dphi/Kvasir/The Kvasir-Capsule/test/Image_668.jpg',\n",
              " '/content/drive/MyDrive/dphi/Kvasir/The Kvasir-Capsule/test/Image_669.jpg',\n",
              " '/content/drive/MyDrive/dphi/Kvasir/The Kvasir-Capsule/test/Image_670.jpg',\n",
              " '/content/drive/MyDrive/dphi/Kvasir/The Kvasir-Capsule/test/Image_671.jpg',\n",
              " '/content/drive/MyDrive/dphi/Kvasir/The Kvasir-Capsule/test/Image_672.jpg',\n",
              " '/content/drive/MyDrive/dphi/Kvasir/The Kvasir-Capsule/test/Image_673.jpg',\n",
              " '/content/drive/MyDrive/dphi/Kvasir/The Kvasir-Capsule/test/Image_674.jpg',\n",
              " '/content/drive/MyDrive/dphi/Kvasir/The Kvasir-Capsule/test/Image_675.jpg',\n",
              " '/content/drive/MyDrive/dphi/Kvasir/The Kvasir-Capsule/test/Image_676.jpg',\n",
              " '/content/drive/MyDrive/dphi/Kvasir/The Kvasir-Capsule/test/Image_677.jpg',\n",
              " '/content/drive/MyDrive/dphi/Kvasir/The Kvasir-Capsule/test/Image_678.jpg',\n",
              " '/content/drive/MyDrive/dphi/Kvasir/The Kvasir-Capsule/test/Image_679.jpg',\n",
              " '/content/drive/MyDrive/dphi/Kvasir/The Kvasir-Capsule/test/Image_680.jpg',\n",
              " '/content/drive/MyDrive/dphi/Kvasir/The Kvasir-Capsule/test/Image_681.jpg',\n",
              " '/content/drive/MyDrive/dphi/Kvasir/The Kvasir-Capsule/test/Image_682.jpg',\n",
              " '/content/drive/MyDrive/dphi/Kvasir/The Kvasir-Capsule/test/Image_683.jpg',\n",
              " '/content/drive/MyDrive/dphi/Kvasir/The Kvasir-Capsule/test/Image_684.jpg',\n",
              " '/content/drive/MyDrive/dphi/Kvasir/The Kvasir-Capsule/test/Image_685.jpg',\n",
              " '/content/drive/MyDrive/dphi/Kvasir/The Kvasir-Capsule/test/Image_686.jpg',\n",
              " '/content/drive/MyDrive/dphi/Kvasir/The Kvasir-Capsule/test/Image_687.jpg',\n",
              " '/content/drive/MyDrive/dphi/Kvasir/The Kvasir-Capsule/test/Image_688.jpg',\n",
              " '/content/drive/MyDrive/dphi/Kvasir/The Kvasir-Capsule/test/Image_689.jpg',\n",
              " '/content/drive/MyDrive/dphi/Kvasir/The Kvasir-Capsule/test/Image_690.jpg',\n",
              " '/content/drive/MyDrive/dphi/Kvasir/The Kvasir-Capsule/test/Image_691.jpg',\n",
              " '/content/drive/MyDrive/dphi/Kvasir/The Kvasir-Capsule/test/Image_692.jpg',\n",
              " '/content/drive/MyDrive/dphi/Kvasir/The Kvasir-Capsule/test/Image_693.jpg',\n",
              " '/content/drive/MyDrive/dphi/Kvasir/The Kvasir-Capsule/test/Image_694.jpg',\n",
              " '/content/drive/MyDrive/dphi/Kvasir/The Kvasir-Capsule/test/Image_695.jpg',\n",
              " '/content/drive/MyDrive/dphi/Kvasir/The Kvasir-Capsule/test/Image_696.jpg',\n",
              " '/content/drive/MyDrive/dphi/Kvasir/The Kvasir-Capsule/test/Image_697.jpg',\n",
              " '/content/drive/MyDrive/dphi/Kvasir/The Kvasir-Capsule/test/Image_698.jpg',\n",
              " '/content/drive/MyDrive/dphi/Kvasir/The Kvasir-Capsule/test/Image_699.jpg',\n",
              " '/content/drive/MyDrive/dphi/Kvasir/The Kvasir-Capsule/test/Image_700.jpg',\n",
              " '/content/drive/MyDrive/dphi/Kvasir/The Kvasir-Capsule/test/Image_701.jpg',\n",
              " '/content/drive/MyDrive/dphi/Kvasir/The Kvasir-Capsule/test/Image_702.jpg',\n",
              " '/content/drive/MyDrive/dphi/Kvasir/The Kvasir-Capsule/test/Image_703.jpg',\n",
              " '/content/drive/MyDrive/dphi/Kvasir/The Kvasir-Capsule/test/Image_704.jpg',\n",
              " '/content/drive/MyDrive/dphi/Kvasir/The Kvasir-Capsule/test/Image_705.jpg',\n",
              " '/content/drive/MyDrive/dphi/Kvasir/The Kvasir-Capsule/test/Image_706.jpg',\n",
              " '/content/drive/MyDrive/dphi/Kvasir/The Kvasir-Capsule/test/Image_707.jpg',\n",
              " '/content/drive/MyDrive/dphi/Kvasir/The Kvasir-Capsule/test/Image_708.jpg',\n",
              " '/content/drive/MyDrive/dphi/Kvasir/The Kvasir-Capsule/test/Image_709.jpg',\n",
              " '/content/drive/MyDrive/dphi/Kvasir/The Kvasir-Capsule/test/Image_710.jpg',\n",
              " '/content/drive/MyDrive/dphi/Kvasir/The Kvasir-Capsule/test/Image_711.jpg',\n",
              " '/content/drive/MyDrive/dphi/Kvasir/The Kvasir-Capsule/test/Image_712.jpg',\n",
              " '/content/drive/MyDrive/dphi/Kvasir/The Kvasir-Capsule/test/Image_713.jpg',\n",
              " '/content/drive/MyDrive/dphi/Kvasir/The Kvasir-Capsule/test/Image_714.jpg',\n",
              " '/content/drive/MyDrive/dphi/Kvasir/The Kvasir-Capsule/test/Image_715.jpg',\n",
              " '/content/drive/MyDrive/dphi/Kvasir/The Kvasir-Capsule/test/Image_716.jpg',\n",
              " '/content/drive/MyDrive/dphi/Kvasir/The Kvasir-Capsule/test/Image_717.jpg',\n",
              " '/content/drive/MyDrive/dphi/Kvasir/The Kvasir-Capsule/test/Image_718.jpg',\n",
              " '/content/drive/MyDrive/dphi/Kvasir/The Kvasir-Capsule/test/Image_719.jpg',\n",
              " '/content/drive/MyDrive/dphi/Kvasir/The Kvasir-Capsule/test/Image_720.jpg',\n",
              " '/content/drive/MyDrive/dphi/Kvasir/The Kvasir-Capsule/test/Image_721.jpg',\n",
              " '/content/drive/MyDrive/dphi/Kvasir/The Kvasir-Capsule/test/Image_722.jpg',\n",
              " '/content/drive/MyDrive/dphi/Kvasir/The Kvasir-Capsule/test/Image_723.jpg',\n",
              " '/content/drive/MyDrive/dphi/Kvasir/The Kvasir-Capsule/test/Image_724.jpg',\n",
              " '/content/drive/MyDrive/dphi/Kvasir/The Kvasir-Capsule/test/Image_725.jpg',\n",
              " '/content/drive/MyDrive/dphi/Kvasir/The Kvasir-Capsule/test/Image_726.jpg',\n",
              " '/content/drive/MyDrive/dphi/Kvasir/The Kvasir-Capsule/test/Image_727.jpg',\n",
              " '/content/drive/MyDrive/dphi/Kvasir/The Kvasir-Capsule/test/Image_728.jpg',\n",
              " '/content/drive/MyDrive/dphi/Kvasir/The Kvasir-Capsule/test/Image_729.jpg',\n",
              " '/content/drive/MyDrive/dphi/Kvasir/The Kvasir-Capsule/test/Image_730.jpg',\n",
              " '/content/drive/MyDrive/dphi/Kvasir/The Kvasir-Capsule/test/Image_731.jpg',\n",
              " '/content/drive/MyDrive/dphi/Kvasir/The Kvasir-Capsule/test/Image_732.jpg',\n",
              " '/content/drive/MyDrive/dphi/Kvasir/The Kvasir-Capsule/test/Image_733.jpg',\n",
              " '/content/drive/MyDrive/dphi/Kvasir/The Kvasir-Capsule/test/Image_734.jpg',\n",
              " '/content/drive/MyDrive/dphi/Kvasir/The Kvasir-Capsule/test/Image_735.jpg',\n",
              " '/content/drive/MyDrive/dphi/Kvasir/The Kvasir-Capsule/test/Image_736.jpg',\n",
              " '/content/drive/MyDrive/dphi/Kvasir/The Kvasir-Capsule/test/Image_737.jpg',\n",
              " '/content/drive/MyDrive/dphi/Kvasir/The Kvasir-Capsule/test/Image_738.jpg',\n",
              " '/content/drive/MyDrive/dphi/Kvasir/The Kvasir-Capsule/test/Image_739.jpg',\n",
              " '/content/drive/MyDrive/dphi/Kvasir/The Kvasir-Capsule/test/Image_740.jpg',\n",
              " '/content/drive/MyDrive/dphi/Kvasir/The Kvasir-Capsule/test/Image_741.jpg',\n",
              " '/content/drive/MyDrive/dphi/Kvasir/The Kvasir-Capsule/test/Image_742.jpg',\n",
              " '/content/drive/MyDrive/dphi/Kvasir/The Kvasir-Capsule/test/Image_743.jpg',\n",
              " '/content/drive/MyDrive/dphi/Kvasir/The Kvasir-Capsule/test/Image_744.jpg',\n",
              " '/content/drive/MyDrive/dphi/Kvasir/The Kvasir-Capsule/test/Image_745.jpg',\n",
              " '/content/drive/MyDrive/dphi/Kvasir/The Kvasir-Capsule/test/Image_746.jpg',\n",
              " '/content/drive/MyDrive/dphi/Kvasir/The Kvasir-Capsule/test/Image_747.jpg',\n",
              " '/content/drive/MyDrive/dphi/Kvasir/The Kvasir-Capsule/test/Image_748.jpg',\n",
              " '/content/drive/MyDrive/dphi/Kvasir/The Kvasir-Capsule/test/Image_749.jpg',\n",
              " '/content/drive/MyDrive/dphi/Kvasir/The Kvasir-Capsule/test/Image_750.jpg',\n",
              " '/content/drive/MyDrive/dphi/Kvasir/The Kvasir-Capsule/test/Image_751.jpg',\n",
              " '/content/drive/MyDrive/dphi/Kvasir/The Kvasir-Capsule/test/Image_752.jpg',\n",
              " '/content/drive/MyDrive/dphi/Kvasir/The Kvasir-Capsule/test/Image_753.jpg',\n",
              " '/content/drive/MyDrive/dphi/Kvasir/The Kvasir-Capsule/test/Image_754.jpg',\n",
              " '/content/drive/MyDrive/dphi/Kvasir/The Kvasir-Capsule/test/Image_755.jpg',\n",
              " '/content/drive/MyDrive/dphi/Kvasir/The Kvasir-Capsule/test/Image_756.jpg',\n",
              " '/content/drive/MyDrive/dphi/Kvasir/The Kvasir-Capsule/test/Image_757.jpg',\n",
              " '/content/drive/MyDrive/dphi/Kvasir/The Kvasir-Capsule/test/Image_758.jpg',\n",
              " '/content/drive/MyDrive/dphi/Kvasir/The Kvasir-Capsule/test/Image_759.jpg',\n",
              " '/content/drive/MyDrive/dphi/Kvasir/The Kvasir-Capsule/test/Image_760.jpg',\n",
              " '/content/drive/MyDrive/dphi/Kvasir/The Kvasir-Capsule/test/Image_761.jpg',\n",
              " '/content/drive/MyDrive/dphi/Kvasir/The Kvasir-Capsule/test/Image_762.jpg',\n",
              " '/content/drive/MyDrive/dphi/Kvasir/The Kvasir-Capsule/test/Image_763.jpg',\n",
              " '/content/drive/MyDrive/dphi/Kvasir/The Kvasir-Capsule/test/Image_764.jpg',\n",
              " '/content/drive/MyDrive/dphi/Kvasir/The Kvasir-Capsule/test/Image_765.jpg',\n",
              " '/content/drive/MyDrive/dphi/Kvasir/The Kvasir-Capsule/test/Image_766.jpg',\n",
              " '/content/drive/MyDrive/dphi/Kvasir/The Kvasir-Capsule/test/Image_767.jpg',\n",
              " '/content/drive/MyDrive/dphi/Kvasir/The Kvasir-Capsule/test/Image_768.jpg',\n",
              " '/content/drive/MyDrive/dphi/Kvasir/The Kvasir-Capsule/test/Image_769.jpg',\n",
              " '/content/drive/MyDrive/dphi/Kvasir/The Kvasir-Capsule/test/Image_770.jpg',\n",
              " '/content/drive/MyDrive/dphi/Kvasir/The Kvasir-Capsule/test/Image_771.jpg',\n",
              " '/content/drive/MyDrive/dphi/Kvasir/The Kvasir-Capsule/test/Image_772.jpg',\n",
              " '/content/drive/MyDrive/dphi/Kvasir/The Kvasir-Capsule/test/Image_773.jpg',\n",
              " '/content/drive/MyDrive/dphi/Kvasir/The Kvasir-Capsule/test/Image_774.jpg',\n",
              " '/content/drive/MyDrive/dphi/Kvasir/The Kvasir-Capsule/test/Image_775.jpg',\n",
              " '/content/drive/MyDrive/dphi/Kvasir/The Kvasir-Capsule/test/Image_776.jpg',\n",
              " '/content/drive/MyDrive/dphi/Kvasir/The Kvasir-Capsule/test/Image_777.jpg',\n",
              " '/content/drive/MyDrive/dphi/Kvasir/The Kvasir-Capsule/test/Image_778.jpg',\n",
              " '/content/drive/MyDrive/dphi/Kvasir/The Kvasir-Capsule/test/Image_779.jpg',\n",
              " '/content/drive/MyDrive/dphi/Kvasir/The Kvasir-Capsule/test/Image_780.jpg',\n",
              " '/content/drive/MyDrive/dphi/Kvasir/The Kvasir-Capsule/test/Image_781.jpg',\n",
              " '/content/drive/MyDrive/dphi/Kvasir/The Kvasir-Capsule/test/Image_782.jpg',\n",
              " '/content/drive/MyDrive/dphi/Kvasir/The Kvasir-Capsule/test/Image_783.jpg',\n",
              " '/content/drive/MyDrive/dphi/Kvasir/The Kvasir-Capsule/test/Image_784.jpg',\n",
              " '/content/drive/MyDrive/dphi/Kvasir/The Kvasir-Capsule/test/Image_785.jpg',\n",
              " '/content/drive/MyDrive/dphi/Kvasir/The Kvasir-Capsule/test/Image_786.jpg',\n",
              " '/content/drive/MyDrive/dphi/Kvasir/The Kvasir-Capsule/test/Image_787.jpg',\n",
              " '/content/drive/MyDrive/dphi/Kvasir/The Kvasir-Capsule/test/Image_788.jpg',\n",
              " '/content/drive/MyDrive/dphi/Kvasir/The Kvasir-Capsule/test/Image_789.jpg',\n",
              " '/content/drive/MyDrive/dphi/Kvasir/The Kvasir-Capsule/test/Image_790.jpg',\n",
              " '/content/drive/MyDrive/dphi/Kvasir/The Kvasir-Capsule/test/Image_791.jpg',\n",
              " '/content/drive/MyDrive/dphi/Kvasir/The Kvasir-Capsule/test/Image_792.jpg',\n",
              " '/content/drive/MyDrive/dphi/Kvasir/The Kvasir-Capsule/test/Image_793.jpg',\n",
              " '/content/drive/MyDrive/dphi/Kvasir/The Kvasir-Capsule/test/Image_794.jpg',\n",
              " '/content/drive/MyDrive/dphi/Kvasir/The Kvasir-Capsule/test/Image_795.jpg',\n",
              " '/content/drive/MyDrive/dphi/Kvasir/The Kvasir-Capsule/test/Image_796.jpg',\n",
              " '/content/drive/MyDrive/dphi/Kvasir/The Kvasir-Capsule/test/Image_797.jpg',\n",
              " '/content/drive/MyDrive/dphi/Kvasir/The Kvasir-Capsule/test/Image_798.jpg',\n",
              " '/content/drive/MyDrive/dphi/Kvasir/The Kvasir-Capsule/test/Image_799.jpg',\n",
              " '/content/drive/MyDrive/dphi/Kvasir/The Kvasir-Capsule/test/Image_800.jpg',\n",
              " '/content/drive/MyDrive/dphi/Kvasir/The Kvasir-Capsule/test/Image_801.jpg',\n",
              " '/content/drive/MyDrive/dphi/Kvasir/The Kvasir-Capsule/test/Image_802.jpg',\n",
              " '/content/drive/MyDrive/dphi/Kvasir/The Kvasir-Capsule/test/Image_803.jpg',\n",
              " '/content/drive/MyDrive/dphi/Kvasir/The Kvasir-Capsule/test/Image_804.jpg',\n",
              " '/content/drive/MyDrive/dphi/Kvasir/The Kvasir-Capsule/test/Image_805.jpg',\n",
              " '/content/drive/MyDrive/dphi/Kvasir/The Kvasir-Capsule/test/Image_806.jpg',\n",
              " '/content/drive/MyDrive/dphi/Kvasir/The Kvasir-Capsule/test/Image_807.jpg',\n",
              " '/content/drive/MyDrive/dphi/Kvasir/The Kvasir-Capsule/test/Image_808.jpg',\n",
              " '/content/drive/MyDrive/dphi/Kvasir/The Kvasir-Capsule/test/Image_809.jpg',\n",
              " '/content/drive/MyDrive/dphi/Kvasir/The Kvasir-Capsule/test/Image_810.jpg',\n",
              " '/content/drive/MyDrive/dphi/Kvasir/The Kvasir-Capsule/test/Image_811.jpg',\n",
              " '/content/drive/MyDrive/dphi/Kvasir/The Kvasir-Capsule/test/Image_812.jpg',\n",
              " '/content/drive/MyDrive/dphi/Kvasir/The Kvasir-Capsule/test/Image_813.jpg',\n",
              " '/content/drive/MyDrive/dphi/Kvasir/The Kvasir-Capsule/test/Image_814.jpg',\n",
              " '/content/drive/MyDrive/dphi/Kvasir/The Kvasir-Capsule/test/Image_815.jpg',\n",
              " '/content/drive/MyDrive/dphi/Kvasir/The Kvasir-Capsule/test/Image_816.jpg',\n",
              " '/content/drive/MyDrive/dphi/Kvasir/The Kvasir-Capsule/test/Image_817.jpg',\n",
              " '/content/drive/MyDrive/dphi/Kvasir/The Kvasir-Capsule/test/Image_818.jpg',\n",
              " '/content/drive/MyDrive/dphi/Kvasir/The Kvasir-Capsule/test/Image_819.jpg',\n",
              " '/content/drive/MyDrive/dphi/Kvasir/The Kvasir-Capsule/test/Image_820.jpg',\n",
              " '/content/drive/MyDrive/dphi/Kvasir/The Kvasir-Capsule/test/Image_821.jpg',\n",
              " '/content/drive/MyDrive/dphi/Kvasir/The Kvasir-Capsule/test/Image_822.jpg',\n",
              " '/content/drive/MyDrive/dphi/Kvasir/The Kvasir-Capsule/test/Image_823.jpg',\n",
              " '/content/drive/MyDrive/dphi/Kvasir/The Kvasir-Capsule/test/Image_824.jpg',\n",
              " '/content/drive/MyDrive/dphi/Kvasir/The Kvasir-Capsule/test/Image_825.jpg',\n",
              " '/content/drive/MyDrive/dphi/Kvasir/The Kvasir-Capsule/test/Image_826.jpg',\n",
              " '/content/drive/MyDrive/dphi/Kvasir/The Kvasir-Capsule/test/Image_827.jpg',\n",
              " '/content/drive/MyDrive/dphi/Kvasir/The Kvasir-Capsule/test/Image_828.jpg',\n",
              " '/content/drive/MyDrive/dphi/Kvasir/The Kvasir-Capsule/test/Image_829.jpg',\n",
              " '/content/drive/MyDrive/dphi/Kvasir/The Kvasir-Capsule/test/Image_830.jpg',\n",
              " '/content/drive/MyDrive/dphi/Kvasir/The Kvasir-Capsule/test/Image_831.jpg',\n",
              " '/content/drive/MyDrive/dphi/Kvasir/The Kvasir-Capsule/test/Image_832.jpg',\n",
              " '/content/drive/MyDrive/dphi/Kvasir/The Kvasir-Capsule/test/Image_833.jpg',\n",
              " '/content/drive/MyDrive/dphi/Kvasir/The Kvasir-Capsule/test/Image_834.jpg',\n",
              " '/content/drive/MyDrive/dphi/Kvasir/The Kvasir-Capsule/test/Image_835.jpg',\n",
              " '/content/drive/MyDrive/dphi/Kvasir/The Kvasir-Capsule/test/Image_836.jpg',\n",
              " '/content/drive/MyDrive/dphi/Kvasir/The Kvasir-Capsule/test/Image_837.jpg',\n",
              " '/content/drive/MyDrive/dphi/Kvasir/The Kvasir-Capsule/test/Image_838.jpg',\n",
              " '/content/drive/MyDrive/dphi/Kvasir/The Kvasir-Capsule/test/Image_839.jpg',\n",
              " '/content/drive/MyDrive/dphi/Kvasir/The Kvasir-Capsule/test/Image_840.jpg',\n",
              " '/content/drive/MyDrive/dphi/Kvasir/The Kvasir-Capsule/test/Image_841.jpg',\n",
              " '/content/drive/MyDrive/dphi/Kvasir/The Kvasir-Capsule/test/Image_842.jpg',\n",
              " '/content/drive/MyDrive/dphi/Kvasir/The Kvasir-Capsule/test/Image_843.jpg',\n",
              " '/content/drive/MyDrive/dphi/Kvasir/The Kvasir-Capsule/test/Image_844.jpg',\n",
              " '/content/drive/MyDrive/dphi/Kvasir/The Kvasir-Capsule/test/Image_845.jpg',\n",
              " '/content/drive/MyDrive/dphi/Kvasir/The Kvasir-Capsule/test/Image_846.jpg',\n",
              " '/content/drive/MyDrive/dphi/Kvasir/The Kvasir-Capsule/test/Image_847.jpg',\n",
              " '/content/drive/MyDrive/dphi/Kvasir/The Kvasir-Capsule/test/Image_848.jpg',\n",
              " '/content/drive/MyDrive/dphi/Kvasir/The Kvasir-Capsule/test/Image_849.jpg',\n",
              " '/content/drive/MyDrive/dphi/Kvasir/The Kvasir-Capsule/test/Image_850.jpg',\n",
              " '/content/drive/MyDrive/dphi/Kvasir/The Kvasir-Capsule/test/Image_851.jpg',\n",
              " '/content/drive/MyDrive/dphi/Kvasir/The Kvasir-Capsule/test/Image_852.jpg',\n",
              " '/content/drive/MyDrive/dphi/Kvasir/The Kvasir-Capsule/test/Image_853.jpg',\n",
              " '/content/drive/MyDrive/dphi/Kvasir/The Kvasir-Capsule/test/Image_854.jpg',\n",
              " '/content/drive/MyDrive/dphi/Kvasir/The Kvasir-Capsule/test/Image_855.jpg',\n",
              " '/content/drive/MyDrive/dphi/Kvasir/The Kvasir-Capsule/test/Image_856.jpg',\n",
              " '/content/drive/MyDrive/dphi/Kvasir/The Kvasir-Capsule/test/Image_857.jpg',\n",
              " '/content/drive/MyDrive/dphi/Kvasir/The Kvasir-Capsule/test/Image_858.jpg',\n",
              " '/content/drive/MyDrive/dphi/Kvasir/The Kvasir-Capsule/test/Image_859.jpg',\n",
              " '/content/drive/MyDrive/dphi/Kvasir/The Kvasir-Capsule/test/Image_860.jpg',\n",
              " '/content/drive/MyDrive/dphi/Kvasir/The Kvasir-Capsule/test/Image_861.jpg',\n",
              " '/content/drive/MyDrive/dphi/Kvasir/The Kvasir-Capsule/test/Image_862.jpg',\n",
              " '/content/drive/MyDrive/dphi/Kvasir/The Kvasir-Capsule/test/Image_863.jpg',\n",
              " '/content/drive/MyDrive/dphi/Kvasir/The Kvasir-Capsule/test/Image_864.jpg',\n",
              " '/content/drive/MyDrive/dphi/Kvasir/The Kvasir-Capsule/test/Image_865.jpg',\n",
              " '/content/drive/MyDrive/dphi/Kvasir/The Kvasir-Capsule/test/Image_866.jpg',\n",
              " '/content/drive/MyDrive/dphi/Kvasir/The Kvasir-Capsule/test/Image_867.jpg',\n",
              " '/content/drive/MyDrive/dphi/Kvasir/The Kvasir-Capsule/test/Image_868.jpg',\n",
              " '/content/drive/MyDrive/dphi/Kvasir/The Kvasir-Capsule/test/Image_869.jpg',\n",
              " '/content/drive/MyDrive/dphi/Kvasir/The Kvasir-Capsule/test/Image_870.jpg',\n",
              " '/content/drive/MyDrive/dphi/Kvasir/The Kvasir-Capsule/test/Image_871.jpg',\n",
              " '/content/drive/MyDrive/dphi/Kvasir/The Kvasir-Capsule/test/Image_872.jpg',\n",
              " '/content/drive/MyDrive/dphi/Kvasir/The Kvasir-Capsule/test/Image_873.jpg',\n",
              " '/content/drive/MyDrive/dphi/Kvasir/The Kvasir-Capsule/test/Image_874.jpg',\n",
              " '/content/drive/MyDrive/dphi/Kvasir/The Kvasir-Capsule/test/Image_875.jpg',\n",
              " '/content/drive/MyDrive/dphi/Kvasir/The Kvasir-Capsule/test/Image_876.jpg',\n",
              " '/content/drive/MyDrive/dphi/Kvasir/The Kvasir-Capsule/test/Image_877.jpg',\n",
              " '/content/drive/MyDrive/dphi/Kvasir/The Kvasir-Capsule/test/Image_878.jpg',\n",
              " '/content/drive/MyDrive/dphi/Kvasir/The Kvasir-Capsule/test/Image_879.jpg',\n",
              " '/content/drive/MyDrive/dphi/Kvasir/The Kvasir-Capsule/test/Image_880.jpg',\n",
              " '/content/drive/MyDrive/dphi/Kvasir/The Kvasir-Capsule/test/Image_881.jpg',\n",
              " '/content/drive/MyDrive/dphi/Kvasir/The Kvasir-Capsule/test/Image_882.jpg',\n",
              " '/content/drive/MyDrive/dphi/Kvasir/The Kvasir-Capsule/test/Image_883.jpg',\n",
              " '/content/drive/MyDrive/dphi/Kvasir/The Kvasir-Capsule/test/Image_884.jpg',\n",
              " '/content/drive/MyDrive/dphi/Kvasir/The Kvasir-Capsule/test/Image_885.jpg',\n",
              " '/content/drive/MyDrive/dphi/Kvasir/The Kvasir-Capsule/test/Image_886.jpg',\n",
              " '/content/drive/MyDrive/dphi/Kvasir/The Kvasir-Capsule/test/Image_887.jpg',\n",
              " '/content/drive/MyDrive/dphi/Kvasir/The Kvasir-Capsule/test/Image_888.jpg',\n",
              " '/content/drive/MyDrive/dphi/Kvasir/The Kvasir-Capsule/test/Image_889.jpg',\n",
              " '/content/drive/MyDrive/dphi/Kvasir/The Kvasir-Capsule/test/Image_890.jpg',\n",
              " '/content/drive/MyDrive/dphi/Kvasir/The Kvasir-Capsule/test/Image_891.jpg',\n",
              " '/content/drive/MyDrive/dphi/Kvasir/The Kvasir-Capsule/test/Image_892.jpg',\n",
              " '/content/drive/MyDrive/dphi/Kvasir/The Kvasir-Capsule/test/Image_893.jpg',\n",
              " '/content/drive/MyDrive/dphi/Kvasir/The Kvasir-Capsule/test/Image_894.jpg',\n",
              " '/content/drive/MyDrive/dphi/Kvasir/The Kvasir-Capsule/test/Image_895.jpg',\n",
              " '/content/drive/MyDrive/dphi/Kvasir/The Kvasir-Capsule/test/Image_896.jpg',\n",
              " '/content/drive/MyDrive/dphi/Kvasir/The Kvasir-Capsule/test/Image_897.jpg',\n",
              " '/content/drive/MyDrive/dphi/Kvasir/The Kvasir-Capsule/test/Image_898.jpg',\n",
              " '/content/drive/MyDrive/dphi/Kvasir/The Kvasir-Capsule/test/Image_899.jpg',\n",
              " '/content/drive/MyDrive/dphi/Kvasir/The Kvasir-Capsule/test/Image_900.jpg',\n",
              " '/content/drive/MyDrive/dphi/Kvasir/The Kvasir-Capsule/test/Image_901.jpg',\n",
              " '/content/drive/MyDrive/dphi/Kvasir/The Kvasir-Capsule/test/Image_902.jpg',\n",
              " '/content/drive/MyDrive/dphi/Kvasir/The Kvasir-Capsule/test/Image_903.jpg',\n",
              " '/content/drive/MyDrive/dphi/Kvasir/The Kvasir-Capsule/test/Image_904.jpg',\n",
              " '/content/drive/MyDrive/dphi/Kvasir/The Kvasir-Capsule/test/Image_905.jpg',\n",
              " '/content/drive/MyDrive/dphi/Kvasir/The Kvasir-Capsule/test/Image_906.jpg',\n",
              " '/content/drive/MyDrive/dphi/Kvasir/The Kvasir-Capsule/test/Image_907.jpg',\n",
              " '/content/drive/MyDrive/dphi/Kvasir/The Kvasir-Capsule/test/Image_908.jpg',\n",
              " '/content/drive/MyDrive/dphi/Kvasir/The Kvasir-Capsule/test/Image_909.jpg',\n",
              " '/content/drive/MyDrive/dphi/Kvasir/The Kvasir-Capsule/test/Image_910.jpg',\n",
              " '/content/drive/MyDrive/dphi/Kvasir/The Kvasir-Capsule/test/Image_911.jpg',\n",
              " '/content/drive/MyDrive/dphi/Kvasir/The Kvasir-Capsule/test/Image_912.jpg',\n",
              " '/content/drive/MyDrive/dphi/Kvasir/The Kvasir-Capsule/test/Image_913.jpg',\n",
              " '/content/drive/MyDrive/dphi/Kvasir/The Kvasir-Capsule/test/Image_914.jpg',\n",
              " '/content/drive/MyDrive/dphi/Kvasir/The Kvasir-Capsule/test/Image_915.jpg',\n",
              " '/content/drive/MyDrive/dphi/Kvasir/The Kvasir-Capsule/test/Image_916.jpg',\n",
              " '/content/drive/MyDrive/dphi/Kvasir/The Kvasir-Capsule/test/Image_917.jpg',\n",
              " '/content/drive/MyDrive/dphi/Kvasir/The Kvasir-Capsule/test/Image_918.jpg',\n",
              " '/content/drive/MyDrive/dphi/Kvasir/The Kvasir-Capsule/test/Image_919.jpg',\n",
              " '/content/drive/MyDrive/dphi/Kvasir/The Kvasir-Capsule/test/Image_920.jpg',\n",
              " '/content/drive/MyDrive/dphi/Kvasir/The Kvasir-Capsule/test/Image_921.jpg',\n",
              " '/content/drive/MyDrive/dphi/Kvasir/The Kvasir-Capsule/test/Image_922.jpg',\n",
              " '/content/drive/MyDrive/dphi/Kvasir/The Kvasir-Capsule/test/Image_923.jpg',\n",
              " '/content/drive/MyDrive/dphi/Kvasir/The Kvasir-Capsule/test/Image_924.jpg',\n",
              " '/content/drive/MyDrive/dphi/Kvasir/The Kvasir-Capsule/test/Image_925.jpg',\n",
              " '/content/drive/MyDrive/dphi/Kvasir/The Kvasir-Capsule/test/Image_926.jpg',\n",
              " '/content/drive/MyDrive/dphi/Kvasir/The Kvasir-Capsule/test/Image_927.jpg',\n",
              " '/content/drive/MyDrive/dphi/Kvasir/The Kvasir-Capsule/test/Image_928.jpg',\n",
              " '/content/drive/MyDrive/dphi/Kvasir/The Kvasir-Capsule/test/Image_929.jpg',\n",
              " '/content/drive/MyDrive/dphi/Kvasir/The Kvasir-Capsule/test/Image_930.jpg',\n",
              " '/content/drive/MyDrive/dphi/Kvasir/The Kvasir-Capsule/test/Image_931.jpg',\n",
              " '/content/drive/MyDrive/dphi/Kvasir/The Kvasir-Capsule/test/Image_932.jpg',\n",
              " '/content/drive/MyDrive/dphi/Kvasir/The Kvasir-Capsule/test/Image_933.jpg',\n",
              " '/content/drive/MyDrive/dphi/Kvasir/The Kvasir-Capsule/test/Image_934.jpg',\n",
              " '/content/drive/MyDrive/dphi/Kvasir/The Kvasir-Capsule/test/Image_935.jpg',\n",
              " '/content/drive/MyDrive/dphi/Kvasir/The Kvasir-Capsule/test/Image_936.jpg',\n",
              " '/content/drive/MyDrive/dphi/Kvasir/The Kvasir-Capsule/test/Image_937.jpg',\n",
              " '/content/drive/MyDrive/dphi/Kvasir/The Kvasir-Capsule/test/Image_938.jpg',\n",
              " '/content/drive/MyDrive/dphi/Kvasir/The Kvasir-Capsule/test/Image_939.jpg',\n",
              " '/content/drive/MyDrive/dphi/Kvasir/The Kvasir-Capsule/test/Image_940.jpg',\n",
              " '/content/drive/MyDrive/dphi/Kvasir/The Kvasir-Capsule/test/Image_941.jpg',\n",
              " '/content/drive/MyDrive/dphi/Kvasir/The Kvasir-Capsule/test/Image_942.jpg',\n",
              " '/content/drive/MyDrive/dphi/Kvasir/The Kvasir-Capsule/test/Image_943.jpg',\n",
              " '/content/drive/MyDrive/dphi/Kvasir/The Kvasir-Capsule/test/Image_944.jpg',\n",
              " '/content/drive/MyDrive/dphi/Kvasir/The Kvasir-Capsule/test/Image_945.jpg',\n",
              " '/content/drive/MyDrive/dphi/Kvasir/The Kvasir-Capsule/test/Image_946.jpg',\n",
              " '/content/drive/MyDrive/dphi/Kvasir/The Kvasir-Capsule/test/Image_947.jpg',\n",
              " '/content/drive/MyDrive/dphi/Kvasir/The Kvasir-Capsule/test/Image_948.jpg',\n",
              " '/content/drive/MyDrive/dphi/Kvasir/The Kvasir-Capsule/test/Image_949.jpg',\n",
              " '/content/drive/MyDrive/dphi/Kvasir/The Kvasir-Capsule/test/Image_950.jpg',\n",
              " '/content/drive/MyDrive/dphi/Kvasir/The Kvasir-Capsule/test/Image_951.jpg',\n",
              " '/content/drive/MyDrive/dphi/Kvasir/The Kvasir-Capsule/test/Image_952.jpg',\n",
              " '/content/drive/MyDrive/dphi/Kvasir/The Kvasir-Capsule/test/Image_953.jpg',\n",
              " '/content/drive/MyDrive/dphi/Kvasir/The Kvasir-Capsule/test/Image_954.jpg',\n",
              " '/content/drive/MyDrive/dphi/Kvasir/The Kvasir-Capsule/test/Image_955.jpg',\n",
              " '/content/drive/MyDrive/dphi/Kvasir/The Kvasir-Capsule/test/Image_956.jpg',\n",
              " '/content/drive/MyDrive/dphi/Kvasir/The Kvasir-Capsule/test/Image_957.jpg',\n",
              " '/content/drive/MyDrive/dphi/Kvasir/The Kvasir-Capsule/test/Image_958.jpg',\n",
              " '/content/drive/MyDrive/dphi/Kvasir/The Kvasir-Capsule/test/Image_959.jpg',\n",
              " '/content/drive/MyDrive/dphi/Kvasir/The Kvasir-Capsule/test/Image_960.jpg',\n",
              " '/content/drive/MyDrive/dphi/Kvasir/The Kvasir-Capsule/test/Image_961.jpg',\n",
              " '/content/drive/MyDrive/dphi/Kvasir/The Kvasir-Capsule/test/Image_962.jpg',\n",
              " '/content/drive/MyDrive/dphi/Kvasir/The Kvasir-Capsule/test/Image_963.jpg',\n",
              " '/content/drive/MyDrive/dphi/Kvasir/The Kvasir-Capsule/test/Image_964.jpg',\n",
              " '/content/drive/MyDrive/dphi/Kvasir/The Kvasir-Capsule/test/Image_965.jpg',\n",
              " '/content/drive/MyDrive/dphi/Kvasir/The Kvasir-Capsule/test/Image_966.jpg',\n",
              " '/content/drive/MyDrive/dphi/Kvasir/The Kvasir-Capsule/test/Image_967.jpg',\n",
              " '/content/drive/MyDrive/dphi/Kvasir/The Kvasir-Capsule/test/Image_968.jpg',\n",
              " '/content/drive/MyDrive/dphi/Kvasir/The Kvasir-Capsule/test/Image_969.jpg',\n",
              " '/content/drive/MyDrive/dphi/Kvasir/The Kvasir-Capsule/test/Image_970.jpg',\n",
              " '/content/drive/MyDrive/dphi/Kvasir/The Kvasir-Capsule/test/Image_971.jpg',\n",
              " '/content/drive/MyDrive/dphi/Kvasir/The Kvasir-Capsule/test/Image_972.jpg',\n",
              " '/content/drive/MyDrive/dphi/Kvasir/The Kvasir-Capsule/test/Image_973.jpg',\n",
              " '/content/drive/MyDrive/dphi/Kvasir/The Kvasir-Capsule/test/Image_974.jpg',\n",
              " '/content/drive/MyDrive/dphi/Kvasir/The Kvasir-Capsule/test/Image_975.jpg',\n",
              " '/content/drive/MyDrive/dphi/Kvasir/The Kvasir-Capsule/test/Image_976.jpg',\n",
              " '/content/drive/MyDrive/dphi/Kvasir/The Kvasir-Capsule/test/Image_977.jpg',\n",
              " '/content/drive/MyDrive/dphi/Kvasir/The Kvasir-Capsule/test/Image_978.jpg',\n",
              " '/content/drive/MyDrive/dphi/Kvasir/The Kvasir-Capsule/test/Image_979.jpg',\n",
              " '/content/drive/MyDrive/dphi/Kvasir/The Kvasir-Capsule/test/Image_980.jpg',\n",
              " '/content/drive/MyDrive/dphi/Kvasir/The Kvasir-Capsule/test/Image_981.jpg',\n",
              " '/content/drive/MyDrive/dphi/Kvasir/The Kvasir-Capsule/test/Image_982.jpg',\n",
              " '/content/drive/MyDrive/dphi/Kvasir/The Kvasir-Capsule/test/Image_983.jpg',\n",
              " '/content/drive/MyDrive/dphi/Kvasir/The Kvasir-Capsule/test/Image_984.jpg',\n",
              " '/content/drive/MyDrive/dphi/Kvasir/The Kvasir-Capsule/test/Image_985.jpg',\n",
              " '/content/drive/MyDrive/dphi/Kvasir/The Kvasir-Capsule/test/Image_986.jpg',\n",
              " '/content/drive/MyDrive/dphi/Kvasir/The Kvasir-Capsule/test/Image_987.jpg',\n",
              " '/content/drive/MyDrive/dphi/Kvasir/The Kvasir-Capsule/test/Image_988.jpg',\n",
              " '/content/drive/MyDrive/dphi/Kvasir/The Kvasir-Capsule/test/Image_989.jpg',\n",
              " '/content/drive/MyDrive/dphi/Kvasir/The Kvasir-Capsule/test/Image_990.jpg',\n",
              " '/content/drive/MyDrive/dphi/Kvasir/The Kvasir-Capsule/test/Image_991.jpg',\n",
              " '/content/drive/MyDrive/dphi/Kvasir/The Kvasir-Capsule/test/Image_992.jpg',\n",
              " '/content/drive/MyDrive/dphi/Kvasir/The Kvasir-Capsule/test/Image_993.jpg',\n",
              " '/content/drive/MyDrive/dphi/Kvasir/The Kvasir-Capsule/test/Image_994.jpg',\n",
              " '/content/drive/MyDrive/dphi/Kvasir/The Kvasir-Capsule/test/Image_995.jpg',\n",
              " '/content/drive/MyDrive/dphi/Kvasir/The Kvasir-Capsule/test/Image_996.jpg',\n",
              " '/content/drive/MyDrive/dphi/Kvasir/The Kvasir-Capsule/test/Image_997.jpg',\n",
              " '/content/drive/MyDrive/dphi/Kvasir/The Kvasir-Capsule/test/Image_998.jpg',\n",
              " '/content/drive/MyDrive/dphi/Kvasir/The Kvasir-Capsule/test/Image_999.jpg',\n",
              " '/content/drive/MyDrive/dphi/Kvasir/The Kvasir-Capsule/test/Image_1000.jpg',\n",
              " ...]"
            ]
          },
          "metadata": {
            "tags": []
          },
          "execution_count": 20
        }
      ]
    },
    {
      "cell_type": "code",
      "metadata": {
        "id": "BfMUOyXG6A4b",
        "colab": {
          "base_uri": "https://localhost:8080/"
        },
        "outputId": "e2225221-72da-4887-a145-a4df318c94ba"
      },
      "source": [
        "import tqdm\n",
        "predictions = []\n",
        "for pred_img in tqdm.tqdm(imgs):\n",
        "  predictions.append(model.predict(pred_img))"
      ],
      "execution_count": null,
      "outputs": [
        {
          "output_type": "stream",
          "text": [
            "100%|██████████| 9448/9448 [15:24<00:00, 10.22it/s]\n"
          ],
          "name": "stderr"
        }
      ]
    },
    {
      "cell_type": "code",
      "metadata": {
        "id": "fCvSdKu6QzxX"
      },
      "source": [
        "preds = [i[0] for i in predictions]"
      ],
      "execution_count": null,
      "outputs": []
    },
    {
      "cell_type": "markdown",
      "metadata": {
        "id": "ziGSQqoD9-OW"
      },
      "source": [
        "## Visualize Predictions"
      ]
    },
    {
      "cell_type": "code",
      "metadata": {
        "id": "oAlCJfiX-BQS",
        "colab": {
          "base_uri": "https://localhost:8080/",
          "height": 598
        },
        "outputId": "7004ac2e-ce6c-4bdb-80d6-e9203ec0e81a"
      },
      "source": [
        "import seaborn as sns\n",
        "import matplotlib.pyplot as plt\n",
        "sns.set_style('darkgrid')\n",
        "plt.figure(figsize=(12,8))\n",
        "plt.xticks(rotation=90)\n",
        "sns.countplot(preds)"
      ],
      "execution_count": null,
      "outputs": [
        {
          "output_type": "execute_result",
          "data": {
            "text/plain": [
              "<matplotlib.axes._subplots.AxesSubplot at 0x7f0b52de8ed0>"
            ]
          },
          "metadata": {
            "tags": []
          },
          "execution_count": 27
        },
        {
          "output_type": "display_data",
          "data": {
            "image/png": "[encoded data removed]",
            "text/plain": [
              "<Figure size 864x576 with 1 Axes>"
            ]
          },
          "metadata": {
            "tags": []
          }
        }
      ]
    },
    {
      "cell_type": "markdown",
      "metadata": {
        "id": "PuTjrwI89Tlc"
      },
      "source": [
        "## End of Pytorch Lightning Flash\n"
      ]
    },
    {
      "cell_type": "markdown",
      "metadata": {
        "id": "5OaWnc5X-nxc"
      },
      "source": [
        "https://medium.com/the-owl/k-fold-cross-validation-in-keras-3ec4a3a00538"
      ]
    },
    {
      "cell_type": "markdown",
      "metadata": {
        "id": "_UKy78ubG40N"
      },
      "source": [
        "https://pytorch-lightning.readthedocs.io/en/stable/advanced/lr_finder.html"
      ]
    }
  ]
}