{
  "nbformat": 4,
  "nbformat_minor": 0,
  "metadata": {
    "colab": {
      "name": "Pneumonia Classification Challenge by Segmind_pytorch_lightning.ipynb",
      "provenance": [],
      "authorship_tag": "ABX9TyNSmE2Ha1wbu/LvUs3ML4bn",
      "include_colab_link": true
    },
    "kernelspec": {
      "name": "python3",
      "display_name": "Python 3"
    },
    "language_info": {
      "name": "python"
    },
    "accelerator": "GPU"
  },
  "cells": [
    {
      "cell_type": "markdown",
      "metadata": {
        "id": "view-in-github",
        "colab_type": "text"
      },
      "source": [
        "<a href=\"https://colab.research.google.com/github/plaban1981/Pytorch_lightning/blob/main/Pneumonia_Classification_Challenge_by_Segmind_pytorch_lightning.ipynb\" target=\"_parent\"><img src=\"https://colab.research.google.com/assets/colab-badge.svg\" alt=\"Open In Colab\"/></a>"
      ]
    },
    {
      "cell_type": "code",
      "metadata": {
        "id": "vjlH2UwNZWfL"
      },
      "source": [
        "%reload_ext autoreload\n",
        "%autoreload 2\n",
        "%matplotlib inline\n",
        "import os"
      ],
      "execution_count": 1,
      "outputs": []
    },
    {
      "cell_type": "markdown",
      "metadata": {
        "id": "I8QvFHTjaPGE"
      },
      "source": [
        "## Download Images"
      ]
    },
    {
      "cell_type": "code",
      "metadata": {
        "colab": {
          "base_uri": "https://localhost:8080/"
        },
        "id": "7R9ZTtijairC",
        "outputId": "2d963685-f7c4-400d-e176-d0ab0c2139c9"
      },
      "source": [
        "from google_drive_downloader import GoogleDriveDownloader as gdd\n",
        "\n",
        "gdd.download_file_from_google_drive(file_id='1d_93d9oFNRBK9Vg6BRxs9wvRbKtNTylY',\n",
        "                                    dest_path='content/pneumonia_dataset.zip',\n",
        "                                    unzip=True)"
      ],
      "execution_count": 2,
      "outputs": [
        {
          "output_type": "stream",
          "text": [
            "Downloading 1d_93d9oFNRBK9Vg6BRxs9wvRbKtNTylY into content/pneumonia_dataset.zip... Done.\n",
            "Unzipping...Done.\n"
          ],
          "name": "stdout"
        }
      ]
    },
    {
      "cell_type": "markdown",
      "metadata": {
        "id": "9n5AFwkjaoy7"
      },
      "source": [
        "## Import ktrain"
      ]
    },
    {
      "cell_type": "code",
      "metadata": {
        "id": "pAXHqwEWbElR"
      },
      "source": [
        "%%capture \n",
        "!pip install pytorch-lightning"
      ],
      "execution_count": 115,
      "outputs": []
    },
    {
      "cell_type": "markdown",
      "metadata": {
        "id": "128gEAMHb0k6"
      },
      "source": [
        "##Image Classification"
      ]
    },
    {
      "cell_type": "code",
      "metadata": {
        "id": "dyE-mQZwcVZQ"
      },
      "source": [
        "import pytorch_lightning as pl\n",
        "#\n",
        "import numpy as np\n",
        "import pandas as pd\n",
        "from sklearn.model_selection import train_test_split # For splitting the data into train and validation set\n",
        "from sklearn.model_selection import StratifiedKFold\n",
        "from sklearn.metrics import f1_score, confusion_matrix\n",
        "#\n",
        "import seaborn as sns\n",
        "import matplotlib.pyplot as plt\n",
        "import os\n",
        "import shutil\n",
        "import glob\n",
        "#\n",
        "import torch\n",
        "from torchvision import transforms\n",
        "import torch.optim as optim\n",
        "import torch.nn.functional as F\n",
        "from torchvision import models\n",
        "from torch.utils.data import DataLoader,Dataset\n",
        "#\n",
        "device = torch.device(\"cuda:0\" if torch.cuda.is_available() else \"cpu\")\n",
        "#\n",
        "from PIL import Image\n",
        "#\n",
        "import warnings\n",
        "warnings.filterwarnings('ignore')"
      ],
      "execution_count": 119,
      "outputs": []
    },
    {
      "cell_type": "code",
      "metadata": {
        "id": "1XkdsICve3jA"
      },
      "source": [
        "image_folder = os.listdir(\"/content/content/pneumonia_dataset/train\")\n",
        "filename = []\n",
        "label = []\n",
        "for folder in image_folder:\n",
        "  for image_name in os.listdir(os.path.join(\"/content/content/pneumonia_dataset/train\",folder)):\n",
        "    filename.append(\"train/\"+folder+\"/\"+image_name)\n",
        "    label.append(folder)"
      ],
      "execution_count": 147,
      "outputs": []
    },
    {
      "cell_type": "markdown",
      "metadata": {
        "id": "LR2rgXCgfABs"
      },
      "source": [
        "##Train data"
      ]
    },
    {
      "cell_type": "code",
      "metadata": {
        "colab": {
          "base_uri": "https://localhost:8080/",
          "height": 197
        },
        "id": "G2geryEre-d7",
        "outputId": "aedc8ae7-1446-4905-d2a2-48890053d040"
      },
      "source": [
        "train_df = pd.DataFrame({'filename':filename,'label':label})\n",
        "train_df.head()"
      ],
      "execution_count": 148,
      "outputs": [
        {
          "output_type": "execute_result",
          "data": {
            "text/html": [
              "<div>\n",
              "<style scoped>\n",
              "    .dataframe tbody tr th:only-of-type {\n",
              "        vertical-align: middle;\n",
              "    }\n",
              "\n",
              "    .dataframe tbody tr th {\n",
              "        vertical-align: top;\n",
              "    }\n",
              "\n",
              "    .dataframe thead th {\n",
              "        text-align: right;\n",
              "    }\n",
              "</style>\n",
              "<table border=\"1\" class=\"dataframe\">\n",
              "  <thead>\n",
              "    <tr style=\"text-align: right;\">\n",
              "      <th></th>\n",
              "      <th>filename</th>\n",
              "      <th>label</th>\n",
              "    </tr>\n",
              "  </thead>\n",
              "  <tbody>\n",
              "    <tr>\n",
              "      <th>0</th>\n",
              "      <td>train/normal/CXR_train_2342.png</td>\n",
              "      <td>normal</td>\n",
              "    </tr>\n",
              "    <tr>\n",
              "      <th>1</th>\n",
              "      <td>train/normal/CXR_train_1312.png</td>\n",
              "      <td>normal</td>\n",
              "    </tr>\n",
              "    <tr>\n",
              "      <th>2</th>\n",
              "      <td>train/normal/CXR_train_1577.png</td>\n",
              "      <td>normal</td>\n",
              "    </tr>\n",
              "    <tr>\n",
              "      <th>3</th>\n",
              "      <td>train/normal/CXR_train_1802.png</td>\n",
              "      <td>normal</td>\n",
              "    </tr>\n",
              "    <tr>\n",
              "      <th>4</th>\n",
              "      <td>train/normal/CXR_train_1330.png</td>\n",
              "      <td>normal</td>\n",
              "    </tr>\n",
              "  </tbody>\n",
              "</table>\n",
              "</div>"
            ],
            "text/plain": [
              "                          filename   label\n",
              "0  train/normal/CXR_train_2342.png  normal\n",
              "1  train/normal/CXR_train_1312.png  normal\n",
              "2  train/normal/CXR_train_1577.png  normal\n",
              "3  train/normal/CXR_train_1802.png  normal\n",
              "4  train/normal/CXR_train_1330.png  normal"
            ]
          },
          "metadata": {
            "tags": []
          },
          "execution_count": 148
        }
      ]
    },
    {
      "cell_type": "code",
      "metadata": {
        "id": "cFv_jV3pnUNj"
      },
      "source": [
        "train_df.to_csv(\"/content/content/pneumonia_dataset/train.csv\",index=False)"
      ],
      "execution_count": 149,
      "outputs": []
    },
    {
      "cell_type": "markdown",
      "metadata": {
        "id": "QQG4L0isfWL9"
      },
      "source": [
        "## Viusalize Labels"
      ]
    },
    {
      "cell_type": "code",
      "metadata": {
        "colab": {
          "base_uri": "https://localhost:8080/",
          "height": 296
        },
        "id": "CGWga8pifaO7",
        "outputId": "d57a80c2-f3ac-4f01-82ba-75742978b16b"
      },
      "source": [
        "sns.set_style('darkgrid')\n",
        "sns.countplot(x='label',data=train_df)"
      ],
      "execution_count": 8,
      "outputs": [
        {
          "output_type": "execute_result",
          "data": {
            "text/plain": [
              "<matplotlib.axes._subplots.AxesSubplot at 0x7fc17dca4210>"
            ]
          },
          "metadata": {
            "tags": []
          },
          "execution_count": 8
        },
        {
          "output_type": "display_data",
          "data": {
            "image/png": "[encoded data removed]",
            "text/plain": [
              "<Figure size 432x288 with 1 Axes>"
            ]
          },
          "metadata": {
            "tags": []
          }
        }
      ]
    },
    {
      "cell_type": "markdown",
      "metadata": {
        "id": "-DHhPgzGfd97"
      },
      "source": [
        "## Train Test Split Data"
      ]
    },
    {
      "cell_type": "code",
      "metadata": {
        "id": "F2oHPBqdfpEs"
      },
      "source": [
        "train,test= train_test_split(train_df,test_size=0.2,random_state=42,stratify=train_df[\"label\"])"
      ],
      "execution_count": 54,
      "outputs": []
    },
    {
      "cell_type": "code",
      "metadata": {
        "colab": {
          "base_uri": "https://localhost:8080/"
        },
        "id": "zxLejM2_gSI1",
        "outputId": "cb612c77-3021-4202-9ee7-0757a6b6616f"
      },
      "source": [
        "train.shape,test.shape"
      ],
      "execution_count": 55,
      "outputs": [
        {
          "output_type": "execute_result",
          "data": {
            "text/plain": [
              "((1940, 2), (485, 2))"
            ]
          },
          "metadata": {
            "tags": []
          },
          "execution_count": 55
        }
      ]
    },
    {
      "cell_type": "code",
      "metadata": {
        "id": "w1MOUGPagWc7"
      },
      "source": [
        "#train.to_csv(\"/content/content/pneumonia_dataset/train.csv\",index=False)\n",
        "test.to_csv(\"/content/content/pneumonia_dataset/valid.csv\",index=False)"
      ],
      "execution_count": 56,
      "outputs": []
    },
    {
      "cell_type": "markdown",
      "metadata": {
        "id": "l0NjwtjskJHF"
      },
      "source": [
        "## Prepare Dataset"
      ]
    },
    {
      "cell_type": "code",
      "metadata": {
        "id": "AZvgzB0tkLwt"
      },
      "source": [
        "class PneumoniaDataset(Dataset):\n",
        "  def __init__(self,root_dir,transform=None,stage=None):\n",
        "    self.root_dir = root_dir\n",
        "    if stage == 'test':\n",
        "      out_file_path = os.path.join(root_dir,\"test.csv\")\n",
        "      csv_output = pd.read_csv(out_file_path)\n",
        "      self.images_dir = os.path.join(root_dir,\"test\")\n",
        "    else:\n",
        "      out_file_path = os.path.join(root_dir,\"train.csv\")\n",
        "      csv_output = pd.read_csv(out_file_path)\n",
        "      self.images_dir = os.path.join(root_dir,\"train\")\n",
        "      self.image_urls = csv_output[\"filename\"].values\n",
        "      self.labels = np.array(csv_output[\"label\"])\n",
        "      self.transform = transform\n",
        "  def __len__(self):\n",
        "    return len(self.image_urls)\n",
        "  def __getitem__(self,idx):\n",
        "    image_path = os.path.join(self.root_dir,self.image_urls[idx])\n",
        "    image = Image.open(image_path)\n",
        "    if self.transform :\n",
        "      image = self.transform(image)\n",
        "    #get label\n",
        "    label = self.labels[idx]\n",
        "    return image,label"
      ],
      "execution_count": 144,
      "outputs": []
    },
    {
      "cell_type": "code",
      "metadata": {
        "id": "Clh0A9DXom3T"
      },
      "source": [
        "ds = PneumoniaDataset(\"/content/content/pneumonia_dataset\")"
      ],
      "execution_count": 150,
      "outputs": []
    },
    {
      "cell_type": "code",
      "metadata": {
        "colab": {
          "base_uri": "https://localhost:8080/"
        },
        "id": "I7i30lEKpIuw",
        "outputId": "0df76961-b0e1-4ea6-ab28-ace05cb8d905"
      },
      "source": [
        "ds.__getitem__(1)"
      ],
      "execution_count": 152,
      "outputs": [
        {
          "output_type": "execute_result",
          "data": {
            "text/plain": [
              "(<PIL.PngImagePlugin.PngImageFile image mode=L size=1024x1024 at 0x7FBCAE68BB90>,\n",
              " 'normal')"
            ]
          },
          "metadata": {
            "tags": []
          },
          "execution_count": 152
        }
      ]
    }
  ]
}