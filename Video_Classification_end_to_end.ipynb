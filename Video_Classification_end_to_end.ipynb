{
  "nbformat": 4,
  "nbformat_minor": 0,
  "metadata": {
    "colab": {
      "provenance": [],
      "authorship_tag": "ABX9TyP/Zzs7bLJNPZGrtqIsMs/p",
      "include_colab_link": true
    },
    "kernelspec": {
      "name": "python3",
      "display_name": "Python 3"
    },
    "language_info": {
      "name": "python"
    },
    "accelerator": "GPU",
    "gpuClass": "standard"
  },
  "cells": [
    {
      "cell_type": "markdown",
      "metadata": {
        "id": "view-in-github",
        "colab_type": "text"
      },
      "source": [
        "<a href=\"https://colab.research.google.com/github/plaban1981/Pytorch_lightning/blob/main/Video_Classification_end_to_end.ipynb\" target=\"_parent\"><img src=\"https://colab.research.google.com/assets/colab-badge.svg\" alt=\"Open In Colab\"/></a>"
      ]
    },
    {
      "cell_type": "markdown",
      "source": [
        "## Video classification using 3DCNN deep learning - Violence Detection \n",
        "\n",
        "https://www.youtube.com/watch?v=QdbzW_shsS4&list=PLtGXgNsNHqPRAscIi6dMUuPCfDQ1Vho2U"
      ],
      "metadata": {
        "id": "ETomtSFUDAk3"
      }
    },
    {
      "cell_type": "markdown",
      "source": [
        "* all videos in a batch should be of same length. It can be acheived through truncation or padding\n",
        "\n",
        "* facebook pytorchvideo\n",
        "\n",
        "* It takes two input -Image Folder and .csv file"
      ],
      "metadata": {
        "id": "CGiwlKGzEESh"
      }
    },
    {
      "cell_type": "markdown",
      "source": [
        "## Dataset"
      ],
      "metadata": {
        "id": "pYpNDQEDO2YW"
      }
    },
    {
      "cell_type": "code",
      "source": [
        "fr"
      ],
      "metadata": {
        "id": "mGk_iq9gO3hm"
      },
      "execution_count": null,
      "outputs": []
    },
    {
      "cell_type": "code",
      "execution_count": 3,
      "metadata": {
        "colab": {
          "base_uri": "https://localhost:8080/"
        },
        "id": "YmwQ--ezClO8",
        "outputId": "06ad4a0f-ec87-40d7-e8bf-4a4440702270"
      },
      "outputs": [
        {
          "output_type": "stream",
          "name": "stdout",
          "text": [
            "Looking in indexes: https://pypi.org/simple, https://us-python.pkg.dev/colab-wheels/public/simple/\n",
            "Collecting https://github.com/talhaanwarch/pytorchvideo.git\n",
            "  Downloading https://github.com/talhaanwarch/pytorchvideo.git\n",
            "\u001b[K     - 247 kB 2.1 MB/s\n",
            "\u001b[31m  ERROR: Cannot unpack file /tmp/pip-unpack-zvbib_yb/pytorchvideo.git (downloaded from /tmp/pip-req-build-ham6l2px, content-type: text/html; charset=utf-8); cannot detect archive format\u001b[0m\n",
            "\u001b[31mERROR: Cannot determine archive format of /tmp/pip-req-build-ham6l2px\u001b[0m\n",
            "\u001b[?25h"
          ]
        }
      ],
      "source": [
        "!pip install https://github.com/talhaanwarch/pytorchvideo.git"
      ]
    },
    {
      "cell_type": "code",
      "source": [],
      "metadata": {
        "id": "FVZJaZsoKUdX"
      },
      "execution_count": null,
      "outputs": []
    }
  ]
}